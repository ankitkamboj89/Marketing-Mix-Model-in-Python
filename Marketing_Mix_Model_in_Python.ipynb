{
 "cells": [
  {
   "cell_type": "markdown",
   "id": "eaaee51d",
   "metadata": {},
   "source": [
    "# Marketing Model Mix\n",
    "This file is just a sample working on marketing mix model. It is based on hypothetical data. The emphasis here is on methodology and understanding procedure rather than output"
   ]
  },
  {
   "cell_type": "markdown",
   "id": "8df98e3a",
   "metadata": {},
   "source": [
    "Installing and importing few important libraries"
   ]
  },
  {
   "cell_type": "code",
   "execution_count": 5,
   "id": "92725fbe",
   "metadata": {},
   "outputs": [
    {
     "name": "stdout",
     "output_type": "stream",
     "text": [
      "^C\n",
      "Note: you may need to restart the kernel to use updated packages.\n"
     ]
    }
   ],
   "source": [
    "    pip install plotly "
   ]
  },
  {
   "cell_type": "code",
   "execution_count": 98,
   "id": "05cc710a",
   "metadata": {},
   "outputs": [],
   "source": [
    "import pandas as pd\n",
    "import plotly.express as px\n",
    "import statsmodels as sm\n",
    "from sklearn.linear_model import LinearRegression\n",
    "from sklearn.model_selection import train_test_split"
   ]
  },
  {
   "cell_type": "markdown",
   "id": "065cefcf",
   "metadata": {},
   "source": [
    "Importing the data"
   ]
  },
  {
   "cell_type": "code",
   "execution_count": 157,
   "id": "a892ceb8",
   "metadata": {},
   "outputs": [],
   "source": [
    "dataframe = pd.read_csv('dataset_real.csv')"
   ]
  },
  {
   "cell_type": "code",
   "execution_count": 145,
   "id": "69d6d8d6",
   "metadata": {},
   "outputs": [
    {
     "data": {
      "text/plain": [
       "<bound method DataFrame.info of     ordine_data  revenue  google_search_spent  google_performance_max_spent  \\\n",
       "0    12-09-2021  2461.81               151.48                         88.20   \n",
       "1    13-09-2021  6918.33               261.70                         90.56   \n",
       "2    14-09-2021  5101.67               207.53                         74.14   \n",
       "3    15-09-2021  5335.02               204.25                         65.01   \n",
       "4    16-09-2021  4384.38               189.94                         69.26   \n",
       "..          ...      ...                  ...                           ...   \n",
       "158  17-02-2022  6061.37               347.75                        125.32   \n",
       "159  18-02-2022  3722.15               258.10                         79.30   \n",
       "160  19-02-2022  2670.47                92.04                          9.96   \n",
       "161  20-02-2022  3385.87                86.37                         40.50   \n",
       "162  21-02-2022   372.27                42.17                         22.04   \n",
       "\n",
       "     fb_retargeting_spent  fb_prospecting_spent  google_organico  \n",
       "0                   12.15                 31.48             2603  \n",
       "1                   13.62                 29.61             5691  \n",
       "2                   12.69                 30.09             5616  \n",
       "3                   11.95                 30.08             5676  \n",
       "4                   13.54                 31.03             5398  \n",
       "..                    ...                   ...              ...  \n",
       "158                 19.96                 30.44             5003  \n",
       "159                 20.31                 31.06             4696  \n",
       "160                 23.16                 33.75             3058  \n",
       "161                 19.90                 30.59             1398  \n",
       "162                  1.33                  2.13                0  \n",
       "\n",
       "[163 rows x 7 columns]>"
      ]
     },
     "execution_count": 145,
     "metadata": {},
     "output_type": "execute_result"
    }
   ],
   "source": [
    "dataframe.info"
   ]
  },
  {
   "cell_type": "markdown",
   "id": "7beef7a8",
   "metadata": {},
   "source": [
    "Manuplating the data"
   ]
  },
  {
   "cell_type": "code",
   "execution_count": 102,
   "id": "64c78ae4",
   "metadata": {},
   "outputs": [],
   "source": [
    "x= []\n",
    "for y in range (163):\n",
    "    x.append('week' + str(y))"
   ]
  },
  {
   "cell_type": "code",
   "execution_count": 103,
   "id": "76925191",
   "metadata": {},
   "outputs": [],
   "source": [
    "dataframe[\"week\"]=x"
   ]
  },
  {
   "cell_type": "code",
   "execution_count": 104,
   "id": "05c69c62",
   "metadata": {},
   "outputs": [],
   "source": [
    "dataframe.drop('ordine_data', inplace=True, axis=1)"
   ]
  },
  {
   "cell_type": "code",
   "execution_count": 105,
   "id": "ac8b5587",
   "metadata": {},
   "outputs": [
    {
     "data": {
      "text/html": [
       "<div>\n",
       "<style scoped>\n",
       "    .dataframe tbody tr th:only-of-type {\n",
       "        vertical-align: middle;\n",
       "    }\n",
       "\n",
       "    .dataframe tbody tr th {\n",
       "        vertical-align: top;\n",
       "    }\n",
       "\n",
       "    .dataframe thead th {\n",
       "        text-align: right;\n",
       "    }\n",
       "</style>\n",
       "<table border=\"1\" class=\"dataframe\">\n",
       "  <thead>\n",
       "    <tr style=\"text-align: right;\">\n",
       "      <th></th>\n",
       "      <th>revenue</th>\n",
       "      <th>google_search_spent</th>\n",
       "      <th>google_performance_max_spent</th>\n",
       "      <th>fb_retargeting_spent</th>\n",
       "      <th>fb_prospecting_spent</th>\n",
       "      <th>google_organico</th>\n",
       "      <th>week</th>\n",
       "    </tr>\n",
       "  </thead>\n",
       "  <tbody>\n",
       "    <tr>\n",
       "      <th>0</th>\n",
       "      <td>2461.81</td>\n",
       "      <td>151.48</td>\n",
       "      <td>88.20</td>\n",
       "      <td>12.15</td>\n",
       "      <td>31.48</td>\n",
       "      <td>2603</td>\n",
       "      <td>week0</td>\n",
       "    </tr>\n",
       "    <tr>\n",
       "      <th>1</th>\n",
       "      <td>6918.33</td>\n",
       "      <td>261.70</td>\n",
       "      <td>90.56</td>\n",
       "      <td>13.62</td>\n",
       "      <td>29.61</td>\n",
       "      <td>5691</td>\n",
       "      <td>week1</td>\n",
       "    </tr>\n",
       "    <tr>\n",
       "      <th>2</th>\n",
       "      <td>5101.67</td>\n",
       "      <td>207.53</td>\n",
       "      <td>74.14</td>\n",
       "      <td>12.69</td>\n",
       "      <td>30.09</td>\n",
       "      <td>5616</td>\n",
       "      <td>week2</td>\n",
       "    </tr>\n",
       "    <tr>\n",
       "      <th>3</th>\n",
       "      <td>5335.02</td>\n",
       "      <td>204.25</td>\n",
       "      <td>65.01</td>\n",
       "      <td>11.95</td>\n",
       "      <td>30.08</td>\n",
       "      <td>5676</td>\n",
       "      <td>week3</td>\n",
       "    </tr>\n",
       "    <tr>\n",
       "      <th>4</th>\n",
       "      <td>4384.38</td>\n",
       "      <td>189.94</td>\n",
       "      <td>69.26</td>\n",
       "      <td>13.54</td>\n",
       "      <td>31.03</td>\n",
       "      <td>5398</td>\n",
       "      <td>week4</td>\n",
       "    </tr>\n",
       "  </tbody>\n",
       "</table>\n",
       "</div>"
      ],
      "text/plain": [
       "   revenue  google_search_spent  google_performance_max_spent  \\\n",
       "0  2461.81               151.48                         88.20   \n",
       "1  6918.33               261.70                         90.56   \n",
       "2  5101.67               207.53                         74.14   \n",
       "3  5335.02               204.25                         65.01   \n",
       "4  4384.38               189.94                         69.26   \n",
       "\n",
       "   fb_retargeting_spent  fb_prospecting_spent  google_organico   week  \n",
       "0                 12.15                 31.48             2603  week0  \n",
       "1                 13.62                 29.61             5691  week1  \n",
       "2                 12.69                 30.09             5616  week2  \n",
       "3                 11.95                 30.08             5676  week3  \n",
       "4                 13.54                 31.03             5398  week4  "
      ]
     },
     "execution_count": 105,
     "metadata": {},
     "output_type": "execute_result"
    }
   ],
   "source": [
    "dataframe.head()"
   ]
  },
  {
   "cell_type": "markdown",
   "id": "dc452975",
   "metadata": {},
   "source": [
    "Understanding the data on graph"
   ]
  },
  {
   "cell_type": "code",
   "execution_count": 106,
   "id": "9e57d508",
   "metadata": {},
   "outputs": [
    {
     "data": {
      "application/vnd.plotly.v1+json": {
       "config": {
        "plotlyServerURL": "https://plot.ly"
       },
       "data": [
        {
         "hovertemplate": "variable=revenue<br>week=%{x}<br>value=%{y}<extra></extra>",
         "legendgroup": "revenue",
         "line": {
          "color": "#636efa",
          "dash": "solid"
         },
         "marker": {
          "symbol": "circle"
         },
         "mode": "lines",
         "name": "revenue",
         "orientation": "v",
         "showlegend": true,
         "type": "scatter",
         "x": [
          "week0",
          "week1",
          "week2",
          "week3",
          "week4",
          "week5",
          "week6",
          "week7",
          "week8",
          "week9",
          "week10",
          "week11",
          "week12",
          "week13",
          "week14",
          "week15",
          "week16",
          "week17",
          "week18",
          "week19",
          "week20",
          "week21",
          "week22",
          "week23",
          "week24",
          "week25",
          "week26",
          "week27",
          "week28",
          "week29",
          "week30",
          "week31",
          "week32",
          "week33",
          "week34",
          "week35",
          "week36",
          "week37",
          "week38",
          "week39",
          "week40",
          "week41",
          "week42",
          "week43",
          "week44",
          "week45",
          "week46",
          "week47",
          "week48",
          "week49",
          "week50",
          "week51",
          "week52",
          "week53",
          "week54",
          "week55",
          "week56",
          "week57",
          "week58",
          "week59",
          "week60",
          "week61",
          "week62",
          "week63",
          "week64",
          "week65",
          "week66",
          "week67",
          "week68",
          "week69",
          "week70",
          "week71",
          "week72",
          "week73",
          "week74",
          "week75",
          "week76",
          "week77",
          "week78",
          "week79",
          "week80",
          "week81",
          "week82",
          "week83",
          "week84",
          "week85",
          "week86",
          "week87",
          "week88",
          "week89",
          "week90",
          "week91",
          "week92",
          "week93",
          "week94",
          "week95",
          "week96",
          "week97",
          "week98",
          "week99",
          "week100",
          "week101",
          "week102",
          "week103",
          "week104",
          "week105",
          "week106",
          "week107",
          "week108",
          "week109",
          "week110",
          "week111",
          "week112",
          "week113",
          "week114",
          "week115",
          "week116",
          "week117",
          "week118",
          "week119",
          "week120",
          "week121",
          "week122",
          "week123",
          "week124",
          "week125",
          "week126",
          "week127",
          "week128",
          "week129",
          "week130",
          "week131",
          "week132",
          "week133",
          "week134",
          "week135",
          "week136",
          "week137",
          "week138",
          "week139",
          "week140",
          "week141",
          "week142",
          "week143",
          "week144",
          "week145",
          "week146",
          "week147",
          "week148",
          "week149",
          "week150",
          "week151",
          "week152",
          "week153",
          "week154",
          "week155",
          "week156",
          "week157",
          "week158",
          "week159",
          "week160",
          "week161",
          "week162"
         ],
         "xaxis": "x",
         "y": [
          2461.81,
          6918.33,
          5101.67,
          5335.02,
          4384.38,
          2564.39,
          1507.22,
          3035.38,
          6164.88,
          5666.57,
          5529.19,
          4364.27,
          3441.28,
          1503.72,
          3075.01,
          7223.64,
          6191.63,
          6401.52,
          6006.66,
          3259.89,
          2036.57,
          2537.66,
          5131.19,
          5867.37,
          5541.04,
          4897.76,
          3133.15,
          1820.66,
          2907.35,
          6008.83,
          5485.87,
          5291.73,
          4846.12,
          3644.88,
          1870.71,
          3446.23,
          6795.43,
          5735.92,
          5906.51,
          5183.68,
          3128.48,
          1754.73,
          3043.88,
          5978.04,
          6321.35,
          6043.38,
          4429.38,
          2202.1,
          1740.83,
          1502.6,
          3861.43,
          6534.55,
          5504.45,
          5211.69,
          4218.57,
          2450.73,
          3373.6,
          6543.42,
          6254.53,
          6275.99,
          4800.1,
          2938.72,
          1883.86,
          3064.84,
          5960.51,
          6200.39,
          6126.07,
          4558.39,
          2533.53,
          1489.06,
          3292.68,
          6994.01,
          5961.43,
          5353.82,
          17697.95,
          13613.81,
          2402.75,
          3436.36,
          6987.25,
          4960.64,
          5485.93,
          5306.16,
          5301.18,
          2587.16,
          4190.47,
          7525.98,
          6415.08,
          4915.72,
          7788.17,
          6990.86,
          3055.72,
          4843.64,
          10482.65,
          10581.56,
          9520.25,
          10487.03,
          7024.91,
          3420.89,
          5850.73,
          26047.24,
          20130.25,
          5793.67,
          3231.42,
          1450.1,
          731.38,
          2075.78,
          6543.32,
          7426.74,
          4921.18,
          6507.9,
          1699.36,
          1334.25,
          2450.69,
          5677.11,
          5337.76,
          3523.35,
          2951.59,
          3990.13,
          3120.34,
          3141.9,
          7159.45,
          6919.14,
          5980.13,
          5737.6,
          4374.84,
          2179.55,
          3599.79,
          7773.84,
          7728.56,
          7172.95,
          5583.26,
          3689.49,
          2148.72,
          2861.71,
          6677.14,
          6894.49,
          6107.54,
          6592.92,
          4045.78,
          5824.62,
          3219.01,
          8797.88,
          7117.38,
          5999.78,
          5045.91,
          4362.41,
          1849.98,
          3422.41,
          7877.16,
          6893.43,
          6278.3,
          6400.52,
          3921.14,
          2325.44,
          3174.37,
          7166.95,
          7475.88,
          5648.14,
          6061.37,
          3722.15,
          2670.47,
          3385.87,
          372.27
         ],
         "yaxis": "y"
        },
        {
         "hovertemplate": "variable=google_search_spent<br>week=%{x}<br>value=%{y}<extra></extra>",
         "legendgroup": "google_search_spent",
         "line": {
          "color": "#EF553B",
          "dash": "solid"
         },
         "marker": {
          "symbol": "circle"
         },
         "mode": "lines",
         "name": "google_search_spent",
         "orientation": "v",
         "showlegend": true,
         "type": "scatter",
         "x": [
          "week0",
          "week1",
          "week2",
          "week3",
          "week4",
          "week5",
          "week6",
          "week7",
          "week8",
          "week9",
          "week10",
          "week11",
          "week12",
          "week13",
          "week14",
          "week15",
          "week16",
          "week17",
          "week18",
          "week19",
          "week20",
          "week21",
          "week22",
          "week23",
          "week24",
          "week25",
          "week26",
          "week27",
          "week28",
          "week29",
          "week30",
          "week31",
          "week32",
          "week33",
          "week34",
          "week35",
          "week36",
          "week37",
          "week38",
          "week39",
          "week40",
          "week41",
          "week42",
          "week43",
          "week44",
          "week45",
          "week46",
          "week47",
          "week48",
          "week49",
          "week50",
          "week51",
          "week52",
          "week53",
          "week54",
          "week55",
          "week56",
          "week57",
          "week58",
          "week59",
          "week60",
          "week61",
          "week62",
          "week63",
          "week64",
          "week65",
          "week66",
          "week67",
          "week68",
          "week69",
          "week70",
          "week71",
          "week72",
          "week73",
          "week74",
          "week75",
          "week76",
          "week77",
          "week78",
          "week79",
          "week80",
          "week81",
          "week82",
          "week83",
          "week84",
          "week85",
          "week86",
          "week87",
          "week88",
          "week89",
          "week90",
          "week91",
          "week92",
          "week93",
          "week94",
          "week95",
          "week96",
          "week97",
          "week98",
          "week99",
          "week100",
          "week101",
          "week102",
          "week103",
          "week104",
          "week105",
          "week106",
          "week107",
          "week108",
          "week109",
          "week110",
          "week111",
          "week112",
          "week113",
          "week114",
          "week115",
          "week116",
          "week117",
          "week118",
          "week119",
          "week120",
          "week121",
          "week122",
          "week123",
          "week124",
          "week125",
          "week126",
          "week127",
          "week128",
          "week129",
          "week130",
          "week131",
          "week132",
          "week133",
          "week134",
          "week135",
          "week136",
          "week137",
          "week138",
          "week139",
          "week140",
          "week141",
          "week142",
          "week143",
          "week144",
          "week145",
          "week146",
          "week147",
          "week148",
          "week149",
          "week150",
          "week151",
          "week152",
          "week153",
          "week154",
          "week155",
          "week156",
          "week157",
          "week158",
          "week159",
          "week160",
          "week161",
          "week162"
         ],
         "xaxis": "x",
         "y": [
          151.48,
          261.7,
          207.53,
          204.25,
          189.94,
          136.96,
          155.6,
          165.28,
          218.59,
          213.36,
          166.35,
          124.66,
          220.89,
          101.47,
          256.16,
          465.36,
          309.14,
          323.04,
          0,
          0,
          0,
          0,
          0,
          0,
          0,
          29.37,
          0,
          0,
          0,
          0,
          195.03,
          274.67,
          315.2,
          248.9,
          191.42,
          219.69,
          270.34,
          246.75,
          242.74,
          243.32,
          237.29,
          238.08,
          239.85,
          244.96,
          251.15,
          266.63,
          62.92,
          456.87,
          243.29,
          235.99,
          310.16,
          296.56,
          291.38,
          513.77,
          282.63,
          175.33,
          143.22,
          277.44,
          355.57,
          318.41,
          248.74,
          259.67,
          102.21,
          100.49,
          225.87,
          215.88,
          231.17,
          301.79,
          258.79,
          74.95,
          77.87,
          221.25,
          214.76,
          224.68,
          221.23,
          213.97,
          76.88,
          77.34,
          241.72,
          208.71,
          245.19,
          237.89,
          219.73,
          75.46,
          72.48,
          217.99,
          207.53,
          210.18,
          232.82,
          266.43,
          76.74,
          89.92,
          310.62,
          308.04,
          367.43,
          428.77,
          513.3,
          77.55,
          80.04,
          490.61,
          397.13,
          372.06,
          529.41,
          146.56,
          77.16,
          76.06,
          251.04,
          506.36,
          562.99,
          301.05,
          209.69,
          56.3,
          78.73,
          271.23,
          211.53,
          189.74,
          138.82,
          424.17,
          78.26,
          75.14,
          432.81,
          400.59,
          417.66,
          420.74,
          387.94,
          111.54,
          120.12,
          440.56,
          442.4,
          425.08,
          404.4,
          269.32,
          103.53,
          103.63,
          378,
          890.74,
          644.21,
          390.07,
          241.98,
          96.02,
          94.19,
          332.75,
          417.44,
          472.08,
          403.28,
          281.57,
          86.89,
          86.6,
          312.94,
          330.17,
          332.9,
          319.09,
          193.66,
          87.46,
          89.11,
          319.04,
          342.44,
          373.35,
          347.75,
          258.1,
          92.04,
          86.37,
          42.17
         ],
         "yaxis": "y"
        },
        {
         "hovertemplate": "variable=google_performance_max_spent<br>week=%{x}<br>value=%{y}<extra></extra>",
         "legendgroup": "google_performance_max_spent",
         "line": {
          "color": "#00cc96",
          "dash": "solid"
         },
         "marker": {
          "symbol": "circle"
         },
         "mode": "lines",
         "name": "google_performance_max_spent",
         "orientation": "v",
         "showlegend": true,
         "type": "scatter",
         "x": [
          "week0",
          "week1",
          "week2",
          "week3",
          "week4",
          "week5",
          "week6",
          "week7",
          "week8",
          "week9",
          "week10",
          "week11",
          "week12",
          "week13",
          "week14",
          "week15",
          "week16",
          "week17",
          "week18",
          "week19",
          "week20",
          "week21",
          "week22",
          "week23",
          "week24",
          "week25",
          "week26",
          "week27",
          "week28",
          "week29",
          "week30",
          "week31",
          "week32",
          "week33",
          "week34",
          "week35",
          "week36",
          "week37",
          "week38",
          "week39",
          "week40",
          "week41",
          "week42",
          "week43",
          "week44",
          "week45",
          "week46",
          "week47",
          "week48",
          "week49",
          "week50",
          "week51",
          "week52",
          "week53",
          "week54",
          "week55",
          "week56",
          "week57",
          "week58",
          "week59",
          "week60",
          "week61",
          "week62",
          "week63",
          "week64",
          "week65",
          "week66",
          "week67",
          "week68",
          "week69",
          "week70",
          "week71",
          "week72",
          "week73",
          "week74",
          "week75",
          "week76",
          "week77",
          "week78",
          "week79",
          "week80",
          "week81",
          "week82",
          "week83",
          "week84",
          "week85",
          "week86",
          "week87",
          "week88",
          "week89",
          "week90",
          "week91",
          "week92",
          "week93",
          "week94",
          "week95",
          "week96",
          "week97",
          "week98",
          "week99",
          "week100",
          "week101",
          "week102",
          "week103",
          "week104",
          "week105",
          "week106",
          "week107",
          "week108",
          "week109",
          "week110",
          "week111",
          "week112",
          "week113",
          "week114",
          "week115",
          "week116",
          "week117",
          "week118",
          "week119",
          "week120",
          "week121",
          "week122",
          "week123",
          "week124",
          "week125",
          "week126",
          "week127",
          "week128",
          "week129",
          "week130",
          "week131",
          "week132",
          "week133",
          "week134",
          "week135",
          "week136",
          "week137",
          "week138",
          "week139",
          "week140",
          "week141",
          "week142",
          "week143",
          "week144",
          "week145",
          "week146",
          "week147",
          "week148",
          "week149",
          "week150",
          "week151",
          "week152",
          "week153",
          "week154",
          "week155",
          "week156",
          "week157",
          "week158",
          "week159",
          "week160",
          "week161",
          "week162"
         ],
         "xaxis": "x",
         "y": [
          88.2,
          90.56,
          74.14,
          65.01,
          69.26,
          56.27,
          48.87,
          51.25,
          81.94,
          84.22,
          42.11,
          122.55,
          94.21,
          97.31,
          178.47,
          140.29,
          127.91,
          158.53,
          0,
          0,
          0,
          0,
          0,
          0,
          0,
          0,
          0,
          0,
          0,
          0,
          0,
          155.7,
          56.92,
          40.6,
          32.96,
          60.23,
          114.05,
          62.13,
          60.71,
          60.8,
          71.68,
          45.95,
          71.43,
          69.25,
          50.67,
          55.16,
          76.56,
          63.43,
          28.26,
          81.29,
          73.87,
          64.49,
          42.94,
          65.04,
          60.49,
          20.56,
          98.83,
          76.45,
          68.8,
          69.49,
          46.4,
          62.29,
          11.18,
          28.4,
          46.59,
          50.02,
          43.2,
          34.3,
          61.43,
          11.08,
          21.53,
          41.75,
          47.11,
          33.77,
          56.86,
          28.27,
          14.93,
          12.2,
          37.15,
          53.75,
          37.32,
          61.05,
          29.46,
          13.05,
          14.04,
          50.2,
          21.55,
          49.62,
          76.89,
          37.41,
          7.97,
          24.99,
          51.99,
          40.59,
          44.51,
          36.68,
          37.82,
          13.95,
          15.58,
          51.93,
          41.39,
          40.9,
          43.12,
          11.2,
          9.24,
          22,
          51.75,
          19.68,
          58.91,
          35.34,
          9.31,
          15.21,
          14.98,
          45.94,
          45.12,
          31.28,
          42.1,
          80.7,
          12.75,
          13.59,
          47.63,
          42.42,
          41.12,
          50.45,
          37.12,
          17.73,
          32.27,
          100.2,
          68.39,
          94.71,
          107.66,
          81.35,
          17,
          33.32,
          104.11,
          157.4,
          143.83,
          83.61,
          67.15,
          17.83,
          29.83,
          100.37,
          86.93,
          95.8,
          97.01,
          150.63,
          8.38,
          37.81,
          86.3,
          67.99,
          58.91,
          67.59,
          75.57,
          13,
          37.98,
          101.86,
          89.93,
          67.9,
          125.32,
          79.3,
          9.96,
          40.5,
          22.04
         ],
         "yaxis": "y"
        },
        {
         "hovertemplate": "variable=fb_retargeting_spent<br>week=%{x}<br>value=%{y}<extra></extra>",
         "legendgroup": "fb_retargeting_spent",
         "line": {
          "color": "#ab63fa",
          "dash": "solid"
         },
         "marker": {
          "symbol": "circle"
         },
         "mode": "lines",
         "name": "fb_retargeting_spent",
         "orientation": "v",
         "showlegend": true,
         "type": "scatter",
         "x": [
          "week0",
          "week1",
          "week2",
          "week3",
          "week4",
          "week5",
          "week6",
          "week7",
          "week8",
          "week9",
          "week10",
          "week11",
          "week12",
          "week13",
          "week14",
          "week15",
          "week16",
          "week17",
          "week18",
          "week19",
          "week20",
          "week21",
          "week22",
          "week23",
          "week24",
          "week25",
          "week26",
          "week27",
          "week28",
          "week29",
          "week30",
          "week31",
          "week32",
          "week33",
          "week34",
          "week35",
          "week36",
          "week37",
          "week38",
          "week39",
          "week40",
          "week41",
          "week42",
          "week43",
          "week44",
          "week45",
          "week46",
          "week47",
          "week48",
          "week49",
          "week50",
          "week51",
          "week52",
          "week53",
          "week54",
          "week55",
          "week56",
          "week57",
          "week58",
          "week59",
          "week60",
          "week61",
          "week62",
          "week63",
          "week64",
          "week65",
          "week66",
          "week67",
          "week68",
          "week69",
          "week70",
          "week71",
          "week72",
          "week73",
          "week74",
          "week75",
          "week76",
          "week77",
          "week78",
          "week79",
          "week80",
          "week81",
          "week82",
          "week83",
          "week84",
          "week85",
          "week86",
          "week87",
          "week88",
          "week89",
          "week90",
          "week91",
          "week92",
          "week93",
          "week94",
          "week95",
          "week96",
          "week97",
          "week98",
          "week99",
          "week100",
          "week101",
          "week102",
          "week103",
          "week104",
          "week105",
          "week106",
          "week107",
          "week108",
          "week109",
          "week110",
          "week111",
          "week112",
          "week113",
          "week114",
          "week115",
          "week116",
          "week117",
          "week118",
          "week119",
          "week120",
          "week121",
          "week122",
          "week123",
          "week124",
          "week125",
          "week126",
          "week127",
          "week128",
          "week129",
          "week130",
          "week131",
          "week132",
          "week133",
          "week134",
          "week135",
          "week136",
          "week137",
          "week138",
          "week139",
          "week140",
          "week141",
          "week142",
          "week143",
          "week144",
          "week145",
          "week146",
          "week147",
          "week148",
          "week149",
          "week150",
          "week151",
          "week152",
          "week153",
          "week154",
          "week155",
          "week156",
          "week157",
          "week158",
          "week159",
          "week160",
          "week161",
          "week162"
         ],
         "xaxis": "x",
         "y": [
          12.15,
          13.62,
          12.69,
          11.95,
          13.54,
          15.87,
          16.64,
          13.32,
          14.26,
          17.55,
          14.97,
          7.66,
          10.42,
          14.47,
          15.93,
          16.6,
          17.02,
          17.5,
          0,
          0,
          0,
          0,
          0,
          0,
          0,
          0.91,
          0,
          0,
          0,
          0,
          0,
          12.52,
          18.72,
          21.15,
          21.15,
          17.61,
          18.04,
          16.57,
          17.36,
          17.27,
          17.6,
          19.24,
          15.91,
          17.92,
          17.23,
          8.54,
          3.3,
          3.36,
          3.49,
          3.32,
          3.43,
          3.47,
          3.49,
          3.68,
          3.72,
          3.96,
          3.51,
          3.51,
          3.58,
          3.65,
          3.65,
          3.71,
          4.21,
          3.74,
          3.34,
          3.22,
          3.4,
          3.56,
          4.2,
          5.92,
          5.9,
          12.73,
          19.1,
          20.08,
          20.45,
          20.12,
          21.94,
          19.72,
          20.89,
          20.52,
          19.67,
          20.22,
          20.1,
          6.02,
          0,
          18.36,
          19.93,
          23.21,
          23.86,
          22.85,
          23.61,
          20.63,
          21.45,
          20.99,
          20.07,
          20.46,
          21.05,
          23.16,
          21.31,
          21.52,
          20.36,
          20.33,
          20.69,
          20.86,
          23.48,
          21.52,
          21.65,
          21.79,
          20.22,
          20.23,
          19.73,
          21,
          19.91,
          21.02,
          20.06,
          19.87,
          20.36,
          21.34,
          22.59,
          20.07,
          20.66,
          20.93,
          20.4,
          20.45,
          21.28,
          22.98,
          19.83,
          21.13,
          20.04,
          20.31,
          20.16,
          19.5,
          21.9,
          19.51,
          20.19,
          19.84,
          20.06,
          20.39,
          20.5,
          22.18,
          21.18,
          20.83,
          19.93,
          20.23,
          20.09,
          20.66,
          21.53,
          19.14,
          20.36,
          19.75,
          19.88,
          19.93,
          20.96,
          22.97,
          18.45,
          20.02,
          20.29,
          20.14,
          19.96,
          20.31,
          23.16,
          19.9,
          1.33
         ],
         "yaxis": "y"
        },
        {
         "hovertemplate": "variable=fb_prospecting_spent<br>week=%{x}<br>value=%{y}<extra></extra>",
         "legendgroup": "fb_prospecting_spent",
         "line": {
          "color": "#FFA15A",
          "dash": "solid"
         },
         "marker": {
          "symbol": "circle"
         },
         "mode": "lines",
         "name": "fb_prospecting_spent",
         "orientation": "v",
         "showlegend": true,
         "type": "scatter",
         "x": [
          "week0",
          "week1",
          "week2",
          "week3",
          "week4",
          "week5",
          "week6",
          "week7",
          "week8",
          "week9",
          "week10",
          "week11",
          "week12",
          "week13",
          "week14",
          "week15",
          "week16",
          "week17",
          "week18",
          "week19",
          "week20",
          "week21",
          "week22",
          "week23",
          "week24",
          "week25",
          "week26",
          "week27",
          "week28",
          "week29",
          "week30",
          "week31",
          "week32",
          "week33",
          "week34",
          "week35",
          "week36",
          "week37",
          "week38",
          "week39",
          "week40",
          "week41",
          "week42",
          "week43",
          "week44",
          "week45",
          "week46",
          "week47",
          "week48",
          "week49",
          "week50",
          "week51",
          "week52",
          "week53",
          "week54",
          "week55",
          "week56",
          "week57",
          "week58",
          "week59",
          "week60",
          "week61",
          "week62",
          "week63",
          "week64",
          "week65",
          "week66",
          "week67",
          "week68",
          "week69",
          "week70",
          "week71",
          "week72",
          "week73",
          "week74",
          "week75",
          "week76",
          "week77",
          "week78",
          "week79",
          "week80",
          "week81",
          "week82",
          "week83",
          "week84",
          "week85",
          "week86",
          "week87",
          "week88",
          "week89",
          "week90",
          "week91",
          "week92",
          "week93",
          "week94",
          "week95",
          "week96",
          "week97",
          "week98",
          "week99",
          "week100",
          "week101",
          "week102",
          "week103",
          "week104",
          "week105",
          "week106",
          "week107",
          "week108",
          "week109",
          "week110",
          "week111",
          "week112",
          "week113",
          "week114",
          "week115",
          "week116",
          "week117",
          "week118",
          "week119",
          "week120",
          "week121",
          "week122",
          "week123",
          "week124",
          "week125",
          "week126",
          "week127",
          "week128",
          "week129",
          "week130",
          "week131",
          "week132",
          "week133",
          "week134",
          "week135",
          "week136",
          "week137",
          "week138",
          "week139",
          "week140",
          "week141",
          "week142",
          "week143",
          "week144",
          "week145",
          "week146",
          "week147",
          "week148",
          "week149",
          "week150",
          "week151",
          "week152",
          "week153",
          "week154",
          "week155",
          "week156",
          "week157",
          "week158",
          "week159",
          "week160",
          "week161",
          "week162"
         ],
         "xaxis": "x",
         "y": [
          31.48,
          29.61,
          30.09,
          30.08,
          31.03,
          31.46,
          34.1,
          31.51,
          31.32,
          30.55,
          29.6,
          31.18,
          34.9,
          34.86,
          31.08,
          29.05,
          31.41,
          30.65,
          9.87,
          11.46,
          11.58,
          12.69,
          8.2,
          11.16,
          11.12,
          12.89,
          12.44,
          12.59,
          12.5,
          12.04,
          11.02,
          34.56,
          33.99,
          34.56,
          35.37,
          32.38,
          31.09,
          29.65,
          29.56,
          30.67,
          32.59,
          35.21,
          31.43,
          30.81,
          30.17,
          19.54,
          13.67,
          13.34,
          13.7,
          14.16,
          12.25,
          11.72,
          14.42,
          13.43,
          16.17,
          14.91,
          13.98,
          12.18,
          11.58,
          12.36,
          14.25,
          13.07,
          13.82,
          13.71,
          12.7,
          13.77,
          8.51,
          11.99,
          14.99,
          16.48,
          16.71,
          23.16,
          30.03,
          30.29,
          31.78,
          31.46,
          34.48,
          31.66,
          31.47,
          32.19,
          30.83,
          32.19,
          31.55,
          9.49,
          0,
          25.12,
          25.04,
          33.18,
          35.83,
          36.63,
          36.74,
          33.08,
          33.56,
          33.31,
          30.15,
          32.63,
          32.73,
          35.33,
          33.61,
          32.93,
          32.77,
          32.57,
          31.73,
          33.05,
          35.94,
          33.74,
          32.91,
          32.8,
          31.86,
          33.04,
          32.16,
          24.25,
          21.73,
          22.23,
          21.06,
          21.08,
          21.79,
          22.19,
          23.92,
          21.4,
          21.55,
          21.78,
          21.68,
          21.39,
          22.06,
          24.14,
          21.31,
          22.32,
          21.03,
          26.24,
          30.11,
          30.53,
          33.75,
          30.58,
          30.49,
          30.32,
          31.1,
          30.63,
          30.69,
          33.25,
          31.74,
          31.05,
          30.36,
          29.96,
          30.2,
          31.82,
          33.35,
          29.46,
          30.46,
          29.77,
          29.98,
          30.47,
          30.78,
          34.01,
          31.07,
          30.57,
          29.9,
          29.78,
          30.44,
          31.06,
          33.75,
          30.59,
          2.13
         ],
         "yaxis": "y"
        },
        {
         "hovertemplate": "variable=google_organico<br>week=%{x}<br>value=%{y}<extra></extra>",
         "legendgroup": "google_organico",
         "line": {
          "color": "#19d3f3",
          "dash": "solid"
         },
         "marker": {
          "symbol": "circle"
         },
         "mode": "lines",
         "name": "google_organico",
         "orientation": "v",
         "showlegend": true,
         "type": "scatter",
         "x": [
          "week0",
          "week1",
          "week2",
          "week3",
          "week4",
          "week5",
          "week6",
          "week7",
          "week8",
          "week9",
          "week10",
          "week11",
          "week12",
          "week13",
          "week14",
          "week15",
          "week16",
          "week17",
          "week18",
          "week19",
          "week20",
          "week21",
          "week22",
          "week23",
          "week24",
          "week25",
          "week26",
          "week27",
          "week28",
          "week29",
          "week30",
          "week31",
          "week32",
          "week33",
          "week34",
          "week35",
          "week36",
          "week37",
          "week38",
          "week39",
          "week40",
          "week41",
          "week42",
          "week43",
          "week44",
          "week45",
          "week46",
          "week47",
          "week48",
          "week49",
          "week50",
          "week51",
          "week52",
          "week53",
          "week54",
          "week55",
          "week56",
          "week57",
          "week58",
          "week59",
          "week60",
          "week61",
          "week62",
          "week63",
          "week64",
          "week65",
          "week66",
          "week67",
          "week68",
          "week69",
          "week70",
          "week71",
          "week72",
          "week73",
          "week74",
          "week75",
          "week76",
          "week77",
          "week78",
          "week79",
          "week80",
          "week81",
          "week82",
          "week83",
          "week84",
          "week85",
          "week86",
          "week87",
          "week88",
          "week89",
          "week90",
          "week91",
          "week92",
          "week93",
          "week94",
          "week95",
          "week96",
          "week97",
          "week98",
          "week99",
          "week100",
          "week101",
          "week102",
          "week103",
          "week104",
          "week105",
          "week106",
          "week107",
          "week108",
          "week109",
          "week110",
          "week111",
          "week112",
          "week113",
          "week114",
          "week115",
          "week116",
          "week117",
          "week118",
          "week119",
          "week120",
          "week121",
          "week122",
          "week123",
          "week124",
          "week125",
          "week126",
          "week127",
          "week128",
          "week129",
          "week130",
          "week131",
          "week132",
          "week133",
          "week134",
          "week135",
          "week136",
          "week137",
          "week138",
          "week139",
          "week140",
          "week141",
          "week142",
          "week143",
          "week144",
          "week145",
          "week146",
          "week147",
          "week148",
          "week149",
          "week150",
          "week151",
          "week152",
          "week153",
          "week154",
          "week155",
          "week156",
          "week157",
          "week158",
          "week159",
          "week160",
          "week161",
          "week162"
         ],
         "xaxis": "x",
         "y": [
          2603,
          5691,
          5616,
          5676,
          5398,
          4980,
          3229,
          2958,
          6089,
          5917,
          5727,
          5391,
          4536,
          2695,
          3212,
          6277,
          6143,
          6095,
          6020,
          5482,
          3143,
          3259,
          6597,
          6865,
          6421,
          6412,
          5710,
          3093,
          3077,
          6949,
          6684,
          6042,
          5691,
          5321,
          3141,
          3036,
          5883,
          5927,
          5759,
          5330,
          4995,
          2876,
          2943,
          6309,
          6072,
          6179,
          5429,
          5651,
          2945,
          2362,
          3476,
          6506,
          6827,
          6270,
          5724,
          3321,
          3370,
          6673,
          6880,
          6545,
          6587,
          5881,
          3581,
          3485,
          6658,
          6818,
          6269,
          6053,
          5637,
          3460,
          3581,
          7076,
          6945,
          6522,
          6352,
          5689,
          3873,
          3612,
          6929,
          6902,
          6978,
          6841,
          6944,
          4432,
          3960,
          7795,
          6720,
          4704,
          7857,
          7087,
          4509,
          4438,
          8700,
          8665,
          8836,
          8466,
          8033,
          5007,
          4439,
          8779,
          8182,
          7234,
          5822,
          3024,
          1910,
          2771,
          6468,
          6011,
          5644,
          4811,
          2676,
          2016,
          3144,
          6162,
          6206,
          5413,
          3861,
          5780,
          4413,
          3763,
          7149,
          7698,
          7329,
          6897,
          6565,
          3944,
          3604,
          7194,
          6919,
          6825,
          6566,
          5869,
          3926,
          3467,
          6947,
          6550,
          6101,
          5887,
          5645,
          3513,
          3325,
          6920,
          6464,
          6237,
          5813,
          5214,
          3248,
          3134,
          6491,
          6650,
          6060,
          5710,
          4921,
          3291,
          2809,
          5792,
          6155,
          5788,
          5003,
          4696,
          3058,
          1398,
          0
         ],
         "yaxis": "y"
        }
       ],
       "layout": {
        "legend": {
         "title": {
          "text": "variable"
         },
         "tracegroupgap": 0
        },
        "margin": {
         "t": 60
        },
        "template": {
         "data": {
          "bar": [
           {
            "error_x": {
             "color": "#2a3f5f"
            },
            "error_y": {
             "color": "#2a3f5f"
            },
            "marker": {
             "line": {
              "color": "#E5ECF6",
              "width": 0.5
             },
             "pattern": {
              "fillmode": "overlay",
              "size": 10,
              "solidity": 0.2
             }
            },
            "type": "bar"
           }
          ],
          "barpolar": [
           {
            "marker": {
             "line": {
              "color": "#E5ECF6",
              "width": 0.5
             },
             "pattern": {
              "fillmode": "overlay",
              "size": 10,
              "solidity": 0.2
             }
            },
            "type": "barpolar"
           }
          ],
          "carpet": [
           {
            "aaxis": {
             "endlinecolor": "#2a3f5f",
             "gridcolor": "white",
             "linecolor": "white",
             "minorgridcolor": "white",
             "startlinecolor": "#2a3f5f"
            },
            "baxis": {
             "endlinecolor": "#2a3f5f",
             "gridcolor": "white",
             "linecolor": "white",
             "minorgridcolor": "white",
             "startlinecolor": "#2a3f5f"
            },
            "type": "carpet"
           }
          ],
          "choropleth": [
           {
            "colorbar": {
             "outlinewidth": 0,
             "ticks": ""
            },
            "type": "choropleth"
           }
          ],
          "contour": [
           {
            "colorbar": {
             "outlinewidth": 0,
             "ticks": ""
            },
            "colorscale": [
             [
              0,
              "#0d0887"
             ],
             [
              0.1111111111111111,
              "#46039f"
             ],
             [
              0.2222222222222222,
              "#7201a8"
             ],
             [
              0.3333333333333333,
              "#9c179e"
             ],
             [
              0.4444444444444444,
              "#bd3786"
             ],
             [
              0.5555555555555556,
              "#d8576b"
             ],
             [
              0.6666666666666666,
              "#ed7953"
             ],
             [
              0.7777777777777778,
              "#fb9f3a"
             ],
             [
              0.8888888888888888,
              "#fdca26"
             ],
             [
              1,
              "#f0f921"
             ]
            ],
            "type": "contour"
           }
          ],
          "contourcarpet": [
           {
            "colorbar": {
             "outlinewidth": 0,
             "ticks": ""
            },
            "type": "contourcarpet"
           }
          ],
          "heatmap": [
           {
            "colorbar": {
             "outlinewidth": 0,
             "ticks": ""
            },
            "colorscale": [
             [
              0,
              "#0d0887"
             ],
             [
              0.1111111111111111,
              "#46039f"
             ],
             [
              0.2222222222222222,
              "#7201a8"
             ],
             [
              0.3333333333333333,
              "#9c179e"
             ],
             [
              0.4444444444444444,
              "#bd3786"
             ],
             [
              0.5555555555555556,
              "#d8576b"
             ],
             [
              0.6666666666666666,
              "#ed7953"
             ],
             [
              0.7777777777777778,
              "#fb9f3a"
             ],
             [
              0.8888888888888888,
              "#fdca26"
             ],
             [
              1,
              "#f0f921"
             ]
            ],
            "type": "heatmap"
           }
          ],
          "heatmapgl": [
           {
            "colorbar": {
             "outlinewidth": 0,
             "ticks": ""
            },
            "colorscale": [
             [
              0,
              "#0d0887"
             ],
             [
              0.1111111111111111,
              "#46039f"
             ],
             [
              0.2222222222222222,
              "#7201a8"
             ],
             [
              0.3333333333333333,
              "#9c179e"
             ],
             [
              0.4444444444444444,
              "#bd3786"
             ],
             [
              0.5555555555555556,
              "#d8576b"
             ],
             [
              0.6666666666666666,
              "#ed7953"
             ],
             [
              0.7777777777777778,
              "#fb9f3a"
             ],
             [
              0.8888888888888888,
              "#fdca26"
             ],
             [
              1,
              "#f0f921"
             ]
            ],
            "type": "heatmapgl"
           }
          ],
          "histogram": [
           {
            "marker": {
             "pattern": {
              "fillmode": "overlay",
              "size": 10,
              "solidity": 0.2
             }
            },
            "type": "histogram"
           }
          ],
          "histogram2d": [
           {
            "colorbar": {
             "outlinewidth": 0,
             "ticks": ""
            },
            "colorscale": [
             [
              0,
              "#0d0887"
             ],
             [
              0.1111111111111111,
              "#46039f"
             ],
             [
              0.2222222222222222,
              "#7201a8"
             ],
             [
              0.3333333333333333,
              "#9c179e"
             ],
             [
              0.4444444444444444,
              "#bd3786"
             ],
             [
              0.5555555555555556,
              "#d8576b"
             ],
             [
              0.6666666666666666,
              "#ed7953"
             ],
             [
              0.7777777777777778,
              "#fb9f3a"
             ],
             [
              0.8888888888888888,
              "#fdca26"
             ],
             [
              1,
              "#f0f921"
             ]
            ],
            "type": "histogram2d"
           }
          ],
          "histogram2dcontour": [
           {
            "colorbar": {
             "outlinewidth": 0,
             "ticks": ""
            },
            "colorscale": [
             [
              0,
              "#0d0887"
             ],
             [
              0.1111111111111111,
              "#46039f"
             ],
             [
              0.2222222222222222,
              "#7201a8"
             ],
             [
              0.3333333333333333,
              "#9c179e"
             ],
             [
              0.4444444444444444,
              "#bd3786"
             ],
             [
              0.5555555555555556,
              "#d8576b"
             ],
             [
              0.6666666666666666,
              "#ed7953"
             ],
             [
              0.7777777777777778,
              "#fb9f3a"
             ],
             [
              0.8888888888888888,
              "#fdca26"
             ],
             [
              1,
              "#f0f921"
             ]
            ],
            "type": "histogram2dcontour"
           }
          ],
          "mesh3d": [
           {
            "colorbar": {
             "outlinewidth": 0,
             "ticks": ""
            },
            "type": "mesh3d"
           }
          ],
          "parcoords": [
           {
            "line": {
             "colorbar": {
              "outlinewidth": 0,
              "ticks": ""
             }
            },
            "type": "parcoords"
           }
          ],
          "pie": [
           {
            "automargin": true,
            "type": "pie"
           }
          ],
          "scatter": [
           {
            "fillpattern": {
             "fillmode": "overlay",
             "size": 10,
             "solidity": 0.2
            },
            "type": "scatter"
           }
          ],
          "scatter3d": [
           {
            "line": {
             "colorbar": {
              "outlinewidth": 0,
              "ticks": ""
             }
            },
            "marker": {
             "colorbar": {
              "outlinewidth": 0,
              "ticks": ""
             }
            },
            "type": "scatter3d"
           }
          ],
          "scattercarpet": [
           {
            "marker": {
             "colorbar": {
              "outlinewidth": 0,
              "ticks": ""
             }
            },
            "type": "scattercarpet"
           }
          ],
          "scattergeo": [
           {
            "marker": {
             "colorbar": {
              "outlinewidth": 0,
              "ticks": ""
             }
            },
            "type": "scattergeo"
           }
          ],
          "scattergl": [
           {
            "marker": {
             "colorbar": {
              "outlinewidth": 0,
              "ticks": ""
             }
            },
            "type": "scattergl"
           }
          ],
          "scattermapbox": [
           {
            "marker": {
             "colorbar": {
              "outlinewidth": 0,
              "ticks": ""
             }
            },
            "type": "scattermapbox"
           }
          ],
          "scatterpolar": [
           {
            "marker": {
             "colorbar": {
              "outlinewidth": 0,
              "ticks": ""
             }
            },
            "type": "scatterpolar"
           }
          ],
          "scatterpolargl": [
           {
            "marker": {
             "colorbar": {
              "outlinewidth": 0,
              "ticks": ""
             }
            },
            "type": "scatterpolargl"
           }
          ],
          "scatterternary": [
           {
            "marker": {
             "colorbar": {
              "outlinewidth": 0,
              "ticks": ""
             }
            },
            "type": "scatterternary"
           }
          ],
          "surface": [
           {
            "colorbar": {
             "outlinewidth": 0,
             "ticks": ""
            },
            "colorscale": [
             [
              0,
              "#0d0887"
             ],
             [
              0.1111111111111111,
              "#46039f"
             ],
             [
              0.2222222222222222,
              "#7201a8"
             ],
             [
              0.3333333333333333,
              "#9c179e"
             ],
             [
              0.4444444444444444,
              "#bd3786"
             ],
             [
              0.5555555555555556,
              "#d8576b"
             ],
             [
              0.6666666666666666,
              "#ed7953"
             ],
             [
              0.7777777777777778,
              "#fb9f3a"
             ],
             [
              0.8888888888888888,
              "#fdca26"
             ],
             [
              1,
              "#f0f921"
             ]
            ],
            "type": "surface"
           }
          ],
          "table": [
           {
            "cells": {
             "fill": {
              "color": "#EBF0F8"
             },
             "line": {
              "color": "white"
             }
            },
            "header": {
             "fill": {
              "color": "#C8D4E3"
             },
             "line": {
              "color": "white"
             }
            },
            "type": "table"
           }
          ]
         },
         "layout": {
          "annotationdefaults": {
           "arrowcolor": "#2a3f5f",
           "arrowhead": 0,
           "arrowwidth": 1
          },
          "autotypenumbers": "strict",
          "coloraxis": {
           "colorbar": {
            "outlinewidth": 0,
            "ticks": ""
           }
          },
          "colorscale": {
           "diverging": [
            [
             0,
             "#8e0152"
            ],
            [
             0.1,
             "#c51b7d"
            ],
            [
             0.2,
             "#de77ae"
            ],
            [
             0.3,
             "#f1b6da"
            ],
            [
             0.4,
             "#fde0ef"
            ],
            [
             0.5,
             "#f7f7f7"
            ],
            [
             0.6,
             "#e6f5d0"
            ],
            [
             0.7,
             "#b8e186"
            ],
            [
             0.8,
             "#7fbc41"
            ],
            [
             0.9,
             "#4d9221"
            ],
            [
             1,
             "#276419"
            ]
           ],
           "sequential": [
            [
             0,
             "#0d0887"
            ],
            [
             0.1111111111111111,
             "#46039f"
            ],
            [
             0.2222222222222222,
             "#7201a8"
            ],
            [
             0.3333333333333333,
             "#9c179e"
            ],
            [
             0.4444444444444444,
             "#bd3786"
            ],
            [
             0.5555555555555556,
             "#d8576b"
            ],
            [
             0.6666666666666666,
             "#ed7953"
            ],
            [
             0.7777777777777778,
             "#fb9f3a"
            ],
            [
             0.8888888888888888,
             "#fdca26"
            ],
            [
             1,
             "#f0f921"
            ]
           ],
           "sequentialminus": [
            [
             0,
             "#0d0887"
            ],
            [
             0.1111111111111111,
             "#46039f"
            ],
            [
             0.2222222222222222,
             "#7201a8"
            ],
            [
             0.3333333333333333,
             "#9c179e"
            ],
            [
             0.4444444444444444,
             "#bd3786"
            ],
            [
             0.5555555555555556,
             "#d8576b"
            ],
            [
             0.6666666666666666,
             "#ed7953"
            ],
            [
             0.7777777777777778,
             "#fb9f3a"
            ],
            [
             0.8888888888888888,
             "#fdca26"
            ],
            [
             1,
             "#f0f921"
            ]
           ]
          },
          "colorway": [
           "#636efa",
           "#EF553B",
           "#00cc96",
           "#ab63fa",
           "#FFA15A",
           "#19d3f3",
           "#FF6692",
           "#B6E880",
           "#FF97FF",
           "#FECB52"
          ],
          "font": {
           "color": "#2a3f5f"
          },
          "geo": {
           "bgcolor": "white",
           "lakecolor": "white",
           "landcolor": "#E5ECF6",
           "showlakes": true,
           "showland": true,
           "subunitcolor": "white"
          },
          "hoverlabel": {
           "align": "left"
          },
          "hovermode": "closest",
          "mapbox": {
           "style": "light"
          },
          "paper_bgcolor": "white",
          "plot_bgcolor": "#E5ECF6",
          "polar": {
           "angularaxis": {
            "gridcolor": "white",
            "linecolor": "white",
            "ticks": ""
           },
           "bgcolor": "#E5ECF6",
           "radialaxis": {
            "gridcolor": "white",
            "linecolor": "white",
            "ticks": ""
           }
          },
          "scene": {
           "xaxis": {
            "backgroundcolor": "#E5ECF6",
            "gridcolor": "white",
            "gridwidth": 2,
            "linecolor": "white",
            "showbackground": true,
            "ticks": "",
            "zerolinecolor": "white"
           },
           "yaxis": {
            "backgroundcolor": "#E5ECF6",
            "gridcolor": "white",
            "gridwidth": 2,
            "linecolor": "white",
            "showbackground": true,
            "ticks": "",
            "zerolinecolor": "white"
           },
           "zaxis": {
            "backgroundcolor": "#E5ECF6",
            "gridcolor": "white",
            "gridwidth": 2,
            "linecolor": "white",
            "showbackground": true,
            "ticks": "",
            "zerolinecolor": "white"
           }
          },
          "shapedefaults": {
           "line": {
            "color": "#2a3f5f"
           }
          },
          "ternary": {
           "aaxis": {
            "gridcolor": "white",
            "linecolor": "white",
            "ticks": ""
           },
           "baxis": {
            "gridcolor": "white",
            "linecolor": "white",
            "ticks": ""
           },
           "bgcolor": "#E5ECF6",
           "caxis": {
            "gridcolor": "white",
            "linecolor": "white",
            "ticks": ""
           }
          },
          "title": {
           "x": 0.05
          },
          "xaxis": {
           "automargin": true,
           "gridcolor": "white",
           "linecolor": "white",
           "ticks": "",
           "title": {
            "standoff": 15
           },
           "zerolinecolor": "white",
           "zerolinewidth": 2
          },
          "yaxis": {
           "automargin": true,
           "gridcolor": "white",
           "linecolor": "white",
           "ticks": "",
           "title": {
            "standoff": 15
           },
           "zerolinecolor": "white",
           "zerolinewidth": 2
          }
         }
        },
        "xaxis": {
         "anchor": "y",
         "domain": [
          0,
          1
         ],
         "title": {
          "text": "week"
         }
        },
        "yaxis": {
         "anchor": "x",
         "domain": [
          0,
          1
         ],
         "title": {
          "text": "value"
         }
        }
       }
      },
      "text/html": [
       "<div>                            <div id=\"f51d0ab3-7587-4016-ab47-0ed3f3326e2a\" class=\"plotly-graph-div\" style=\"height:525px; width:100%;\"></div>            <script type=\"text/javascript\">                require([\"plotly\"], function(Plotly) {                    window.PLOTLYENV=window.PLOTLYENV || {};                                    if (document.getElementById(\"f51d0ab3-7587-4016-ab47-0ed3f3326e2a\")) {                    Plotly.newPlot(                        \"f51d0ab3-7587-4016-ab47-0ed3f3326e2a\",                        [{\"hovertemplate\":\"variable=revenue<br>week=%{x}<br>value=%{y}<extra></extra>\",\"legendgroup\":\"revenue\",\"line\":{\"color\":\"#636efa\",\"dash\":\"solid\"},\"marker\":{\"symbol\":\"circle\"},\"mode\":\"lines\",\"name\":\"revenue\",\"orientation\":\"v\",\"showlegend\":true,\"x\":[\"week0\",\"week1\",\"week2\",\"week3\",\"week4\",\"week5\",\"week6\",\"week7\",\"week8\",\"week9\",\"week10\",\"week11\",\"week12\",\"week13\",\"week14\",\"week15\",\"week16\",\"week17\",\"week18\",\"week19\",\"week20\",\"week21\",\"week22\",\"week23\",\"week24\",\"week25\",\"week26\",\"week27\",\"week28\",\"week29\",\"week30\",\"week31\",\"week32\",\"week33\",\"week34\",\"week35\",\"week36\",\"week37\",\"week38\",\"week39\",\"week40\",\"week41\",\"week42\",\"week43\",\"week44\",\"week45\",\"week46\",\"week47\",\"week48\",\"week49\",\"week50\",\"week51\",\"week52\",\"week53\",\"week54\",\"week55\",\"week56\",\"week57\",\"week58\",\"week59\",\"week60\",\"week61\",\"week62\",\"week63\",\"week64\",\"week65\",\"week66\",\"week67\",\"week68\",\"week69\",\"week70\",\"week71\",\"week72\",\"week73\",\"week74\",\"week75\",\"week76\",\"week77\",\"week78\",\"week79\",\"week80\",\"week81\",\"week82\",\"week83\",\"week84\",\"week85\",\"week86\",\"week87\",\"week88\",\"week89\",\"week90\",\"week91\",\"week92\",\"week93\",\"week94\",\"week95\",\"week96\",\"week97\",\"week98\",\"week99\",\"week100\",\"week101\",\"week102\",\"week103\",\"week104\",\"week105\",\"week106\",\"week107\",\"week108\",\"week109\",\"week110\",\"week111\",\"week112\",\"week113\",\"week114\",\"week115\",\"week116\",\"week117\",\"week118\",\"week119\",\"week120\",\"week121\",\"week122\",\"week123\",\"week124\",\"week125\",\"week126\",\"week127\",\"week128\",\"week129\",\"week130\",\"week131\",\"week132\",\"week133\",\"week134\",\"week135\",\"week136\",\"week137\",\"week138\",\"week139\",\"week140\",\"week141\",\"week142\",\"week143\",\"week144\",\"week145\",\"week146\",\"week147\",\"week148\",\"week149\",\"week150\",\"week151\",\"week152\",\"week153\",\"week154\",\"week155\",\"week156\",\"week157\",\"week158\",\"week159\",\"week160\",\"week161\",\"week162\"],\"xaxis\":\"x\",\"y\":[2461.81,6918.33,5101.67,5335.02,4384.38,2564.39,1507.22,3035.38,6164.88,5666.57,5529.19,4364.27,3441.28,1503.72,3075.01,7223.64,6191.63,6401.52,6006.66,3259.89,2036.57,2537.66,5131.19,5867.37,5541.04,4897.76,3133.15,1820.66,2907.35,6008.83,5485.87,5291.73,4846.12,3644.88,1870.71,3446.23,6795.43,5735.92,5906.51,5183.68,3128.48,1754.73,3043.88,5978.04,6321.35,6043.38,4429.38,2202.1,1740.83,1502.6,3861.43,6534.55,5504.45,5211.69,4218.57,2450.73,3373.6,6543.42,6254.53,6275.99,4800.1,2938.72,1883.86,3064.84,5960.51,6200.39,6126.07,4558.39,2533.53,1489.06,3292.68,6994.01,5961.43,5353.82,17697.95,13613.81,2402.75,3436.36,6987.25,4960.64,5485.93,5306.16,5301.18,2587.16,4190.47,7525.98,6415.08,4915.72,7788.17,6990.86,3055.72,4843.64,10482.65,10581.56,9520.25,10487.03,7024.91,3420.89,5850.73,26047.24,20130.25,5793.67,3231.42,1450.1,731.38,2075.78,6543.32,7426.74,4921.18,6507.9,1699.36,1334.25,2450.69,5677.11,5337.76,3523.35,2951.59,3990.13,3120.34,3141.9,7159.45,6919.14,5980.13,5737.6,4374.84,2179.55,3599.79,7773.84,7728.56,7172.95,5583.26,3689.49,2148.72,2861.71,6677.14,6894.49,6107.54,6592.92,4045.78,5824.62,3219.01,8797.88,7117.38,5999.78,5045.91,4362.41,1849.98,3422.41,7877.16,6893.43,6278.3,6400.52,3921.14,2325.44,3174.37,7166.95,7475.88,5648.14,6061.37,3722.15,2670.47,3385.87,372.27],\"yaxis\":\"y\",\"type\":\"scatter\"},{\"hovertemplate\":\"variable=google_search_spent<br>week=%{x}<br>value=%{y}<extra></extra>\",\"legendgroup\":\"google_search_spent\",\"line\":{\"color\":\"#EF553B\",\"dash\":\"solid\"},\"marker\":{\"symbol\":\"circle\"},\"mode\":\"lines\",\"name\":\"google_search_spent\",\"orientation\":\"v\",\"showlegend\":true,\"x\":[\"week0\",\"week1\",\"week2\",\"week3\",\"week4\",\"week5\",\"week6\",\"week7\",\"week8\",\"week9\",\"week10\",\"week11\",\"week12\",\"week13\",\"week14\",\"week15\",\"week16\",\"week17\",\"week18\",\"week19\",\"week20\",\"week21\",\"week22\",\"week23\",\"week24\",\"week25\",\"week26\",\"week27\",\"week28\",\"week29\",\"week30\",\"week31\",\"week32\",\"week33\",\"week34\",\"week35\",\"week36\",\"week37\",\"week38\",\"week39\",\"week40\",\"week41\",\"week42\",\"week43\",\"week44\",\"week45\",\"week46\",\"week47\",\"week48\",\"week49\",\"week50\",\"week51\",\"week52\",\"week53\",\"week54\",\"week55\",\"week56\",\"week57\",\"week58\",\"week59\",\"week60\",\"week61\",\"week62\",\"week63\",\"week64\",\"week65\",\"week66\",\"week67\",\"week68\",\"week69\",\"week70\",\"week71\",\"week72\",\"week73\",\"week74\",\"week75\",\"week76\",\"week77\",\"week78\",\"week79\",\"week80\",\"week81\",\"week82\",\"week83\",\"week84\",\"week85\",\"week86\",\"week87\",\"week88\",\"week89\",\"week90\",\"week91\",\"week92\",\"week93\",\"week94\",\"week95\",\"week96\",\"week97\",\"week98\",\"week99\",\"week100\",\"week101\",\"week102\",\"week103\",\"week104\",\"week105\",\"week106\",\"week107\",\"week108\",\"week109\",\"week110\",\"week111\",\"week112\",\"week113\",\"week114\",\"week115\",\"week116\",\"week117\",\"week118\",\"week119\",\"week120\",\"week121\",\"week122\",\"week123\",\"week124\",\"week125\",\"week126\",\"week127\",\"week128\",\"week129\",\"week130\",\"week131\",\"week132\",\"week133\",\"week134\",\"week135\",\"week136\",\"week137\",\"week138\",\"week139\",\"week140\",\"week141\",\"week142\",\"week143\",\"week144\",\"week145\",\"week146\",\"week147\",\"week148\",\"week149\",\"week150\",\"week151\",\"week152\",\"week153\",\"week154\",\"week155\",\"week156\",\"week157\",\"week158\",\"week159\",\"week160\",\"week161\",\"week162\"],\"xaxis\":\"x\",\"y\":[151.48,261.7,207.53,204.25,189.94,136.96,155.6,165.28,218.59,213.36,166.35,124.66,220.89,101.47,256.16,465.36,309.14,323.04,0.0,0.0,0.0,0.0,0.0,0.0,0.0,29.37,0.0,0.0,0.0,0.0,195.03,274.67,315.2,248.9,191.42,219.69,270.34,246.75,242.74,243.32,237.29,238.08,239.85,244.96,251.15,266.63,62.92,456.87,243.29,235.99,310.16,296.56,291.38,513.77,282.63,175.33,143.22,277.44,355.57,318.41,248.74,259.67,102.21,100.49,225.87,215.88,231.17,301.79,258.79,74.95,77.87,221.25,214.76,224.68,221.23,213.97,76.88,77.34,241.72,208.71,245.19,237.89,219.73,75.46,72.48,217.99,207.53,210.18,232.82,266.43,76.74,89.92,310.62,308.04,367.43,428.77,513.3,77.55,80.04,490.61,397.13,372.06,529.41,146.56,77.16,76.06,251.04,506.36,562.99,301.05,209.69,56.3,78.73,271.23,211.53,189.74,138.82,424.17,78.26,75.14,432.81,400.59,417.66,420.74,387.94,111.54,120.12,440.56,442.4,425.08,404.4,269.32,103.53,103.63,378.0,890.74,644.21,390.07,241.98,96.02,94.19,332.75,417.44,472.08,403.28,281.57,86.89,86.6,312.94,330.17,332.9,319.09,193.66,87.46,89.11,319.04,342.44,373.35,347.75,258.1,92.04,86.37,42.17],\"yaxis\":\"y\",\"type\":\"scatter\"},{\"hovertemplate\":\"variable=google_performance_max_spent<br>week=%{x}<br>value=%{y}<extra></extra>\",\"legendgroup\":\"google_performance_max_spent\",\"line\":{\"color\":\"#00cc96\",\"dash\":\"solid\"},\"marker\":{\"symbol\":\"circle\"},\"mode\":\"lines\",\"name\":\"google_performance_max_spent\",\"orientation\":\"v\",\"showlegend\":true,\"x\":[\"week0\",\"week1\",\"week2\",\"week3\",\"week4\",\"week5\",\"week6\",\"week7\",\"week8\",\"week9\",\"week10\",\"week11\",\"week12\",\"week13\",\"week14\",\"week15\",\"week16\",\"week17\",\"week18\",\"week19\",\"week20\",\"week21\",\"week22\",\"week23\",\"week24\",\"week25\",\"week26\",\"week27\",\"week28\",\"week29\",\"week30\",\"week31\",\"week32\",\"week33\",\"week34\",\"week35\",\"week36\",\"week37\",\"week38\",\"week39\",\"week40\",\"week41\",\"week42\",\"week43\",\"week44\",\"week45\",\"week46\",\"week47\",\"week48\",\"week49\",\"week50\",\"week51\",\"week52\",\"week53\",\"week54\",\"week55\",\"week56\",\"week57\",\"week58\",\"week59\",\"week60\",\"week61\",\"week62\",\"week63\",\"week64\",\"week65\",\"week66\",\"week67\",\"week68\",\"week69\",\"week70\",\"week71\",\"week72\",\"week73\",\"week74\",\"week75\",\"week76\",\"week77\",\"week78\",\"week79\",\"week80\",\"week81\",\"week82\",\"week83\",\"week84\",\"week85\",\"week86\",\"week87\",\"week88\",\"week89\",\"week90\",\"week91\",\"week92\",\"week93\",\"week94\",\"week95\",\"week96\",\"week97\",\"week98\",\"week99\",\"week100\",\"week101\",\"week102\",\"week103\",\"week104\",\"week105\",\"week106\",\"week107\",\"week108\",\"week109\",\"week110\",\"week111\",\"week112\",\"week113\",\"week114\",\"week115\",\"week116\",\"week117\",\"week118\",\"week119\",\"week120\",\"week121\",\"week122\",\"week123\",\"week124\",\"week125\",\"week126\",\"week127\",\"week128\",\"week129\",\"week130\",\"week131\",\"week132\",\"week133\",\"week134\",\"week135\",\"week136\",\"week137\",\"week138\",\"week139\",\"week140\",\"week141\",\"week142\",\"week143\",\"week144\",\"week145\",\"week146\",\"week147\",\"week148\",\"week149\",\"week150\",\"week151\",\"week152\",\"week153\",\"week154\",\"week155\",\"week156\",\"week157\",\"week158\",\"week159\",\"week160\",\"week161\",\"week162\"],\"xaxis\":\"x\",\"y\":[88.2,90.56,74.14,65.01,69.26,56.27,48.87,51.25,81.94,84.22,42.11,122.55,94.21,97.31,178.47,140.29,127.91,158.53,0.0,0.0,0.0,0.0,0.0,0.0,0.0,0.0,0.0,0.0,0.0,0.0,0.0,155.7,56.92,40.6,32.96,60.23,114.05,62.13,60.71,60.8,71.68,45.95,71.43,69.25,50.67,55.16,76.56,63.43,28.26,81.29,73.87,64.49,42.94,65.04,60.49,20.56,98.83,76.45,68.8,69.49,46.4,62.29,11.18,28.4,46.59,50.02,43.2,34.3,61.43,11.08,21.53,41.75,47.11,33.77,56.86,28.27,14.93,12.2,37.15,53.75,37.32,61.05,29.46,13.05,14.04,50.2,21.55,49.62,76.89,37.41,7.97,24.99,51.99,40.59,44.51,36.68,37.82,13.95,15.58,51.93,41.39,40.9,43.12,11.2,9.24,22.0,51.75,19.68,58.91,35.34,9.31,15.21,14.98,45.94,45.12,31.28,42.1,80.7,12.75,13.59,47.63,42.42,41.12,50.45,37.12,17.73,32.27,100.2,68.39,94.71,107.66,81.35,17.0,33.32,104.11,157.4,143.83,83.61,67.15,17.83,29.83,100.37,86.93,95.8,97.01,150.63,8.38,37.81,86.3,67.99,58.91,67.59,75.57,13.0,37.98,101.86,89.93,67.9,125.32,79.3,9.96,40.5,22.04],\"yaxis\":\"y\",\"type\":\"scatter\"},{\"hovertemplate\":\"variable=fb_retargeting_spent<br>week=%{x}<br>value=%{y}<extra></extra>\",\"legendgroup\":\"fb_retargeting_spent\",\"line\":{\"color\":\"#ab63fa\",\"dash\":\"solid\"},\"marker\":{\"symbol\":\"circle\"},\"mode\":\"lines\",\"name\":\"fb_retargeting_spent\",\"orientation\":\"v\",\"showlegend\":true,\"x\":[\"week0\",\"week1\",\"week2\",\"week3\",\"week4\",\"week5\",\"week6\",\"week7\",\"week8\",\"week9\",\"week10\",\"week11\",\"week12\",\"week13\",\"week14\",\"week15\",\"week16\",\"week17\",\"week18\",\"week19\",\"week20\",\"week21\",\"week22\",\"week23\",\"week24\",\"week25\",\"week26\",\"week27\",\"week28\",\"week29\",\"week30\",\"week31\",\"week32\",\"week33\",\"week34\",\"week35\",\"week36\",\"week37\",\"week38\",\"week39\",\"week40\",\"week41\",\"week42\",\"week43\",\"week44\",\"week45\",\"week46\",\"week47\",\"week48\",\"week49\",\"week50\",\"week51\",\"week52\",\"week53\",\"week54\",\"week55\",\"week56\",\"week57\",\"week58\",\"week59\",\"week60\",\"week61\",\"week62\",\"week63\",\"week64\",\"week65\",\"week66\",\"week67\",\"week68\",\"week69\",\"week70\",\"week71\",\"week72\",\"week73\",\"week74\",\"week75\",\"week76\",\"week77\",\"week78\",\"week79\",\"week80\",\"week81\",\"week82\",\"week83\",\"week84\",\"week85\",\"week86\",\"week87\",\"week88\",\"week89\",\"week90\",\"week91\",\"week92\",\"week93\",\"week94\",\"week95\",\"week96\",\"week97\",\"week98\",\"week99\",\"week100\",\"week101\",\"week102\",\"week103\",\"week104\",\"week105\",\"week106\",\"week107\",\"week108\",\"week109\",\"week110\",\"week111\",\"week112\",\"week113\",\"week114\",\"week115\",\"week116\",\"week117\",\"week118\",\"week119\",\"week120\",\"week121\",\"week122\",\"week123\",\"week124\",\"week125\",\"week126\",\"week127\",\"week128\",\"week129\",\"week130\",\"week131\",\"week132\",\"week133\",\"week134\",\"week135\",\"week136\",\"week137\",\"week138\",\"week139\",\"week140\",\"week141\",\"week142\",\"week143\",\"week144\",\"week145\",\"week146\",\"week147\",\"week148\",\"week149\",\"week150\",\"week151\",\"week152\",\"week153\",\"week154\",\"week155\",\"week156\",\"week157\",\"week158\",\"week159\",\"week160\",\"week161\",\"week162\"],\"xaxis\":\"x\",\"y\":[12.15,13.62,12.69,11.95,13.54,15.87,16.64,13.32,14.26,17.55,14.97,7.66,10.42,14.47,15.93,16.6,17.02,17.5,0.0,0.0,0.0,0.0,0.0,0.0,0.0,0.91,0.0,0.0,0.0,0.0,0.0,12.52,18.72,21.15,21.15,17.61,18.04,16.57,17.36,17.27,17.6,19.24,15.91,17.92,17.23,8.54,3.3,3.36,3.49,3.32,3.43,3.47,3.49,3.68,3.72,3.96,3.51,3.51,3.58,3.65,3.65,3.71,4.21,3.74,3.34,3.22,3.4,3.56,4.2,5.92,5.9,12.73,19.1,20.08,20.45,20.12,21.94,19.72,20.89,20.52,19.67,20.22,20.1,6.02,0.0,18.36,19.93,23.21,23.86,22.85,23.61,20.63,21.45,20.99,20.07,20.46,21.05,23.16,21.31,21.52,20.36,20.33,20.69,20.86,23.48,21.52,21.65,21.79,20.22,20.23,19.73,21.0,19.91,21.02,20.06,19.87,20.36,21.34,22.59,20.07,20.66,20.93,20.4,20.45,21.28,22.98,19.83,21.13,20.04,20.31,20.16,19.5,21.9,19.51,20.19,19.84,20.06,20.39,20.5,22.18,21.18,20.83,19.93,20.23,20.09,20.66,21.53,19.14,20.36,19.75,19.88,19.93,20.96,22.97,18.45,20.02,20.29,20.14,19.96,20.31,23.16,19.9,1.33],\"yaxis\":\"y\",\"type\":\"scatter\"},{\"hovertemplate\":\"variable=fb_prospecting_spent<br>week=%{x}<br>value=%{y}<extra></extra>\",\"legendgroup\":\"fb_prospecting_spent\",\"line\":{\"color\":\"#FFA15A\",\"dash\":\"solid\"},\"marker\":{\"symbol\":\"circle\"},\"mode\":\"lines\",\"name\":\"fb_prospecting_spent\",\"orientation\":\"v\",\"showlegend\":true,\"x\":[\"week0\",\"week1\",\"week2\",\"week3\",\"week4\",\"week5\",\"week6\",\"week7\",\"week8\",\"week9\",\"week10\",\"week11\",\"week12\",\"week13\",\"week14\",\"week15\",\"week16\",\"week17\",\"week18\",\"week19\",\"week20\",\"week21\",\"week22\",\"week23\",\"week24\",\"week25\",\"week26\",\"week27\",\"week28\",\"week29\",\"week30\",\"week31\",\"week32\",\"week33\",\"week34\",\"week35\",\"week36\",\"week37\",\"week38\",\"week39\",\"week40\",\"week41\",\"week42\",\"week43\",\"week44\",\"week45\",\"week46\",\"week47\",\"week48\",\"week49\",\"week50\",\"week51\",\"week52\",\"week53\",\"week54\",\"week55\",\"week56\",\"week57\",\"week58\",\"week59\",\"week60\",\"week61\",\"week62\",\"week63\",\"week64\",\"week65\",\"week66\",\"week67\",\"week68\",\"week69\",\"week70\",\"week71\",\"week72\",\"week73\",\"week74\",\"week75\",\"week76\",\"week77\",\"week78\",\"week79\",\"week80\",\"week81\",\"week82\",\"week83\",\"week84\",\"week85\",\"week86\",\"week87\",\"week88\",\"week89\",\"week90\",\"week91\",\"week92\",\"week93\",\"week94\",\"week95\",\"week96\",\"week97\",\"week98\",\"week99\",\"week100\",\"week101\",\"week102\",\"week103\",\"week104\",\"week105\",\"week106\",\"week107\",\"week108\",\"week109\",\"week110\",\"week111\",\"week112\",\"week113\",\"week114\",\"week115\",\"week116\",\"week117\",\"week118\",\"week119\",\"week120\",\"week121\",\"week122\",\"week123\",\"week124\",\"week125\",\"week126\",\"week127\",\"week128\",\"week129\",\"week130\",\"week131\",\"week132\",\"week133\",\"week134\",\"week135\",\"week136\",\"week137\",\"week138\",\"week139\",\"week140\",\"week141\",\"week142\",\"week143\",\"week144\",\"week145\",\"week146\",\"week147\",\"week148\",\"week149\",\"week150\",\"week151\",\"week152\",\"week153\",\"week154\",\"week155\",\"week156\",\"week157\",\"week158\",\"week159\",\"week160\",\"week161\",\"week162\"],\"xaxis\":\"x\",\"y\":[31.48,29.61,30.09,30.08,31.03,31.46,34.1,31.51,31.32,30.55,29.6,31.18,34.9,34.86,31.08,29.05,31.41,30.65,9.87,11.46,11.58,12.69,8.2,11.16,11.12,12.89,12.44,12.59,12.5,12.04,11.02,34.56,33.99,34.56,35.37,32.38,31.09,29.65,29.56,30.67,32.59,35.21,31.43,30.81,30.17,19.54,13.67,13.34,13.7,14.16,12.25,11.72,14.42,13.43,16.17,14.91,13.98,12.18,11.58,12.36,14.25,13.07,13.82,13.71,12.7,13.77,8.51,11.99,14.99,16.48,16.71,23.16,30.03,30.29,31.78,31.46,34.48,31.66,31.47,32.19,30.83,32.19,31.55,9.49,0.0,25.12,25.04,33.18,35.83,36.63,36.74,33.08,33.56,33.31,30.15,32.63,32.73,35.33,33.61,32.93,32.77,32.57,31.73,33.05,35.94,33.74,32.91,32.8,31.86,33.04,32.16,24.25,21.73,22.23,21.06,21.08,21.79,22.19,23.92,21.4,21.55,21.78,21.68,21.39,22.06,24.14,21.31,22.32,21.03,26.24,30.11,30.53,33.75,30.58,30.49,30.32,31.1,30.63,30.69,33.25,31.74,31.05,30.36,29.96,30.2,31.82,33.35,29.46,30.46,29.77,29.98,30.47,30.78,34.01,31.07,30.57,29.9,29.78,30.44,31.06,33.75,30.59,2.13],\"yaxis\":\"y\",\"type\":\"scatter\"},{\"hovertemplate\":\"variable=google_organico<br>week=%{x}<br>value=%{y}<extra></extra>\",\"legendgroup\":\"google_organico\",\"line\":{\"color\":\"#19d3f3\",\"dash\":\"solid\"},\"marker\":{\"symbol\":\"circle\"},\"mode\":\"lines\",\"name\":\"google_organico\",\"orientation\":\"v\",\"showlegend\":true,\"x\":[\"week0\",\"week1\",\"week2\",\"week3\",\"week4\",\"week5\",\"week6\",\"week7\",\"week8\",\"week9\",\"week10\",\"week11\",\"week12\",\"week13\",\"week14\",\"week15\",\"week16\",\"week17\",\"week18\",\"week19\",\"week20\",\"week21\",\"week22\",\"week23\",\"week24\",\"week25\",\"week26\",\"week27\",\"week28\",\"week29\",\"week30\",\"week31\",\"week32\",\"week33\",\"week34\",\"week35\",\"week36\",\"week37\",\"week38\",\"week39\",\"week40\",\"week41\",\"week42\",\"week43\",\"week44\",\"week45\",\"week46\",\"week47\",\"week48\",\"week49\",\"week50\",\"week51\",\"week52\",\"week53\",\"week54\",\"week55\",\"week56\",\"week57\",\"week58\",\"week59\",\"week60\",\"week61\",\"week62\",\"week63\",\"week64\",\"week65\",\"week66\",\"week67\",\"week68\",\"week69\",\"week70\",\"week71\",\"week72\",\"week73\",\"week74\",\"week75\",\"week76\",\"week77\",\"week78\",\"week79\",\"week80\",\"week81\",\"week82\",\"week83\",\"week84\",\"week85\",\"week86\",\"week87\",\"week88\",\"week89\",\"week90\",\"week91\",\"week92\",\"week93\",\"week94\",\"week95\",\"week96\",\"week97\",\"week98\",\"week99\",\"week100\",\"week101\",\"week102\",\"week103\",\"week104\",\"week105\",\"week106\",\"week107\",\"week108\",\"week109\",\"week110\",\"week111\",\"week112\",\"week113\",\"week114\",\"week115\",\"week116\",\"week117\",\"week118\",\"week119\",\"week120\",\"week121\",\"week122\",\"week123\",\"week124\",\"week125\",\"week126\",\"week127\",\"week128\",\"week129\",\"week130\",\"week131\",\"week132\",\"week133\",\"week134\",\"week135\",\"week136\",\"week137\",\"week138\",\"week139\",\"week140\",\"week141\",\"week142\",\"week143\",\"week144\",\"week145\",\"week146\",\"week147\",\"week148\",\"week149\",\"week150\",\"week151\",\"week152\",\"week153\",\"week154\",\"week155\",\"week156\",\"week157\",\"week158\",\"week159\",\"week160\",\"week161\",\"week162\"],\"xaxis\":\"x\",\"y\":[2603.0,5691.0,5616.0,5676.0,5398.0,4980.0,3229.0,2958.0,6089.0,5917.0,5727.0,5391.0,4536.0,2695.0,3212.0,6277.0,6143.0,6095.0,6020.0,5482.0,3143.0,3259.0,6597.0,6865.0,6421.0,6412.0,5710.0,3093.0,3077.0,6949.0,6684.0,6042.0,5691.0,5321.0,3141.0,3036.0,5883.0,5927.0,5759.0,5330.0,4995.0,2876.0,2943.0,6309.0,6072.0,6179.0,5429.0,5651.0,2945.0,2362.0,3476.0,6506.0,6827.0,6270.0,5724.0,3321.0,3370.0,6673.0,6880.0,6545.0,6587.0,5881.0,3581.0,3485.0,6658.0,6818.0,6269.0,6053.0,5637.0,3460.0,3581.0,7076.0,6945.0,6522.0,6352.0,5689.0,3873.0,3612.0,6929.0,6902.0,6978.0,6841.0,6944.0,4432.0,3960.0,7795.0,6720.0,4704.0,7857.0,7087.0,4509.0,4438.0,8700.0,8665.0,8836.0,8466.0,8033.0,5007.0,4439.0,8779.0,8182.0,7234.0,5822.0,3024.0,1910.0,2771.0,6468.0,6011.0,5644.0,4811.0,2676.0,2016.0,3144.0,6162.0,6206.0,5413.0,3861.0,5780.0,4413.0,3763.0,7149.0,7698.0,7329.0,6897.0,6565.0,3944.0,3604.0,7194.0,6919.0,6825.0,6566.0,5869.0,3926.0,3467.0,6947.0,6550.0,6101.0,5887.0,5645.0,3513.0,3325.0,6920.0,6464.0,6237.0,5813.0,5214.0,3248.0,3134.0,6491.0,6650.0,6060.0,5710.0,4921.0,3291.0,2809.0,5792.0,6155.0,5788.0,5003.0,4696.0,3058.0,1398.0,0.0],\"yaxis\":\"y\",\"type\":\"scatter\"}],                        {\"template\":{\"data\":{\"histogram2dcontour\":[{\"type\":\"histogram2dcontour\",\"colorbar\":{\"outlinewidth\":0,\"ticks\":\"\"},\"colorscale\":[[0.0,\"#0d0887\"],[0.1111111111111111,\"#46039f\"],[0.2222222222222222,\"#7201a8\"],[0.3333333333333333,\"#9c179e\"],[0.4444444444444444,\"#bd3786\"],[0.5555555555555556,\"#d8576b\"],[0.6666666666666666,\"#ed7953\"],[0.7777777777777778,\"#fb9f3a\"],[0.8888888888888888,\"#fdca26\"],[1.0,\"#f0f921\"]]}],\"choropleth\":[{\"type\":\"choropleth\",\"colorbar\":{\"outlinewidth\":0,\"ticks\":\"\"}}],\"histogram2d\":[{\"type\":\"histogram2d\",\"colorbar\":{\"outlinewidth\":0,\"ticks\":\"\"},\"colorscale\":[[0.0,\"#0d0887\"],[0.1111111111111111,\"#46039f\"],[0.2222222222222222,\"#7201a8\"],[0.3333333333333333,\"#9c179e\"],[0.4444444444444444,\"#bd3786\"],[0.5555555555555556,\"#d8576b\"],[0.6666666666666666,\"#ed7953\"],[0.7777777777777778,\"#fb9f3a\"],[0.8888888888888888,\"#fdca26\"],[1.0,\"#f0f921\"]]}],\"heatmap\":[{\"type\":\"heatmap\",\"colorbar\":{\"outlinewidth\":0,\"ticks\":\"\"},\"colorscale\":[[0.0,\"#0d0887\"],[0.1111111111111111,\"#46039f\"],[0.2222222222222222,\"#7201a8\"],[0.3333333333333333,\"#9c179e\"],[0.4444444444444444,\"#bd3786\"],[0.5555555555555556,\"#d8576b\"],[0.6666666666666666,\"#ed7953\"],[0.7777777777777778,\"#fb9f3a\"],[0.8888888888888888,\"#fdca26\"],[1.0,\"#f0f921\"]]}],\"heatmapgl\":[{\"type\":\"heatmapgl\",\"colorbar\":{\"outlinewidth\":0,\"ticks\":\"\"},\"colorscale\":[[0.0,\"#0d0887\"],[0.1111111111111111,\"#46039f\"],[0.2222222222222222,\"#7201a8\"],[0.3333333333333333,\"#9c179e\"],[0.4444444444444444,\"#bd3786\"],[0.5555555555555556,\"#d8576b\"],[0.6666666666666666,\"#ed7953\"],[0.7777777777777778,\"#fb9f3a\"],[0.8888888888888888,\"#fdca26\"],[1.0,\"#f0f921\"]]}],\"contourcarpet\":[{\"type\":\"contourcarpet\",\"colorbar\":{\"outlinewidth\":0,\"ticks\":\"\"}}],\"contour\":[{\"type\":\"contour\",\"colorbar\":{\"outlinewidth\":0,\"ticks\":\"\"},\"colorscale\":[[0.0,\"#0d0887\"],[0.1111111111111111,\"#46039f\"],[0.2222222222222222,\"#7201a8\"],[0.3333333333333333,\"#9c179e\"],[0.4444444444444444,\"#bd3786\"],[0.5555555555555556,\"#d8576b\"],[0.6666666666666666,\"#ed7953\"],[0.7777777777777778,\"#fb9f3a\"],[0.8888888888888888,\"#fdca26\"],[1.0,\"#f0f921\"]]}],\"surface\":[{\"type\":\"surface\",\"colorbar\":{\"outlinewidth\":0,\"ticks\":\"\"},\"colorscale\":[[0.0,\"#0d0887\"],[0.1111111111111111,\"#46039f\"],[0.2222222222222222,\"#7201a8\"],[0.3333333333333333,\"#9c179e\"],[0.4444444444444444,\"#bd3786\"],[0.5555555555555556,\"#d8576b\"],[0.6666666666666666,\"#ed7953\"],[0.7777777777777778,\"#fb9f3a\"],[0.8888888888888888,\"#fdca26\"],[1.0,\"#f0f921\"]]}],\"mesh3d\":[{\"type\":\"mesh3d\",\"colorbar\":{\"outlinewidth\":0,\"ticks\":\"\"}}],\"scatter\":[{\"fillpattern\":{\"fillmode\":\"overlay\",\"size\":10,\"solidity\":0.2},\"type\":\"scatter\"}],\"parcoords\":[{\"type\":\"parcoords\",\"line\":{\"colorbar\":{\"outlinewidth\":0,\"ticks\":\"\"}}}],\"scatterpolargl\":[{\"type\":\"scatterpolargl\",\"marker\":{\"colorbar\":{\"outlinewidth\":0,\"ticks\":\"\"}}}],\"bar\":[{\"error_x\":{\"color\":\"#2a3f5f\"},\"error_y\":{\"color\":\"#2a3f5f\"},\"marker\":{\"line\":{\"color\":\"#E5ECF6\",\"width\":0.5},\"pattern\":{\"fillmode\":\"overlay\",\"size\":10,\"solidity\":0.2}},\"type\":\"bar\"}],\"scattergeo\":[{\"type\":\"scattergeo\",\"marker\":{\"colorbar\":{\"outlinewidth\":0,\"ticks\":\"\"}}}],\"scatterpolar\":[{\"type\":\"scatterpolar\",\"marker\":{\"colorbar\":{\"outlinewidth\":0,\"ticks\":\"\"}}}],\"histogram\":[{\"marker\":{\"pattern\":{\"fillmode\":\"overlay\",\"size\":10,\"solidity\":0.2}},\"type\":\"histogram\"}],\"scattergl\":[{\"type\":\"scattergl\",\"marker\":{\"colorbar\":{\"outlinewidth\":0,\"ticks\":\"\"}}}],\"scatter3d\":[{\"type\":\"scatter3d\",\"line\":{\"colorbar\":{\"outlinewidth\":0,\"ticks\":\"\"}},\"marker\":{\"colorbar\":{\"outlinewidth\":0,\"ticks\":\"\"}}}],\"scattermapbox\":[{\"type\":\"scattermapbox\",\"marker\":{\"colorbar\":{\"outlinewidth\":0,\"ticks\":\"\"}}}],\"scatterternary\":[{\"type\":\"scatterternary\",\"marker\":{\"colorbar\":{\"outlinewidth\":0,\"ticks\":\"\"}}}],\"scattercarpet\":[{\"type\":\"scattercarpet\",\"marker\":{\"colorbar\":{\"outlinewidth\":0,\"ticks\":\"\"}}}],\"carpet\":[{\"aaxis\":{\"endlinecolor\":\"#2a3f5f\",\"gridcolor\":\"white\",\"linecolor\":\"white\",\"minorgridcolor\":\"white\",\"startlinecolor\":\"#2a3f5f\"},\"baxis\":{\"endlinecolor\":\"#2a3f5f\",\"gridcolor\":\"white\",\"linecolor\":\"white\",\"minorgridcolor\":\"white\",\"startlinecolor\":\"#2a3f5f\"},\"type\":\"carpet\"}],\"table\":[{\"cells\":{\"fill\":{\"color\":\"#EBF0F8\"},\"line\":{\"color\":\"white\"}},\"header\":{\"fill\":{\"color\":\"#C8D4E3\"},\"line\":{\"color\":\"white\"}},\"type\":\"table\"}],\"barpolar\":[{\"marker\":{\"line\":{\"color\":\"#E5ECF6\",\"width\":0.5},\"pattern\":{\"fillmode\":\"overlay\",\"size\":10,\"solidity\":0.2}},\"type\":\"barpolar\"}],\"pie\":[{\"automargin\":true,\"type\":\"pie\"}]},\"layout\":{\"autotypenumbers\":\"strict\",\"colorway\":[\"#636efa\",\"#EF553B\",\"#00cc96\",\"#ab63fa\",\"#FFA15A\",\"#19d3f3\",\"#FF6692\",\"#B6E880\",\"#FF97FF\",\"#FECB52\"],\"font\":{\"color\":\"#2a3f5f\"},\"hovermode\":\"closest\",\"hoverlabel\":{\"align\":\"left\"},\"paper_bgcolor\":\"white\",\"plot_bgcolor\":\"#E5ECF6\",\"polar\":{\"bgcolor\":\"#E5ECF6\",\"angularaxis\":{\"gridcolor\":\"white\",\"linecolor\":\"white\",\"ticks\":\"\"},\"radialaxis\":{\"gridcolor\":\"white\",\"linecolor\":\"white\",\"ticks\":\"\"}},\"ternary\":{\"bgcolor\":\"#E5ECF6\",\"aaxis\":{\"gridcolor\":\"white\",\"linecolor\":\"white\",\"ticks\":\"\"},\"baxis\":{\"gridcolor\":\"white\",\"linecolor\":\"white\",\"ticks\":\"\"},\"caxis\":{\"gridcolor\":\"white\",\"linecolor\":\"white\",\"ticks\":\"\"}},\"coloraxis\":{\"colorbar\":{\"outlinewidth\":0,\"ticks\":\"\"}},\"colorscale\":{\"sequential\":[[0.0,\"#0d0887\"],[0.1111111111111111,\"#46039f\"],[0.2222222222222222,\"#7201a8\"],[0.3333333333333333,\"#9c179e\"],[0.4444444444444444,\"#bd3786\"],[0.5555555555555556,\"#d8576b\"],[0.6666666666666666,\"#ed7953\"],[0.7777777777777778,\"#fb9f3a\"],[0.8888888888888888,\"#fdca26\"],[1.0,\"#f0f921\"]],\"sequentialminus\":[[0.0,\"#0d0887\"],[0.1111111111111111,\"#46039f\"],[0.2222222222222222,\"#7201a8\"],[0.3333333333333333,\"#9c179e\"],[0.4444444444444444,\"#bd3786\"],[0.5555555555555556,\"#d8576b\"],[0.6666666666666666,\"#ed7953\"],[0.7777777777777778,\"#fb9f3a\"],[0.8888888888888888,\"#fdca26\"],[1.0,\"#f0f921\"]],\"diverging\":[[0,\"#8e0152\"],[0.1,\"#c51b7d\"],[0.2,\"#de77ae\"],[0.3,\"#f1b6da\"],[0.4,\"#fde0ef\"],[0.5,\"#f7f7f7\"],[0.6,\"#e6f5d0\"],[0.7,\"#b8e186\"],[0.8,\"#7fbc41\"],[0.9,\"#4d9221\"],[1,\"#276419\"]]},\"xaxis\":{\"gridcolor\":\"white\",\"linecolor\":\"white\",\"ticks\":\"\",\"title\":{\"standoff\":15},\"zerolinecolor\":\"white\",\"automargin\":true,\"zerolinewidth\":2},\"yaxis\":{\"gridcolor\":\"white\",\"linecolor\":\"white\",\"ticks\":\"\",\"title\":{\"standoff\":15},\"zerolinecolor\":\"white\",\"automargin\":true,\"zerolinewidth\":2},\"scene\":{\"xaxis\":{\"backgroundcolor\":\"#E5ECF6\",\"gridcolor\":\"white\",\"linecolor\":\"white\",\"showbackground\":true,\"ticks\":\"\",\"zerolinecolor\":\"white\",\"gridwidth\":2},\"yaxis\":{\"backgroundcolor\":\"#E5ECF6\",\"gridcolor\":\"white\",\"linecolor\":\"white\",\"showbackground\":true,\"ticks\":\"\",\"zerolinecolor\":\"white\",\"gridwidth\":2},\"zaxis\":{\"backgroundcolor\":\"#E5ECF6\",\"gridcolor\":\"white\",\"linecolor\":\"white\",\"showbackground\":true,\"ticks\":\"\",\"zerolinecolor\":\"white\",\"gridwidth\":2}},\"shapedefaults\":{\"line\":{\"color\":\"#2a3f5f\"}},\"annotationdefaults\":{\"arrowcolor\":\"#2a3f5f\",\"arrowhead\":0,\"arrowwidth\":1},\"geo\":{\"bgcolor\":\"white\",\"landcolor\":\"#E5ECF6\",\"subunitcolor\":\"white\",\"showland\":true,\"showlakes\":true,\"lakecolor\":\"white\"},\"title\":{\"x\":0.05},\"mapbox\":{\"style\":\"light\"}}},\"xaxis\":{\"anchor\":\"y\",\"domain\":[0.0,1.0],\"title\":{\"text\":\"week\"}},\"yaxis\":{\"anchor\":\"x\",\"domain\":[0.0,1.0],\"title\":{\"text\":\"value\"}},\"legend\":{\"title\":{\"text\":\"variable\"},\"tracegroupgap\":0},\"margin\":{\"t\":60}},                        {\"responsive\": true}                    ).then(function(){\n",
       "                            \n",
       "var gd = document.getElementById('f51d0ab3-7587-4016-ab47-0ed3f3326e2a');\n",
       "var x = new MutationObserver(function (mutations, observer) {{\n",
       "        var display = window.getComputedStyle(gd).display;\n",
       "        if (!display || display === 'none') {{\n",
       "            console.log([gd, 'removed!']);\n",
       "            Plotly.purge(gd);\n",
       "            observer.disconnect();\n",
       "        }}\n",
       "}});\n",
       "\n",
       "// Listen for the removal of the full notebook cells\n",
       "var notebookContainer = gd.closest('#notebook-container');\n",
       "if (notebookContainer) {{\n",
       "    x.observe(notebookContainer, {childList: true});\n",
       "}}\n",
       "\n",
       "// Listen for the clearing of the current output cell\n",
       "var outputEl = gd.closest('.output');\n",
       "if (outputEl) {{\n",
       "    x.observe(outputEl, {childList: true});\n",
       "}}\n",
       "\n",
       "                        })                };                });            </script>        </div>"
      ]
     },
     "metadata": {},
     "output_type": "display_data"
    }
   ],
   "source": [
    "fig = px.line(dataframe, x='week', y = dataframe.columns)\n",
    "fig.show()"
   ]
  },
  {
   "cell_type": "markdown",
   "id": "319c6303",
   "metadata": {},
   "source": [
    "We can already see that expenditure on 'google_organico' is highly co-orelated with the revenue"
   ]
  },
  {
   "cell_type": "code",
   "execution_count": 107,
   "id": "260cf29e",
   "metadata": {},
   "outputs": [
    {
     "data": {
      "text/html": [
       "<div>\n",
       "<style scoped>\n",
       "    .dataframe tbody tr th:only-of-type {\n",
       "        vertical-align: middle;\n",
       "    }\n",
       "\n",
       "    .dataframe tbody tr th {\n",
       "        vertical-align: top;\n",
       "    }\n",
       "\n",
       "    .dataframe thead th {\n",
       "        text-align: right;\n",
       "    }\n",
       "</style>\n",
       "<table border=\"1\" class=\"dataframe\">\n",
       "  <thead>\n",
       "    <tr style=\"text-align: right;\">\n",
       "      <th></th>\n",
       "      <th>revenue</th>\n",
       "      <th>google_search_spent</th>\n",
       "      <th>google_performance_max_spent</th>\n",
       "      <th>fb_retargeting_spent</th>\n",
       "      <th>fb_prospecting_spent</th>\n",
       "      <th>google_organico</th>\n",
       "    </tr>\n",
       "  </thead>\n",
       "  <tbody>\n",
       "    <tr>\n",
       "      <th>revenue</th>\n",
       "      <td>1.000000</td>\n",
       "      <td>0.448790</td>\n",
       "      <td>0.198876</td>\n",
       "      <td>0.215785</td>\n",
       "      <td>0.183129</td>\n",
       "      <td>0.697560</td>\n",
       "    </tr>\n",
       "    <tr>\n",
       "      <th>google_search_spent</th>\n",
       "      <td>0.448790</td>\n",
       "      <td>1.000000</td>\n",
       "      <td>0.597335</td>\n",
       "      <td>0.334000</td>\n",
       "      <td>0.247573</td>\n",
       "      <td>0.552363</td>\n",
       "    </tr>\n",
       "    <tr>\n",
       "      <th>google_performance_max_spent</th>\n",
       "      <td>0.198876</td>\n",
       "      <td>0.597335</td>\n",
       "      <td>1.000000</td>\n",
       "      <td>0.196233</td>\n",
       "      <td>0.304486</td>\n",
       "      <td>0.234278</td>\n",
       "    </tr>\n",
       "    <tr>\n",
       "      <th>fb_retargeting_spent</th>\n",
       "      <td>0.215785</td>\n",
       "      <td>0.334000</td>\n",
       "      <td>0.196233</td>\n",
       "      <td>1.000000</td>\n",
       "      <td>0.855595</td>\n",
       "      <td>0.102636</td>\n",
       "    </tr>\n",
       "    <tr>\n",
       "      <th>fb_prospecting_spent</th>\n",
       "      <td>0.183129</td>\n",
       "      <td>0.247573</td>\n",
       "      <td>0.304486</td>\n",
       "      <td>0.855595</td>\n",
       "      <td>1.000000</td>\n",
       "      <td>0.040979</td>\n",
       "    </tr>\n",
       "    <tr>\n",
       "      <th>google_organico</th>\n",
       "      <td>0.697560</td>\n",
       "      <td>0.552363</td>\n",
       "      <td>0.234278</td>\n",
       "      <td>0.102636</td>\n",
       "      <td>0.040979</td>\n",
       "      <td>1.000000</td>\n",
       "    </tr>\n",
       "  </tbody>\n",
       "</table>\n",
       "</div>"
      ],
      "text/plain": [
       "                               revenue  google_search_spent  \\\n",
       "revenue                       1.000000             0.448790   \n",
       "google_search_spent           0.448790             1.000000   \n",
       "google_performance_max_spent  0.198876             0.597335   \n",
       "fb_retargeting_spent          0.215785             0.334000   \n",
       "fb_prospecting_spent          0.183129             0.247573   \n",
       "google_organico               0.697560             0.552363   \n",
       "\n",
       "                              google_performance_max_spent  \\\n",
       "revenue                                           0.198876   \n",
       "google_search_spent                               0.597335   \n",
       "google_performance_max_spent                      1.000000   \n",
       "fb_retargeting_spent                              0.196233   \n",
       "fb_prospecting_spent                              0.304486   \n",
       "google_organico                                   0.234278   \n",
       "\n",
       "                              fb_retargeting_spent  fb_prospecting_spent  \\\n",
       "revenue                                   0.215785              0.183129   \n",
       "google_search_spent                       0.334000              0.247573   \n",
       "google_performance_max_spent              0.196233              0.304486   \n",
       "fb_retargeting_spent                      1.000000              0.855595   \n",
       "fb_prospecting_spent                      0.855595              1.000000   \n",
       "google_organico                           0.102636              0.040979   \n",
       "\n",
       "                              google_organico  \n",
       "revenue                              0.697560  \n",
       "google_search_spent                  0.552363  \n",
       "google_performance_max_spent         0.234278  \n",
       "fb_retargeting_spent                 0.102636  \n",
       "fb_prospecting_spent                 0.040979  \n",
       "google_organico                      1.000000  "
      ]
     },
     "execution_count": 107,
     "metadata": {},
     "output_type": "execute_result"
    }
   ],
   "source": [
    "dataframe.corr()"
   ]
  },
  {
   "cell_type": "code",
   "execution_count": 108,
   "id": "2bc39341",
   "metadata": {},
   "outputs": [],
   "source": [
    "fig1 = px.scatter(dataframe, x='fb_prospecting_spent', y='revenue') \n",
    "fig2 = px.scatter(dataframe, x='fb_retargeting_spent', y='revenue')\n",
    "fig3 = px.scatter(dataframe, x='google_performance_max_spent', y='revenue')\n",
    "fig4 = px.scatter(dataframe, x='google_search_spent', y='revenue')\n",
    "fig5 = px.scatter(dataframe, x='google_organico', y='revenue')\n",
    "fig6 = px.scatter(dataframe, x='google_performance_max_spent', y='revenue')"
   ]
  },
  {
   "cell_type": "code",
   "execution_count": 109,
   "id": "5e5a6dd9",
   "metadata": {},
   "outputs": [
    {
     "data": {
      "application/vnd.plotly.v1+json": {
       "config": {
        "plotlyServerURL": "https://plot.ly"
       },
       "data": [
        {
         "hovertemplate": "fb_prospecting_spent=%{x}<br>revenue=%{y}<extra></extra>",
         "legendgroup": "",
         "marker": {
          "color": "#636efa",
          "symbol": "circle"
         },
         "mode": "markers",
         "name": "",
         "orientation": "v",
         "showlegend": false,
         "type": "scatter",
         "x": [
          31.48,
          29.61,
          30.09,
          30.08,
          31.03,
          31.46,
          34.1,
          31.51,
          31.32,
          30.55,
          29.6,
          31.18,
          34.9,
          34.86,
          31.08,
          29.05,
          31.41,
          30.65,
          9.87,
          11.46,
          11.58,
          12.69,
          8.2,
          11.16,
          11.12,
          12.89,
          12.44,
          12.59,
          12.5,
          12.04,
          11.02,
          34.56,
          33.99,
          34.56,
          35.37,
          32.38,
          31.09,
          29.65,
          29.56,
          30.67,
          32.59,
          35.21,
          31.43,
          30.81,
          30.17,
          19.54,
          13.67,
          13.34,
          13.7,
          14.16,
          12.25,
          11.72,
          14.42,
          13.43,
          16.17,
          14.91,
          13.98,
          12.18,
          11.58,
          12.36,
          14.25,
          13.07,
          13.82,
          13.71,
          12.7,
          13.77,
          8.51,
          11.99,
          14.99,
          16.48,
          16.71,
          23.16,
          30.03,
          30.29,
          31.78,
          31.46,
          34.48,
          31.66,
          31.47,
          32.19,
          30.83,
          32.19,
          31.55,
          9.49,
          0,
          25.12,
          25.04,
          33.18,
          35.83,
          36.63,
          36.74,
          33.08,
          33.56,
          33.31,
          30.15,
          32.63,
          32.73,
          35.33,
          33.61,
          32.93,
          32.77,
          32.57,
          31.73,
          33.05,
          35.94,
          33.74,
          32.91,
          32.8,
          31.86,
          33.04,
          32.16,
          24.25,
          21.73,
          22.23,
          21.06,
          21.08,
          21.79,
          22.19,
          23.92,
          21.4,
          21.55,
          21.78,
          21.68,
          21.39,
          22.06,
          24.14,
          21.31,
          22.32,
          21.03,
          26.24,
          30.11,
          30.53,
          33.75,
          30.58,
          30.49,
          30.32,
          31.1,
          30.63,
          30.69,
          33.25,
          31.74,
          31.05,
          30.36,
          29.96,
          30.2,
          31.82,
          33.35,
          29.46,
          30.46,
          29.77,
          29.98,
          30.47,
          30.78,
          34.01,
          31.07,
          30.57,
          29.9,
          29.78,
          30.44,
          31.06,
          33.75,
          30.59,
          2.13
         ],
         "xaxis": "x",
         "y": [
          2461.81,
          6918.33,
          5101.67,
          5335.02,
          4384.38,
          2564.39,
          1507.22,
          3035.38,
          6164.88,
          5666.57,
          5529.19,
          4364.27,
          3441.28,
          1503.72,
          3075.01,
          7223.64,
          6191.63,
          6401.52,
          6006.66,
          3259.89,
          2036.57,
          2537.66,
          5131.19,
          5867.37,
          5541.04,
          4897.76,
          3133.15,
          1820.66,
          2907.35,
          6008.83,
          5485.87,
          5291.73,
          4846.12,
          3644.88,
          1870.71,
          3446.23,
          6795.43,
          5735.92,
          5906.51,
          5183.68,
          3128.48,
          1754.73,
          3043.88,
          5978.04,
          6321.35,
          6043.38,
          4429.38,
          2202.1,
          1740.83,
          1502.6,
          3861.43,
          6534.55,
          5504.45,
          5211.69,
          4218.57,
          2450.73,
          3373.6,
          6543.42,
          6254.53,
          6275.99,
          4800.1,
          2938.72,
          1883.86,
          3064.84,
          5960.51,
          6200.39,
          6126.07,
          4558.39,
          2533.53,
          1489.06,
          3292.68,
          6994.01,
          5961.43,
          5353.82,
          17697.95,
          13613.81,
          2402.75,
          3436.36,
          6987.25,
          4960.64,
          5485.93,
          5306.16,
          5301.18,
          2587.16,
          4190.47,
          7525.98,
          6415.08,
          4915.72,
          7788.17,
          6990.86,
          3055.72,
          4843.64,
          10482.65,
          10581.56,
          9520.25,
          10487.03,
          7024.91,
          3420.89,
          5850.73,
          26047.24,
          20130.25,
          5793.67,
          3231.42,
          1450.1,
          731.38,
          2075.78,
          6543.32,
          7426.74,
          4921.18,
          6507.9,
          1699.36,
          1334.25,
          2450.69,
          5677.11,
          5337.76,
          3523.35,
          2951.59,
          3990.13,
          3120.34,
          3141.9,
          7159.45,
          6919.14,
          5980.13,
          5737.6,
          4374.84,
          2179.55,
          3599.79,
          7773.84,
          7728.56,
          7172.95,
          5583.26,
          3689.49,
          2148.72,
          2861.71,
          6677.14,
          6894.49,
          6107.54,
          6592.92,
          4045.78,
          5824.62,
          3219.01,
          8797.88,
          7117.38,
          5999.78,
          5045.91,
          4362.41,
          1849.98,
          3422.41,
          7877.16,
          6893.43,
          6278.3,
          6400.52,
          3921.14,
          2325.44,
          3174.37,
          7166.95,
          7475.88,
          5648.14,
          6061.37,
          3722.15,
          2670.47,
          3385.87,
          372.27
         ],
         "yaxis": "y"
        }
       ],
       "layout": {
        "legend": {
         "tracegroupgap": 0
        },
        "margin": {
         "t": 60
        },
        "template": {
         "data": {
          "bar": [
           {
            "error_x": {
             "color": "#2a3f5f"
            },
            "error_y": {
             "color": "#2a3f5f"
            },
            "marker": {
             "line": {
              "color": "#E5ECF6",
              "width": 0.5
             },
             "pattern": {
              "fillmode": "overlay",
              "size": 10,
              "solidity": 0.2
             }
            },
            "type": "bar"
           }
          ],
          "barpolar": [
           {
            "marker": {
             "line": {
              "color": "#E5ECF6",
              "width": 0.5
             },
             "pattern": {
              "fillmode": "overlay",
              "size": 10,
              "solidity": 0.2
             }
            },
            "type": "barpolar"
           }
          ],
          "carpet": [
           {
            "aaxis": {
             "endlinecolor": "#2a3f5f",
             "gridcolor": "white",
             "linecolor": "white",
             "minorgridcolor": "white",
             "startlinecolor": "#2a3f5f"
            },
            "baxis": {
             "endlinecolor": "#2a3f5f",
             "gridcolor": "white",
             "linecolor": "white",
             "minorgridcolor": "white",
             "startlinecolor": "#2a3f5f"
            },
            "type": "carpet"
           }
          ],
          "choropleth": [
           {
            "colorbar": {
             "outlinewidth": 0,
             "ticks": ""
            },
            "type": "choropleth"
           }
          ],
          "contour": [
           {
            "colorbar": {
             "outlinewidth": 0,
             "ticks": ""
            },
            "colorscale": [
             [
              0,
              "#0d0887"
             ],
             [
              0.1111111111111111,
              "#46039f"
             ],
             [
              0.2222222222222222,
              "#7201a8"
             ],
             [
              0.3333333333333333,
              "#9c179e"
             ],
             [
              0.4444444444444444,
              "#bd3786"
             ],
             [
              0.5555555555555556,
              "#d8576b"
             ],
             [
              0.6666666666666666,
              "#ed7953"
             ],
             [
              0.7777777777777778,
              "#fb9f3a"
             ],
             [
              0.8888888888888888,
              "#fdca26"
             ],
             [
              1,
              "#f0f921"
             ]
            ],
            "type": "contour"
           }
          ],
          "contourcarpet": [
           {
            "colorbar": {
             "outlinewidth": 0,
             "ticks": ""
            },
            "type": "contourcarpet"
           }
          ],
          "heatmap": [
           {
            "colorbar": {
             "outlinewidth": 0,
             "ticks": ""
            },
            "colorscale": [
             [
              0,
              "#0d0887"
             ],
             [
              0.1111111111111111,
              "#46039f"
             ],
             [
              0.2222222222222222,
              "#7201a8"
             ],
             [
              0.3333333333333333,
              "#9c179e"
             ],
             [
              0.4444444444444444,
              "#bd3786"
             ],
             [
              0.5555555555555556,
              "#d8576b"
             ],
             [
              0.6666666666666666,
              "#ed7953"
             ],
             [
              0.7777777777777778,
              "#fb9f3a"
             ],
             [
              0.8888888888888888,
              "#fdca26"
             ],
             [
              1,
              "#f0f921"
             ]
            ],
            "type": "heatmap"
           }
          ],
          "heatmapgl": [
           {
            "colorbar": {
             "outlinewidth": 0,
             "ticks": ""
            },
            "colorscale": [
             [
              0,
              "#0d0887"
             ],
             [
              0.1111111111111111,
              "#46039f"
             ],
             [
              0.2222222222222222,
              "#7201a8"
             ],
             [
              0.3333333333333333,
              "#9c179e"
             ],
             [
              0.4444444444444444,
              "#bd3786"
             ],
             [
              0.5555555555555556,
              "#d8576b"
             ],
             [
              0.6666666666666666,
              "#ed7953"
             ],
             [
              0.7777777777777778,
              "#fb9f3a"
             ],
             [
              0.8888888888888888,
              "#fdca26"
             ],
             [
              1,
              "#f0f921"
             ]
            ],
            "type": "heatmapgl"
           }
          ],
          "histogram": [
           {
            "marker": {
             "pattern": {
              "fillmode": "overlay",
              "size": 10,
              "solidity": 0.2
             }
            },
            "type": "histogram"
           }
          ],
          "histogram2d": [
           {
            "colorbar": {
             "outlinewidth": 0,
             "ticks": ""
            },
            "colorscale": [
             [
              0,
              "#0d0887"
             ],
             [
              0.1111111111111111,
              "#46039f"
             ],
             [
              0.2222222222222222,
              "#7201a8"
             ],
             [
              0.3333333333333333,
              "#9c179e"
             ],
             [
              0.4444444444444444,
              "#bd3786"
             ],
             [
              0.5555555555555556,
              "#d8576b"
             ],
             [
              0.6666666666666666,
              "#ed7953"
             ],
             [
              0.7777777777777778,
              "#fb9f3a"
             ],
             [
              0.8888888888888888,
              "#fdca26"
             ],
             [
              1,
              "#f0f921"
             ]
            ],
            "type": "histogram2d"
           }
          ],
          "histogram2dcontour": [
           {
            "colorbar": {
             "outlinewidth": 0,
             "ticks": ""
            },
            "colorscale": [
             [
              0,
              "#0d0887"
             ],
             [
              0.1111111111111111,
              "#46039f"
             ],
             [
              0.2222222222222222,
              "#7201a8"
             ],
             [
              0.3333333333333333,
              "#9c179e"
             ],
             [
              0.4444444444444444,
              "#bd3786"
             ],
             [
              0.5555555555555556,
              "#d8576b"
             ],
             [
              0.6666666666666666,
              "#ed7953"
             ],
             [
              0.7777777777777778,
              "#fb9f3a"
             ],
             [
              0.8888888888888888,
              "#fdca26"
             ],
             [
              1,
              "#f0f921"
             ]
            ],
            "type": "histogram2dcontour"
           }
          ],
          "mesh3d": [
           {
            "colorbar": {
             "outlinewidth": 0,
             "ticks": ""
            },
            "type": "mesh3d"
           }
          ],
          "parcoords": [
           {
            "line": {
             "colorbar": {
              "outlinewidth": 0,
              "ticks": ""
             }
            },
            "type": "parcoords"
           }
          ],
          "pie": [
           {
            "automargin": true,
            "type": "pie"
           }
          ],
          "scatter": [
           {
            "fillpattern": {
             "fillmode": "overlay",
             "size": 10,
             "solidity": 0.2
            },
            "type": "scatter"
           }
          ],
          "scatter3d": [
           {
            "line": {
             "colorbar": {
              "outlinewidth": 0,
              "ticks": ""
             }
            },
            "marker": {
             "colorbar": {
              "outlinewidth": 0,
              "ticks": ""
             }
            },
            "type": "scatter3d"
           }
          ],
          "scattercarpet": [
           {
            "marker": {
             "colorbar": {
              "outlinewidth": 0,
              "ticks": ""
             }
            },
            "type": "scattercarpet"
           }
          ],
          "scattergeo": [
           {
            "marker": {
             "colorbar": {
              "outlinewidth": 0,
              "ticks": ""
             }
            },
            "type": "scattergeo"
           }
          ],
          "scattergl": [
           {
            "marker": {
             "colorbar": {
              "outlinewidth": 0,
              "ticks": ""
             }
            },
            "type": "scattergl"
           }
          ],
          "scattermapbox": [
           {
            "marker": {
             "colorbar": {
              "outlinewidth": 0,
              "ticks": ""
             }
            },
            "type": "scattermapbox"
           }
          ],
          "scatterpolar": [
           {
            "marker": {
             "colorbar": {
              "outlinewidth": 0,
              "ticks": ""
             }
            },
            "type": "scatterpolar"
           }
          ],
          "scatterpolargl": [
           {
            "marker": {
             "colorbar": {
              "outlinewidth": 0,
              "ticks": ""
             }
            },
            "type": "scatterpolargl"
           }
          ],
          "scatterternary": [
           {
            "marker": {
             "colorbar": {
              "outlinewidth": 0,
              "ticks": ""
             }
            },
            "type": "scatterternary"
           }
          ],
          "surface": [
           {
            "colorbar": {
             "outlinewidth": 0,
             "ticks": ""
            },
            "colorscale": [
             [
              0,
              "#0d0887"
             ],
             [
              0.1111111111111111,
              "#46039f"
             ],
             [
              0.2222222222222222,
              "#7201a8"
             ],
             [
              0.3333333333333333,
              "#9c179e"
             ],
             [
              0.4444444444444444,
              "#bd3786"
             ],
             [
              0.5555555555555556,
              "#d8576b"
             ],
             [
              0.6666666666666666,
              "#ed7953"
             ],
             [
              0.7777777777777778,
              "#fb9f3a"
             ],
             [
              0.8888888888888888,
              "#fdca26"
             ],
             [
              1,
              "#f0f921"
             ]
            ],
            "type": "surface"
           }
          ],
          "table": [
           {
            "cells": {
             "fill": {
              "color": "#EBF0F8"
             },
             "line": {
              "color": "white"
             }
            },
            "header": {
             "fill": {
              "color": "#C8D4E3"
             },
             "line": {
              "color": "white"
             }
            },
            "type": "table"
           }
          ]
         },
         "layout": {
          "annotationdefaults": {
           "arrowcolor": "#2a3f5f",
           "arrowhead": 0,
           "arrowwidth": 1
          },
          "autotypenumbers": "strict",
          "coloraxis": {
           "colorbar": {
            "outlinewidth": 0,
            "ticks": ""
           }
          },
          "colorscale": {
           "diverging": [
            [
             0,
             "#8e0152"
            ],
            [
             0.1,
             "#c51b7d"
            ],
            [
             0.2,
             "#de77ae"
            ],
            [
             0.3,
             "#f1b6da"
            ],
            [
             0.4,
             "#fde0ef"
            ],
            [
             0.5,
             "#f7f7f7"
            ],
            [
             0.6,
             "#e6f5d0"
            ],
            [
             0.7,
             "#b8e186"
            ],
            [
             0.8,
             "#7fbc41"
            ],
            [
             0.9,
             "#4d9221"
            ],
            [
             1,
             "#276419"
            ]
           ],
           "sequential": [
            [
             0,
             "#0d0887"
            ],
            [
             0.1111111111111111,
             "#46039f"
            ],
            [
             0.2222222222222222,
             "#7201a8"
            ],
            [
             0.3333333333333333,
             "#9c179e"
            ],
            [
             0.4444444444444444,
             "#bd3786"
            ],
            [
             0.5555555555555556,
             "#d8576b"
            ],
            [
             0.6666666666666666,
             "#ed7953"
            ],
            [
             0.7777777777777778,
             "#fb9f3a"
            ],
            [
             0.8888888888888888,
             "#fdca26"
            ],
            [
             1,
             "#f0f921"
            ]
           ],
           "sequentialminus": [
            [
             0,
             "#0d0887"
            ],
            [
             0.1111111111111111,
             "#46039f"
            ],
            [
             0.2222222222222222,
             "#7201a8"
            ],
            [
             0.3333333333333333,
             "#9c179e"
            ],
            [
             0.4444444444444444,
             "#bd3786"
            ],
            [
             0.5555555555555556,
             "#d8576b"
            ],
            [
             0.6666666666666666,
             "#ed7953"
            ],
            [
             0.7777777777777778,
             "#fb9f3a"
            ],
            [
             0.8888888888888888,
             "#fdca26"
            ],
            [
             1,
             "#f0f921"
            ]
           ]
          },
          "colorway": [
           "#636efa",
           "#EF553B",
           "#00cc96",
           "#ab63fa",
           "#FFA15A",
           "#19d3f3",
           "#FF6692",
           "#B6E880",
           "#FF97FF",
           "#FECB52"
          ],
          "font": {
           "color": "#2a3f5f"
          },
          "geo": {
           "bgcolor": "white",
           "lakecolor": "white",
           "landcolor": "#E5ECF6",
           "showlakes": true,
           "showland": true,
           "subunitcolor": "white"
          },
          "hoverlabel": {
           "align": "left"
          },
          "hovermode": "closest",
          "mapbox": {
           "style": "light"
          },
          "paper_bgcolor": "white",
          "plot_bgcolor": "#E5ECF6",
          "polar": {
           "angularaxis": {
            "gridcolor": "white",
            "linecolor": "white",
            "ticks": ""
           },
           "bgcolor": "#E5ECF6",
           "radialaxis": {
            "gridcolor": "white",
            "linecolor": "white",
            "ticks": ""
           }
          },
          "scene": {
           "xaxis": {
            "backgroundcolor": "#E5ECF6",
            "gridcolor": "white",
            "gridwidth": 2,
            "linecolor": "white",
            "showbackground": true,
            "ticks": "",
            "zerolinecolor": "white"
           },
           "yaxis": {
            "backgroundcolor": "#E5ECF6",
            "gridcolor": "white",
            "gridwidth": 2,
            "linecolor": "white",
            "showbackground": true,
            "ticks": "",
            "zerolinecolor": "white"
           },
           "zaxis": {
            "backgroundcolor": "#E5ECF6",
            "gridcolor": "white",
            "gridwidth": 2,
            "linecolor": "white",
            "showbackground": true,
            "ticks": "",
            "zerolinecolor": "white"
           }
          },
          "shapedefaults": {
           "line": {
            "color": "#2a3f5f"
           }
          },
          "ternary": {
           "aaxis": {
            "gridcolor": "white",
            "linecolor": "white",
            "ticks": ""
           },
           "baxis": {
            "gridcolor": "white",
            "linecolor": "white",
            "ticks": ""
           },
           "bgcolor": "#E5ECF6",
           "caxis": {
            "gridcolor": "white",
            "linecolor": "white",
            "ticks": ""
           }
          },
          "title": {
           "x": 0.05
          },
          "xaxis": {
           "automargin": true,
           "gridcolor": "white",
           "linecolor": "white",
           "ticks": "",
           "title": {
            "standoff": 15
           },
           "zerolinecolor": "white",
           "zerolinewidth": 2
          },
          "yaxis": {
           "automargin": true,
           "gridcolor": "white",
           "linecolor": "white",
           "ticks": "",
           "title": {
            "standoff": 15
           },
           "zerolinecolor": "white",
           "zerolinewidth": 2
          }
         }
        },
        "xaxis": {
         "anchor": "y",
         "domain": [
          0,
          1
         ],
         "title": {
          "text": "fb_prospecting_spent"
         }
        },
        "yaxis": {
         "anchor": "x",
         "domain": [
          0,
          1
         ],
         "title": {
          "text": "revenue"
         }
        }
       }
      },
      "text/html": [
       "<div>                            <div id=\"701ea256-b339-4a50-a87d-8d888d9856ae\" class=\"plotly-graph-div\" style=\"height:525px; width:100%;\"></div>            <script type=\"text/javascript\">                require([\"plotly\"], function(Plotly) {                    window.PLOTLYENV=window.PLOTLYENV || {};                                    if (document.getElementById(\"701ea256-b339-4a50-a87d-8d888d9856ae\")) {                    Plotly.newPlot(                        \"701ea256-b339-4a50-a87d-8d888d9856ae\",                        [{\"hovertemplate\":\"fb_prospecting_spent=%{x}<br>revenue=%{y}<extra></extra>\",\"legendgroup\":\"\",\"marker\":{\"color\":\"#636efa\",\"symbol\":\"circle\"},\"mode\":\"markers\",\"name\":\"\",\"orientation\":\"v\",\"showlegend\":false,\"x\":[31.48,29.61,30.09,30.08,31.03,31.46,34.1,31.51,31.32,30.55,29.6,31.18,34.9,34.86,31.08,29.05,31.41,30.65,9.87,11.46,11.58,12.69,8.2,11.16,11.12,12.89,12.44,12.59,12.5,12.04,11.02,34.56,33.99,34.56,35.37,32.38,31.09,29.65,29.56,30.67,32.59,35.21,31.43,30.81,30.17,19.54,13.67,13.34,13.7,14.16,12.25,11.72,14.42,13.43,16.17,14.91,13.98,12.18,11.58,12.36,14.25,13.07,13.82,13.71,12.7,13.77,8.51,11.99,14.99,16.48,16.71,23.16,30.03,30.29,31.78,31.46,34.48,31.66,31.47,32.19,30.83,32.19,31.55,9.49,0.0,25.12,25.04,33.18,35.83,36.63,36.74,33.08,33.56,33.31,30.15,32.63,32.73,35.33,33.61,32.93,32.77,32.57,31.73,33.05,35.94,33.74,32.91,32.8,31.86,33.04,32.16,24.25,21.73,22.23,21.06,21.08,21.79,22.19,23.92,21.4,21.55,21.78,21.68,21.39,22.06,24.14,21.31,22.32,21.03,26.24,30.11,30.53,33.75,30.58,30.49,30.32,31.1,30.63,30.69,33.25,31.74,31.05,30.36,29.96,30.2,31.82,33.35,29.46,30.46,29.77,29.98,30.47,30.78,34.01,31.07,30.57,29.9,29.78,30.44,31.06,33.75,30.59,2.13],\"xaxis\":\"x\",\"y\":[2461.81,6918.33,5101.67,5335.02,4384.38,2564.39,1507.22,3035.38,6164.88,5666.57,5529.19,4364.27,3441.28,1503.72,3075.01,7223.64,6191.63,6401.52,6006.66,3259.89,2036.57,2537.66,5131.19,5867.37,5541.04,4897.76,3133.15,1820.66,2907.35,6008.83,5485.87,5291.73,4846.12,3644.88,1870.71,3446.23,6795.43,5735.92,5906.51,5183.68,3128.48,1754.73,3043.88,5978.04,6321.35,6043.38,4429.38,2202.1,1740.83,1502.6,3861.43,6534.55,5504.45,5211.69,4218.57,2450.73,3373.6,6543.42,6254.53,6275.99,4800.1,2938.72,1883.86,3064.84,5960.51,6200.39,6126.07,4558.39,2533.53,1489.06,3292.68,6994.01,5961.43,5353.82,17697.95,13613.81,2402.75,3436.36,6987.25,4960.64,5485.93,5306.16,5301.18,2587.16,4190.47,7525.98,6415.08,4915.72,7788.17,6990.86,3055.72,4843.64,10482.65,10581.56,9520.25,10487.03,7024.91,3420.89,5850.73,26047.24,20130.25,5793.67,3231.42,1450.1,731.38,2075.78,6543.32,7426.74,4921.18,6507.9,1699.36,1334.25,2450.69,5677.11,5337.76,3523.35,2951.59,3990.13,3120.34,3141.9,7159.45,6919.14,5980.13,5737.6,4374.84,2179.55,3599.79,7773.84,7728.56,7172.95,5583.26,3689.49,2148.72,2861.71,6677.14,6894.49,6107.54,6592.92,4045.78,5824.62,3219.01,8797.88,7117.38,5999.78,5045.91,4362.41,1849.98,3422.41,7877.16,6893.43,6278.3,6400.52,3921.14,2325.44,3174.37,7166.95,7475.88,5648.14,6061.37,3722.15,2670.47,3385.87,372.27],\"yaxis\":\"y\",\"type\":\"scatter\"}],                        {\"template\":{\"data\":{\"histogram2dcontour\":[{\"type\":\"histogram2dcontour\",\"colorbar\":{\"outlinewidth\":0,\"ticks\":\"\"},\"colorscale\":[[0.0,\"#0d0887\"],[0.1111111111111111,\"#46039f\"],[0.2222222222222222,\"#7201a8\"],[0.3333333333333333,\"#9c179e\"],[0.4444444444444444,\"#bd3786\"],[0.5555555555555556,\"#d8576b\"],[0.6666666666666666,\"#ed7953\"],[0.7777777777777778,\"#fb9f3a\"],[0.8888888888888888,\"#fdca26\"],[1.0,\"#f0f921\"]]}],\"choropleth\":[{\"type\":\"choropleth\",\"colorbar\":{\"outlinewidth\":0,\"ticks\":\"\"}}],\"histogram2d\":[{\"type\":\"histogram2d\",\"colorbar\":{\"outlinewidth\":0,\"ticks\":\"\"},\"colorscale\":[[0.0,\"#0d0887\"],[0.1111111111111111,\"#46039f\"],[0.2222222222222222,\"#7201a8\"],[0.3333333333333333,\"#9c179e\"],[0.4444444444444444,\"#bd3786\"],[0.5555555555555556,\"#d8576b\"],[0.6666666666666666,\"#ed7953\"],[0.7777777777777778,\"#fb9f3a\"],[0.8888888888888888,\"#fdca26\"],[1.0,\"#f0f921\"]]}],\"heatmap\":[{\"type\":\"heatmap\",\"colorbar\":{\"outlinewidth\":0,\"ticks\":\"\"},\"colorscale\":[[0.0,\"#0d0887\"],[0.1111111111111111,\"#46039f\"],[0.2222222222222222,\"#7201a8\"],[0.3333333333333333,\"#9c179e\"],[0.4444444444444444,\"#bd3786\"],[0.5555555555555556,\"#d8576b\"],[0.6666666666666666,\"#ed7953\"],[0.7777777777777778,\"#fb9f3a\"],[0.8888888888888888,\"#fdca26\"],[1.0,\"#f0f921\"]]}],\"heatmapgl\":[{\"type\":\"heatmapgl\",\"colorbar\":{\"outlinewidth\":0,\"ticks\":\"\"},\"colorscale\":[[0.0,\"#0d0887\"],[0.1111111111111111,\"#46039f\"],[0.2222222222222222,\"#7201a8\"],[0.3333333333333333,\"#9c179e\"],[0.4444444444444444,\"#bd3786\"],[0.5555555555555556,\"#d8576b\"],[0.6666666666666666,\"#ed7953\"],[0.7777777777777778,\"#fb9f3a\"],[0.8888888888888888,\"#fdca26\"],[1.0,\"#f0f921\"]]}],\"contourcarpet\":[{\"type\":\"contourcarpet\",\"colorbar\":{\"outlinewidth\":0,\"ticks\":\"\"}}],\"contour\":[{\"type\":\"contour\",\"colorbar\":{\"outlinewidth\":0,\"ticks\":\"\"},\"colorscale\":[[0.0,\"#0d0887\"],[0.1111111111111111,\"#46039f\"],[0.2222222222222222,\"#7201a8\"],[0.3333333333333333,\"#9c179e\"],[0.4444444444444444,\"#bd3786\"],[0.5555555555555556,\"#d8576b\"],[0.6666666666666666,\"#ed7953\"],[0.7777777777777778,\"#fb9f3a\"],[0.8888888888888888,\"#fdca26\"],[1.0,\"#f0f921\"]]}],\"surface\":[{\"type\":\"surface\",\"colorbar\":{\"outlinewidth\":0,\"ticks\":\"\"},\"colorscale\":[[0.0,\"#0d0887\"],[0.1111111111111111,\"#46039f\"],[0.2222222222222222,\"#7201a8\"],[0.3333333333333333,\"#9c179e\"],[0.4444444444444444,\"#bd3786\"],[0.5555555555555556,\"#d8576b\"],[0.6666666666666666,\"#ed7953\"],[0.7777777777777778,\"#fb9f3a\"],[0.8888888888888888,\"#fdca26\"],[1.0,\"#f0f921\"]]}],\"mesh3d\":[{\"type\":\"mesh3d\",\"colorbar\":{\"outlinewidth\":0,\"ticks\":\"\"}}],\"scatter\":[{\"fillpattern\":{\"fillmode\":\"overlay\",\"size\":10,\"solidity\":0.2},\"type\":\"scatter\"}],\"parcoords\":[{\"type\":\"parcoords\",\"line\":{\"colorbar\":{\"outlinewidth\":0,\"ticks\":\"\"}}}],\"scatterpolargl\":[{\"type\":\"scatterpolargl\",\"marker\":{\"colorbar\":{\"outlinewidth\":0,\"ticks\":\"\"}}}],\"bar\":[{\"error_x\":{\"color\":\"#2a3f5f\"},\"error_y\":{\"color\":\"#2a3f5f\"},\"marker\":{\"line\":{\"color\":\"#E5ECF6\",\"width\":0.5},\"pattern\":{\"fillmode\":\"overlay\",\"size\":10,\"solidity\":0.2}},\"type\":\"bar\"}],\"scattergeo\":[{\"type\":\"scattergeo\",\"marker\":{\"colorbar\":{\"outlinewidth\":0,\"ticks\":\"\"}}}],\"scatterpolar\":[{\"type\":\"scatterpolar\",\"marker\":{\"colorbar\":{\"outlinewidth\":0,\"ticks\":\"\"}}}],\"histogram\":[{\"marker\":{\"pattern\":{\"fillmode\":\"overlay\",\"size\":10,\"solidity\":0.2}},\"type\":\"histogram\"}],\"scattergl\":[{\"type\":\"scattergl\",\"marker\":{\"colorbar\":{\"outlinewidth\":0,\"ticks\":\"\"}}}],\"scatter3d\":[{\"type\":\"scatter3d\",\"line\":{\"colorbar\":{\"outlinewidth\":0,\"ticks\":\"\"}},\"marker\":{\"colorbar\":{\"outlinewidth\":0,\"ticks\":\"\"}}}],\"scattermapbox\":[{\"type\":\"scattermapbox\",\"marker\":{\"colorbar\":{\"outlinewidth\":0,\"ticks\":\"\"}}}],\"scatterternary\":[{\"type\":\"scatterternary\",\"marker\":{\"colorbar\":{\"outlinewidth\":0,\"ticks\":\"\"}}}],\"scattercarpet\":[{\"type\":\"scattercarpet\",\"marker\":{\"colorbar\":{\"outlinewidth\":0,\"ticks\":\"\"}}}],\"carpet\":[{\"aaxis\":{\"endlinecolor\":\"#2a3f5f\",\"gridcolor\":\"white\",\"linecolor\":\"white\",\"minorgridcolor\":\"white\",\"startlinecolor\":\"#2a3f5f\"},\"baxis\":{\"endlinecolor\":\"#2a3f5f\",\"gridcolor\":\"white\",\"linecolor\":\"white\",\"minorgridcolor\":\"white\",\"startlinecolor\":\"#2a3f5f\"},\"type\":\"carpet\"}],\"table\":[{\"cells\":{\"fill\":{\"color\":\"#EBF0F8\"},\"line\":{\"color\":\"white\"}},\"header\":{\"fill\":{\"color\":\"#C8D4E3\"},\"line\":{\"color\":\"white\"}},\"type\":\"table\"}],\"barpolar\":[{\"marker\":{\"line\":{\"color\":\"#E5ECF6\",\"width\":0.5},\"pattern\":{\"fillmode\":\"overlay\",\"size\":10,\"solidity\":0.2}},\"type\":\"barpolar\"}],\"pie\":[{\"automargin\":true,\"type\":\"pie\"}]},\"layout\":{\"autotypenumbers\":\"strict\",\"colorway\":[\"#636efa\",\"#EF553B\",\"#00cc96\",\"#ab63fa\",\"#FFA15A\",\"#19d3f3\",\"#FF6692\",\"#B6E880\",\"#FF97FF\",\"#FECB52\"],\"font\":{\"color\":\"#2a3f5f\"},\"hovermode\":\"closest\",\"hoverlabel\":{\"align\":\"left\"},\"paper_bgcolor\":\"white\",\"plot_bgcolor\":\"#E5ECF6\",\"polar\":{\"bgcolor\":\"#E5ECF6\",\"angularaxis\":{\"gridcolor\":\"white\",\"linecolor\":\"white\",\"ticks\":\"\"},\"radialaxis\":{\"gridcolor\":\"white\",\"linecolor\":\"white\",\"ticks\":\"\"}},\"ternary\":{\"bgcolor\":\"#E5ECF6\",\"aaxis\":{\"gridcolor\":\"white\",\"linecolor\":\"white\",\"ticks\":\"\"},\"baxis\":{\"gridcolor\":\"white\",\"linecolor\":\"white\",\"ticks\":\"\"},\"caxis\":{\"gridcolor\":\"white\",\"linecolor\":\"white\",\"ticks\":\"\"}},\"coloraxis\":{\"colorbar\":{\"outlinewidth\":0,\"ticks\":\"\"}},\"colorscale\":{\"sequential\":[[0.0,\"#0d0887\"],[0.1111111111111111,\"#46039f\"],[0.2222222222222222,\"#7201a8\"],[0.3333333333333333,\"#9c179e\"],[0.4444444444444444,\"#bd3786\"],[0.5555555555555556,\"#d8576b\"],[0.6666666666666666,\"#ed7953\"],[0.7777777777777778,\"#fb9f3a\"],[0.8888888888888888,\"#fdca26\"],[1.0,\"#f0f921\"]],\"sequentialminus\":[[0.0,\"#0d0887\"],[0.1111111111111111,\"#46039f\"],[0.2222222222222222,\"#7201a8\"],[0.3333333333333333,\"#9c179e\"],[0.4444444444444444,\"#bd3786\"],[0.5555555555555556,\"#d8576b\"],[0.6666666666666666,\"#ed7953\"],[0.7777777777777778,\"#fb9f3a\"],[0.8888888888888888,\"#fdca26\"],[1.0,\"#f0f921\"]],\"diverging\":[[0,\"#8e0152\"],[0.1,\"#c51b7d\"],[0.2,\"#de77ae\"],[0.3,\"#f1b6da\"],[0.4,\"#fde0ef\"],[0.5,\"#f7f7f7\"],[0.6,\"#e6f5d0\"],[0.7,\"#b8e186\"],[0.8,\"#7fbc41\"],[0.9,\"#4d9221\"],[1,\"#276419\"]]},\"xaxis\":{\"gridcolor\":\"white\",\"linecolor\":\"white\",\"ticks\":\"\",\"title\":{\"standoff\":15},\"zerolinecolor\":\"white\",\"automargin\":true,\"zerolinewidth\":2},\"yaxis\":{\"gridcolor\":\"white\",\"linecolor\":\"white\",\"ticks\":\"\",\"title\":{\"standoff\":15},\"zerolinecolor\":\"white\",\"automargin\":true,\"zerolinewidth\":2},\"scene\":{\"xaxis\":{\"backgroundcolor\":\"#E5ECF6\",\"gridcolor\":\"white\",\"linecolor\":\"white\",\"showbackground\":true,\"ticks\":\"\",\"zerolinecolor\":\"white\",\"gridwidth\":2},\"yaxis\":{\"backgroundcolor\":\"#E5ECF6\",\"gridcolor\":\"white\",\"linecolor\":\"white\",\"showbackground\":true,\"ticks\":\"\",\"zerolinecolor\":\"white\",\"gridwidth\":2},\"zaxis\":{\"backgroundcolor\":\"#E5ECF6\",\"gridcolor\":\"white\",\"linecolor\":\"white\",\"showbackground\":true,\"ticks\":\"\",\"zerolinecolor\":\"white\",\"gridwidth\":2}},\"shapedefaults\":{\"line\":{\"color\":\"#2a3f5f\"}},\"annotationdefaults\":{\"arrowcolor\":\"#2a3f5f\",\"arrowhead\":0,\"arrowwidth\":1},\"geo\":{\"bgcolor\":\"white\",\"landcolor\":\"#E5ECF6\",\"subunitcolor\":\"white\",\"showland\":true,\"showlakes\":true,\"lakecolor\":\"white\"},\"title\":{\"x\":0.05},\"mapbox\":{\"style\":\"light\"}}},\"xaxis\":{\"anchor\":\"y\",\"domain\":[0.0,1.0],\"title\":{\"text\":\"fb_prospecting_spent\"}},\"yaxis\":{\"anchor\":\"x\",\"domain\":[0.0,1.0],\"title\":{\"text\":\"revenue\"}},\"legend\":{\"tracegroupgap\":0},\"margin\":{\"t\":60}},                        {\"responsive\": true}                    ).then(function(){\n",
       "                            \n",
       "var gd = document.getElementById('701ea256-b339-4a50-a87d-8d888d9856ae');\n",
       "var x = new MutationObserver(function (mutations, observer) {{\n",
       "        var display = window.getComputedStyle(gd).display;\n",
       "        if (!display || display === 'none') {{\n",
       "            console.log([gd, 'removed!']);\n",
       "            Plotly.purge(gd);\n",
       "            observer.disconnect();\n",
       "        }}\n",
       "}});\n",
       "\n",
       "// Listen for the removal of the full notebook cells\n",
       "var notebookContainer = gd.closest('#notebook-container');\n",
       "if (notebookContainer) {{\n",
       "    x.observe(notebookContainer, {childList: true});\n",
       "}}\n",
       "\n",
       "// Listen for the clearing of the current output cell\n",
       "var outputEl = gd.closest('.output');\n",
       "if (outputEl) {{\n",
       "    x.observe(outputEl, {childList: true});\n",
       "}}\n",
       "\n",
       "                        })                };                });            </script>        </div>"
      ]
     },
     "metadata": {},
     "output_type": "display_data"
    },
    {
     "data": {
      "application/vnd.plotly.v1+json": {
       "config": {
        "plotlyServerURL": "https://plot.ly"
       },
       "data": [
        {
         "hovertemplate": "fb_retargeting_spent=%{x}<br>revenue=%{y}<extra></extra>",
         "legendgroup": "",
         "marker": {
          "color": "#636efa",
          "symbol": "circle"
         },
         "mode": "markers",
         "name": "",
         "orientation": "v",
         "showlegend": false,
         "type": "scatter",
         "x": [
          12.15,
          13.62,
          12.69,
          11.95,
          13.54,
          15.87,
          16.64,
          13.32,
          14.26,
          17.55,
          14.97,
          7.66,
          10.42,
          14.47,
          15.93,
          16.6,
          17.02,
          17.5,
          0,
          0,
          0,
          0,
          0,
          0,
          0,
          0.91,
          0,
          0,
          0,
          0,
          0,
          12.52,
          18.72,
          21.15,
          21.15,
          17.61,
          18.04,
          16.57,
          17.36,
          17.27,
          17.6,
          19.24,
          15.91,
          17.92,
          17.23,
          8.54,
          3.3,
          3.36,
          3.49,
          3.32,
          3.43,
          3.47,
          3.49,
          3.68,
          3.72,
          3.96,
          3.51,
          3.51,
          3.58,
          3.65,
          3.65,
          3.71,
          4.21,
          3.74,
          3.34,
          3.22,
          3.4,
          3.56,
          4.2,
          5.92,
          5.9,
          12.73,
          19.1,
          20.08,
          20.45,
          20.12,
          21.94,
          19.72,
          20.89,
          20.52,
          19.67,
          20.22,
          20.1,
          6.02,
          0,
          18.36,
          19.93,
          23.21,
          23.86,
          22.85,
          23.61,
          20.63,
          21.45,
          20.99,
          20.07,
          20.46,
          21.05,
          23.16,
          21.31,
          21.52,
          20.36,
          20.33,
          20.69,
          20.86,
          23.48,
          21.52,
          21.65,
          21.79,
          20.22,
          20.23,
          19.73,
          21,
          19.91,
          21.02,
          20.06,
          19.87,
          20.36,
          21.34,
          22.59,
          20.07,
          20.66,
          20.93,
          20.4,
          20.45,
          21.28,
          22.98,
          19.83,
          21.13,
          20.04,
          20.31,
          20.16,
          19.5,
          21.9,
          19.51,
          20.19,
          19.84,
          20.06,
          20.39,
          20.5,
          22.18,
          21.18,
          20.83,
          19.93,
          20.23,
          20.09,
          20.66,
          21.53,
          19.14,
          20.36,
          19.75,
          19.88,
          19.93,
          20.96,
          22.97,
          18.45,
          20.02,
          20.29,
          20.14,
          19.96,
          20.31,
          23.16,
          19.9,
          1.33
         ],
         "xaxis": "x",
         "y": [
          2461.81,
          6918.33,
          5101.67,
          5335.02,
          4384.38,
          2564.39,
          1507.22,
          3035.38,
          6164.88,
          5666.57,
          5529.19,
          4364.27,
          3441.28,
          1503.72,
          3075.01,
          7223.64,
          6191.63,
          6401.52,
          6006.66,
          3259.89,
          2036.57,
          2537.66,
          5131.19,
          5867.37,
          5541.04,
          4897.76,
          3133.15,
          1820.66,
          2907.35,
          6008.83,
          5485.87,
          5291.73,
          4846.12,
          3644.88,
          1870.71,
          3446.23,
          6795.43,
          5735.92,
          5906.51,
          5183.68,
          3128.48,
          1754.73,
          3043.88,
          5978.04,
          6321.35,
          6043.38,
          4429.38,
          2202.1,
          1740.83,
          1502.6,
          3861.43,
          6534.55,
          5504.45,
          5211.69,
          4218.57,
          2450.73,
          3373.6,
          6543.42,
          6254.53,
          6275.99,
          4800.1,
          2938.72,
          1883.86,
          3064.84,
          5960.51,
          6200.39,
          6126.07,
          4558.39,
          2533.53,
          1489.06,
          3292.68,
          6994.01,
          5961.43,
          5353.82,
          17697.95,
          13613.81,
          2402.75,
          3436.36,
          6987.25,
          4960.64,
          5485.93,
          5306.16,
          5301.18,
          2587.16,
          4190.47,
          7525.98,
          6415.08,
          4915.72,
          7788.17,
          6990.86,
          3055.72,
          4843.64,
          10482.65,
          10581.56,
          9520.25,
          10487.03,
          7024.91,
          3420.89,
          5850.73,
          26047.24,
          20130.25,
          5793.67,
          3231.42,
          1450.1,
          731.38,
          2075.78,
          6543.32,
          7426.74,
          4921.18,
          6507.9,
          1699.36,
          1334.25,
          2450.69,
          5677.11,
          5337.76,
          3523.35,
          2951.59,
          3990.13,
          3120.34,
          3141.9,
          7159.45,
          6919.14,
          5980.13,
          5737.6,
          4374.84,
          2179.55,
          3599.79,
          7773.84,
          7728.56,
          7172.95,
          5583.26,
          3689.49,
          2148.72,
          2861.71,
          6677.14,
          6894.49,
          6107.54,
          6592.92,
          4045.78,
          5824.62,
          3219.01,
          8797.88,
          7117.38,
          5999.78,
          5045.91,
          4362.41,
          1849.98,
          3422.41,
          7877.16,
          6893.43,
          6278.3,
          6400.52,
          3921.14,
          2325.44,
          3174.37,
          7166.95,
          7475.88,
          5648.14,
          6061.37,
          3722.15,
          2670.47,
          3385.87,
          372.27
         ],
         "yaxis": "y"
        }
       ],
       "layout": {
        "legend": {
         "tracegroupgap": 0
        },
        "margin": {
         "t": 60
        },
        "template": {
         "data": {
          "bar": [
           {
            "error_x": {
             "color": "#2a3f5f"
            },
            "error_y": {
             "color": "#2a3f5f"
            },
            "marker": {
             "line": {
              "color": "#E5ECF6",
              "width": 0.5
             },
             "pattern": {
              "fillmode": "overlay",
              "size": 10,
              "solidity": 0.2
             }
            },
            "type": "bar"
           }
          ],
          "barpolar": [
           {
            "marker": {
             "line": {
              "color": "#E5ECF6",
              "width": 0.5
             },
             "pattern": {
              "fillmode": "overlay",
              "size": 10,
              "solidity": 0.2
             }
            },
            "type": "barpolar"
           }
          ],
          "carpet": [
           {
            "aaxis": {
             "endlinecolor": "#2a3f5f",
             "gridcolor": "white",
             "linecolor": "white",
             "minorgridcolor": "white",
             "startlinecolor": "#2a3f5f"
            },
            "baxis": {
             "endlinecolor": "#2a3f5f",
             "gridcolor": "white",
             "linecolor": "white",
             "minorgridcolor": "white",
             "startlinecolor": "#2a3f5f"
            },
            "type": "carpet"
           }
          ],
          "choropleth": [
           {
            "colorbar": {
             "outlinewidth": 0,
             "ticks": ""
            },
            "type": "choropleth"
           }
          ],
          "contour": [
           {
            "colorbar": {
             "outlinewidth": 0,
             "ticks": ""
            },
            "colorscale": [
             [
              0,
              "#0d0887"
             ],
             [
              0.1111111111111111,
              "#46039f"
             ],
             [
              0.2222222222222222,
              "#7201a8"
             ],
             [
              0.3333333333333333,
              "#9c179e"
             ],
             [
              0.4444444444444444,
              "#bd3786"
             ],
             [
              0.5555555555555556,
              "#d8576b"
             ],
             [
              0.6666666666666666,
              "#ed7953"
             ],
             [
              0.7777777777777778,
              "#fb9f3a"
             ],
             [
              0.8888888888888888,
              "#fdca26"
             ],
             [
              1,
              "#f0f921"
             ]
            ],
            "type": "contour"
           }
          ],
          "contourcarpet": [
           {
            "colorbar": {
             "outlinewidth": 0,
             "ticks": ""
            },
            "type": "contourcarpet"
           }
          ],
          "heatmap": [
           {
            "colorbar": {
             "outlinewidth": 0,
             "ticks": ""
            },
            "colorscale": [
             [
              0,
              "#0d0887"
             ],
             [
              0.1111111111111111,
              "#46039f"
             ],
             [
              0.2222222222222222,
              "#7201a8"
             ],
             [
              0.3333333333333333,
              "#9c179e"
             ],
             [
              0.4444444444444444,
              "#bd3786"
             ],
             [
              0.5555555555555556,
              "#d8576b"
             ],
             [
              0.6666666666666666,
              "#ed7953"
             ],
             [
              0.7777777777777778,
              "#fb9f3a"
             ],
             [
              0.8888888888888888,
              "#fdca26"
             ],
             [
              1,
              "#f0f921"
             ]
            ],
            "type": "heatmap"
           }
          ],
          "heatmapgl": [
           {
            "colorbar": {
             "outlinewidth": 0,
             "ticks": ""
            },
            "colorscale": [
             [
              0,
              "#0d0887"
             ],
             [
              0.1111111111111111,
              "#46039f"
             ],
             [
              0.2222222222222222,
              "#7201a8"
             ],
             [
              0.3333333333333333,
              "#9c179e"
             ],
             [
              0.4444444444444444,
              "#bd3786"
             ],
             [
              0.5555555555555556,
              "#d8576b"
             ],
             [
              0.6666666666666666,
              "#ed7953"
             ],
             [
              0.7777777777777778,
              "#fb9f3a"
             ],
             [
              0.8888888888888888,
              "#fdca26"
             ],
             [
              1,
              "#f0f921"
             ]
            ],
            "type": "heatmapgl"
           }
          ],
          "histogram": [
           {
            "marker": {
             "pattern": {
              "fillmode": "overlay",
              "size": 10,
              "solidity": 0.2
             }
            },
            "type": "histogram"
           }
          ],
          "histogram2d": [
           {
            "colorbar": {
             "outlinewidth": 0,
             "ticks": ""
            },
            "colorscale": [
             [
              0,
              "#0d0887"
             ],
             [
              0.1111111111111111,
              "#46039f"
             ],
             [
              0.2222222222222222,
              "#7201a8"
             ],
             [
              0.3333333333333333,
              "#9c179e"
             ],
             [
              0.4444444444444444,
              "#bd3786"
             ],
             [
              0.5555555555555556,
              "#d8576b"
             ],
             [
              0.6666666666666666,
              "#ed7953"
             ],
             [
              0.7777777777777778,
              "#fb9f3a"
             ],
             [
              0.8888888888888888,
              "#fdca26"
             ],
             [
              1,
              "#f0f921"
             ]
            ],
            "type": "histogram2d"
           }
          ],
          "histogram2dcontour": [
           {
            "colorbar": {
             "outlinewidth": 0,
             "ticks": ""
            },
            "colorscale": [
             [
              0,
              "#0d0887"
             ],
             [
              0.1111111111111111,
              "#46039f"
             ],
             [
              0.2222222222222222,
              "#7201a8"
             ],
             [
              0.3333333333333333,
              "#9c179e"
             ],
             [
              0.4444444444444444,
              "#bd3786"
             ],
             [
              0.5555555555555556,
              "#d8576b"
             ],
             [
              0.6666666666666666,
              "#ed7953"
             ],
             [
              0.7777777777777778,
              "#fb9f3a"
             ],
             [
              0.8888888888888888,
              "#fdca26"
             ],
             [
              1,
              "#f0f921"
             ]
            ],
            "type": "histogram2dcontour"
           }
          ],
          "mesh3d": [
           {
            "colorbar": {
             "outlinewidth": 0,
             "ticks": ""
            },
            "type": "mesh3d"
           }
          ],
          "parcoords": [
           {
            "line": {
             "colorbar": {
              "outlinewidth": 0,
              "ticks": ""
             }
            },
            "type": "parcoords"
           }
          ],
          "pie": [
           {
            "automargin": true,
            "type": "pie"
           }
          ],
          "scatter": [
           {
            "fillpattern": {
             "fillmode": "overlay",
             "size": 10,
             "solidity": 0.2
            },
            "type": "scatter"
           }
          ],
          "scatter3d": [
           {
            "line": {
             "colorbar": {
              "outlinewidth": 0,
              "ticks": ""
             }
            },
            "marker": {
             "colorbar": {
              "outlinewidth": 0,
              "ticks": ""
             }
            },
            "type": "scatter3d"
           }
          ],
          "scattercarpet": [
           {
            "marker": {
             "colorbar": {
              "outlinewidth": 0,
              "ticks": ""
             }
            },
            "type": "scattercarpet"
           }
          ],
          "scattergeo": [
           {
            "marker": {
             "colorbar": {
              "outlinewidth": 0,
              "ticks": ""
             }
            },
            "type": "scattergeo"
           }
          ],
          "scattergl": [
           {
            "marker": {
             "colorbar": {
              "outlinewidth": 0,
              "ticks": ""
             }
            },
            "type": "scattergl"
           }
          ],
          "scattermapbox": [
           {
            "marker": {
             "colorbar": {
              "outlinewidth": 0,
              "ticks": ""
             }
            },
            "type": "scattermapbox"
           }
          ],
          "scatterpolar": [
           {
            "marker": {
             "colorbar": {
              "outlinewidth": 0,
              "ticks": ""
             }
            },
            "type": "scatterpolar"
           }
          ],
          "scatterpolargl": [
           {
            "marker": {
             "colorbar": {
              "outlinewidth": 0,
              "ticks": ""
             }
            },
            "type": "scatterpolargl"
           }
          ],
          "scatterternary": [
           {
            "marker": {
             "colorbar": {
              "outlinewidth": 0,
              "ticks": ""
             }
            },
            "type": "scatterternary"
           }
          ],
          "surface": [
           {
            "colorbar": {
             "outlinewidth": 0,
             "ticks": ""
            },
            "colorscale": [
             [
              0,
              "#0d0887"
             ],
             [
              0.1111111111111111,
              "#46039f"
             ],
             [
              0.2222222222222222,
              "#7201a8"
             ],
             [
              0.3333333333333333,
              "#9c179e"
             ],
             [
              0.4444444444444444,
              "#bd3786"
             ],
             [
              0.5555555555555556,
              "#d8576b"
             ],
             [
              0.6666666666666666,
              "#ed7953"
             ],
             [
              0.7777777777777778,
              "#fb9f3a"
             ],
             [
              0.8888888888888888,
              "#fdca26"
             ],
             [
              1,
              "#f0f921"
             ]
            ],
            "type": "surface"
           }
          ],
          "table": [
           {
            "cells": {
             "fill": {
              "color": "#EBF0F8"
             },
             "line": {
              "color": "white"
             }
            },
            "header": {
             "fill": {
              "color": "#C8D4E3"
             },
             "line": {
              "color": "white"
             }
            },
            "type": "table"
           }
          ]
         },
         "layout": {
          "annotationdefaults": {
           "arrowcolor": "#2a3f5f",
           "arrowhead": 0,
           "arrowwidth": 1
          },
          "autotypenumbers": "strict",
          "coloraxis": {
           "colorbar": {
            "outlinewidth": 0,
            "ticks": ""
           }
          },
          "colorscale": {
           "diverging": [
            [
             0,
             "#8e0152"
            ],
            [
             0.1,
             "#c51b7d"
            ],
            [
             0.2,
             "#de77ae"
            ],
            [
             0.3,
             "#f1b6da"
            ],
            [
             0.4,
             "#fde0ef"
            ],
            [
             0.5,
             "#f7f7f7"
            ],
            [
             0.6,
             "#e6f5d0"
            ],
            [
             0.7,
             "#b8e186"
            ],
            [
             0.8,
             "#7fbc41"
            ],
            [
             0.9,
             "#4d9221"
            ],
            [
             1,
             "#276419"
            ]
           ],
           "sequential": [
            [
             0,
             "#0d0887"
            ],
            [
             0.1111111111111111,
             "#46039f"
            ],
            [
             0.2222222222222222,
             "#7201a8"
            ],
            [
             0.3333333333333333,
             "#9c179e"
            ],
            [
             0.4444444444444444,
             "#bd3786"
            ],
            [
             0.5555555555555556,
             "#d8576b"
            ],
            [
             0.6666666666666666,
             "#ed7953"
            ],
            [
             0.7777777777777778,
             "#fb9f3a"
            ],
            [
             0.8888888888888888,
             "#fdca26"
            ],
            [
             1,
             "#f0f921"
            ]
           ],
           "sequentialminus": [
            [
             0,
             "#0d0887"
            ],
            [
             0.1111111111111111,
             "#46039f"
            ],
            [
             0.2222222222222222,
             "#7201a8"
            ],
            [
             0.3333333333333333,
             "#9c179e"
            ],
            [
             0.4444444444444444,
             "#bd3786"
            ],
            [
             0.5555555555555556,
             "#d8576b"
            ],
            [
             0.6666666666666666,
             "#ed7953"
            ],
            [
             0.7777777777777778,
             "#fb9f3a"
            ],
            [
             0.8888888888888888,
             "#fdca26"
            ],
            [
             1,
             "#f0f921"
            ]
           ]
          },
          "colorway": [
           "#636efa",
           "#EF553B",
           "#00cc96",
           "#ab63fa",
           "#FFA15A",
           "#19d3f3",
           "#FF6692",
           "#B6E880",
           "#FF97FF",
           "#FECB52"
          ],
          "font": {
           "color": "#2a3f5f"
          },
          "geo": {
           "bgcolor": "white",
           "lakecolor": "white",
           "landcolor": "#E5ECF6",
           "showlakes": true,
           "showland": true,
           "subunitcolor": "white"
          },
          "hoverlabel": {
           "align": "left"
          },
          "hovermode": "closest",
          "mapbox": {
           "style": "light"
          },
          "paper_bgcolor": "white",
          "plot_bgcolor": "#E5ECF6",
          "polar": {
           "angularaxis": {
            "gridcolor": "white",
            "linecolor": "white",
            "ticks": ""
           },
           "bgcolor": "#E5ECF6",
           "radialaxis": {
            "gridcolor": "white",
            "linecolor": "white",
            "ticks": ""
           }
          },
          "scene": {
           "xaxis": {
            "backgroundcolor": "#E5ECF6",
            "gridcolor": "white",
            "gridwidth": 2,
            "linecolor": "white",
            "showbackground": true,
            "ticks": "",
            "zerolinecolor": "white"
           },
           "yaxis": {
            "backgroundcolor": "#E5ECF6",
            "gridcolor": "white",
            "gridwidth": 2,
            "linecolor": "white",
            "showbackground": true,
            "ticks": "",
            "zerolinecolor": "white"
           },
           "zaxis": {
            "backgroundcolor": "#E5ECF6",
            "gridcolor": "white",
            "gridwidth": 2,
            "linecolor": "white",
            "showbackground": true,
            "ticks": "",
            "zerolinecolor": "white"
           }
          },
          "shapedefaults": {
           "line": {
            "color": "#2a3f5f"
           }
          },
          "ternary": {
           "aaxis": {
            "gridcolor": "white",
            "linecolor": "white",
            "ticks": ""
           },
           "baxis": {
            "gridcolor": "white",
            "linecolor": "white",
            "ticks": ""
           },
           "bgcolor": "#E5ECF6",
           "caxis": {
            "gridcolor": "white",
            "linecolor": "white",
            "ticks": ""
           }
          },
          "title": {
           "x": 0.05
          },
          "xaxis": {
           "automargin": true,
           "gridcolor": "white",
           "linecolor": "white",
           "ticks": "",
           "title": {
            "standoff": 15
           },
           "zerolinecolor": "white",
           "zerolinewidth": 2
          },
          "yaxis": {
           "automargin": true,
           "gridcolor": "white",
           "linecolor": "white",
           "ticks": "",
           "title": {
            "standoff": 15
           },
           "zerolinecolor": "white",
           "zerolinewidth": 2
          }
         }
        },
        "xaxis": {
         "anchor": "y",
         "domain": [
          0,
          1
         ],
         "title": {
          "text": "fb_retargeting_spent"
         }
        },
        "yaxis": {
         "anchor": "x",
         "domain": [
          0,
          1
         ],
         "title": {
          "text": "revenue"
         }
        }
       }
      },
      "text/html": [
       "<div>                            <div id=\"85dc68f2-f95c-4ca0-9b66-8084b9b01748\" class=\"plotly-graph-div\" style=\"height:525px; width:100%;\"></div>            <script type=\"text/javascript\">                require([\"plotly\"], function(Plotly) {                    window.PLOTLYENV=window.PLOTLYENV || {};                                    if (document.getElementById(\"85dc68f2-f95c-4ca0-9b66-8084b9b01748\")) {                    Plotly.newPlot(                        \"85dc68f2-f95c-4ca0-9b66-8084b9b01748\",                        [{\"hovertemplate\":\"fb_retargeting_spent=%{x}<br>revenue=%{y}<extra></extra>\",\"legendgroup\":\"\",\"marker\":{\"color\":\"#636efa\",\"symbol\":\"circle\"},\"mode\":\"markers\",\"name\":\"\",\"orientation\":\"v\",\"showlegend\":false,\"x\":[12.15,13.62,12.69,11.95,13.54,15.87,16.64,13.32,14.26,17.55,14.97,7.66,10.42,14.47,15.93,16.6,17.02,17.5,0.0,0.0,0.0,0.0,0.0,0.0,0.0,0.91,0.0,0.0,0.0,0.0,0.0,12.52,18.72,21.15,21.15,17.61,18.04,16.57,17.36,17.27,17.6,19.24,15.91,17.92,17.23,8.54,3.3,3.36,3.49,3.32,3.43,3.47,3.49,3.68,3.72,3.96,3.51,3.51,3.58,3.65,3.65,3.71,4.21,3.74,3.34,3.22,3.4,3.56,4.2,5.92,5.9,12.73,19.1,20.08,20.45,20.12,21.94,19.72,20.89,20.52,19.67,20.22,20.1,6.02,0.0,18.36,19.93,23.21,23.86,22.85,23.61,20.63,21.45,20.99,20.07,20.46,21.05,23.16,21.31,21.52,20.36,20.33,20.69,20.86,23.48,21.52,21.65,21.79,20.22,20.23,19.73,21.0,19.91,21.02,20.06,19.87,20.36,21.34,22.59,20.07,20.66,20.93,20.4,20.45,21.28,22.98,19.83,21.13,20.04,20.31,20.16,19.5,21.9,19.51,20.19,19.84,20.06,20.39,20.5,22.18,21.18,20.83,19.93,20.23,20.09,20.66,21.53,19.14,20.36,19.75,19.88,19.93,20.96,22.97,18.45,20.02,20.29,20.14,19.96,20.31,23.16,19.9,1.33],\"xaxis\":\"x\",\"y\":[2461.81,6918.33,5101.67,5335.02,4384.38,2564.39,1507.22,3035.38,6164.88,5666.57,5529.19,4364.27,3441.28,1503.72,3075.01,7223.64,6191.63,6401.52,6006.66,3259.89,2036.57,2537.66,5131.19,5867.37,5541.04,4897.76,3133.15,1820.66,2907.35,6008.83,5485.87,5291.73,4846.12,3644.88,1870.71,3446.23,6795.43,5735.92,5906.51,5183.68,3128.48,1754.73,3043.88,5978.04,6321.35,6043.38,4429.38,2202.1,1740.83,1502.6,3861.43,6534.55,5504.45,5211.69,4218.57,2450.73,3373.6,6543.42,6254.53,6275.99,4800.1,2938.72,1883.86,3064.84,5960.51,6200.39,6126.07,4558.39,2533.53,1489.06,3292.68,6994.01,5961.43,5353.82,17697.95,13613.81,2402.75,3436.36,6987.25,4960.64,5485.93,5306.16,5301.18,2587.16,4190.47,7525.98,6415.08,4915.72,7788.17,6990.86,3055.72,4843.64,10482.65,10581.56,9520.25,10487.03,7024.91,3420.89,5850.73,26047.24,20130.25,5793.67,3231.42,1450.1,731.38,2075.78,6543.32,7426.74,4921.18,6507.9,1699.36,1334.25,2450.69,5677.11,5337.76,3523.35,2951.59,3990.13,3120.34,3141.9,7159.45,6919.14,5980.13,5737.6,4374.84,2179.55,3599.79,7773.84,7728.56,7172.95,5583.26,3689.49,2148.72,2861.71,6677.14,6894.49,6107.54,6592.92,4045.78,5824.62,3219.01,8797.88,7117.38,5999.78,5045.91,4362.41,1849.98,3422.41,7877.16,6893.43,6278.3,6400.52,3921.14,2325.44,3174.37,7166.95,7475.88,5648.14,6061.37,3722.15,2670.47,3385.87,372.27],\"yaxis\":\"y\",\"type\":\"scatter\"}],                        {\"template\":{\"data\":{\"histogram2dcontour\":[{\"type\":\"histogram2dcontour\",\"colorbar\":{\"outlinewidth\":0,\"ticks\":\"\"},\"colorscale\":[[0.0,\"#0d0887\"],[0.1111111111111111,\"#46039f\"],[0.2222222222222222,\"#7201a8\"],[0.3333333333333333,\"#9c179e\"],[0.4444444444444444,\"#bd3786\"],[0.5555555555555556,\"#d8576b\"],[0.6666666666666666,\"#ed7953\"],[0.7777777777777778,\"#fb9f3a\"],[0.8888888888888888,\"#fdca26\"],[1.0,\"#f0f921\"]]}],\"choropleth\":[{\"type\":\"choropleth\",\"colorbar\":{\"outlinewidth\":0,\"ticks\":\"\"}}],\"histogram2d\":[{\"type\":\"histogram2d\",\"colorbar\":{\"outlinewidth\":0,\"ticks\":\"\"},\"colorscale\":[[0.0,\"#0d0887\"],[0.1111111111111111,\"#46039f\"],[0.2222222222222222,\"#7201a8\"],[0.3333333333333333,\"#9c179e\"],[0.4444444444444444,\"#bd3786\"],[0.5555555555555556,\"#d8576b\"],[0.6666666666666666,\"#ed7953\"],[0.7777777777777778,\"#fb9f3a\"],[0.8888888888888888,\"#fdca26\"],[1.0,\"#f0f921\"]]}],\"heatmap\":[{\"type\":\"heatmap\",\"colorbar\":{\"outlinewidth\":0,\"ticks\":\"\"},\"colorscale\":[[0.0,\"#0d0887\"],[0.1111111111111111,\"#46039f\"],[0.2222222222222222,\"#7201a8\"],[0.3333333333333333,\"#9c179e\"],[0.4444444444444444,\"#bd3786\"],[0.5555555555555556,\"#d8576b\"],[0.6666666666666666,\"#ed7953\"],[0.7777777777777778,\"#fb9f3a\"],[0.8888888888888888,\"#fdca26\"],[1.0,\"#f0f921\"]]}],\"heatmapgl\":[{\"type\":\"heatmapgl\",\"colorbar\":{\"outlinewidth\":0,\"ticks\":\"\"},\"colorscale\":[[0.0,\"#0d0887\"],[0.1111111111111111,\"#46039f\"],[0.2222222222222222,\"#7201a8\"],[0.3333333333333333,\"#9c179e\"],[0.4444444444444444,\"#bd3786\"],[0.5555555555555556,\"#d8576b\"],[0.6666666666666666,\"#ed7953\"],[0.7777777777777778,\"#fb9f3a\"],[0.8888888888888888,\"#fdca26\"],[1.0,\"#f0f921\"]]}],\"contourcarpet\":[{\"type\":\"contourcarpet\",\"colorbar\":{\"outlinewidth\":0,\"ticks\":\"\"}}],\"contour\":[{\"type\":\"contour\",\"colorbar\":{\"outlinewidth\":0,\"ticks\":\"\"},\"colorscale\":[[0.0,\"#0d0887\"],[0.1111111111111111,\"#46039f\"],[0.2222222222222222,\"#7201a8\"],[0.3333333333333333,\"#9c179e\"],[0.4444444444444444,\"#bd3786\"],[0.5555555555555556,\"#d8576b\"],[0.6666666666666666,\"#ed7953\"],[0.7777777777777778,\"#fb9f3a\"],[0.8888888888888888,\"#fdca26\"],[1.0,\"#f0f921\"]]}],\"surface\":[{\"type\":\"surface\",\"colorbar\":{\"outlinewidth\":0,\"ticks\":\"\"},\"colorscale\":[[0.0,\"#0d0887\"],[0.1111111111111111,\"#46039f\"],[0.2222222222222222,\"#7201a8\"],[0.3333333333333333,\"#9c179e\"],[0.4444444444444444,\"#bd3786\"],[0.5555555555555556,\"#d8576b\"],[0.6666666666666666,\"#ed7953\"],[0.7777777777777778,\"#fb9f3a\"],[0.8888888888888888,\"#fdca26\"],[1.0,\"#f0f921\"]]}],\"mesh3d\":[{\"type\":\"mesh3d\",\"colorbar\":{\"outlinewidth\":0,\"ticks\":\"\"}}],\"scatter\":[{\"fillpattern\":{\"fillmode\":\"overlay\",\"size\":10,\"solidity\":0.2},\"type\":\"scatter\"}],\"parcoords\":[{\"type\":\"parcoords\",\"line\":{\"colorbar\":{\"outlinewidth\":0,\"ticks\":\"\"}}}],\"scatterpolargl\":[{\"type\":\"scatterpolargl\",\"marker\":{\"colorbar\":{\"outlinewidth\":0,\"ticks\":\"\"}}}],\"bar\":[{\"error_x\":{\"color\":\"#2a3f5f\"},\"error_y\":{\"color\":\"#2a3f5f\"},\"marker\":{\"line\":{\"color\":\"#E5ECF6\",\"width\":0.5},\"pattern\":{\"fillmode\":\"overlay\",\"size\":10,\"solidity\":0.2}},\"type\":\"bar\"}],\"scattergeo\":[{\"type\":\"scattergeo\",\"marker\":{\"colorbar\":{\"outlinewidth\":0,\"ticks\":\"\"}}}],\"scatterpolar\":[{\"type\":\"scatterpolar\",\"marker\":{\"colorbar\":{\"outlinewidth\":0,\"ticks\":\"\"}}}],\"histogram\":[{\"marker\":{\"pattern\":{\"fillmode\":\"overlay\",\"size\":10,\"solidity\":0.2}},\"type\":\"histogram\"}],\"scattergl\":[{\"type\":\"scattergl\",\"marker\":{\"colorbar\":{\"outlinewidth\":0,\"ticks\":\"\"}}}],\"scatter3d\":[{\"type\":\"scatter3d\",\"line\":{\"colorbar\":{\"outlinewidth\":0,\"ticks\":\"\"}},\"marker\":{\"colorbar\":{\"outlinewidth\":0,\"ticks\":\"\"}}}],\"scattermapbox\":[{\"type\":\"scattermapbox\",\"marker\":{\"colorbar\":{\"outlinewidth\":0,\"ticks\":\"\"}}}],\"scatterternary\":[{\"type\":\"scatterternary\",\"marker\":{\"colorbar\":{\"outlinewidth\":0,\"ticks\":\"\"}}}],\"scattercarpet\":[{\"type\":\"scattercarpet\",\"marker\":{\"colorbar\":{\"outlinewidth\":0,\"ticks\":\"\"}}}],\"carpet\":[{\"aaxis\":{\"endlinecolor\":\"#2a3f5f\",\"gridcolor\":\"white\",\"linecolor\":\"white\",\"minorgridcolor\":\"white\",\"startlinecolor\":\"#2a3f5f\"},\"baxis\":{\"endlinecolor\":\"#2a3f5f\",\"gridcolor\":\"white\",\"linecolor\":\"white\",\"minorgridcolor\":\"white\",\"startlinecolor\":\"#2a3f5f\"},\"type\":\"carpet\"}],\"table\":[{\"cells\":{\"fill\":{\"color\":\"#EBF0F8\"},\"line\":{\"color\":\"white\"}},\"header\":{\"fill\":{\"color\":\"#C8D4E3\"},\"line\":{\"color\":\"white\"}},\"type\":\"table\"}],\"barpolar\":[{\"marker\":{\"line\":{\"color\":\"#E5ECF6\",\"width\":0.5},\"pattern\":{\"fillmode\":\"overlay\",\"size\":10,\"solidity\":0.2}},\"type\":\"barpolar\"}],\"pie\":[{\"automargin\":true,\"type\":\"pie\"}]},\"layout\":{\"autotypenumbers\":\"strict\",\"colorway\":[\"#636efa\",\"#EF553B\",\"#00cc96\",\"#ab63fa\",\"#FFA15A\",\"#19d3f3\",\"#FF6692\",\"#B6E880\",\"#FF97FF\",\"#FECB52\"],\"font\":{\"color\":\"#2a3f5f\"},\"hovermode\":\"closest\",\"hoverlabel\":{\"align\":\"left\"},\"paper_bgcolor\":\"white\",\"plot_bgcolor\":\"#E5ECF6\",\"polar\":{\"bgcolor\":\"#E5ECF6\",\"angularaxis\":{\"gridcolor\":\"white\",\"linecolor\":\"white\",\"ticks\":\"\"},\"radialaxis\":{\"gridcolor\":\"white\",\"linecolor\":\"white\",\"ticks\":\"\"}},\"ternary\":{\"bgcolor\":\"#E5ECF6\",\"aaxis\":{\"gridcolor\":\"white\",\"linecolor\":\"white\",\"ticks\":\"\"},\"baxis\":{\"gridcolor\":\"white\",\"linecolor\":\"white\",\"ticks\":\"\"},\"caxis\":{\"gridcolor\":\"white\",\"linecolor\":\"white\",\"ticks\":\"\"}},\"coloraxis\":{\"colorbar\":{\"outlinewidth\":0,\"ticks\":\"\"}},\"colorscale\":{\"sequential\":[[0.0,\"#0d0887\"],[0.1111111111111111,\"#46039f\"],[0.2222222222222222,\"#7201a8\"],[0.3333333333333333,\"#9c179e\"],[0.4444444444444444,\"#bd3786\"],[0.5555555555555556,\"#d8576b\"],[0.6666666666666666,\"#ed7953\"],[0.7777777777777778,\"#fb9f3a\"],[0.8888888888888888,\"#fdca26\"],[1.0,\"#f0f921\"]],\"sequentialminus\":[[0.0,\"#0d0887\"],[0.1111111111111111,\"#46039f\"],[0.2222222222222222,\"#7201a8\"],[0.3333333333333333,\"#9c179e\"],[0.4444444444444444,\"#bd3786\"],[0.5555555555555556,\"#d8576b\"],[0.6666666666666666,\"#ed7953\"],[0.7777777777777778,\"#fb9f3a\"],[0.8888888888888888,\"#fdca26\"],[1.0,\"#f0f921\"]],\"diverging\":[[0,\"#8e0152\"],[0.1,\"#c51b7d\"],[0.2,\"#de77ae\"],[0.3,\"#f1b6da\"],[0.4,\"#fde0ef\"],[0.5,\"#f7f7f7\"],[0.6,\"#e6f5d0\"],[0.7,\"#b8e186\"],[0.8,\"#7fbc41\"],[0.9,\"#4d9221\"],[1,\"#276419\"]]},\"xaxis\":{\"gridcolor\":\"white\",\"linecolor\":\"white\",\"ticks\":\"\",\"title\":{\"standoff\":15},\"zerolinecolor\":\"white\",\"automargin\":true,\"zerolinewidth\":2},\"yaxis\":{\"gridcolor\":\"white\",\"linecolor\":\"white\",\"ticks\":\"\",\"title\":{\"standoff\":15},\"zerolinecolor\":\"white\",\"automargin\":true,\"zerolinewidth\":2},\"scene\":{\"xaxis\":{\"backgroundcolor\":\"#E5ECF6\",\"gridcolor\":\"white\",\"linecolor\":\"white\",\"showbackground\":true,\"ticks\":\"\",\"zerolinecolor\":\"white\",\"gridwidth\":2},\"yaxis\":{\"backgroundcolor\":\"#E5ECF6\",\"gridcolor\":\"white\",\"linecolor\":\"white\",\"showbackground\":true,\"ticks\":\"\",\"zerolinecolor\":\"white\",\"gridwidth\":2},\"zaxis\":{\"backgroundcolor\":\"#E5ECF6\",\"gridcolor\":\"white\",\"linecolor\":\"white\",\"showbackground\":true,\"ticks\":\"\",\"zerolinecolor\":\"white\",\"gridwidth\":2}},\"shapedefaults\":{\"line\":{\"color\":\"#2a3f5f\"}},\"annotationdefaults\":{\"arrowcolor\":\"#2a3f5f\",\"arrowhead\":0,\"arrowwidth\":1},\"geo\":{\"bgcolor\":\"white\",\"landcolor\":\"#E5ECF6\",\"subunitcolor\":\"white\",\"showland\":true,\"showlakes\":true,\"lakecolor\":\"white\"},\"title\":{\"x\":0.05},\"mapbox\":{\"style\":\"light\"}}},\"xaxis\":{\"anchor\":\"y\",\"domain\":[0.0,1.0],\"title\":{\"text\":\"fb_retargeting_spent\"}},\"yaxis\":{\"anchor\":\"x\",\"domain\":[0.0,1.0],\"title\":{\"text\":\"revenue\"}},\"legend\":{\"tracegroupgap\":0},\"margin\":{\"t\":60}},                        {\"responsive\": true}                    ).then(function(){\n",
       "                            \n",
       "var gd = document.getElementById('85dc68f2-f95c-4ca0-9b66-8084b9b01748');\n",
       "var x = new MutationObserver(function (mutations, observer) {{\n",
       "        var display = window.getComputedStyle(gd).display;\n",
       "        if (!display || display === 'none') {{\n",
       "            console.log([gd, 'removed!']);\n",
       "            Plotly.purge(gd);\n",
       "            observer.disconnect();\n",
       "        }}\n",
       "}});\n",
       "\n",
       "// Listen for the removal of the full notebook cells\n",
       "var notebookContainer = gd.closest('#notebook-container');\n",
       "if (notebookContainer) {{\n",
       "    x.observe(notebookContainer, {childList: true});\n",
       "}}\n",
       "\n",
       "// Listen for the clearing of the current output cell\n",
       "var outputEl = gd.closest('.output');\n",
       "if (outputEl) {{\n",
       "    x.observe(outputEl, {childList: true});\n",
       "}}\n",
       "\n",
       "                        })                };                });            </script>        </div>"
      ]
     },
     "metadata": {},
     "output_type": "display_data"
    },
    {
     "data": {
      "application/vnd.plotly.v1+json": {
       "config": {
        "plotlyServerURL": "https://plot.ly"
       },
       "data": [
        {
         "hovertemplate": "google_performance_max_spent=%{x}<br>revenue=%{y}<extra></extra>",
         "legendgroup": "",
         "marker": {
          "color": "#636efa",
          "symbol": "circle"
         },
         "mode": "markers",
         "name": "",
         "orientation": "v",
         "showlegend": false,
         "type": "scatter",
         "x": [
          88.2,
          90.56,
          74.14,
          65.01,
          69.26,
          56.27,
          48.87,
          51.25,
          81.94,
          84.22,
          42.11,
          122.55,
          94.21,
          97.31,
          178.47,
          140.29,
          127.91,
          158.53,
          0,
          0,
          0,
          0,
          0,
          0,
          0,
          0,
          0,
          0,
          0,
          0,
          0,
          155.7,
          56.92,
          40.6,
          32.96,
          60.23,
          114.05,
          62.13,
          60.71,
          60.8,
          71.68,
          45.95,
          71.43,
          69.25,
          50.67,
          55.16,
          76.56,
          63.43,
          28.26,
          81.29,
          73.87,
          64.49,
          42.94,
          65.04,
          60.49,
          20.56,
          98.83,
          76.45,
          68.8,
          69.49,
          46.4,
          62.29,
          11.18,
          28.4,
          46.59,
          50.02,
          43.2,
          34.3,
          61.43,
          11.08,
          21.53,
          41.75,
          47.11,
          33.77,
          56.86,
          28.27,
          14.93,
          12.2,
          37.15,
          53.75,
          37.32,
          61.05,
          29.46,
          13.05,
          14.04,
          50.2,
          21.55,
          49.62,
          76.89,
          37.41,
          7.97,
          24.99,
          51.99,
          40.59,
          44.51,
          36.68,
          37.82,
          13.95,
          15.58,
          51.93,
          41.39,
          40.9,
          43.12,
          11.2,
          9.24,
          22,
          51.75,
          19.68,
          58.91,
          35.34,
          9.31,
          15.21,
          14.98,
          45.94,
          45.12,
          31.28,
          42.1,
          80.7,
          12.75,
          13.59,
          47.63,
          42.42,
          41.12,
          50.45,
          37.12,
          17.73,
          32.27,
          100.2,
          68.39,
          94.71,
          107.66,
          81.35,
          17,
          33.32,
          104.11,
          157.4,
          143.83,
          83.61,
          67.15,
          17.83,
          29.83,
          100.37,
          86.93,
          95.8,
          97.01,
          150.63,
          8.38,
          37.81,
          86.3,
          67.99,
          58.91,
          67.59,
          75.57,
          13,
          37.98,
          101.86,
          89.93,
          67.9,
          125.32,
          79.3,
          9.96,
          40.5,
          22.04
         ],
         "xaxis": "x",
         "y": [
          2461.81,
          6918.33,
          5101.67,
          5335.02,
          4384.38,
          2564.39,
          1507.22,
          3035.38,
          6164.88,
          5666.57,
          5529.19,
          4364.27,
          3441.28,
          1503.72,
          3075.01,
          7223.64,
          6191.63,
          6401.52,
          6006.66,
          3259.89,
          2036.57,
          2537.66,
          5131.19,
          5867.37,
          5541.04,
          4897.76,
          3133.15,
          1820.66,
          2907.35,
          6008.83,
          5485.87,
          5291.73,
          4846.12,
          3644.88,
          1870.71,
          3446.23,
          6795.43,
          5735.92,
          5906.51,
          5183.68,
          3128.48,
          1754.73,
          3043.88,
          5978.04,
          6321.35,
          6043.38,
          4429.38,
          2202.1,
          1740.83,
          1502.6,
          3861.43,
          6534.55,
          5504.45,
          5211.69,
          4218.57,
          2450.73,
          3373.6,
          6543.42,
          6254.53,
          6275.99,
          4800.1,
          2938.72,
          1883.86,
          3064.84,
          5960.51,
          6200.39,
          6126.07,
          4558.39,
          2533.53,
          1489.06,
          3292.68,
          6994.01,
          5961.43,
          5353.82,
          17697.95,
          13613.81,
          2402.75,
          3436.36,
          6987.25,
          4960.64,
          5485.93,
          5306.16,
          5301.18,
          2587.16,
          4190.47,
          7525.98,
          6415.08,
          4915.72,
          7788.17,
          6990.86,
          3055.72,
          4843.64,
          10482.65,
          10581.56,
          9520.25,
          10487.03,
          7024.91,
          3420.89,
          5850.73,
          26047.24,
          20130.25,
          5793.67,
          3231.42,
          1450.1,
          731.38,
          2075.78,
          6543.32,
          7426.74,
          4921.18,
          6507.9,
          1699.36,
          1334.25,
          2450.69,
          5677.11,
          5337.76,
          3523.35,
          2951.59,
          3990.13,
          3120.34,
          3141.9,
          7159.45,
          6919.14,
          5980.13,
          5737.6,
          4374.84,
          2179.55,
          3599.79,
          7773.84,
          7728.56,
          7172.95,
          5583.26,
          3689.49,
          2148.72,
          2861.71,
          6677.14,
          6894.49,
          6107.54,
          6592.92,
          4045.78,
          5824.62,
          3219.01,
          8797.88,
          7117.38,
          5999.78,
          5045.91,
          4362.41,
          1849.98,
          3422.41,
          7877.16,
          6893.43,
          6278.3,
          6400.52,
          3921.14,
          2325.44,
          3174.37,
          7166.95,
          7475.88,
          5648.14,
          6061.37,
          3722.15,
          2670.47,
          3385.87,
          372.27
         ],
         "yaxis": "y"
        }
       ],
       "layout": {
        "legend": {
         "tracegroupgap": 0
        },
        "margin": {
         "t": 60
        },
        "template": {
         "data": {
          "bar": [
           {
            "error_x": {
             "color": "#2a3f5f"
            },
            "error_y": {
             "color": "#2a3f5f"
            },
            "marker": {
             "line": {
              "color": "#E5ECF6",
              "width": 0.5
             },
             "pattern": {
              "fillmode": "overlay",
              "size": 10,
              "solidity": 0.2
             }
            },
            "type": "bar"
           }
          ],
          "barpolar": [
           {
            "marker": {
             "line": {
              "color": "#E5ECF6",
              "width": 0.5
             },
             "pattern": {
              "fillmode": "overlay",
              "size": 10,
              "solidity": 0.2
             }
            },
            "type": "barpolar"
           }
          ],
          "carpet": [
           {
            "aaxis": {
             "endlinecolor": "#2a3f5f",
             "gridcolor": "white",
             "linecolor": "white",
             "minorgridcolor": "white",
             "startlinecolor": "#2a3f5f"
            },
            "baxis": {
             "endlinecolor": "#2a3f5f",
             "gridcolor": "white",
             "linecolor": "white",
             "minorgridcolor": "white",
             "startlinecolor": "#2a3f5f"
            },
            "type": "carpet"
           }
          ],
          "choropleth": [
           {
            "colorbar": {
             "outlinewidth": 0,
             "ticks": ""
            },
            "type": "choropleth"
           }
          ],
          "contour": [
           {
            "colorbar": {
             "outlinewidth": 0,
             "ticks": ""
            },
            "colorscale": [
             [
              0,
              "#0d0887"
             ],
             [
              0.1111111111111111,
              "#46039f"
             ],
             [
              0.2222222222222222,
              "#7201a8"
             ],
             [
              0.3333333333333333,
              "#9c179e"
             ],
             [
              0.4444444444444444,
              "#bd3786"
             ],
             [
              0.5555555555555556,
              "#d8576b"
             ],
             [
              0.6666666666666666,
              "#ed7953"
             ],
             [
              0.7777777777777778,
              "#fb9f3a"
             ],
             [
              0.8888888888888888,
              "#fdca26"
             ],
             [
              1,
              "#f0f921"
             ]
            ],
            "type": "contour"
           }
          ],
          "contourcarpet": [
           {
            "colorbar": {
             "outlinewidth": 0,
             "ticks": ""
            },
            "type": "contourcarpet"
           }
          ],
          "heatmap": [
           {
            "colorbar": {
             "outlinewidth": 0,
             "ticks": ""
            },
            "colorscale": [
             [
              0,
              "#0d0887"
             ],
             [
              0.1111111111111111,
              "#46039f"
             ],
             [
              0.2222222222222222,
              "#7201a8"
             ],
             [
              0.3333333333333333,
              "#9c179e"
             ],
             [
              0.4444444444444444,
              "#bd3786"
             ],
             [
              0.5555555555555556,
              "#d8576b"
             ],
             [
              0.6666666666666666,
              "#ed7953"
             ],
             [
              0.7777777777777778,
              "#fb9f3a"
             ],
             [
              0.8888888888888888,
              "#fdca26"
             ],
             [
              1,
              "#f0f921"
             ]
            ],
            "type": "heatmap"
           }
          ],
          "heatmapgl": [
           {
            "colorbar": {
             "outlinewidth": 0,
             "ticks": ""
            },
            "colorscale": [
             [
              0,
              "#0d0887"
             ],
             [
              0.1111111111111111,
              "#46039f"
             ],
             [
              0.2222222222222222,
              "#7201a8"
             ],
             [
              0.3333333333333333,
              "#9c179e"
             ],
             [
              0.4444444444444444,
              "#bd3786"
             ],
             [
              0.5555555555555556,
              "#d8576b"
             ],
             [
              0.6666666666666666,
              "#ed7953"
             ],
             [
              0.7777777777777778,
              "#fb9f3a"
             ],
             [
              0.8888888888888888,
              "#fdca26"
             ],
             [
              1,
              "#f0f921"
             ]
            ],
            "type": "heatmapgl"
           }
          ],
          "histogram": [
           {
            "marker": {
             "pattern": {
              "fillmode": "overlay",
              "size": 10,
              "solidity": 0.2
             }
            },
            "type": "histogram"
           }
          ],
          "histogram2d": [
           {
            "colorbar": {
             "outlinewidth": 0,
             "ticks": ""
            },
            "colorscale": [
             [
              0,
              "#0d0887"
             ],
             [
              0.1111111111111111,
              "#46039f"
             ],
             [
              0.2222222222222222,
              "#7201a8"
             ],
             [
              0.3333333333333333,
              "#9c179e"
             ],
             [
              0.4444444444444444,
              "#bd3786"
             ],
             [
              0.5555555555555556,
              "#d8576b"
             ],
             [
              0.6666666666666666,
              "#ed7953"
             ],
             [
              0.7777777777777778,
              "#fb9f3a"
             ],
             [
              0.8888888888888888,
              "#fdca26"
             ],
             [
              1,
              "#f0f921"
             ]
            ],
            "type": "histogram2d"
           }
          ],
          "histogram2dcontour": [
           {
            "colorbar": {
             "outlinewidth": 0,
             "ticks": ""
            },
            "colorscale": [
             [
              0,
              "#0d0887"
             ],
             [
              0.1111111111111111,
              "#46039f"
             ],
             [
              0.2222222222222222,
              "#7201a8"
             ],
             [
              0.3333333333333333,
              "#9c179e"
             ],
             [
              0.4444444444444444,
              "#bd3786"
             ],
             [
              0.5555555555555556,
              "#d8576b"
             ],
             [
              0.6666666666666666,
              "#ed7953"
             ],
             [
              0.7777777777777778,
              "#fb9f3a"
             ],
             [
              0.8888888888888888,
              "#fdca26"
             ],
             [
              1,
              "#f0f921"
             ]
            ],
            "type": "histogram2dcontour"
           }
          ],
          "mesh3d": [
           {
            "colorbar": {
             "outlinewidth": 0,
             "ticks": ""
            },
            "type": "mesh3d"
           }
          ],
          "parcoords": [
           {
            "line": {
             "colorbar": {
              "outlinewidth": 0,
              "ticks": ""
             }
            },
            "type": "parcoords"
           }
          ],
          "pie": [
           {
            "automargin": true,
            "type": "pie"
           }
          ],
          "scatter": [
           {
            "fillpattern": {
             "fillmode": "overlay",
             "size": 10,
             "solidity": 0.2
            },
            "type": "scatter"
           }
          ],
          "scatter3d": [
           {
            "line": {
             "colorbar": {
              "outlinewidth": 0,
              "ticks": ""
             }
            },
            "marker": {
             "colorbar": {
              "outlinewidth": 0,
              "ticks": ""
             }
            },
            "type": "scatter3d"
           }
          ],
          "scattercarpet": [
           {
            "marker": {
             "colorbar": {
              "outlinewidth": 0,
              "ticks": ""
             }
            },
            "type": "scattercarpet"
           }
          ],
          "scattergeo": [
           {
            "marker": {
             "colorbar": {
              "outlinewidth": 0,
              "ticks": ""
             }
            },
            "type": "scattergeo"
           }
          ],
          "scattergl": [
           {
            "marker": {
             "colorbar": {
              "outlinewidth": 0,
              "ticks": ""
             }
            },
            "type": "scattergl"
           }
          ],
          "scattermapbox": [
           {
            "marker": {
             "colorbar": {
              "outlinewidth": 0,
              "ticks": ""
             }
            },
            "type": "scattermapbox"
           }
          ],
          "scatterpolar": [
           {
            "marker": {
             "colorbar": {
              "outlinewidth": 0,
              "ticks": ""
             }
            },
            "type": "scatterpolar"
           }
          ],
          "scatterpolargl": [
           {
            "marker": {
             "colorbar": {
              "outlinewidth": 0,
              "ticks": ""
             }
            },
            "type": "scatterpolargl"
           }
          ],
          "scatterternary": [
           {
            "marker": {
             "colorbar": {
              "outlinewidth": 0,
              "ticks": ""
             }
            },
            "type": "scatterternary"
           }
          ],
          "surface": [
           {
            "colorbar": {
             "outlinewidth": 0,
             "ticks": ""
            },
            "colorscale": [
             [
              0,
              "#0d0887"
             ],
             [
              0.1111111111111111,
              "#46039f"
             ],
             [
              0.2222222222222222,
              "#7201a8"
             ],
             [
              0.3333333333333333,
              "#9c179e"
             ],
             [
              0.4444444444444444,
              "#bd3786"
             ],
             [
              0.5555555555555556,
              "#d8576b"
             ],
             [
              0.6666666666666666,
              "#ed7953"
             ],
             [
              0.7777777777777778,
              "#fb9f3a"
             ],
             [
              0.8888888888888888,
              "#fdca26"
             ],
             [
              1,
              "#f0f921"
             ]
            ],
            "type": "surface"
           }
          ],
          "table": [
           {
            "cells": {
             "fill": {
              "color": "#EBF0F8"
             },
             "line": {
              "color": "white"
             }
            },
            "header": {
             "fill": {
              "color": "#C8D4E3"
             },
             "line": {
              "color": "white"
             }
            },
            "type": "table"
           }
          ]
         },
         "layout": {
          "annotationdefaults": {
           "arrowcolor": "#2a3f5f",
           "arrowhead": 0,
           "arrowwidth": 1
          },
          "autotypenumbers": "strict",
          "coloraxis": {
           "colorbar": {
            "outlinewidth": 0,
            "ticks": ""
           }
          },
          "colorscale": {
           "diverging": [
            [
             0,
             "#8e0152"
            ],
            [
             0.1,
             "#c51b7d"
            ],
            [
             0.2,
             "#de77ae"
            ],
            [
             0.3,
             "#f1b6da"
            ],
            [
             0.4,
             "#fde0ef"
            ],
            [
             0.5,
             "#f7f7f7"
            ],
            [
             0.6,
             "#e6f5d0"
            ],
            [
             0.7,
             "#b8e186"
            ],
            [
             0.8,
             "#7fbc41"
            ],
            [
             0.9,
             "#4d9221"
            ],
            [
             1,
             "#276419"
            ]
           ],
           "sequential": [
            [
             0,
             "#0d0887"
            ],
            [
             0.1111111111111111,
             "#46039f"
            ],
            [
             0.2222222222222222,
             "#7201a8"
            ],
            [
             0.3333333333333333,
             "#9c179e"
            ],
            [
             0.4444444444444444,
             "#bd3786"
            ],
            [
             0.5555555555555556,
             "#d8576b"
            ],
            [
             0.6666666666666666,
             "#ed7953"
            ],
            [
             0.7777777777777778,
             "#fb9f3a"
            ],
            [
             0.8888888888888888,
             "#fdca26"
            ],
            [
             1,
             "#f0f921"
            ]
           ],
           "sequentialminus": [
            [
             0,
             "#0d0887"
            ],
            [
             0.1111111111111111,
             "#46039f"
            ],
            [
             0.2222222222222222,
             "#7201a8"
            ],
            [
             0.3333333333333333,
             "#9c179e"
            ],
            [
             0.4444444444444444,
             "#bd3786"
            ],
            [
             0.5555555555555556,
             "#d8576b"
            ],
            [
             0.6666666666666666,
             "#ed7953"
            ],
            [
             0.7777777777777778,
             "#fb9f3a"
            ],
            [
             0.8888888888888888,
             "#fdca26"
            ],
            [
             1,
             "#f0f921"
            ]
           ]
          },
          "colorway": [
           "#636efa",
           "#EF553B",
           "#00cc96",
           "#ab63fa",
           "#FFA15A",
           "#19d3f3",
           "#FF6692",
           "#B6E880",
           "#FF97FF",
           "#FECB52"
          ],
          "font": {
           "color": "#2a3f5f"
          },
          "geo": {
           "bgcolor": "white",
           "lakecolor": "white",
           "landcolor": "#E5ECF6",
           "showlakes": true,
           "showland": true,
           "subunitcolor": "white"
          },
          "hoverlabel": {
           "align": "left"
          },
          "hovermode": "closest",
          "mapbox": {
           "style": "light"
          },
          "paper_bgcolor": "white",
          "plot_bgcolor": "#E5ECF6",
          "polar": {
           "angularaxis": {
            "gridcolor": "white",
            "linecolor": "white",
            "ticks": ""
           },
           "bgcolor": "#E5ECF6",
           "radialaxis": {
            "gridcolor": "white",
            "linecolor": "white",
            "ticks": ""
           }
          },
          "scene": {
           "xaxis": {
            "backgroundcolor": "#E5ECF6",
            "gridcolor": "white",
            "gridwidth": 2,
            "linecolor": "white",
            "showbackground": true,
            "ticks": "",
            "zerolinecolor": "white"
           },
           "yaxis": {
            "backgroundcolor": "#E5ECF6",
            "gridcolor": "white",
            "gridwidth": 2,
            "linecolor": "white",
            "showbackground": true,
            "ticks": "",
            "zerolinecolor": "white"
           },
           "zaxis": {
            "backgroundcolor": "#E5ECF6",
            "gridcolor": "white",
            "gridwidth": 2,
            "linecolor": "white",
            "showbackground": true,
            "ticks": "",
            "zerolinecolor": "white"
           }
          },
          "shapedefaults": {
           "line": {
            "color": "#2a3f5f"
           }
          },
          "ternary": {
           "aaxis": {
            "gridcolor": "white",
            "linecolor": "white",
            "ticks": ""
           },
           "baxis": {
            "gridcolor": "white",
            "linecolor": "white",
            "ticks": ""
           },
           "bgcolor": "#E5ECF6",
           "caxis": {
            "gridcolor": "white",
            "linecolor": "white",
            "ticks": ""
           }
          },
          "title": {
           "x": 0.05
          },
          "xaxis": {
           "automargin": true,
           "gridcolor": "white",
           "linecolor": "white",
           "ticks": "",
           "title": {
            "standoff": 15
           },
           "zerolinecolor": "white",
           "zerolinewidth": 2
          },
          "yaxis": {
           "automargin": true,
           "gridcolor": "white",
           "linecolor": "white",
           "ticks": "",
           "title": {
            "standoff": 15
           },
           "zerolinecolor": "white",
           "zerolinewidth": 2
          }
         }
        },
        "xaxis": {
         "anchor": "y",
         "domain": [
          0,
          1
         ],
         "title": {
          "text": "google_performance_max_spent"
         }
        },
        "yaxis": {
         "anchor": "x",
         "domain": [
          0,
          1
         ],
         "title": {
          "text": "revenue"
         }
        }
       }
      },
      "text/html": [
       "<div>                            <div id=\"f25eef2f-8ede-49a4-9ab0-29738b5e0be8\" class=\"plotly-graph-div\" style=\"height:525px; width:100%;\"></div>            <script type=\"text/javascript\">                require([\"plotly\"], function(Plotly) {                    window.PLOTLYENV=window.PLOTLYENV || {};                                    if (document.getElementById(\"f25eef2f-8ede-49a4-9ab0-29738b5e0be8\")) {                    Plotly.newPlot(                        \"f25eef2f-8ede-49a4-9ab0-29738b5e0be8\",                        [{\"hovertemplate\":\"google_performance_max_spent=%{x}<br>revenue=%{y}<extra></extra>\",\"legendgroup\":\"\",\"marker\":{\"color\":\"#636efa\",\"symbol\":\"circle\"},\"mode\":\"markers\",\"name\":\"\",\"orientation\":\"v\",\"showlegend\":false,\"x\":[88.2,90.56,74.14,65.01,69.26,56.27,48.87,51.25,81.94,84.22,42.11,122.55,94.21,97.31,178.47,140.29,127.91,158.53,0.0,0.0,0.0,0.0,0.0,0.0,0.0,0.0,0.0,0.0,0.0,0.0,0.0,155.7,56.92,40.6,32.96,60.23,114.05,62.13,60.71,60.8,71.68,45.95,71.43,69.25,50.67,55.16,76.56,63.43,28.26,81.29,73.87,64.49,42.94,65.04,60.49,20.56,98.83,76.45,68.8,69.49,46.4,62.29,11.18,28.4,46.59,50.02,43.2,34.3,61.43,11.08,21.53,41.75,47.11,33.77,56.86,28.27,14.93,12.2,37.15,53.75,37.32,61.05,29.46,13.05,14.04,50.2,21.55,49.62,76.89,37.41,7.97,24.99,51.99,40.59,44.51,36.68,37.82,13.95,15.58,51.93,41.39,40.9,43.12,11.2,9.24,22.0,51.75,19.68,58.91,35.34,9.31,15.21,14.98,45.94,45.12,31.28,42.1,80.7,12.75,13.59,47.63,42.42,41.12,50.45,37.12,17.73,32.27,100.2,68.39,94.71,107.66,81.35,17.0,33.32,104.11,157.4,143.83,83.61,67.15,17.83,29.83,100.37,86.93,95.8,97.01,150.63,8.38,37.81,86.3,67.99,58.91,67.59,75.57,13.0,37.98,101.86,89.93,67.9,125.32,79.3,9.96,40.5,22.04],\"xaxis\":\"x\",\"y\":[2461.81,6918.33,5101.67,5335.02,4384.38,2564.39,1507.22,3035.38,6164.88,5666.57,5529.19,4364.27,3441.28,1503.72,3075.01,7223.64,6191.63,6401.52,6006.66,3259.89,2036.57,2537.66,5131.19,5867.37,5541.04,4897.76,3133.15,1820.66,2907.35,6008.83,5485.87,5291.73,4846.12,3644.88,1870.71,3446.23,6795.43,5735.92,5906.51,5183.68,3128.48,1754.73,3043.88,5978.04,6321.35,6043.38,4429.38,2202.1,1740.83,1502.6,3861.43,6534.55,5504.45,5211.69,4218.57,2450.73,3373.6,6543.42,6254.53,6275.99,4800.1,2938.72,1883.86,3064.84,5960.51,6200.39,6126.07,4558.39,2533.53,1489.06,3292.68,6994.01,5961.43,5353.82,17697.95,13613.81,2402.75,3436.36,6987.25,4960.64,5485.93,5306.16,5301.18,2587.16,4190.47,7525.98,6415.08,4915.72,7788.17,6990.86,3055.72,4843.64,10482.65,10581.56,9520.25,10487.03,7024.91,3420.89,5850.73,26047.24,20130.25,5793.67,3231.42,1450.1,731.38,2075.78,6543.32,7426.74,4921.18,6507.9,1699.36,1334.25,2450.69,5677.11,5337.76,3523.35,2951.59,3990.13,3120.34,3141.9,7159.45,6919.14,5980.13,5737.6,4374.84,2179.55,3599.79,7773.84,7728.56,7172.95,5583.26,3689.49,2148.72,2861.71,6677.14,6894.49,6107.54,6592.92,4045.78,5824.62,3219.01,8797.88,7117.38,5999.78,5045.91,4362.41,1849.98,3422.41,7877.16,6893.43,6278.3,6400.52,3921.14,2325.44,3174.37,7166.95,7475.88,5648.14,6061.37,3722.15,2670.47,3385.87,372.27],\"yaxis\":\"y\",\"type\":\"scatter\"}],                        {\"template\":{\"data\":{\"histogram2dcontour\":[{\"type\":\"histogram2dcontour\",\"colorbar\":{\"outlinewidth\":0,\"ticks\":\"\"},\"colorscale\":[[0.0,\"#0d0887\"],[0.1111111111111111,\"#46039f\"],[0.2222222222222222,\"#7201a8\"],[0.3333333333333333,\"#9c179e\"],[0.4444444444444444,\"#bd3786\"],[0.5555555555555556,\"#d8576b\"],[0.6666666666666666,\"#ed7953\"],[0.7777777777777778,\"#fb9f3a\"],[0.8888888888888888,\"#fdca26\"],[1.0,\"#f0f921\"]]}],\"choropleth\":[{\"type\":\"choropleth\",\"colorbar\":{\"outlinewidth\":0,\"ticks\":\"\"}}],\"histogram2d\":[{\"type\":\"histogram2d\",\"colorbar\":{\"outlinewidth\":0,\"ticks\":\"\"},\"colorscale\":[[0.0,\"#0d0887\"],[0.1111111111111111,\"#46039f\"],[0.2222222222222222,\"#7201a8\"],[0.3333333333333333,\"#9c179e\"],[0.4444444444444444,\"#bd3786\"],[0.5555555555555556,\"#d8576b\"],[0.6666666666666666,\"#ed7953\"],[0.7777777777777778,\"#fb9f3a\"],[0.8888888888888888,\"#fdca26\"],[1.0,\"#f0f921\"]]}],\"heatmap\":[{\"type\":\"heatmap\",\"colorbar\":{\"outlinewidth\":0,\"ticks\":\"\"},\"colorscale\":[[0.0,\"#0d0887\"],[0.1111111111111111,\"#46039f\"],[0.2222222222222222,\"#7201a8\"],[0.3333333333333333,\"#9c179e\"],[0.4444444444444444,\"#bd3786\"],[0.5555555555555556,\"#d8576b\"],[0.6666666666666666,\"#ed7953\"],[0.7777777777777778,\"#fb9f3a\"],[0.8888888888888888,\"#fdca26\"],[1.0,\"#f0f921\"]]}],\"heatmapgl\":[{\"type\":\"heatmapgl\",\"colorbar\":{\"outlinewidth\":0,\"ticks\":\"\"},\"colorscale\":[[0.0,\"#0d0887\"],[0.1111111111111111,\"#46039f\"],[0.2222222222222222,\"#7201a8\"],[0.3333333333333333,\"#9c179e\"],[0.4444444444444444,\"#bd3786\"],[0.5555555555555556,\"#d8576b\"],[0.6666666666666666,\"#ed7953\"],[0.7777777777777778,\"#fb9f3a\"],[0.8888888888888888,\"#fdca26\"],[1.0,\"#f0f921\"]]}],\"contourcarpet\":[{\"type\":\"contourcarpet\",\"colorbar\":{\"outlinewidth\":0,\"ticks\":\"\"}}],\"contour\":[{\"type\":\"contour\",\"colorbar\":{\"outlinewidth\":0,\"ticks\":\"\"},\"colorscale\":[[0.0,\"#0d0887\"],[0.1111111111111111,\"#46039f\"],[0.2222222222222222,\"#7201a8\"],[0.3333333333333333,\"#9c179e\"],[0.4444444444444444,\"#bd3786\"],[0.5555555555555556,\"#d8576b\"],[0.6666666666666666,\"#ed7953\"],[0.7777777777777778,\"#fb9f3a\"],[0.8888888888888888,\"#fdca26\"],[1.0,\"#f0f921\"]]}],\"surface\":[{\"type\":\"surface\",\"colorbar\":{\"outlinewidth\":0,\"ticks\":\"\"},\"colorscale\":[[0.0,\"#0d0887\"],[0.1111111111111111,\"#46039f\"],[0.2222222222222222,\"#7201a8\"],[0.3333333333333333,\"#9c179e\"],[0.4444444444444444,\"#bd3786\"],[0.5555555555555556,\"#d8576b\"],[0.6666666666666666,\"#ed7953\"],[0.7777777777777778,\"#fb9f3a\"],[0.8888888888888888,\"#fdca26\"],[1.0,\"#f0f921\"]]}],\"mesh3d\":[{\"type\":\"mesh3d\",\"colorbar\":{\"outlinewidth\":0,\"ticks\":\"\"}}],\"scatter\":[{\"fillpattern\":{\"fillmode\":\"overlay\",\"size\":10,\"solidity\":0.2},\"type\":\"scatter\"}],\"parcoords\":[{\"type\":\"parcoords\",\"line\":{\"colorbar\":{\"outlinewidth\":0,\"ticks\":\"\"}}}],\"scatterpolargl\":[{\"type\":\"scatterpolargl\",\"marker\":{\"colorbar\":{\"outlinewidth\":0,\"ticks\":\"\"}}}],\"bar\":[{\"error_x\":{\"color\":\"#2a3f5f\"},\"error_y\":{\"color\":\"#2a3f5f\"},\"marker\":{\"line\":{\"color\":\"#E5ECF6\",\"width\":0.5},\"pattern\":{\"fillmode\":\"overlay\",\"size\":10,\"solidity\":0.2}},\"type\":\"bar\"}],\"scattergeo\":[{\"type\":\"scattergeo\",\"marker\":{\"colorbar\":{\"outlinewidth\":0,\"ticks\":\"\"}}}],\"scatterpolar\":[{\"type\":\"scatterpolar\",\"marker\":{\"colorbar\":{\"outlinewidth\":0,\"ticks\":\"\"}}}],\"histogram\":[{\"marker\":{\"pattern\":{\"fillmode\":\"overlay\",\"size\":10,\"solidity\":0.2}},\"type\":\"histogram\"}],\"scattergl\":[{\"type\":\"scattergl\",\"marker\":{\"colorbar\":{\"outlinewidth\":0,\"ticks\":\"\"}}}],\"scatter3d\":[{\"type\":\"scatter3d\",\"line\":{\"colorbar\":{\"outlinewidth\":0,\"ticks\":\"\"}},\"marker\":{\"colorbar\":{\"outlinewidth\":0,\"ticks\":\"\"}}}],\"scattermapbox\":[{\"type\":\"scattermapbox\",\"marker\":{\"colorbar\":{\"outlinewidth\":0,\"ticks\":\"\"}}}],\"scatterternary\":[{\"type\":\"scatterternary\",\"marker\":{\"colorbar\":{\"outlinewidth\":0,\"ticks\":\"\"}}}],\"scattercarpet\":[{\"type\":\"scattercarpet\",\"marker\":{\"colorbar\":{\"outlinewidth\":0,\"ticks\":\"\"}}}],\"carpet\":[{\"aaxis\":{\"endlinecolor\":\"#2a3f5f\",\"gridcolor\":\"white\",\"linecolor\":\"white\",\"minorgridcolor\":\"white\",\"startlinecolor\":\"#2a3f5f\"},\"baxis\":{\"endlinecolor\":\"#2a3f5f\",\"gridcolor\":\"white\",\"linecolor\":\"white\",\"minorgridcolor\":\"white\",\"startlinecolor\":\"#2a3f5f\"},\"type\":\"carpet\"}],\"table\":[{\"cells\":{\"fill\":{\"color\":\"#EBF0F8\"},\"line\":{\"color\":\"white\"}},\"header\":{\"fill\":{\"color\":\"#C8D4E3\"},\"line\":{\"color\":\"white\"}},\"type\":\"table\"}],\"barpolar\":[{\"marker\":{\"line\":{\"color\":\"#E5ECF6\",\"width\":0.5},\"pattern\":{\"fillmode\":\"overlay\",\"size\":10,\"solidity\":0.2}},\"type\":\"barpolar\"}],\"pie\":[{\"automargin\":true,\"type\":\"pie\"}]},\"layout\":{\"autotypenumbers\":\"strict\",\"colorway\":[\"#636efa\",\"#EF553B\",\"#00cc96\",\"#ab63fa\",\"#FFA15A\",\"#19d3f3\",\"#FF6692\",\"#B6E880\",\"#FF97FF\",\"#FECB52\"],\"font\":{\"color\":\"#2a3f5f\"},\"hovermode\":\"closest\",\"hoverlabel\":{\"align\":\"left\"},\"paper_bgcolor\":\"white\",\"plot_bgcolor\":\"#E5ECF6\",\"polar\":{\"bgcolor\":\"#E5ECF6\",\"angularaxis\":{\"gridcolor\":\"white\",\"linecolor\":\"white\",\"ticks\":\"\"},\"radialaxis\":{\"gridcolor\":\"white\",\"linecolor\":\"white\",\"ticks\":\"\"}},\"ternary\":{\"bgcolor\":\"#E5ECF6\",\"aaxis\":{\"gridcolor\":\"white\",\"linecolor\":\"white\",\"ticks\":\"\"},\"baxis\":{\"gridcolor\":\"white\",\"linecolor\":\"white\",\"ticks\":\"\"},\"caxis\":{\"gridcolor\":\"white\",\"linecolor\":\"white\",\"ticks\":\"\"}},\"coloraxis\":{\"colorbar\":{\"outlinewidth\":0,\"ticks\":\"\"}},\"colorscale\":{\"sequential\":[[0.0,\"#0d0887\"],[0.1111111111111111,\"#46039f\"],[0.2222222222222222,\"#7201a8\"],[0.3333333333333333,\"#9c179e\"],[0.4444444444444444,\"#bd3786\"],[0.5555555555555556,\"#d8576b\"],[0.6666666666666666,\"#ed7953\"],[0.7777777777777778,\"#fb9f3a\"],[0.8888888888888888,\"#fdca26\"],[1.0,\"#f0f921\"]],\"sequentialminus\":[[0.0,\"#0d0887\"],[0.1111111111111111,\"#46039f\"],[0.2222222222222222,\"#7201a8\"],[0.3333333333333333,\"#9c179e\"],[0.4444444444444444,\"#bd3786\"],[0.5555555555555556,\"#d8576b\"],[0.6666666666666666,\"#ed7953\"],[0.7777777777777778,\"#fb9f3a\"],[0.8888888888888888,\"#fdca26\"],[1.0,\"#f0f921\"]],\"diverging\":[[0,\"#8e0152\"],[0.1,\"#c51b7d\"],[0.2,\"#de77ae\"],[0.3,\"#f1b6da\"],[0.4,\"#fde0ef\"],[0.5,\"#f7f7f7\"],[0.6,\"#e6f5d0\"],[0.7,\"#b8e186\"],[0.8,\"#7fbc41\"],[0.9,\"#4d9221\"],[1,\"#276419\"]]},\"xaxis\":{\"gridcolor\":\"white\",\"linecolor\":\"white\",\"ticks\":\"\",\"title\":{\"standoff\":15},\"zerolinecolor\":\"white\",\"automargin\":true,\"zerolinewidth\":2},\"yaxis\":{\"gridcolor\":\"white\",\"linecolor\":\"white\",\"ticks\":\"\",\"title\":{\"standoff\":15},\"zerolinecolor\":\"white\",\"automargin\":true,\"zerolinewidth\":2},\"scene\":{\"xaxis\":{\"backgroundcolor\":\"#E5ECF6\",\"gridcolor\":\"white\",\"linecolor\":\"white\",\"showbackground\":true,\"ticks\":\"\",\"zerolinecolor\":\"white\",\"gridwidth\":2},\"yaxis\":{\"backgroundcolor\":\"#E5ECF6\",\"gridcolor\":\"white\",\"linecolor\":\"white\",\"showbackground\":true,\"ticks\":\"\",\"zerolinecolor\":\"white\",\"gridwidth\":2},\"zaxis\":{\"backgroundcolor\":\"#E5ECF6\",\"gridcolor\":\"white\",\"linecolor\":\"white\",\"showbackground\":true,\"ticks\":\"\",\"zerolinecolor\":\"white\",\"gridwidth\":2}},\"shapedefaults\":{\"line\":{\"color\":\"#2a3f5f\"}},\"annotationdefaults\":{\"arrowcolor\":\"#2a3f5f\",\"arrowhead\":0,\"arrowwidth\":1},\"geo\":{\"bgcolor\":\"white\",\"landcolor\":\"#E5ECF6\",\"subunitcolor\":\"white\",\"showland\":true,\"showlakes\":true,\"lakecolor\":\"white\"},\"title\":{\"x\":0.05},\"mapbox\":{\"style\":\"light\"}}},\"xaxis\":{\"anchor\":\"y\",\"domain\":[0.0,1.0],\"title\":{\"text\":\"google_performance_max_spent\"}},\"yaxis\":{\"anchor\":\"x\",\"domain\":[0.0,1.0],\"title\":{\"text\":\"revenue\"}},\"legend\":{\"tracegroupgap\":0},\"margin\":{\"t\":60}},                        {\"responsive\": true}                    ).then(function(){\n",
       "                            \n",
       "var gd = document.getElementById('f25eef2f-8ede-49a4-9ab0-29738b5e0be8');\n",
       "var x = new MutationObserver(function (mutations, observer) {{\n",
       "        var display = window.getComputedStyle(gd).display;\n",
       "        if (!display || display === 'none') {{\n",
       "            console.log([gd, 'removed!']);\n",
       "            Plotly.purge(gd);\n",
       "            observer.disconnect();\n",
       "        }}\n",
       "}});\n",
       "\n",
       "// Listen for the removal of the full notebook cells\n",
       "var notebookContainer = gd.closest('#notebook-container');\n",
       "if (notebookContainer) {{\n",
       "    x.observe(notebookContainer, {childList: true});\n",
       "}}\n",
       "\n",
       "// Listen for the clearing of the current output cell\n",
       "var outputEl = gd.closest('.output');\n",
       "if (outputEl) {{\n",
       "    x.observe(outputEl, {childList: true});\n",
       "}}\n",
       "\n",
       "                        })                };                });            </script>        </div>"
      ]
     },
     "metadata": {},
     "output_type": "display_data"
    },
    {
     "data": {
      "application/vnd.plotly.v1+json": {
       "config": {
        "plotlyServerURL": "https://plot.ly"
       },
       "data": [
        {
         "hovertemplate": "google_search_spent=%{x}<br>revenue=%{y}<extra></extra>",
         "legendgroup": "",
         "marker": {
          "color": "#636efa",
          "symbol": "circle"
         },
         "mode": "markers",
         "name": "",
         "orientation": "v",
         "showlegend": false,
         "type": "scatter",
         "x": [
          151.48,
          261.7,
          207.53,
          204.25,
          189.94,
          136.96,
          155.6,
          165.28,
          218.59,
          213.36,
          166.35,
          124.66,
          220.89,
          101.47,
          256.16,
          465.36,
          309.14,
          323.04,
          0,
          0,
          0,
          0,
          0,
          0,
          0,
          29.37,
          0,
          0,
          0,
          0,
          195.03,
          274.67,
          315.2,
          248.9,
          191.42,
          219.69,
          270.34,
          246.75,
          242.74,
          243.32,
          237.29,
          238.08,
          239.85,
          244.96,
          251.15,
          266.63,
          62.92,
          456.87,
          243.29,
          235.99,
          310.16,
          296.56,
          291.38,
          513.77,
          282.63,
          175.33,
          143.22,
          277.44,
          355.57,
          318.41,
          248.74,
          259.67,
          102.21,
          100.49,
          225.87,
          215.88,
          231.17,
          301.79,
          258.79,
          74.95,
          77.87,
          221.25,
          214.76,
          224.68,
          221.23,
          213.97,
          76.88,
          77.34,
          241.72,
          208.71,
          245.19,
          237.89,
          219.73,
          75.46,
          72.48,
          217.99,
          207.53,
          210.18,
          232.82,
          266.43,
          76.74,
          89.92,
          310.62,
          308.04,
          367.43,
          428.77,
          513.3,
          77.55,
          80.04,
          490.61,
          397.13,
          372.06,
          529.41,
          146.56,
          77.16,
          76.06,
          251.04,
          506.36,
          562.99,
          301.05,
          209.69,
          56.3,
          78.73,
          271.23,
          211.53,
          189.74,
          138.82,
          424.17,
          78.26,
          75.14,
          432.81,
          400.59,
          417.66,
          420.74,
          387.94,
          111.54,
          120.12,
          440.56,
          442.4,
          425.08,
          404.4,
          269.32,
          103.53,
          103.63,
          378,
          890.74,
          644.21,
          390.07,
          241.98,
          96.02,
          94.19,
          332.75,
          417.44,
          472.08,
          403.28,
          281.57,
          86.89,
          86.6,
          312.94,
          330.17,
          332.9,
          319.09,
          193.66,
          87.46,
          89.11,
          319.04,
          342.44,
          373.35,
          347.75,
          258.1,
          92.04,
          86.37,
          42.17
         ],
         "xaxis": "x",
         "y": [
          2461.81,
          6918.33,
          5101.67,
          5335.02,
          4384.38,
          2564.39,
          1507.22,
          3035.38,
          6164.88,
          5666.57,
          5529.19,
          4364.27,
          3441.28,
          1503.72,
          3075.01,
          7223.64,
          6191.63,
          6401.52,
          6006.66,
          3259.89,
          2036.57,
          2537.66,
          5131.19,
          5867.37,
          5541.04,
          4897.76,
          3133.15,
          1820.66,
          2907.35,
          6008.83,
          5485.87,
          5291.73,
          4846.12,
          3644.88,
          1870.71,
          3446.23,
          6795.43,
          5735.92,
          5906.51,
          5183.68,
          3128.48,
          1754.73,
          3043.88,
          5978.04,
          6321.35,
          6043.38,
          4429.38,
          2202.1,
          1740.83,
          1502.6,
          3861.43,
          6534.55,
          5504.45,
          5211.69,
          4218.57,
          2450.73,
          3373.6,
          6543.42,
          6254.53,
          6275.99,
          4800.1,
          2938.72,
          1883.86,
          3064.84,
          5960.51,
          6200.39,
          6126.07,
          4558.39,
          2533.53,
          1489.06,
          3292.68,
          6994.01,
          5961.43,
          5353.82,
          17697.95,
          13613.81,
          2402.75,
          3436.36,
          6987.25,
          4960.64,
          5485.93,
          5306.16,
          5301.18,
          2587.16,
          4190.47,
          7525.98,
          6415.08,
          4915.72,
          7788.17,
          6990.86,
          3055.72,
          4843.64,
          10482.65,
          10581.56,
          9520.25,
          10487.03,
          7024.91,
          3420.89,
          5850.73,
          26047.24,
          20130.25,
          5793.67,
          3231.42,
          1450.1,
          731.38,
          2075.78,
          6543.32,
          7426.74,
          4921.18,
          6507.9,
          1699.36,
          1334.25,
          2450.69,
          5677.11,
          5337.76,
          3523.35,
          2951.59,
          3990.13,
          3120.34,
          3141.9,
          7159.45,
          6919.14,
          5980.13,
          5737.6,
          4374.84,
          2179.55,
          3599.79,
          7773.84,
          7728.56,
          7172.95,
          5583.26,
          3689.49,
          2148.72,
          2861.71,
          6677.14,
          6894.49,
          6107.54,
          6592.92,
          4045.78,
          5824.62,
          3219.01,
          8797.88,
          7117.38,
          5999.78,
          5045.91,
          4362.41,
          1849.98,
          3422.41,
          7877.16,
          6893.43,
          6278.3,
          6400.52,
          3921.14,
          2325.44,
          3174.37,
          7166.95,
          7475.88,
          5648.14,
          6061.37,
          3722.15,
          2670.47,
          3385.87,
          372.27
         ],
         "yaxis": "y"
        }
       ],
       "layout": {
        "legend": {
         "tracegroupgap": 0
        },
        "margin": {
         "t": 60
        },
        "template": {
         "data": {
          "bar": [
           {
            "error_x": {
             "color": "#2a3f5f"
            },
            "error_y": {
             "color": "#2a3f5f"
            },
            "marker": {
             "line": {
              "color": "#E5ECF6",
              "width": 0.5
             },
             "pattern": {
              "fillmode": "overlay",
              "size": 10,
              "solidity": 0.2
             }
            },
            "type": "bar"
           }
          ],
          "barpolar": [
           {
            "marker": {
             "line": {
              "color": "#E5ECF6",
              "width": 0.5
             },
             "pattern": {
              "fillmode": "overlay",
              "size": 10,
              "solidity": 0.2
             }
            },
            "type": "barpolar"
           }
          ],
          "carpet": [
           {
            "aaxis": {
             "endlinecolor": "#2a3f5f",
             "gridcolor": "white",
             "linecolor": "white",
             "minorgridcolor": "white",
             "startlinecolor": "#2a3f5f"
            },
            "baxis": {
             "endlinecolor": "#2a3f5f",
             "gridcolor": "white",
             "linecolor": "white",
             "minorgridcolor": "white",
             "startlinecolor": "#2a3f5f"
            },
            "type": "carpet"
           }
          ],
          "choropleth": [
           {
            "colorbar": {
             "outlinewidth": 0,
             "ticks": ""
            },
            "type": "choropleth"
           }
          ],
          "contour": [
           {
            "colorbar": {
             "outlinewidth": 0,
             "ticks": ""
            },
            "colorscale": [
             [
              0,
              "#0d0887"
             ],
             [
              0.1111111111111111,
              "#46039f"
             ],
             [
              0.2222222222222222,
              "#7201a8"
             ],
             [
              0.3333333333333333,
              "#9c179e"
             ],
             [
              0.4444444444444444,
              "#bd3786"
             ],
             [
              0.5555555555555556,
              "#d8576b"
             ],
             [
              0.6666666666666666,
              "#ed7953"
             ],
             [
              0.7777777777777778,
              "#fb9f3a"
             ],
             [
              0.8888888888888888,
              "#fdca26"
             ],
             [
              1,
              "#f0f921"
             ]
            ],
            "type": "contour"
           }
          ],
          "contourcarpet": [
           {
            "colorbar": {
             "outlinewidth": 0,
             "ticks": ""
            },
            "type": "contourcarpet"
           }
          ],
          "heatmap": [
           {
            "colorbar": {
             "outlinewidth": 0,
             "ticks": ""
            },
            "colorscale": [
             [
              0,
              "#0d0887"
             ],
             [
              0.1111111111111111,
              "#46039f"
             ],
             [
              0.2222222222222222,
              "#7201a8"
             ],
             [
              0.3333333333333333,
              "#9c179e"
             ],
             [
              0.4444444444444444,
              "#bd3786"
             ],
             [
              0.5555555555555556,
              "#d8576b"
             ],
             [
              0.6666666666666666,
              "#ed7953"
             ],
             [
              0.7777777777777778,
              "#fb9f3a"
             ],
             [
              0.8888888888888888,
              "#fdca26"
             ],
             [
              1,
              "#f0f921"
             ]
            ],
            "type": "heatmap"
           }
          ],
          "heatmapgl": [
           {
            "colorbar": {
             "outlinewidth": 0,
             "ticks": ""
            },
            "colorscale": [
             [
              0,
              "#0d0887"
             ],
             [
              0.1111111111111111,
              "#46039f"
             ],
             [
              0.2222222222222222,
              "#7201a8"
             ],
             [
              0.3333333333333333,
              "#9c179e"
             ],
             [
              0.4444444444444444,
              "#bd3786"
             ],
             [
              0.5555555555555556,
              "#d8576b"
             ],
             [
              0.6666666666666666,
              "#ed7953"
             ],
             [
              0.7777777777777778,
              "#fb9f3a"
             ],
             [
              0.8888888888888888,
              "#fdca26"
             ],
             [
              1,
              "#f0f921"
             ]
            ],
            "type": "heatmapgl"
           }
          ],
          "histogram": [
           {
            "marker": {
             "pattern": {
              "fillmode": "overlay",
              "size": 10,
              "solidity": 0.2
             }
            },
            "type": "histogram"
           }
          ],
          "histogram2d": [
           {
            "colorbar": {
             "outlinewidth": 0,
             "ticks": ""
            },
            "colorscale": [
             [
              0,
              "#0d0887"
             ],
             [
              0.1111111111111111,
              "#46039f"
             ],
             [
              0.2222222222222222,
              "#7201a8"
             ],
             [
              0.3333333333333333,
              "#9c179e"
             ],
             [
              0.4444444444444444,
              "#bd3786"
             ],
             [
              0.5555555555555556,
              "#d8576b"
             ],
             [
              0.6666666666666666,
              "#ed7953"
             ],
             [
              0.7777777777777778,
              "#fb9f3a"
             ],
             [
              0.8888888888888888,
              "#fdca26"
             ],
             [
              1,
              "#f0f921"
             ]
            ],
            "type": "histogram2d"
           }
          ],
          "histogram2dcontour": [
           {
            "colorbar": {
             "outlinewidth": 0,
             "ticks": ""
            },
            "colorscale": [
             [
              0,
              "#0d0887"
             ],
             [
              0.1111111111111111,
              "#46039f"
             ],
             [
              0.2222222222222222,
              "#7201a8"
             ],
             [
              0.3333333333333333,
              "#9c179e"
             ],
             [
              0.4444444444444444,
              "#bd3786"
             ],
             [
              0.5555555555555556,
              "#d8576b"
             ],
             [
              0.6666666666666666,
              "#ed7953"
             ],
             [
              0.7777777777777778,
              "#fb9f3a"
             ],
             [
              0.8888888888888888,
              "#fdca26"
             ],
             [
              1,
              "#f0f921"
             ]
            ],
            "type": "histogram2dcontour"
           }
          ],
          "mesh3d": [
           {
            "colorbar": {
             "outlinewidth": 0,
             "ticks": ""
            },
            "type": "mesh3d"
           }
          ],
          "parcoords": [
           {
            "line": {
             "colorbar": {
              "outlinewidth": 0,
              "ticks": ""
             }
            },
            "type": "parcoords"
           }
          ],
          "pie": [
           {
            "automargin": true,
            "type": "pie"
           }
          ],
          "scatter": [
           {
            "fillpattern": {
             "fillmode": "overlay",
             "size": 10,
             "solidity": 0.2
            },
            "type": "scatter"
           }
          ],
          "scatter3d": [
           {
            "line": {
             "colorbar": {
              "outlinewidth": 0,
              "ticks": ""
             }
            },
            "marker": {
             "colorbar": {
              "outlinewidth": 0,
              "ticks": ""
             }
            },
            "type": "scatter3d"
           }
          ],
          "scattercarpet": [
           {
            "marker": {
             "colorbar": {
              "outlinewidth": 0,
              "ticks": ""
             }
            },
            "type": "scattercarpet"
           }
          ],
          "scattergeo": [
           {
            "marker": {
             "colorbar": {
              "outlinewidth": 0,
              "ticks": ""
             }
            },
            "type": "scattergeo"
           }
          ],
          "scattergl": [
           {
            "marker": {
             "colorbar": {
              "outlinewidth": 0,
              "ticks": ""
             }
            },
            "type": "scattergl"
           }
          ],
          "scattermapbox": [
           {
            "marker": {
             "colorbar": {
              "outlinewidth": 0,
              "ticks": ""
             }
            },
            "type": "scattermapbox"
           }
          ],
          "scatterpolar": [
           {
            "marker": {
             "colorbar": {
              "outlinewidth": 0,
              "ticks": ""
             }
            },
            "type": "scatterpolar"
           }
          ],
          "scatterpolargl": [
           {
            "marker": {
             "colorbar": {
              "outlinewidth": 0,
              "ticks": ""
             }
            },
            "type": "scatterpolargl"
           }
          ],
          "scatterternary": [
           {
            "marker": {
             "colorbar": {
              "outlinewidth": 0,
              "ticks": ""
             }
            },
            "type": "scatterternary"
           }
          ],
          "surface": [
           {
            "colorbar": {
             "outlinewidth": 0,
             "ticks": ""
            },
            "colorscale": [
             [
              0,
              "#0d0887"
             ],
             [
              0.1111111111111111,
              "#46039f"
             ],
             [
              0.2222222222222222,
              "#7201a8"
             ],
             [
              0.3333333333333333,
              "#9c179e"
             ],
             [
              0.4444444444444444,
              "#bd3786"
             ],
             [
              0.5555555555555556,
              "#d8576b"
             ],
             [
              0.6666666666666666,
              "#ed7953"
             ],
             [
              0.7777777777777778,
              "#fb9f3a"
             ],
             [
              0.8888888888888888,
              "#fdca26"
             ],
             [
              1,
              "#f0f921"
             ]
            ],
            "type": "surface"
           }
          ],
          "table": [
           {
            "cells": {
             "fill": {
              "color": "#EBF0F8"
             },
             "line": {
              "color": "white"
             }
            },
            "header": {
             "fill": {
              "color": "#C8D4E3"
             },
             "line": {
              "color": "white"
             }
            },
            "type": "table"
           }
          ]
         },
         "layout": {
          "annotationdefaults": {
           "arrowcolor": "#2a3f5f",
           "arrowhead": 0,
           "arrowwidth": 1
          },
          "autotypenumbers": "strict",
          "coloraxis": {
           "colorbar": {
            "outlinewidth": 0,
            "ticks": ""
           }
          },
          "colorscale": {
           "diverging": [
            [
             0,
             "#8e0152"
            ],
            [
             0.1,
             "#c51b7d"
            ],
            [
             0.2,
             "#de77ae"
            ],
            [
             0.3,
             "#f1b6da"
            ],
            [
             0.4,
             "#fde0ef"
            ],
            [
             0.5,
             "#f7f7f7"
            ],
            [
             0.6,
             "#e6f5d0"
            ],
            [
             0.7,
             "#b8e186"
            ],
            [
             0.8,
             "#7fbc41"
            ],
            [
             0.9,
             "#4d9221"
            ],
            [
             1,
             "#276419"
            ]
           ],
           "sequential": [
            [
             0,
             "#0d0887"
            ],
            [
             0.1111111111111111,
             "#46039f"
            ],
            [
             0.2222222222222222,
             "#7201a8"
            ],
            [
             0.3333333333333333,
             "#9c179e"
            ],
            [
             0.4444444444444444,
             "#bd3786"
            ],
            [
             0.5555555555555556,
             "#d8576b"
            ],
            [
             0.6666666666666666,
             "#ed7953"
            ],
            [
             0.7777777777777778,
             "#fb9f3a"
            ],
            [
             0.8888888888888888,
             "#fdca26"
            ],
            [
             1,
             "#f0f921"
            ]
           ],
           "sequentialminus": [
            [
             0,
             "#0d0887"
            ],
            [
             0.1111111111111111,
             "#46039f"
            ],
            [
             0.2222222222222222,
             "#7201a8"
            ],
            [
             0.3333333333333333,
             "#9c179e"
            ],
            [
             0.4444444444444444,
             "#bd3786"
            ],
            [
             0.5555555555555556,
             "#d8576b"
            ],
            [
             0.6666666666666666,
             "#ed7953"
            ],
            [
             0.7777777777777778,
             "#fb9f3a"
            ],
            [
             0.8888888888888888,
             "#fdca26"
            ],
            [
             1,
             "#f0f921"
            ]
           ]
          },
          "colorway": [
           "#636efa",
           "#EF553B",
           "#00cc96",
           "#ab63fa",
           "#FFA15A",
           "#19d3f3",
           "#FF6692",
           "#B6E880",
           "#FF97FF",
           "#FECB52"
          ],
          "font": {
           "color": "#2a3f5f"
          },
          "geo": {
           "bgcolor": "white",
           "lakecolor": "white",
           "landcolor": "#E5ECF6",
           "showlakes": true,
           "showland": true,
           "subunitcolor": "white"
          },
          "hoverlabel": {
           "align": "left"
          },
          "hovermode": "closest",
          "mapbox": {
           "style": "light"
          },
          "paper_bgcolor": "white",
          "plot_bgcolor": "#E5ECF6",
          "polar": {
           "angularaxis": {
            "gridcolor": "white",
            "linecolor": "white",
            "ticks": ""
           },
           "bgcolor": "#E5ECF6",
           "radialaxis": {
            "gridcolor": "white",
            "linecolor": "white",
            "ticks": ""
           }
          },
          "scene": {
           "xaxis": {
            "backgroundcolor": "#E5ECF6",
            "gridcolor": "white",
            "gridwidth": 2,
            "linecolor": "white",
            "showbackground": true,
            "ticks": "",
            "zerolinecolor": "white"
           },
           "yaxis": {
            "backgroundcolor": "#E5ECF6",
            "gridcolor": "white",
            "gridwidth": 2,
            "linecolor": "white",
            "showbackground": true,
            "ticks": "",
            "zerolinecolor": "white"
           },
           "zaxis": {
            "backgroundcolor": "#E5ECF6",
            "gridcolor": "white",
            "gridwidth": 2,
            "linecolor": "white",
            "showbackground": true,
            "ticks": "",
            "zerolinecolor": "white"
           }
          },
          "shapedefaults": {
           "line": {
            "color": "#2a3f5f"
           }
          },
          "ternary": {
           "aaxis": {
            "gridcolor": "white",
            "linecolor": "white",
            "ticks": ""
           },
           "baxis": {
            "gridcolor": "white",
            "linecolor": "white",
            "ticks": ""
           },
           "bgcolor": "#E5ECF6",
           "caxis": {
            "gridcolor": "white",
            "linecolor": "white",
            "ticks": ""
           }
          },
          "title": {
           "x": 0.05
          },
          "xaxis": {
           "automargin": true,
           "gridcolor": "white",
           "linecolor": "white",
           "ticks": "",
           "title": {
            "standoff": 15
           },
           "zerolinecolor": "white",
           "zerolinewidth": 2
          },
          "yaxis": {
           "automargin": true,
           "gridcolor": "white",
           "linecolor": "white",
           "ticks": "",
           "title": {
            "standoff": 15
           },
           "zerolinecolor": "white",
           "zerolinewidth": 2
          }
         }
        },
        "xaxis": {
         "anchor": "y",
         "domain": [
          0,
          1
         ],
         "title": {
          "text": "google_search_spent"
         }
        },
        "yaxis": {
         "anchor": "x",
         "domain": [
          0,
          1
         ],
         "title": {
          "text": "revenue"
         }
        }
       }
      },
      "text/html": [
       "<div>                            <div id=\"82f23c2b-c95a-4604-ac8f-3b53db2ddff9\" class=\"plotly-graph-div\" style=\"height:525px; width:100%;\"></div>            <script type=\"text/javascript\">                require([\"plotly\"], function(Plotly) {                    window.PLOTLYENV=window.PLOTLYENV || {};                                    if (document.getElementById(\"82f23c2b-c95a-4604-ac8f-3b53db2ddff9\")) {                    Plotly.newPlot(                        \"82f23c2b-c95a-4604-ac8f-3b53db2ddff9\",                        [{\"hovertemplate\":\"google_search_spent=%{x}<br>revenue=%{y}<extra></extra>\",\"legendgroup\":\"\",\"marker\":{\"color\":\"#636efa\",\"symbol\":\"circle\"},\"mode\":\"markers\",\"name\":\"\",\"orientation\":\"v\",\"showlegend\":false,\"x\":[151.48,261.7,207.53,204.25,189.94,136.96,155.6,165.28,218.59,213.36,166.35,124.66,220.89,101.47,256.16,465.36,309.14,323.04,0.0,0.0,0.0,0.0,0.0,0.0,0.0,29.37,0.0,0.0,0.0,0.0,195.03,274.67,315.2,248.9,191.42,219.69,270.34,246.75,242.74,243.32,237.29,238.08,239.85,244.96,251.15,266.63,62.92,456.87,243.29,235.99,310.16,296.56,291.38,513.77,282.63,175.33,143.22,277.44,355.57,318.41,248.74,259.67,102.21,100.49,225.87,215.88,231.17,301.79,258.79,74.95,77.87,221.25,214.76,224.68,221.23,213.97,76.88,77.34,241.72,208.71,245.19,237.89,219.73,75.46,72.48,217.99,207.53,210.18,232.82,266.43,76.74,89.92,310.62,308.04,367.43,428.77,513.3,77.55,80.04,490.61,397.13,372.06,529.41,146.56,77.16,76.06,251.04,506.36,562.99,301.05,209.69,56.3,78.73,271.23,211.53,189.74,138.82,424.17,78.26,75.14,432.81,400.59,417.66,420.74,387.94,111.54,120.12,440.56,442.4,425.08,404.4,269.32,103.53,103.63,378.0,890.74,644.21,390.07,241.98,96.02,94.19,332.75,417.44,472.08,403.28,281.57,86.89,86.6,312.94,330.17,332.9,319.09,193.66,87.46,89.11,319.04,342.44,373.35,347.75,258.1,92.04,86.37,42.17],\"xaxis\":\"x\",\"y\":[2461.81,6918.33,5101.67,5335.02,4384.38,2564.39,1507.22,3035.38,6164.88,5666.57,5529.19,4364.27,3441.28,1503.72,3075.01,7223.64,6191.63,6401.52,6006.66,3259.89,2036.57,2537.66,5131.19,5867.37,5541.04,4897.76,3133.15,1820.66,2907.35,6008.83,5485.87,5291.73,4846.12,3644.88,1870.71,3446.23,6795.43,5735.92,5906.51,5183.68,3128.48,1754.73,3043.88,5978.04,6321.35,6043.38,4429.38,2202.1,1740.83,1502.6,3861.43,6534.55,5504.45,5211.69,4218.57,2450.73,3373.6,6543.42,6254.53,6275.99,4800.1,2938.72,1883.86,3064.84,5960.51,6200.39,6126.07,4558.39,2533.53,1489.06,3292.68,6994.01,5961.43,5353.82,17697.95,13613.81,2402.75,3436.36,6987.25,4960.64,5485.93,5306.16,5301.18,2587.16,4190.47,7525.98,6415.08,4915.72,7788.17,6990.86,3055.72,4843.64,10482.65,10581.56,9520.25,10487.03,7024.91,3420.89,5850.73,26047.24,20130.25,5793.67,3231.42,1450.1,731.38,2075.78,6543.32,7426.74,4921.18,6507.9,1699.36,1334.25,2450.69,5677.11,5337.76,3523.35,2951.59,3990.13,3120.34,3141.9,7159.45,6919.14,5980.13,5737.6,4374.84,2179.55,3599.79,7773.84,7728.56,7172.95,5583.26,3689.49,2148.72,2861.71,6677.14,6894.49,6107.54,6592.92,4045.78,5824.62,3219.01,8797.88,7117.38,5999.78,5045.91,4362.41,1849.98,3422.41,7877.16,6893.43,6278.3,6400.52,3921.14,2325.44,3174.37,7166.95,7475.88,5648.14,6061.37,3722.15,2670.47,3385.87,372.27],\"yaxis\":\"y\",\"type\":\"scatter\"}],                        {\"template\":{\"data\":{\"histogram2dcontour\":[{\"type\":\"histogram2dcontour\",\"colorbar\":{\"outlinewidth\":0,\"ticks\":\"\"},\"colorscale\":[[0.0,\"#0d0887\"],[0.1111111111111111,\"#46039f\"],[0.2222222222222222,\"#7201a8\"],[0.3333333333333333,\"#9c179e\"],[0.4444444444444444,\"#bd3786\"],[0.5555555555555556,\"#d8576b\"],[0.6666666666666666,\"#ed7953\"],[0.7777777777777778,\"#fb9f3a\"],[0.8888888888888888,\"#fdca26\"],[1.0,\"#f0f921\"]]}],\"choropleth\":[{\"type\":\"choropleth\",\"colorbar\":{\"outlinewidth\":0,\"ticks\":\"\"}}],\"histogram2d\":[{\"type\":\"histogram2d\",\"colorbar\":{\"outlinewidth\":0,\"ticks\":\"\"},\"colorscale\":[[0.0,\"#0d0887\"],[0.1111111111111111,\"#46039f\"],[0.2222222222222222,\"#7201a8\"],[0.3333333333333333,\"#9c179e\"],[0.4444444444444444,\"#bd3786\"],[0.5555555555555556,\"#d8576b\"],[0.6666666666666666,\"#ed7953\"],[0.7777777777777778,\"#fb9f3a\"],[0.8888888888888888,\"#fdca26\"],[1.0,\"#f0f921\"]]}],\"heatmap\":[{\"type\":\"heatmap\",\"colorbar\":{\"outlinewidth\":0,\"ticks\":\"\"},\"colorscale\":[[0.0,\"#0d0887\"],[0.1111111111111111,\"#46039f\"],[0.2222222222222222,\"#7201a8\"],[0.3333333333333333,\"#9c179e\"],[0.4444444444444444,\"#bd3786\"],[0.5555555555555556,\"#d8576b\"],[0.6666666666666666,\"#ed7953\"],[0.7777777777777778,\"#fb9f3a\"],[0.8888888888888888,\"#fdca26\"],[1.0,\"#f0f921\"]]}],\"heatmapgl\":[{\"type\":\"heatmapgl\",\"colorbar\":{\"outlinewidth\":0,\"ticks\":\"\"},\"colorscale\":[[0.0,\"#0d0887\"],[0.1111111111111111,\"#46039f\"],[0.2222222222222222,\"#7201a8\"],[0.3333333333333333,\"#9c179e\"],[0.4444444444444444,\"#bd3786\"],[0.5555555555555556,\"#d8576b\"],[0.6666666666666666,\"#ed7953\"],[0.7777777777777778,\"#fb9f3a\"],[0.8888888888888888,\"#fdca26\"],[1.0,\"#f0f921\"]]}],\"contourcarpet\":[{\"type\":\"contourcarpet\",\"colorbar\":{\"outlinewidth\":0,\"ticks\":\"\"}}],\"contour\":[{\"type\":\"contour\",\"colorbar\":{\"outlinewidth\":0,\"ticks\":\"\"},\"colorscale\":[[0.0,\"#0d0887\"],[0.1111111111111111,\"#46039f\"],[0.2222222222222222,\"#7201a8\"],[0.3333333333333333,\"#9c179e\"],[0.4444444444444444,\"#bd3786\"],[0.5555555555555556,\"#d8576b\"],[0.6666666666666666,\"#ed7953\"],[0.7777777777777778,\"#fb9f3a\"],[0.8888888888888888,\"#fdca26\"],[1.0,\"#f0f921\"]]}],\"surface\":[{\"type\":\"surface\",\"colorbar\":{\"outlinewidth\":0,\"ticks\":\"\"},\"colorscale\":[[0.0,\"#0d0887\"],[0.1111111111111111,\"#46039f\"],[0.2222222222222222,\"#7201a8\"],[0.3333333333333333,\"#9c179e\"],[0.4444444444444444,\"#bd3786\"],[0.5555555555555556,\"#d8576b\"],[0.6666666666666666,\"#ed7953\"],[0.7777777777777778,\"#fb9f3a\"],[0.8888888888888888,\"#fdca26\"],[1.0,\"#f0f921\"]]}],\"mesh3d\":[{\"type\":\"mesh3d\",\"colorbar\":{\"outlinewidth\":0,\"ticks\":\"\"}}],\"scatter\":[{\"fillpattern\":{\"fillmode\":\"overlay\",\"size\":10,\"solidity\":0.2},\"type\":\"scatter\"}],\"parcoords\":[{\"type\":\"parcoords\",\"line\":{\"colorbar\":{\"outlinewidth\":0,\"ticks\":\"\"}}}],\"scatterpolargl\":[{\"type\":\"scatterpolargl\",\"marker\":{\"colorbar\":{\"outlinewidth\":0,\"ticks\":\"\"}}}],\"bar\":[{\"error_x\":{\"color\":\"#2a3f5f\"},\"error_y\":{\"color\":\"#2a3f5f\"},\"marker\":{\"line\":{\"color\":\"#E5ECF6\",\"width\":0.5},\"pattern\":{\"fillmode\":\"overlay\",\"size\":10,\"solidity\":0.2}},\"type\":\"bar\"}],\"scattergeo\":[{\"type\":\"scattergeo\",\"marker\":{\"colorbar\":{\"outlinewidth\":0,\"ticks\":\"\"}}}],\"scatterpolar\":[{\"type\":\"scatterpolar\",\"marker\":{\"colorbar\":{\"outlinewidth\":0,\"ticks\":\"\"}}}],\"histogram\":[{\"marker\":{\"pattern\":{\"fillmode\":\"overlay\",\"size\":10,\"solidity\":0.2}},\"type\":\"histogram\"}],\"scattergl\":[{\"type\":\"scattergl\",\"marker\":{\"colorbar\":{\"outlinewidth\":0,\"ticks\":\"\"}}}],\"scatter3d\":[{\"type\":\"scatter3d\",\"line\":{\"colorbar\":{\"outlinewidth\":0,\"ticks\":\"\"}},\"marker\":{\"colorbar\":{\"outlinewidth\":0,\"ticks\":\"\"}}}],\"scattermapbox\":[{\"type\":\"scattermapbox\",\"marker\":{\"colorbar\":{\"outlinewidth\":0,\"ticks\":\"\"}}}],\"scatterternary\":[{\"type\":\"scatterternary\",\"marker\":{\"colorbar\":{\"outlinewidth\":0,\"ticks\":\"\"}}}],\"scattercarpet\":[{\"type\":\"scattercarpet\",\"marker\":{\"colorbar\":{\"outlinewidth\":0,\"ticks\":\"\"}}}],\"carpet\":[{\"aaxis\":{\"endlinecolor\":\"#2a3f5f\",\"gridcolor\":\"white\",\"linecolor\":\"white\",\"minorgridcolor\":\"white\",\"startlinecolor\":\"#2a3f5f\"},\"baxis\":{\"endlinecolor\":\"#2a3f5f\",\"gridcolor\":\"white\",\"linecolor\":\"white\",\"minorgridcolor\":\"white\",\"startlinecolor\":\"#2a3f5f\"},\"type\":\"carpet\"}],\"table\":[{\"cells\":{\"fill\":{\"color\":\"#EBF0F8\"},\"line\":{\"color\":\"white\"}},\"header\":{\"fill\":{\"color\":\"#C8D4E3\"},\"line\":{\"color\":\"white\"}},\"type\":\"table\"}],\"barpolar\":[{\"marker\":{\"line\":{\"color\":\"#E5ECF6\",\"width\":0.5},\"pattern\":{\"fillmode\":\"overlay\",\"size\":10,\"solidity\":0.2}},\"type\":\"barpolar\"}],\"pie\":[{\"automargin\":true,\"type\":\"pie\"}]},\"layout\":{\"autotypenumbers\":\"strict\",\"colorway\":[\"#636efa\",\"#EF553B\",\"#00cc96\",\"#ab63fa\",\"#FFA15A\",\"#19d3f3\",\"#FF6692\",\"#B6E880\",\"#FF97FF\",\"#FECB52\"],\"font\":{\"color\":\"#2a3f5f\"},\"hovermode\":\"closest\",\"hoverlabel\":{\"align\":\"left\"},\"paper_bgcolor\":\"white\",\"plot_bgcolor\":\"#E5ECF6\",\"polar\":{\"bgcolor\":\"#E5ECF6\",\"angularaxis\":{\"gridcolor\":\"white\",\"linecolor\":\"white\",\"ticks\":\"\"},\"radialaxis\":{\"gridcolor\":\"white\",\"linecolor\":\"white\",\"ticks\":\"\"}},\"ternary\":{\"bgcolor\":\"#E5ECF6\",\"aaxis\":{\"gridcolor\":\"white\",\"linecolor\":\"white\",\"ticks\":\"\"},\"baxis\":{\"gridcolor\":\"white\",\"linecolor\":\"white\",\"ticks\":\"\"},\"caxis\":{\"gridcolor\":\"white\",\"linecolor\":\"white\",\"ticks\":\"\"}},\"coloraxis\":{\"colorbar\":{\"outlinewidth\":0,\"ticks\":\"\"}},\"colorscale\":{\"sequential\":[[0.0,\"#0d0887\"],[0.1111111111111111,\"#46039f\"],[0.2222222222222222,\"#7201a8\"],[0.3333333333333333,\"#9c179e\"],[0.4444444444444444,\"#bd3786\"],[0.5555555555555556,\"#d8576b\"],[0.6666666666666666,\"#ed7953\"],[0.7777777777777778,\"#fb9f3a\"],[0.8888888888888888,\"#fdca26\"],[1.0,\"#f0f921\"]],\"sequentialminus\":[[0.0,\"#0d0887\"],[0.1111111111111111,\"#46039f\"],[0.2222222222222222,\"#7201a8\"],[0.3333333333333333,\"#9c179e\"],[0.4444444444444444,\"#bd3786\"],[0.5555555555555556,\"#d8576b\"],[0.6666666666666666,\"#ed7953\"],[0.7777777777777778,\"#fb9f3a\"],[0.8888888888888888,\"#fdca26\"],[1.0,\"#f0f921\"]],\"diverging\":[[0,\"#8e0152\"],[0.1,\"#c51b7d\"],[0.2,\"#de77ae\"],[0.3,\"#f1b6da\"],[0.4,\"#fde0ef\"],[0.5,\"#f7f7f7\"],[0.6,\"#e6f5d0\"],[0.7,\"#b8e186\"],[0.8,\"#7fbc41\"],[0.9,\"#4d9221\"],[1,\"#276419\"]]},\"xaxis\":{\"gridcolor\":\"white\",\"linecolor\":\"white\",\"ticks\":\"\",\"title\":{\"standoff\":15},\"zerolinecolor\":\"white\",\"automargin\":true,\"zerolinewidth\":2},\"yaxis\":{\"gridcolor\":\"white\",\"linecolor\":\"white\",\"ticks\":\"\",\"title\":{\"standoff\":15},\"zerolinecolor\":\"white\",\"automargin\":true,\"zerolinewidth\":2},\"scene\":{\"xaxis\":{\"backgroundcolor\":\"#E5ECF6\",\"gridcolor\":\"white\",\"linecolor\":\"white\",\"showbackground\":true,\"ticks\":\"\",\"zerolinecolor\":\"white\",\"gridwidth\":2},\"yaxis\":{\"backgroundcolor\":\"#E5ECF6\",\"gridcolor\":\"white\",\"linecolor\":\"white\",\"showbackground\":true,\"ticks\":\"\",\"zerolinecolor\":\"white\",\"gridwidth\":2},\"zaxis\":{\"backgroundcolor\":\"#E5ECF6\",\"gridcolor\":\"white\",\"linecolor\":\"white\",\"showbackground\":true,\"ticks\":\"\",\"zerolinecolor\":\"white\",\"gridwidth\":2}},\"shapedefaults\":{\"line\":{\"color\":\"#2a3f5f\"}},\"annotationdefaults\":{\"arrowcolor\":\"#2a3f5f\",\"arrowhead\":0,\"arrowwidth\":1},\"geo\":{\"bgcolor\":\"white\",\"landcolor\":\"#E5ECF6\",\"subunitcolor\":\"white\",\"showland\":true,\"showlakes\":true,\"lakecolor\":\"white\"},\"title\":{\"x\":0.05},\"mapbox\":{\"style\":\"light\"}}},\"xaxis\":{\"anchor\":\"y\",\"domain\":[0.0,1.0],\"title\":{\"text\":\"google_search_spent\"}},\"yaxis\":{\"anchor\":\"x\",\"domain\":[0.0,1.0],\"title\":{\"text\":\"revenue\"}},\"legend\":{\"tracegroupgap\":0},\"margin\":{\"t\":60}},                        {\"responsive\": true}                    ).then(function(){\n",
       "                            \n",
       "var gd = document.getElementById('82f23c2b-c95a-4604-ac8f-3b53db2ddff9');\n",
       "var x = new MutationObserver(function (mutations, observer) {{\n",
       "        var display = window.getComputedStyle(gd).display;\n",
       "        if (!display || display === 'none') {{\n",
       "            console.log([gd, 'removed!']);\n",
       "            Plotly.purge(gd);\n",
       "            observer.disconnect();\n",
       "        }}\n",
       "}});\n",
       "\n",
       "// Listen for the removal of the full notebook cells\n",
       "var notebookContainer = gd.closest('#notebook-container');\n",
       "if (notebookContainer) {{\n",
       "    x.observe(notebookContainer, {childList: true});\n",
       "}}\n",
       "\n",
       "// Listen for the clearing of the current output cell\n",
       "var outputEl = gd.closest('.output');\n",
       "if (outputEl) {{\n",
       "    x.observe(outputEl, {childList: true});\n",
       "}}\n",
       "\n",
       "                        })                };                });            </script>        </div>"
      ]
     },
     "metadata": {},
     "output_type": "display_data"
    },
    {
     "data": {
      "application/vnd.plotly.v1+json": {
       "config": {
        "plotlyServerURL": "https://plot.ly"
       },
       "data": [
        {
         "hovertemplate": "google_organico=%{x}<br>revenue=%{y}<extra></extra>",
         "legendgroup": "",
         "marker": {
          "color": "#636efa",
          "symbol": "circle"
         },
         "mode": "markers",
         "name": "",
         "orientation": "v",
         "showlegend": false,
         "type": "scatter",
         "x": [
          2603,
          5691,
          5616,
          5676,
          5398,
          4980,
          3229,
          2958,
          6089,
          5917,
          5727,
          5391,
          4536,
          2695,
          3212,
          6277,
          6143,
          6095,
          6020,
          5482,
          3143,
          3259,
          6597,
          6865,
          6421,
          6412,
          5710,
          3093,
          3077,
          6949,
          6684,
          6042,
          5691,
          5321,
          3141,
          3036,
          5883,
          5927,
          5759,
          5330,
          4995,
          2876,
          2943,
          6309,
          6072,
          6179,
          5429,
          5651,
          2945,
          2362,
          3476,
          6506,
          6827,
          6270,
          5724,
          3321,
          3370,
          6673,
          6880,
          6545,
          6587,
          5881,
          3581,
          3485,
          6658,
          6818,
          6269,
          6053,
          5637,
          3460,
          3581,
          7076,
          6945,
          6522,
          6352,
          5689,
          3873,
          3612,
          6929,
          6902,
          6978,
          6841,
          6944,
          4432,
          3960,
          7795,
          6720,
          4704,
          7857,
          7087,
          4509,
          4438,
          8700,
          8665,
          8836,
          8466,
          8033,
          5007,
          4439,
          8779,
          8182,
          7234,
          5822,
          3024,
          1910,
          2771,
          6468,
          6011,
          5644,
          4811,
          2676,
          2016,
          3144,
          6162,
          6206,
          5413,
          3861,
          5780,
          4413,
          3763,
          7149,
          7698,
          7329,
          6897,
          6565,
          3944,
          3604,
          7194,
          6919,
          6825,
          6566,
          5869,
          3926,
          3467,
          6947,
          6550,
          6101,
          5887,
          5645,
          3513,
          3325,
          6920,
          6464,
          6237,
          5813,
          5214,
          3248,
          3134,
          6491,
          6650,
          6060,
          5710,
          4921,
          3291,
          2809,
          5792,
          6155,
          5788,
          5003,
          4696,
          3058,
          1398,
          0
         ],
         "xaxis": "x",
         "y": [
          2461.81,
          6918.33,
          5101.67,
          5335.02,
          4384.38,
          2564.39,
          1507.22,
          3035.38,
          6164.88,
          5666.57,
          5529.19,
          4364.27,
          3441.28,
          1503.72,
          3075.01,
          7223.64,
          6191.63,
          6401.52,
          6006.66,
          3259.89,
          2036.57,
          2537.66,
          5131.19,
          5867.37,
          5541.04,
          4897.76,
          3133.15,
          1820.66,
          2907.35,
          6008.83,
          5485.87,
          5291.73,
          4846.12,
          3644.88,
          1870.71,
          3446.23,
          6795.43,
          5735.92,
          5906.51,
          5183.68,
          3128.48,
          1754.73,
          3043.88,
          5978.04,
          6321.35,
          6043.38,
          4429.38,
          2202.1,
          1740.83,
          1502.6,
          3861.43,
          6534.55,
          5504.45,
          5211.69,
          4218.57,
          2450.73,
          3373.6,
          6543.42,
          6254.53,
          6275.99,
          4800.1,
          2938.72,
          1883.86,
          3064.84,
          5960.51,
          6200.39,
          6126.07,
          4558.39,
          2533.53,
          1489.06,
          3292.68,
          6994.01,
          5961.43,
          5353.82,
          17697.95,
          13613.81,
          2402.75,
          3436.36,
          6987.25,
          4960.64,
          5485.93,
          5306.16,
          5301.18,
          2587.16,
          4190.47,
          7525.98,
          6415.08,
          4915.72,
          7788.17,
          6990.86,
          3055.72,
          4843.64,
          10482.65,
          10581.56,
          9520.25,
          10487.03,
          7024.91,
          3420.89,
          5850.73,
          26047.24,
          20130.25,
          5793.67,
          3231.42,
          1450.1,
          731.38,
          2075.78,
          6543.32,
          7426.74,
          4921.18,
          6507.9,
          1699.36,
          1334.25,
          2450.69,
          5677.11,
          5337.76,
          3523.35,
          2951.59,
          3990.13,
          3120.34,
          3141.9,
          7159.45,
          6919.14,
          5980.13,
          5737.6,
          4374.84,
          2179.55,
          3599.79,
          7773.84,
          7728.56,
          7172.95,
          5583.26,
          3689.49,
          2148.72,
          2861.71,
          6677.14,
          6894.49,
          6107.54,
          6592.92,
          4045.78,
          5824.62,
          3219.01,
          8797.88,
          7117.38,
          5999.78,
          5045.91,
          4362.41,
          1849.98,
          3422.41,
          7877.16,
          6893.43,
          6278.3,
          6400.52,
          3921.14,
          2325.44,
          3174.37,
          7166.95,
          7475.88,
          5648.14,
          6061.37,
          3722.15,
          2670.47,
          3385.87,
          372.27
         ],
         "yaxis": "y"
        }
       ],
       "layout": {
        "legend": {
         "tracegroupgap": 0
        },
        "margin": {
         "t": 60
        },
        "template": {
         "data": {
          "bar": [
           {
            "error_x": {
             "color": "#2a3f5f"
            },
            "error_y": {
             "color": "#2a3f5f"
            },
            "marker": {
             "line": {
              "color": "#E5ECF6",
              "width": 0.5
             },
             "pattern": {
              "fillmode": "overlay",
              "size": 10,
              "solidity": 0.2
             }
            },
            "type": "bar"
           }
          ],
          "barpolar": [
           {
            "marker": {
             "line": {
              "color": "#E5ECF6",
              "width": 0.5
             },
             "pattern": {
              "fillmode": "overlay",
              "size": 10,
              "solidity": 0.2
             }
            },
            "type": "barpolar"
           }
          ],
          "carpet": [
           {
            "aaxis": {
             "endlinecolor": "#2a3f5f",
             "gridcolor": "white",
             "linecolor": "white",
             "minorgridcolor": "white",
             "startlinecolor": "#2a3f5f"
            },
            "baxis": {
             "endlinecolor": "#2a3f5f",
             "gridcolor": "white",
             "linecolor": "white",
             "minorgridcolor": "white",
             "startlinecolor": "#2a3f5f"
            },
            "type": "carpet"
           }
          ],
          "choropleth": [
           {
            "colorbar": {
             "outlinewidth": 0,
             "ticks": ""
            },
            "type": "choropleth"
           }
          ],
          "contour": [
           {
            "colorbar": {
             "outlinewidth": 0,
             "ticks": ""
            },
            "colorscale": [
             [
              0,
              "#0d0887"
             ],
             [
              0.1111111111111111,
              "#46039f"
             ],
             [
              0.2222222222222222,
              "#7201a8"
             ],
             [
              0.3333333333333333,
              "#9c179e"
             ],
             [
              0.4444444444444444,
              "#bd3786"
             ],
             [
              0.5555555555555556,
              "#d8576b"
             ],
             [
              0.6666666666666666,
              "#ed7953"
             ],
             [
              0.7777777777777778,
              "#fb9f3a"
             ],
             [
              0.8888888888888888,
              "#fdca26"
             ],
             [
              1,
              "#f0f921"
             ]
            ],
            "type": "contour"
           }
          ],
          "contourcarpet": [
           {
            "colorbar": {
             "outlinewidth": 0,
             "ticks": ""
            },
            "type": "contourcarpet"
           }
          ],
          "heatmap": [
           {
            "colorbar": {
             "outlinewidth": 0,
             "ticks": ""
            },
            "colorscale": [
             [
              0,
              "#0d0887"
             ],
             [
              0.1111111111111111,
              "#46039f"
             ],
             [
              0.2222222222222222,
              "#7201a8"
             ],
             [
              0.3333333333333333,
              "#9c179e"
             ],
             [
              0.4444444444444444,
              "#bd3786"
             ],
             [
              0.5555555555555556,
              "#d8576b"
             ],
             [
              0.6666666666666666,
              "#ed7953"
             ],
             [
              0.7777777777777778,
              "#fb9f3a"
             ],
             [
              0.8888888888888888,
              "#fdca26"
             ],
             [
              1,
              "#f0f921"
             ]
            ],
            "type": "heatmap"
           }
          ],
          "heatmapgl": [
           {
            "colorbar": {
             "outlinewidth": 0,
             "ticks": ""
            },
            "colorscale": [
             [
              0,
              "#0d0887"
             ],
             [
              0.1111111111111111,
              "#46039f"
             ],
             [
              0.2222222222222222,
              "#7201a8"
             ],
             [
              0.3333333333333333,
              "#9c179e"
             ],
             [
              0.4444444444444444,
              "#bd3786"
             ],
             [
              0.5555555555555556,
              "#d8576b"
             ],
             [
              0.6666666666666666,
              "#ed7953"
             ],
             [
              0.7777777777777778,
              "#fb9f3a"
             ],
             [
              0.8888888888888888,
              "#fdca26"
             ],
             [
              1,
              "#f0f921"
             ]
            ],
            "type": "heatmapgl"
           }
          ],
          "histogram": [
           {
            "marker": {
             "pattern": {
              "fillmode": "overlay",
              "size": 10,
              "solidity": 0.2
             }
            },
            "type": "histogram"
           }
          ],
          "histogram2d": [
           {
            "colorbar": {
             "outlinewidth": 0,
             "ticks": ""
            },
            "colorscale": [
             [
              0,
              "#0d0887"
             ],
             [
              0.1111111111111111,
              "#46039f"
             ],
             [
              0.2222222222222222,
              "#7201a8"
             ],
             [
              0.3333333333333333,
              "#9c179e"
             ],
             [
              0.4444444444444444,
              "#bd3786"
             ],
             [
              0.5555555555555556,
              "#d8576b"
             ],
             [
              0.6666666666666666,
              "#ed7953"
             ],
             [
              0.7777777777777778,
              "#fb9f3a"
             ],
             [
              0.8888888888888888,
              "#fdca26"
             ],
             [
              1,
              "#f0f921"
             ]
            ],
            "type": "histogram2d"
           }
          ],
          "histogram2dcontour": [
           {
            "colorbar": {
             "outlinewidth": 0,
             "ticks": ""
            },
            "colorscale": [
             [
              0,
              "#0d0887"
             ],
             [
              0.1111111111111111,
              "#46039f"
             ],
             [
              0.2222222222222222,
              "#7201a8"
             ],
             [
              0.3333333333333333,
              "#9c179e"
             ],
             [
              0.4444444444444444,
              "#bd3786"
             ],
             [
              0.5555555555555556,
              "#d8576b"
             ],
             [
              0.6666666666666666,
              "#ed7953"
             ],
             [
              0.7777777777777778,
              "#fb9f3a"
             ],
             [
              0.8888888888888888,
              "#fdca26"
             ],
             [
              1,
              "#f0f921"
             ]
            ],
            "type": "histogram2dcontour"
           }
          ],
          "mesh3d": [
           {
            "colorbar": {
             "outlinewidth": 0,
             "ticks": ""
            },
            "type": "mesh3d"
           }
          ],
          "parcoords": [
           {
            "line": {
             "colorbar": {
              "outlinewidth": 0,
              "ticks": ""
             }
            },
            "type": "parcoords"
           }
          ],
          "pie": [
           {
            "automargin": true,
            "type": "pie"
           }
          ],
          "scatter": [
           {
            "fillpattern": {
             "fillmode": "overlay",
             "size": 10,
             "solidity": 0.2
            },
            "type": "scatter"
           }
          ],
          "scatter3d": [
           {
            "line": {
             "colorbar": {
              "outlinewidth": 0,
              "ticks": ""
             }
            },
            "marker": {
             "colorbar": {
              "outlinewidth": 0,
              "ticks": ""
             }
            },
            "type": "scatter3d"
           }
          ],
          "scattercarpet": [
           {
            "marker": {
             "colorbar": {
              "outlinewidth": 0,
              "ticks": ""
             }
            },
            "type": "scattercarpet"
           }
          ],
          "scattergeo": [
           {
            "marker": {
             "colorbar": {
              "outlinewidth": 0,
              "ticks": ""
             }
            },
            "type": "scattergeo"
           }
          ],
          "scattergl": [
           {
            "marker": {
             "colorbar": {
              "outlinewidth": 0,
              "ticks": ""
             }
            },
            "type": "scattergl"
           }
          ],
          "scattermapbox": [
           {
            "marker": {
             "colorbar": {
              "outlinewidth": 0,
              "ticks": ""
             }
            },
            "type": "scattermapbox"
           }
          ],
          "scatterpolar": [
           {
            "marker": {
             "colorbar": {
              "outlinewidth": 0,
              "ticks": ""
             }
            },
            "type": "scatterpolar"
           }
          ],
          "scatterpolargl": [
           {
            "marker": {
             "colorbar": {
              "outlinewidth": 0,
              "ticks": ""
             }
            },
            "type": "scatterpolargl"
           }
          ],
          "scatterternary": [
           {
            "marker": {
             "colorbar": {
              "outlinewidth": 0,
              "ticks": ""
             }
            },
            "type": "scatterternary"
           }
          ],
          "surface": [
           {
            "colorbar": {
             "outlinewidth": 0,
             "ticks": ""
            },
            "colorscale": [
             [
              0,
              "#0d0887"
             ],
             [
              0.1111111111111111,
              "#46039f"
             ],
             [
              0.2222222222222222,
              "#7201a8"
             ],
             [
              0.3333333333333333,
              "#9c179e"
             ],
             [
              0.4444444444444444,
              "#bd3786"
             ],
             [
              0.5555555555555556,
              "#d8576b"
             ],
             [
              0.6666666666666666,
              "#ed7953"
             ],
             [
              0.7777777777777778,
              "#fb9f3a"
             ],
             [
              0.8888888888888888,
              "#fdca26"
             ],
             [
              1,
              "#f0f921"
             ]
            ],
            "type": "surface"
           }
          ],
          "table": [
           {
            "cells": {
             "fill": {
              "color": "#EBF0F8"
             },
             "line": {
              "color": "white"
             }
            },
            "header": {
             "fill": {
              "color": "#C8D4E3"
             },
             "line": {
              "color": "white"
             }
            },
            "type": "table"
           }
          ]
         },
         "layout": {
          "annotationdefaults": {
           "arrowcolor": "#2a3f5f",
           "arrowhead": 0,
           "arrowwidth": 1
          },
          "autotypenumbers": "strict",
          "coloraxis": {
           "colorbar": {
            "outlinewidth": 0,
            "ticks": ""
           }
          },
          "colorscale": {
           "diverging": [
            [
             0,
             "#8e0152"
            ],
            [
             0.1,
             "#c51b7d"
            ],
            [
             0.2,
             "#de77ae"
            ],
            [
             0.3,
             "#f1b6da"
            ],
            [
             0.4,
             "#fde0ef"
            ],
            [
             0.5,
             "#f7f7f7"
            ],
            [
             0.6,
             "#e6f5d0"
            ],
            [
             0.7,
             "#b8e186"
            ],
            [
             0.8,
             "#7fbc41"
            ],
            [
             0.9,
             "#4d9221"
            ],
            [
             1,
             "#276419"
            ]
           ],
           "sequential": [
            [
             0,
             "#0d0887"
            ],
            [
             0.1111111111111111,
             "#46039f"
            ],
            [
             0.2222222222222222,
             "#7201a8"
            ],
            [
             0.3333333333333333,
             "#9c179e"
            ],
            [
             0.4444444444444444,
             "#bd3786"
            ],
            [
             0.5555555555555556,
             "#d8576b"
            ],
            [
             0.6666666666666666,
             "#ed7953"
            ],
            [
             0.7777777777777778,
             "#fb9f3a"
            ],
            [
             0.8888888888888888,
             "#fdca26"
            ],
            [
             1,
             "#f0f921"
            ]
           ],
           "sequentialminus": [
            [
             0,
             "#0d0887"
            ],
            [
             0.1111111111111111,
             "#46039f"
            ],
            [
             0.2222222222222222,
             "#7201a8"
            ],
            [
             0.3333333333333333,
             "#9c179e"
            ],
            [
             0.4444444444444444,
             "#bd3786"
            ],
            [
             0.5555555555555556,
             "#d8576b"
            ],
            [
             0.6666666666666666,
             "#ed7953"
            ],
            [
             0.7777777777777778,
             "#fb9f3a"
            ],
            [
             0.8888888888888888,
             "#fdca26"
            ],
            [
             1,
             "#f0f921"
            ]
           ]
          },
          "colorway": [
           "#636efa",
           "#EF553B",
           "#00cc96",
           "#ab63fa",
           "#FFA15A",
           "#19d3f3",
           "#FF6692",
           "#B6E880",
           "#FF97FF",
           "#FECB52"
          ],
          "font": {
           "color": "#2a3f5f"
          },
          "geo": {
           "bgcolor": "white",
           "lakecolor": "white",
           "landcolor": "#E5ECF6",
           "showlakes": true,
           "showland": true,
           "subunitcolor": "white"
          },
          "hoverlabel": {
           "align": "left"
          },
          "hovermode": "closest",
          "mapbox": {
           "style": "light"
          },
          "paper_bgcolor": "white",
          "plot_bgcolor": "#E5ECF6",
          "polar": {
           "angularaxis": {
            "gridcolor": "white",
            "linecolor": "white",
            "ticks": ""
           },
           "bgcolor": "#E5ECF6",
           "radialaxis": {
            "gridcolor": "white",
            "linecolor": "white",
            "ticks": ""
           }
          },
          "scene": {
           "xaxis": {
            "backgroundcolor": "#E5ECF6",
            "gridcolor": "white",
            "gridwidth": 2,
            "linecolor": "white",
            "showbackground": true,
            "ticks": "",
            "zerolinecolor": "white"
           },
           "yaxis": {
            "backgroundcolor": "#E5ECF6",
            "gridcolor": "white",
            "gridwidth": 2,
            "linecolor": "white",
            "showbackground": true,
            "ticks": "",
            "zerolinecolor": "white"
           },
           "zaxis": {
            "backgroundcolor": "#E5ECF6",
            "gridcolor": "white",
            "gridwidth": 2,
            "linecolor": "white",
            "showbackground": true,
            "ticks": "",
            "zerolinecolor": "white"
           }
          },
          "shapedefaults": {
           "line": {
            "color": "#2a3f5f"
           }
          },
          "ternary": {
           "aaxis": {
            "gridcolor": "white",
            "linecolor": "white",
            "ticks": ""
           },
           "baxis": {
            "gridcolor": "white",
            "linecolor": "white",
            "ticks": ""
           },
           "bgcolor": "#E5ECF6",
           "caxis": {
            "gridcolor": "white",
            "linecolor": "white",
            "ticks": ""
           }
          },
          "title": {
           "x": 0.05
          },
          "xaxis": {
           "automargin": true,
           "gridcolor": "white",
           "linecolor": "white",
           "ticks": "",
           "title": {
            "standoff": 15
           },
           "zerolinecolor": "white",
           "zerolinewidth": 2
          },
          "yaxis": {
           "automargin": true,
           "gridcolor": "white",
           "linecolor": "white",
           "ticks": "",
           "title": {
            "standoff": 15
           },
           "zerolinecolor": "white",
           "zerolinewidth": 2
          }
         }
        },
        "xaxis": {
         "anchor": "y",
         "domain": [
          0,
          1
         ],
         "title": {
          "text": "google_organico"
         }
        },
        "yaxis": {
         "anchor": "x",
         "domain": [
          0,
          1
         ],
         "title": {
          "text": "revenue"
         }
        }
       }
      },
      "text/html": [
       "<div>                            <div id=\"fec202b7-3061-4c9a-9f89-68adec309bf7\" class=\"plotly-graph-div\" style=\"height:525px; width:100%;\"></div>            <script type=\"text/javascript\">                require([\"plotly\"], function(Plotly) {                    window.PLOTLYENV=window.PLOTLYENV || {};                                    if (document.getElementById(\"fec202b7-3061-4c9a-9f89-68adec309bf7\")) {                    Plotly.newPlot(                        \"fec202b7-3061-4c9a-9f89-68adec309bf7\",                        [{\"hovertemplate\":\"google_organico=%{x}<br>revenue=%{y}<extra></extra>\",\"legendgroup\":\"\",\"marker\":{\"color\":\"#636efa\",\"symbol\":\"circle\"},\"mode\":\"markers\",\"name\":\"\",\"orientation\":\"v\",\"showlegend\":false,\"x\":[2603,5691,5616,5676,5398,4980,3229,2958,6089,5917,5727,5391,4536,2695,3212,6277,6143,6095,6020,5482,3143,3259,6597,6865,6421,6412,5710,3093,3077,6949,6684,6042,5691,5321,3141,3036,5883,5927,5759,5330,4995,2876,2943,6309,6072,6179,5429,5651,2945,2362,3476,6506,6827,6270,5724,3321,3370,6673,6880,6545,6587,5881,3581,3485,6658,6818,6269,6053,5637,3460,3581,7076,6945,6522,6352,5689,3873,3612,6929,6902,6978,6841,6944,4432,3960,7795,6720,4704,7857,7087,4509,4438,8700,8665,8836,8466,8033,5007,4439,8779,8182,7234,5822,3024,1910,2771,6468,6011,5644,4811,2676,2016,3144,6162,6206,5413,3861,5780,4413,3763,7149,7698,7329,6897,6565,3944,3604,7194,6919,6825,6566,5869,3926,3467,6947,6550,6101,5887,5645,3513,3325,6920,6464,6237,5813,5214,3248,3134,6491,6650,6060,5710,4921,3291,2809,5792,6155,5788,5003,4696,3058,1398,0],\"xaxis\":\"x\",\"y\":[2461.81,6918.33,5101.67,5335.02,4384.38,2564.39,1507.22,3035.38,6164.88,5666.57,5529.19,4364.27,3441.28,1503.72,3075.01,7223.64,6191.63,6401.52,6006.66,3259.89,2036.57,2537.66,5131.19,5867.37,5541.04,4897.76,3133.15,1820.66,2907.35,6008.83,5485.87,5291.73,4846.12,3644.88,1870.71,3446.23,6795.43,5735.92,5906.51,5183.68,3128.48,1754.73,3043.88,5978.04,6321.35,6043.38,4429.38,2202.1,1740.83,1502.6,3861.43,6534.55,5504.45,5211.69,4218.57,2450.73,3373.6,6543.42,6254.53,6275.99,4800.1,2938.72,1883.86,3064.84,5960.51,6200.39,6126.07,4558.39,2533.53,1489.06,3292.68,6994.01,5961.43,5353.82,17697.95,13613.81,2402.75,3436.36,6987.25,4960.64,5485.93,5306.16,5301.18,2587.16,4190.47,7525.98,6415.08,4915.72,7788.17,6990.86,3055.72,4843.64,10482.65,10581.56,9520.25,10487.03,7024.91,3420.89,5850.73,26047.24,20130.25,5793.67,3231.42,1450.1,731.38,2075.78,6543.32,7426.74,4921.18,6507.9,1699.36,1334.25,2450.69,5677.11,5337.76,3523.35,2951.59,3990.13,3120.34,3141.9,7159.45,6919.14,5980.13,5737.6,4374.84,2179.55,3599.79,7773.84,7728.56,7172.95,5583.26,3689.49,2148.72,2861.71,6677.14,6894.49,6107.54,6592.92,4045.78,5824.62,3219.01,8797.88,7117.38,5999.78,5045.91,4362.41,1849.98,3422.41,7877.16,6893.43,6278.3,6400.52,3921.14,2325.44,3174.37,7166.95,7475.88,5648.14,6061.37,3722.15,2670.47,3385.87,372.27],\"yaxis\":\"y\",\"type\":\"scatter\"}],                        {\"template\":{\"data\":{\"histogram2dcontour\":[{\"type\":\"histogram2dcontour\",\"colorbar\":{\"outlinewidth\":0,\"ticks\":\"\"},\"colorscale\":[[0.0,\"#0d0887\"],[0.1111111111111111,\"#46039f\"],[0.2222222222222222,\"#7201a8\"],[0.3333333333333333,\"#9c179e\"],[0.4444444444444444,\"#bd3786\"],[0.5555555555555556,\"#d8576b\"],[0.6666666666666666,\"#ed7953\"],[0.7777777777777778,\"#fb9f3a\"],[0.8888888888888888,\"#fdca26\"],[1.0,\"#f0f921\"]]}],\"choropleth\":[{\"type\":\"choropleth\",\"colorbar\":{\"outlinewidth\":0,\"ticks\":\"\"}}],\"histogram2d\":[{\"type\":\"histogram2d\",\"colorbar\":{\"outlinewidth\":0,\"ticks\":\"\"},\"colorscale\":[[0.0,\"#0d0887\"],[0.1111111111111111,\"#46039f\"],[0.2222222222222222,\"#7201a8\"],[0.3333333333333333,\"#9c179e\"],[0.4444444444444444,\"#bd3786\"],[0.5555555555555556,\"#d8576b\"],[0.6666666666666666,\"#ed7953\"],[0.7777777777777778,\"#fb9f3a\"],[0.8888888888888888,\"#fdca26\"],[1.0,\"#f0f921\"]]}],\"heatmap\":[{\"type\":\"heatmap\",\"colorbar\":{\"outlinewidth\":0,\"ticks\":\"\"},\"colorscale\":[[0.0,\"#0d0887\"],[0.1111111111111111,\"#46039f\"],[0.2222222222222222,\"#7201a8\"],[0.3333333333333333,\"#9c179e\"],[0.4444444444444444,\"#bd3786\"],[0.5555555555555556,\"#d8576b\"],[0.6666666666666666,\"#ed7953\"],[0.7777777777777778,\"#fb9f3a\"],[0.8888888888888888,\"#fdca26\"],[1.0,\"#f0f921\"]]}],\"heatmapgl\":[{\"type\":\"heatmapgl\",\"colorbar\":{\"outlinewidth\":0,\"ticks\":\"\"},\"colorscale\":[[0.0,\"#0d0887\"],[0.1111111111111111,\"#46039f\"],[0.2222222222222222,\"#7201a8\"],[0.3333333333333333,\"#9c179e\"],[0.4444444444444444,\"#bd3786\"],[0.5555555555555556,\"#d8576b\"],[0.6666666666666666,\"#ed7953\"],[0.7777777777777778,\"#fb9f3a\"],[0.8888888888888888,\"#fdca26\"],[1.0,\"#f0f921\"]]}],\"contourcarpet\":[{\"type\":\"contourcarpet\",\"colorbar\":{\"outlinewidth\":0,\"ticks\":\"\"}}],\"contour\":[{\"type\":\"contour\",\"colorbar\":{\"outlinewidth\":0,\"ticks\":\"\"},\"colorscale\":[[0.0,\"#0d0887\"],[0.1111111111111111,\"#46039f\"],[0.2222222222222222,\"#7201a8\"],[0.3333333333333333,\"#9c179e\"],[0.4444444444444444,\"#bd3786\"],[0.5555555555555556,\"#d8576b\"],[0.6666666666666666,\"#ed7953\"],[0.7777777777777778,\"#fb9f3a\"],[0.8888888888888888,\"#fdca26\"],[1.0,\"#f0f921\"]]}],\"surface\":[{\"type\":\"surface\",\"colorbar\":{\"outlinewidth\":0,\"ticks\":\"\"},\"colorscale\":[[0.0,\"#0d0887\"],[0.1111111111111111,\"#46039f\"],[0.2222222222222222,\"#7201a8\"],[0.3333333333333333,\"#9c179e\"],[0.4444444444444444,\"#bd3786\"],[0.5555555555555556,\"#d8576b\"],[0.6666666666666666,\"#ed7953\"],[0.7777777777777778,\"#fb9f3a\"],[0.8888888888888888,\"#fdca26\"],[1.0,\"#f0f921\"]]}],\"mesh3d\":[{\"type\":\"mesh3d\",\"colorbar\":{\"outlinewidth\":0,\"ticks\":\"\"}}],\"scatter\":[{\"fillpattern\":{\"fillmode\":\"overlay\",\"size\":10,\"solidity\":0.2},\"type\":\"scatter\"}],\"parcoords\":[{\"type\":\"parcoords\",\"line\":{\"colorbar\":{\"outlinewidth\":0,\"ticks\":\"\"}}}],\"scatterpolargl\":[{\"type\":\"scatterpolargl\",\"marker\":{\"colorbar\":{\"outlinewidth\":0,\"ticks\":\"\"}}}],\"bar\":[{\"error_x\":{\"color\":\"#2a3f5f\"},\"error_y\":{\"color\":\"#2a3f5f\"},\"marker\":{\"line\":{\"color\":\"#E5ECF6\",\"width\":0.5},\"pattern\":{\"fillmode\":\"overlay\",\"size\":10,\"solidity\":0.2}},\"type\":\"bar\"}],\"scattergeo\":[{\"type\":\"scattergeo\",\"marker\":{\"colorbar\":{\"outlinewidth\":0,\"ticks\":\"\"}}}],\"scatterpolar\":[{\"type\":\"scatterpolar\",\"marker\":{\"colorbar\":{\"outlinewidth\":0,\"ticks\":\"\"}}}],\"histogram\":[{\"marker\":{\"pattern\":{\"fillmode\":\"overlay\",\"size\":10,\"solidity\":0.2}},\"type\":\"histogram\"}],\"scattergl\":[{\"type\":\"scattergl\",\"marker\":{\"colorbar\":{\"outlinewidth\":0,\"ticks\":\"\"}}}],\"scatter3d\":[{\"type\":\"scatter3d\",\"line\":{\"colorbar\":{\"outlinewidth\":0,\"ticks\":\"\"}},\"marker\":{\"colorbar\":{\"outlinewidth\":0,\"ticks\":\"\"}}}],\"scattermapbox\":[{\"type\":\"scattermapbox\",\"marker\":{\"colorbar\":{\"outlinewidth\":0,\"ticks\":\"\"}}}],\"scatterternary\":[{\"type\":\"scatterternary\",\"marker\":{\"colorbar\":{\"outlinewidth\":0,\"ticks\":\"\"}}}],\"scattercarpet\":[{\"type\":\"scattercarpet\",\"marker\":{\"colorbar\":{\"outlinewidth\":0,\"ticks\":\"\"}}}],\"carpet\":[{\"aaxis\":{\"endlinecolor\":\"#2a3f5f\",\"gridcolor\":\"white\",\"linecolor\":\"white\",\"minorgridcolor\":\"white\",\"startlinecolor\":\"#2a3f5f\"},\"baxis\":{\"endlinecolor\":\"#2a3f5f\",\"gridcolor\":\"white\",\"linecolor\":\"white\",\"minorgridcolor\":\"white\",\"startlinecolor\":\"#2a3f5f\"},\"type\":\"carpet\"}],\"table\":[{\"cells\":{\"fill\":{\"color\":\"#EBF0F8\"},\"line\":{\"color\":\"white\"}},\"header\":{\"fill\":{\"color\":\"#C8D4E3\"},\"line\":{\"color\":\"white\"}},\"type\":\"table\"}],\"barpolar\":[{\"marker\":{\"line\":{\"color\":\"#E5ECF6\",\"width\":0.5},\"pattern\":{\"fillmode\":\"overlay\",\"size\":10,\"solidity\":0.2}},\"type\":\"barpolar\"}],\"pie\":[{\"automargin\":true,\"type\":\"pie\"}]},\"layout\":{\"autotypenumbers\":\"strict\",\"colorway\":[\"#636efa\",\"#EF553B\",\"#00cc96\",\"#ab63fa\",\"#FFA15A\",\"#19d3f3\",\"#FF6692\",\"#B6E880\",\"#FF97FF\",\"#FECB52\"],\"font\":{\"color\":\"#2a3f5f\"},\"hovermode\":\"closest\",\"hoverlabel\":{\"align\":\"left\"},\"paper_bgcolor\":\"white\",\"plot_bgcolor\":\"#E5ECF6\",\"polar\":{\"bgcolor\":\"#E5ECF6\",\"angularaxis\":{\"gridcolor\":\"white\",\"linecolor\":\"white\",\"ticks\":\"\"},\"radialaxis\":{\"gridcolor\":\"white\",\"linecolor\":\"white\",\"ticks\":\"\"}},\"ternary\":{\"bgcolor\":\"#E5ECF6\",\"aaxis\":{\"gridcolor\":\"white\",\"linecolor\":\"white\",\"ticks\":\"\"},\"baxis\":{\"gridcolor\":\"white\",\"linecolor\":\"white\",\"ticks\":\"\"},\"caxis\":{\"gridcolor\":\"white\",\"linecolor\":\"white\",\"ticks\":\"\"}},\"coloraxis\":{\"colorbar\":{\"outlinewidth\":0,\"ticks\":\"\"}},\"colorscale\":{\"sequential\":[[0.0,\"#0d0887\"],[0.1111111111111111,\"#46039f\"],[0.2222222222222222,\"#7201a8\"],[0.3333333333333333,\"#9c179e\"],[0.4444444444444444,\"#bd3786\"],[0.5555555555555556,\"#d8576b\"],[0.6666666666666666,\"#ed7953\"],[0.7777777777777778,\"#fb9f3a\"],[0.8888888888888888,\"#fdca26\"],[1.0,\"#f0f921\"]],\"sequentialminus\":[[0.0,\"#0d0887\"],[0.1111111111111111,\"#46039f\"],[0.2222222222222222,\"#7201a8\"],[0.3333333333333333,\"#9c179e\"],[0.4444444444444444,\"#bd3786\"],[0.5555555555555556,\"#d8576b\"],[0.6666666666666666,\"#ed7953\"],[0.7777777777777778,\"#fb9f3a\"],[0.8888888888888888,\"#fdca26\"],[1.0,\"#f0f921\"]],\"diverging\":[[0,\"#8e0152\"],[0.1,\"#c51b7d\"],[0.2,\"#de77ae\"],[0.3,\"#f1b6da\"],[0.4,\"#fde0ef\"],[0.5,\"#f7f7f7\"],[0.6,\"#e6f5d0\"],[0.7,\"#b8e186\"],[0.8,\"#7fbc41\"],[0.9,\"#4d9221\"],[1,\"#276419\"]]},\"xaxis\":{\"gridcolor\":\"white\",\"linecolor\":\"white\",\"ticks\":\"\",\"title\":{\"standoff\":15},\"zerolinecolor\":\"white\",\"automargin\":true,\"zerolinewidth\":2},\"yaxis\":{\"gridcolor\":\"white\",\"linecolor\":\"white\",\"ticks\":\"\",\"title\":{\"standoff\":15},\"zerolinecolor\":\"white\",\"automargin\":true,\"zerolinewidth\":2},\"scene\":{\"xaxis\":{\"backgroundcolor\":\"#E5ECF6\",\"gridcolor\":\"white\",\"linecolor\":\"white\",\"showbackground\":true,\"ticks\":\"\",\"zerolinecolor\":\"white\",\"gridwidth\":2},\"yaxis\":{\"backgroundcolor\":\"#E5ECF6\",\"gridcolor\":\"white\",\"linecolor\":\"white\",\"showbackground\":true,\"ticks\":\"\",\"zerolinecolor\":\"white\",\"gridwidth\":2},\"zaxis\":{\"backgroundcolor\":\"#E5ECF6\",\"gridcolor\":\"white\",\"linecolor\":\"white\",\"showbackground\":true,\"ticks\":\"\",\"zerolinecolor\":\"white\",\"gridwidth\":2}},\"shapedefaults\":{\"line\":{\"color\":\"#2a3f5f\"}},\"annotationdefaults\":{\"arrowcolor\":\"#2a3f5f\",\"arrowhead\":0,\"arrowwidth\":1},\"geo\":{\"bgcolor\":\"white\",\"landcolor\":\"#E5ECF6\",\"subunitcolor\":\"white\",\"showland\":true,\"showlakes\":true,\"lakecolor\":\"white\"},\"title\":{\"x\":0.05},\"mapbox\":{\"style\":\"light\"}}},\"xaxis\":{\"anchor\":\"y\",\"domain\":[0.0,1.0],\"title\":{\"text\":\"google_organico\"}},\"yaxis\":{\"anchor\":\"x\",\"domain\":[0.0,1.0],\"title\":{\"text\":\"revenue\"}},\"legend\":{\"tracegroupgap\":0},\"margin\":{\"t\":60}},                        {\"responsive\": true}                    ).then(function(){\n",
       "                            \n",
       "var gd = document.getElementById('fec202b7-3061-4c9a-9f89-68adec309bf7');\n",
       "var x = new MutationObserver(function (mutations, observer) {{\n",
       "        var display = window.getComputedStyle(gd).display;\n",
       "        if (!display || display === 'none') {{\n",
       "            console.log([gd, 'removed!']);\n",
       "            Plotly.purge(gd);\n",
       "            observer.disconnect();\n",
       "        }}\n",
       "}});\n",
       "\n",
       "// Listen for the removal of the full notebook cells\n",
       "var notebookContainer = gd.closest('#notebook-container');\n",
       "if (notebookContainer) {{\n",
       "    x.observe(notebookContainer, {childList: true});\n",
       "}}\n",
       "\n",
       "// Listen for the clearing of the current output cell\n",
       "var outputEl = gd.closest('.output');\n",
       "if (outputEl) {{\n",
       "    x.observe(outputEl, {childList: true});\n",
       "}}\n",
       "\n",
       "                        })                };                });            </script>        </div>"
      ]
     },
     "metadata": {},
     "output_type": "display_data"
    },
    {
     "data": {
      "application/vnd.plotly.v1+json": {
       "config": {
        "plotlyServerURL": "https://plot.ly"
       },
       "data": [
        {
         "hovertemplate": "google_performance_max_spent=%{x}<br>revenue=%{y}<extra></extra>",
         "legendgroup": "",
         "marker": {
          "color": "#636efa",
          "symbol": "circle"
         },
         "mode": "markers",
         "name": "",
         "orientation": "v",
         "showlegend": false,
         "type": "scatter",
         "x": [
          88.2,
          90.56,
          74.14,
          65.01,
          69.26,
          56.27,
          48.87,
          51.25,
          81.94,
          84.22,
          42.11,
          122.55,
          94.21,
          97.31,
          178.47,
          140.29,
          127.91,
          158.53,
          0,
          0,
          0,
          0,
          0,
          0,
          0,
          0,
          0,
          0,
          0,
          0,
          0,
          155.7,
          56.92,
          40.6,
          32.96,
          60.23,
          114.05,
          62.13,
          60.71,
          60.8,
          71.68,
          45.95,
          71.43,
          69.25,
          50.67,
          55.16,
          76.56,
          63.43,
          28.26,
          81.29,
          73.87,
          64.49,
          42.94,
          65.04,
          60.49,
          20.56,
          98.83,
          76.45,
          68.8,
          69.49,
          46.4,
          62.29,
          11.18,
          28.4,
          46.59,
          50.02,
          43.2,
          34.3,
          61.43,
          11.08,
          21.53,
          41.75,
          47.11,
          33.77,
          56.86,
          28.27,
          14.93,
          12.2,
          37.15,
          53.75,
          37.32,
          61.05,
          29.46,
          13.05,
          14.04,
          50.2,
          21.55,
          49.62,
          76.89,
          37.41,
          7.97,
          24.99,
          51.99,
          40.59,
          44.51,
          36.68,
          37.82,
          13.95,
          15.58,
          51.93,
          41.39,
          40.9,
          43.12,
          11.2,
          9.24,
          22,
          51.75,
          19.68,
          58.91,
          35.34,
          9.31,
          15.21,
          14.98,
          45.94,
          45.12,
          31.28,
          42.1,
          80.7,
          12.75,
          13.59,
          47.63,
          42.42,
          41.12,
          50.45,
          37.12,
          17.73,
          32.27,
          100.2,
          68.39,
          94.71,
          107.66,
          81.35,
          17,
          33.32,
          104.11,
          157.4,
          143.83,
          83.61,
          67.15,
          17.83,
          29.83,
          100.37,
          86.93,
          95.8,
          97.01,
          150.63,
          8.38,
          37.81,
          86.3,
          67.99,
          58.91,
          67.59,
          75.57,
          13,
          37.98,
          101.86,
          89.93,
          67.9,
          125.32,
          79.3,
          9.96,
          40.5,
          22.04
         ],
         "xaxis": "x",
         "y": [
          2461.81,
          6918.33,
          5101.67,
          5335.02,
          4384.38,
          2564.39,
          1507.22,
          3035.38,
          6164.88,
          5666.57,
          5529.19,
          4364.27,
          3441.28,
          1503.72,
          3075.01,
          7223.64,
          6191.63,
          6401.52,
          6006.66,
          3259.89,
          2036.57,
          2537.66,
          5131.19,
          5867.37,
          5541.04,
          4897.76,
          3133.15,
          1820.66,
          2907.35,
          6008.83,
          5485.87,
          5291.73,
          4846.12,
          3644.88,
          1870.71,
          3446.23,
          6795.43,
          5735.92,
          5906.51,
          5183.68,
          3128.48,
          1754.73,
          3043.88,
          5978.04,
          6321.35,
          6043.38,
          4429.38,
          2202.1,
          1740.83,
          1502.6,
          3861.43,
          6534.55,
          5504.45,
          5211.69,
          4218.57,
          2450.73,
          3373.6,
          6543.42,
          6254.53,
          6275.99,
          4800.1,
          2938.72,
          1883.86,
          3064.84,
          5960.51,
          6200.39,
          6126.07,
          4558.39,
          2533.53,
          1489.06,
          3292.68,
          6994.01,
          5961.43,
          5353.82,
          17697.95,
          13613.81,
          2402.75,
          3436.36,
          6987.25,
          4960.64,
          5485.93,
          5306.16,
          5301.18,
          2587.16,
          4190.47,
          7525.98,
          6415.08,
          4915.72,
          7788.17,
          6990.86,
          3055.72,
          4843.64,
          10482.65,
          10581.56,
          9520.25,
          10487.03,
          7024.91,
          3420.89,
          5850.73,
          26047.24,
          20130.25,
          5793.67,
          3231.42,
          1450.1,
          731.38,
          2075.78,
          6543.32,
          7426.74,
          4921.18,
          6507.9,
          1699.36,
          1334.25,
          2450.69,
          5677.11,
          5337.76,
          3523.35,
          2951.59,
          3990.13,
          3120.34,
          3141.9,
          7159.45,
          6919.14,
          5980.13,
          5737.6,
          4374.84,
          2179.55,
          3599.79,
          7773.84,
          7728.56,
          7172.95,
          5583.26,
          3689.49,
          2148.72,
          2861.71,
          6677.14,
          6894.49,
          6107.54,
          6592.92,
          4045.78,
          5824.62,
          3219.01,
          8797.88,
          7117.38,
          5999.78,
          5045.91,
          4362.41,
          1849.98,
          3422.41,
          7877.16,
          6893.43,
          6278.3,
          6400.52,
          3921.14,
          2325.44,
          3174.37,
          7166.95,
          7475.88,
          5648.14,
          6061.37,
          3722.15,
          2670.47,
          3385.87,
          372.27
         ],
         "yaxis": "y"
        }
       ],
       "layout": {
        "legend": {
         "tracegroupgap": 0
        },
        "margin": {
         "t": 60
        },
        "template": {
         "data": {
          "bar": [
           {
            "error_x": {
             "color": "#2a3f5f"
            },
            "error_y": {
             "color": "#2a3f5f"
            },
            "marker": {
             "line": {
              "color": "#E5ECF6",
              "width": 0.5
             },
             "pattern": {
              "fillmode": "overlay",
              "size": 10,
              "solidity": 0.2
             }
            },
            "type": "bar"
           }
          ],
          "barpolar": [
           {
            "marker": {
             "line": {
              "color": "#E5ECF6",
              "width": 0.5
             },
             "pattern": {
              "fillmode": "overlay",
              "size": 10,
              "solidity": 0.2
             }
            },
            "type": "barpolar"
           }
          ],
          "carpet": [
           {
            "aaxis": {
             "endlinecolor": "#2a3f5f",
             "gridcolor": "white",
             "linecolor": "white",
             "minorgridcolor": "white",
             "startlinecolor": "#2a3f5f"
            },
            "baxis": {
             "endlinecolor": "#2a3f5f",
             "gridcolor": "white",
             "linecolor": "white",
             "minorgridcolor": "white",
             "startlinecolor": "#2a3f5f"
            },
            "type": "carpet"
           }
          ],
          "choropleth": [
           {
            "colorbar": {
             "outlinewidth": 0,
             "ticks": ""
            },
            "type": "choropleth"
           }
          ],
          "contour": [
           {
            "colorbar": {
             "outlinewidth": 0,
             "ticks": ""
            },
            "colorscale": [
             [
              0,
              "#0d0887"
             ],
             [
              0.1111111111111111,
              "#46039f"
             ],
             [
              0.2222222222222222,
              "#7201a8"
             ],
             [
              0.3333333333333333,
              "#9c179e"
             ],
             [
              0.4444444444444444,
              "#bd3786"
             ],
             [
              0.5555555555555556,
              "#d8576b"
             ],
             [
              0.6666666666666666,
              "#ed7953"
             ],
             [
              0.7777777777777778,
              "#fb9f3a"
             ],
             [
              0.8888888888888888,
              "#fdca26"
             ],
             [
              1,
              "#f0f921"
             ]
            ],
            "type": "contour"
           }
          ],
          "contourcarpet": [
           {
            "colorbar": {
             "outlinewidth": 0,
             "ticks": ""
            },
            "type": "contourcarpet"
           }
          ],
          "heatmap": [
           {
            "colorbar": {
             "outlinewidth": 0,
             "ticks": ""
            },
            "colorscale": [
             [
              0,
              "#0d0887"
             ],
             [
              0.1111111111111111,
              "#46039f"
             ],
             [
              0.2222222222222222,
              "#7201a8"
             ],
             [
              0.3333333333333333,
              "#9c179e"
             ],
             [
              0.4444444444444444,
              "#bd3786"
             ],
             [
              0.5555555555555556,
              "#d8576b"
             ],
             [
              0.6666666666666666,
              "#ed7953"
             ],
             [
              0.7777777777777778,
              "#fb9f3a"
             ],
             [
              0.8888888888888888,
              "#fdca26"
             ],
             [
              1,
              "#f0f921"
             ]
            ],
            "type": "heatmap"
           }
          ],
          "heatmapgl": [
           {
            "colorbar": {
             "outlinewidth": 0,
             "ticks": ""
            },
            "colorscale": [
             [
              0,
              "#0d0887"
             ],
             [
              0.1111111111111111,
              "#46039f"
             ],
             [
              0.2222222222222222,
              "#7201a8"
             ],
             [
              0.3333333333333333,
              "#9c179e"
             ],
             [
              0.4444444444444444,
              "#bd3786"
             ],
             [
              0.5555555555555556,
              "#d8576b"
             ],
             [
              0.6666666666666666,
              "#ed7953"
             ],
             [
              0.7777777777777778,
              "#fb9f3a"
             ],
             [
              0.8888888888888888,
              "#fdca26"
             ],
             [
              1,
              "#f0f921"
             ]
            ],
            "type": "heatmapgl"
           }
          ],
          "histogram": [
           {
            "marker": {
             "pattern": {
              "fillmode": "overlay",
              "size": 10,
              "solidity": 0.2
             }
            },
            "type": "histogram"
           }
          ],
          "histogram2d": [
           {
            "colorbar": {
             "outlinewidth": 0,
             "ticks": ""
            },
            "colorscale": [
             [
              0,
              "#0d0887"
             ],
             [
              0.1111111111111111,
              "#46039f"
             ],
             [
              0.2222222222222222,
              "#7201a8"
             ],
             [
              0.3333333333333333,
              "#9c179e"
             ],
             [
              0.4444444444444444,
              "#bd3786"
             ],
             [
              0.5555555555555556,
              "#d8576b"
             ],
             [
              0.6666666666666666,
              "#ed7953"
             ],
             [
              0.7777777777777778,
              "#fb9f3a"
             ],
             [
              0.8888888888888888,
              "#fdca26"
             ],
             [
              1,
              "#f0f921"
             ]
            ],
            "type": "histogram2d"
           }
          ],
          "histogram2dcontour": [
           {
            "colorbar": {
             "outlinewidth": 0,
             "ticks": ""
            },
            "colorscale": [
             [
              0,
              "#0d0887"
             ],
             [
              0.1111111111111111,
              "#46039f"
             ],
             [
              0.2222222222222222,
              "#7201a8"
             ],
             [
              0.3333333333333333,
              "#9c179e"
             ],
             [
              0.4444444444444444,
              "#bd3786"
             ],
             [
              0.5555555555555556,
              "#d8576b"
             ],
             [
              0.6666666666666666,
              "#ed7953"
             ],
             [
              0.7777777777777778,
              "#fb9f3a"
             ],
             [
              0.8888888888888888,
              "#fdca26"
             ],
             [
              1,
              "#f0f921"
             ]
            ],
            "type": "histogram2dcontour"
           }
          ],
          "mesh3d": [
           {
            "colorbar": {
             "outlinewidth": 0,
             "ticks": ""
            },
            "type": "mesh3d"
           }
          ],
          "parcoords": [
           {
            "line": {
             "colorbar": {
              "outlinewidth": 0,
              "ticks": ""
             }
            },
            "type": "parcoords"
           }
          ],
          "pie": [
           {
            "automargin": true,
            "type": "pie"
           }
          ],
          "scatter": [
           {
            "fillpattern": {
             "fillmode": "overlay",
             "size": 10,
             "solidity": 0.2
            },
            "type": "scatter"
           }
          ],
          "scatter3d": [
           {
            "line": {
             "colorbar": {
              "outlinewidth": 0,
              "ticks": ""
             }
            },
            "marker": {
             "colorbar": {
              "outlinewidth": 0,
              "ticks": ""
             }
            },
            "type": "scatter3d"
           }
          ],
          "scattercarpet": [
           {
            "marker": {
             "colorbar": {
              "outlinewidth": 0,
              "ticks": ""
             }
            },
            "type": "scattercarpet"
           }
          ],
          "scattergeo": [
           {
            "marker": {
             "colorbar": {
              "outlinewidth": 0,
              "ticks": ""
             }
            },
            "type": "scattergeo"
           }
          ],
          "scattergl": [
           {
            "marker": {
             "colorbar": {
              "outlinewidth": 0,
              "ticks": ""
             }
            },
            "type": "scattergl"
           }
          ],
          "scattermapbox": [
           {
            "marker": {
             "colorbar": {
              "outlinewidth": 0,
              "ticks": ""
             }
            },
            "type": "scattermapbox"
           }
          ],
          "scatterpolar": [
           {
            "marker": {
             "colorbar": {
              "outlinewidth": 0,
              "ticks": ""
             }
            },
            "type": "scatterpolar"
           }
          ],
          "scatterpolargl": [
           {
            "marker": {
             "colorbar": {
              "outlinewidth": 0,
              "ticks": ""
             }
            },
            "type": "scatterpolargl"
           }
          ],
          "scatterternary": [
           {
            "marker": {
             "colorbar": {
              "outlinewidth": 0,
              "ticks": ""
             }
            },
            "type": "scatterternary"
           }
          ],
          "surface": [
           {
            "colorbar": {
             "outlinewidth": 0,
             "ticks": ""
            },
            "colorscale": [
             [
              0,
              "#0d0887"
             ],
             [
              0.1111111111111111,
              "#46039f"
             ],
             [
              0.2222222222222222,
              "#7201a8"
             ],
             [
              0.3333333333333333,
              "#9c179e"
             ],
             [
              0.4444444444444444,
              "#bd3786"
             ],
             [
              0.5555555555555556,
              "#d8576b"
             ],
             [
              0.6666666666666666,
              "#ed7953"
             ],
             [
              0.7777777777777778,
              "#fb9f3a"
             ],
             [
              0.8888888888888888,
              "#fdca26"
             ],
             [
              1,
              "#f0f921"
             ]
            ],
            "type": "surface"
           }
          ],
          "table": [
           {
            "cells": {
             "fill": {
              "color": "#EBF0F8"
             },
             "line": {
              "color": "white"
             }
            },
            "header": {
             "fill": {
              "color": "#C8D4E3"
             },
             "line": {
              "color": "white"
             }
            },
            "type": "table"
           }
          ]
         },
         "layout": {
          "annotationdefaults": {
           "arrowcolor": "#2a3f5f",
           "arrowhead": 0,
           "arrowwidth": 1
          },
          "autotypenumbers": "strict",
          "coloraxis": {
           "colorbar": {
            "outlinewidth": 0,
            "ticks": ""
           }
          },
          "colorscale": {
           "diverging": [
            [
             0,
             "#8e0152"
            ],
            [
             0.1,
             "#c51b7d"
            ],
            [
             0.2,
             "#de77ae"
            ],
            [
             0.3,
             "#f1b6da"
            ],
            [
             0.4,
             "#fde0ef"
            ],
            [
             0.5,
             "#f7f7f7"
            ],
            [
             0.6,
             "#e6f5d0"
            ],
            [
             0.7,
             "#b8e186"
            ],
            [
             0.8,
             "#7fbc41"
            ],
            [
             0.9,
             "#4d9221"
            ],
            [
             1,
             "#276419"
            ]
           ],
           "sequential": [
            [
             0,
             "#0d0887"
            ],
            [
             0.1111111111111111,
             "#46039f"
            ],
            [
             0.2222222222222222,
             "#7201a8"
            ],
            [
             0.3333333333333333,
             "#9c179e"
            ],
            [
             0.4444444444444444,
             "#bd3786"
            ],
            [
             0.5555555555555556,
             "#d8576b"
            ],
            [
             0.6666666666666666,
             "#ed7953"
            ],
            [
             0.7777777777777778,
             "#fb9f3a"
            ],
            [
             0.8888888888888888,
             "#fdca26"
            ],
            [
             1,
             "#f0f921"
            ]
           ],
           "sequentialminus": [
            [
             0,
             "#0d0887"
            ],
            [
             0.1111111111111111,
             "#46039f"
            ],
            [
             0.2222222222222222,
             "#7201a8"
            ],
            [
             0.3333333333333333,
             "#9c179e"
            ],
            [
             0.4444444444444444,
             "#bd3786"
            ],
            [
             0.5555555555555556,
             "#d8576b"
            ],
            [
             0.6666666666666666,
             "#ed7953"
            ],
            [
             0.7777777777777778,
             "#fb9f3a"
            ],
            [
             0.8888888888888888,
             "#fdca26"
            ],
            [
             1,
             "#f0f921"
            ]
           ]
          },
          "colorway": [
           "#636efa",
           "#EF553B",
           "#00cc96",
           "#ab63fa",
           "#FFA15A",
           "#19d3f3",
           "#FF6692",
           "#B6E880",
           "#FF97FF",
           "#FECB52"
          ],
          "font": {
           "color": "#2a3f5f"
          },
          "geo": {
           "bgcolor": "white",
           "lakecolor": "white",
           "landcolor": "#E5ECF6",
           "showlakes": true,
           "showland": true,
           "subunitcolor": "white"
          },
          "hoverlabel": {
           "align": "left"
          },
          "hovermode": "closest",
          "mapbox": {
           "style": "light"
          },
          "paper_bgcolor": "white",
          "plot_bgcolor": "#E5ECF6",
          "polar": {
           "angularaxis": {
            "gridcolor": "white",
            "linecolor": "white",
            "ticks": ""
           },
           "bgcolor": "#E5ECF6",
           "radialaxis": {
            "gridcolor": "white",
            "linecolor": "white",
            "ticks": ""
           }
          },
          "scene": {
           "xaxis": {
            "backgroundcolor": "#E5ECF6",
            "gridcolor": "white",
            "gridwidth": 2,
            "linecolor": "white",
            "showbackground": true,
            "ticks": "",
            "zerolinecolor": "white"
           },
           "yaxis": {
            "backgroundcolor": "#E5ECF6",
            "gridcolor": "white",
            "gridwidth": 2,
            "linecolor": "white",
            "showbackground": true,
            "ticks": "",
            "zerolinecolor": "white"
           },
           "zaxis": {
            "backgroundcolor": "#E5ECF6",
            "gridcolor": "white",
            "gridwidth": 2,
            "linecolor": "white",
            "showbackground": true,
            "ticks": "",
            "zerolinecolor": "white"
           }
          },
          "shapedefaults": {
           "line": {
            "color": "#2a3f5f"
           }
          },
          "ternary": {
           "aaxis": {
            "gridcolor": "white",
            "linecolor": "white",
            "ticks": ""
           },
           "baxis": {
            "gridcolor": "white",
            "linecolor": "white",
            "ticks": ""
           },
           "bgcolor": "#E5ECF6",
           "caxis": {
            "gridcolor": "white",
            "linecolor": "white",
            "ticks": ""
           }
          },
          "title": {
           "x": 0.05
          },
          "xaxis": {
           "automargin": true,
           "gridcolor": "white",
           "linecolor": "white",
           "ticks": "",
           "title": {
            "standoff": 15
           },
           "zerolinecolor": "white",
           "zerolinewidth": 2
          },
          "yaxis": {
           "automargin": true,
           "gridcolor": "white",
           "linecolor": "white",
           "ticks": "",
           "title": {
            "standoff": 15
           },
           "zerolinecolor": "white",
           "zerolinewidth": 2
          }
         }
        },
        "xaxis": {
         "anchor": "y",
         "domain": [
          0,
          1
         ],
         "title": {
          "text": "google_performance_max_spent"
         }
        },
        "yaxis": {
         "anchor": "x",
         "domain": [
          0,
          1
         ],
         "title": {
          "text": "revenue"
         }
        }
       }
      },
      "text/html": [
       "<div>                            <div id=\"f1d7f7ad-549c-40d6-9dad-cf0a21e92563\" class=\"plotly-graph-div\" style=\"height:525px; width:100%;\"></div>            <script type=\"text/javascript\">                require([\"plotly\"], function(Plotly) {                    window.PLOTLYENV=window.PLOTLYENV || {};                                    if (document.getElementById(\"f1d7f7ad-549c-40d6-9dad-cf0a21e92563\")) {                    Plotly.newPlot(                        \"f1d7f7ad-549c-40d6-9dad-cf0a21e92563\",                        [{\"hovertemplate\":\"google_performance_max_spent=%{x}<br>revenue=%{y}<extra></extra>\",\"legendgroup\":\"\",\"marker\":{\"color\":\"#636efa\",\"symbol\":\"circle\"},\"mode\":\"markers\",\"name\":\"\",\"orientation\":\"v\",\"showlegend\":false,\"x\":[88.2,90.56,74.14,65.01,69.26,56.27,48.87,51.25,81.94,84.22,42.11,122.55,94.21,97.31,178.47,140.29,127.91,158.53,0.0,0.0,0.0,0.0,0.0,0.0,0.0,0.0,0.0,0.0,0.0,0.0,0.0,155.7,56.92,40.6,32.96,60.23,114.05,62.13,60.71,60.8,71.68,45.95,71.43,69.25,50.67,55.16,76.56,63.43,28.26,81.29,73.87,64.49,42.94,65.04,60.49,20.56,98.83,76.45,68.8,69.49,46.4,62.29,11.18,28.4,46.59,50.02,43.2,34.3,61.43,11.08,21.53,41.75,47.11,33.77,56.86,28.27,14.93,12.2,37.15,53.75,37.32,61.05,29.46,13.05,14.04,50.2,21.55,49.62,76.89,37.41,7.97,24.99,51.99,40.59,44.51,36.68,37.82,13.95,15.58,51.93,41.39,40.9,43.12,11.2,9.24,22.0,51.75,19.68,58.91,35.34,9.31,15.21,14.98,45.94,45.12,31.28,42.1,80.7,12.75,13.59,47.63,42.42,41.12,50.45,37.12,17.73,32.27,100.2,68.39,94.71,107.66,81.35,17.0,33.32,104.11,157.4,143.83,83.61,67.15,17.83,29.83,100.37,86.93,95.8,97.01,150.63,8.38,37.81,86.3,67.99,58.91,67.59,75.57,13.0,37.98,101.86,89.93,67.9,125.32,79.3,9.96,40.5,22.04],\"xaxis\":\"x\",\"y\":[2461.81,6918.33,5101.67,5335.02,4384.38,2564.39,1507.22,3035.38,6164.88,5666.57,5529.19,4364.27,3441.28,1503.72,3075.01,7223.64,6191.63,6401.52,6006.66,3259.89,2036.57,2537.66,5131.19,5867.37,5541.04,4897.76,3133.15,1820.66,2907.35,6008.83,5485.87,5291.73,4846.12,3644.88,1870.71,3446.23,6795.43,5735.92,5906.51,5183.68,3128.48,1754.73,3043.88,5978.04,6321.35,6043.38,4429.38,2202.1,1740.83,1502.6,3861.43,6534.55,5504.45,5211.69,4218.57,2450.73,3373.6,6543.42,6254.53,6275.99,4800.1,2938.72,1883.86,3064.84,5960.51,6200.39,6126.07,4558.39,2533.53,1489.06,3292.68,6994.01,5961.43,5353.82,17697.95,13613.81,2402.75,3436.36,6987.25,4960.64,5485.93,5306.16,5301.18,2587.16,4190.47,7525.98,6415.08,4915.72,7788.17,6990.86,3055.72,4843.64,10482.65,10581.56,9520.25,10487.03,7024.91,3420.89,5850.73,26047.24,20130.25,5793.67,3231.42,1450.1,731.38,2075.78,6543.32,7426.74,4921.18,6507.9,1699.36,1334.25,2450.69,5677.11,5337.76,3523.35,2951.59,3990.13,3120.34,3141.9,7159.45,6919.14,5980.13,5737.6,4374.84,2179.55,3599.79,7773.84,7728.56,7172.95,5583.26,3689.49,2148.72,2861.71,6677.14,6894.49,6107.54,6592.92,4045.78,5824.62,3219.01,8797.88,7117.38,5999.78,5045.91,4362.41,1849.98,3422.41,7877.16,6893.43,6278.3,6400.52,3921.14,2325.44,3174.37,7166.95,7475.88,5648.14,6061.37,3722.15,2670.47,3385.87,372.27],\"yaxis\":\"y\",\"type\":\"scatter\"}],                        {\"template\":{\"data\":{\"histogram2dcontour\":[{\"type\":\"histogram2dcontour\",\"colorbar\":{\"outlinewidth\":0,\"ticks\":\"\"},\"colorscale\":[[0.0,\"#0d0887\"],[0.1111111111111111,\"#46039f\"],[0.2222222222222222,\"#7201a8\"],[0.3333333333333333,\"#9c179e\"],[0.4444444444444444,\"#bd3786\"],[0.5555555555555556,\"#d8576b\"],[0.6666666666666666,\"#ed7953\"],[0.7777777777777778,\"#fb9f3a\"],[0.8888888888888888,\"#fdca26\"],[1.0,\"#f0f921\"]]}],\"choropleth\":[{\"type\":\"choropleth\",\"colorbar\":{\"outlinewidth\":0,\"ticks\":\"\"}}],\"histogram2d\":[{\"type\":\"histogram2d\",\"colorbar\":{\"outlinewidth\":0,\"ticks\":\"\"},\"colorscale\":[[0.0,\"#0d0887\"],[0.1111111111111111,\"#46039f\"],[0.2222222222222222,\"#7201a8\"],[0.3333333333333333,\"#9c179e\"],[0.4444444444444444,\"#bd3786\"],[0.5555555555555556,\"#d8576b\"],[0.6666666666666666,\"#ed7953\"],[0.7777777777777778,\"#fb9f3a\"],[0.8888888888888888,\"#fdca26\"],[1.0,\"#f0f921\"]]}],\"heatmap\":[{\"type\":\"heatmap\",\"colorbar\":{\"outlinewidth\":0,\"ticks\":\"\"},\"colorscale\":[[0.0,\"#0d0887\"],[0.1111111111111111,\"#46039f\"],[0.2222222222222222,\"#7201a8\"],[0.3333333333333333,\"#9c179e\"],[0.4444444444444444,\"#bd3786\"],[0.5555555555555556,\"#d8576b\"],[0.6666666666666666,\"#ed7953\"],[0.7777777777777778,\"#fb9f3a\"],[0.8888888888888888,\"#fdca26\"],[1.0,\"#f0f921\"]]}],\"heatmapgl\":[{\"type\":\"heatmapgl\",\"colorbar\":{\"outlinewidth\":0,\"ticks\":\"\"},\"colorscale\":[[0.0,\"#0d0887\"],[0.1111111111111111,\"#46039f\"],[0.2222222222222222,\"#7201a8\"],[0.3333333333333333,\"#9c179e\"],[0.4444444444444444,\"#bd3786\"],[0.5555555555555556,\"#d8576b\"],[0.6666666666666666,\"#ed7953\"],[0.7777777777777778,\"#fb9f3a\"],[0.8888888888888888,\"#fdca26\"],[1.0,\"#f0f921\"]]}],\"contourcarpet\":[{\"type\":\"contourcarpet\",\"colorbar\":{\"outlinewidth\":0,\"ticks\":\"\"}}],\"contour\":[{\"type\":\"contour\",\"colorbar\":{\"outlinewidth\":0,\"ticks\":\"\"},\"colorscale\":[[0.0,\"#0d0887\"],[0.1111111111111111,\"#46039f\"],[0.2222222222222222,\"#7201a8\"],[0.3333333333333333,\"#9c179e\"],[0.4444444444444444,\"#bd3786\"],[0.5555555555555556,\"#d8576b\"],[0.6666666666666666,\"#ed7953\"],[0.7777777777777778,\"#fb9f3a\"],[0.8888888888888888,\"#fdca26\"],[1.0,\"#f0f921\"]]}],\"surface\":[{\"type\":\"surface\",\"colorbar\":{\"outlinewidth\":0,\"ticks\":\"\"},\"colorscale\":[[0.0,\"#0d0887\"],[0.1111111111111111,\"#46039f\"],[0.2222222222222222,\"#7201a8\"],[0.3333333333333333,\"#9c179e\"],[0.4444444444444444,\"#bd3786\"],[0.5555555555555556,\"#d8576b\"],[0.6666666666666666,\"#ed7953\"],[0.7777777777777778,\"#fb9f3a\"],[0.8888888888888888,\"#fdca26\"],[1.0,\"#f0f921\"]]}],\"mesh3d\":[{\"type\":\"mesh3d\",\"colorbar\":{\"outlinewidth\":0,\"ticks\":\"\"}}],\"scatter\":[{\"fillpattern\":{\"fillmode\":\"overlay\",\"size\":10,\"solidity\":0.2},\"type\":\"scatter\"}],\"parcoords\":[{\"type\":\"parcoords\",\"line\":{\"colorbar\":{\"outlinewidth\":0,\"ticks\":\"\"}}}],\"scatterpolargl\":[{\"type\":\"scatterpolargl\",\"marker\":{\"colorbar\":{\"outlinewidth\":0,\"ticks\":\"\"}}}],\"bar\":[{\"error_x\":{\"color\":\"#2a3f5f\"},\"error_y\":{\"color\":\"#2a3f5f\"},\"marker\":{\"line\":{\"color\":\"#E5ECF6\",\"width\":0.5},\"pattern\":{\"fillmode\":\"overlay\",\"size\":10,\"solidity\":0.2}},\"type\":\"bar\"}],\"scattergeo\":[{\"type\":\"scattergeo\",\"marker\":{\"colorbar\":{\"outlinewidth\":0,\"ticks\":\"\"}}}],\"scatterpolar\":[{\"type\":\"scatterpolar\",\"marker\":{\"colorbar\":{\"outlinewidth\":0,\"ticks\":\"\"}}}],\"histogram\":[{\"marker\":{\"pattern\":{\"fillmode\":\"overlay\",\"size\":10,\"solidity\":0.2}},\"type\":\"histogram\"}],\"scattergl\":[{\"type\":\"scattergl\",\"marker\":{\"colorbar\":{\"outlinewidth\":0,\"ticks\":\"\"}}}],\"scatter3d\":[{\"type\":\"scatter3d\",\"line\":{\"colorbar\":{\"outlinewidth\":0,\"ticks\":\"\"}},\"marker\":{\"colorbar\":{\"outlinewidth\":0,\"ticks\":\"\"}}}],\"scattermapbox\":[{\"type\":\"scattermapbox\",\"marker\":{\"colorbar\":{\"outlinewidth\":0,\"ticks\":\"\"}}}],\"scatterternary\":[{\"type\":\"scatterternary\",\"marker\":{\"colorbar\":{\"outlinewidth\":0,\"ticks\":\"\"}}}],\"scattercarpet\":[{\"type\":\"scattercarpet\",\"marker\":{\"colorbar\":{\"outlinewidth\":0,\"ticks\":\"\"}}}],\"carpet\":[{\"aaxis\":{\"endlinecolor\":\"#2a3f5f\",\"gridcolor\":\"white\",\"linecolor\":\"white\",\"minorgridcolor\":\"white\",\"startlinecolor\":\"#2a3f5f\"},\"baxis\":{\"endlinecolor\":\"#2a3f5f\",\"gridcolor\":\"white\",\"linecolor\":\"white\",\"minorgridcolor\":\"white\",\"startlinecolor\":\"#2a3f5f\"},\"type\":\"carpet\"}],\"table\":[{\"cells\":{\"fill\":{\"color\":\"#EBF0F8\"},\"line\":{\"color\":\"white\"}},\"header\":{\"fill\":{\"color\":\"#C8D4E3\"},\"line\":{\"color\":\"white\"}},\"type\":\"table\"}],\"barpolar\":[{\"marker\":{\"line\":{\"color\":\"#E5ECF6\",\"width\":0.5},\"pattern\":{\"fillmode\":\"overlay\",\"size\":10,\"solidity\":0.2}},\"type\":\"barpolar\"}],\"pie\":[{\"automargin\":true,\"type\":\"pie\"}]},\"layout\":{\"autotypenumbers\":\"strict\",\"colorway\":[\"#636efa\",\"#EF553B\",\"#00cc96\",\"#ab63fa\",\"#FFA15A\",\"#19d3f3\",\"#FF6692\",\"#B6E880\",\"#FF97FF\",\"#FECB52\"],\"font\":{\"color\":\"#2a3f5f\"},\"hovermode\":\"closest\",\"hoverlabel\":{\"align\":\"left\"},\"paper_bgcolor\":\"white\",\"plot_bgcolor\":\"#E5ECF6\",\"polar\":{\"bgcolor\":\"#E5ECF6\",\"angularaxis\":{\"gridcolor\":\"white\",\"linecolor\":\"white\",\"ticks\":\"\"},\"radialaxis\":{\"gridcolor\":\"white\",\"linecolor\":\"white\",\"ticks\":\"\"}},\"ternary\":{\"bgcolor\":\"#E5ECF6\",\"aaxis\":{\"gridcolor\":\"white\",\"linecolor\":\"white\",\"ticks\":\"\"},\"baxis\":{\"gridcolor\":\"white\",\"linecolor\":\"white\",\"ticks\":\"\"},\"caxis\":{\"gridcolor\":\"white\",\"linecolor\":\"white\",\"ticks\":\"\"}},\"coloraxis\":{\"colorbar\":{\"outlinewidth\":0,\"ticks\":\"\"}},\"colorscale\":{\"sequential\":[[0.0,\"#0d0887\"],[0.1111111111111111,\"#46039f\"],[0.2222222222222222,\"#7201a8\"],[0.3333333333333333,\"#9c179e\"],[0.4444444444444444,\"#bd3786\"],[0.5555555555555556,\"#d8576b\"],[0.6666666666666666,\"#ed7953\"],[0.7777777777777778,\"#fb9f3a\"],[0.8888888888888888,\"#fdca26\"],[1.0,\"#f0f921\"]],\"sequentialminus\":[[0.0,\"#0d0887\"],[0.1111111111111111,\"#46039f\"],[0.2222222222222222,\"#7201a8\"],[0.3333333333333333,\"#9c179e\"],[0.4444444444444444,\"#bd3786\"],[0.5555555555555556,\"#d8576b\"],[0.6666666666666666,\"#ed7953\"],[0.7777777777777778,\"#fb9f3a\"],[0.8888888888888888,\"#fdca26\"],[1.0,\"#f0f921\"]],\"diverging\":[[0,\"#8e0152\"],[0.1,\"#c51b7d\"],[0.2,\"#de77ae\"],[0.3,\"#f1b6da\"],[0.4,\"#fde0ef\"],[0.5,\"#f7f7f7\"],[0.6,\"#e6f5d0\"],[0.7,\"#b8e186\"],[0.8,\"#7fbc41\"],[0.9,\"#4d9221\"],[1,\"#276419\"]]},\"xaxis\":{\"gridcolor\":\"white\",\"linecolor\":\"white\",\"ticks\":\"\",\"title\":{\"standoff\":15},\"zerolinecolor\":\"white\",\"automargin\":true,\"zerolinewidth\":2},\"yaxis\":{\"gridcolor\":\"white\",\"linecolor\":\"white\",\"ticks\":\"\",\"title\":{\"standoff\":15},\"zerolinecolor\":\"white\",\"automargin\":true,\"zerolinewidth\":2},\"scene\":{\"xaxis\":{\"backgroundcolor\":\"#E5ECF6\",\"gridcolor\":\"white\",\"linecolor\":\"white\",\"showbackground\":true,\"ticks\":\"\",\"zerolinecolor\":\"white\",\"gridwidth\":2},\"yaxis\":{\"backgroundcolor\":\"#E5ECF6\",\"gridcolor\":\"white\",\"linecolor\":\"white\",\"showbackground\":true,\"ticks\":\"\",\"zerolinecolor\":\"white\",\"gridwidth\":2},\"zaxis\":{\"backgroundcolor\":\"#E5ECF6\",\"gridcolor\":\"white\",\"linecolor\":\"white\",\"showbackground\":true,\"ticks\":\"\",\"zerolinecolor\":\"white\",\"gridwidth\":2}},\"shapedefaults\":{\"line\":{\"color\":\"#2a3f5f\"}},\"annotationdefaults\":{\"arrowcolor\":\"#2a3f5f\",\"arrowhead\":0,\"arrowwidth\":1},\"geo\":{\"bgcolor\":\"white\",\"landcolor\":\"#E5ECF6\",\"subunitcolor\":\"white\",\"showland\":true,\"showlakes\":true,\"lakecolor\":\"white\"},\"title\":{\"x\":0.05},\"mapbox\":{\"style\":\"light\"}}},\"xaxis\":{\"anchor\":\"y\",\"domain\":[0.0,1.0],\"title\":{\"text\":\"google_performance_max_spent\"}},\"yaxis\":{\"anchor\":\"x\",\"domain\":[0.0,1.0],\"title\":{\"text\":\"revenue\"}},\"legend\":{\"tracegroupgap\":0},\"margin\":{\"t\":60}},                        {\"responsive\": true}                    ).then(function(){\n",
       "                            \n",
       "var gd = document.getElementById('f1d7f7ad-549c-40d6-9dad-cf0a21e92563');\n",
       "var x = new MutationObserver(function (mutations, observer) {{\n",
       "        var display = window.getComputedStyle(gd).display;\n",
       "        if (!display || display === 'none') {{\n",
       "            console.log([gd, 'removed!']);\n",
       "            Plotly.purge(gd);\n",
       "            observer.disconnect();\n",
       "        }}\n",
       "}});\n",
       "\n",
       "// Listen for the removal of the full notebook cells\n",
       "var notebookContainer = gd.closest('#notebook-container');\n",
       "if (notebookContainer) {{\n",
       "    x.observe(notebookContainer, {childList: true});\n",
       "}}\n",
       "\n",
       "// Listen for the clearing of the current output cell\n",
       "var outputEl = gd.closest('.output');\n",
       "if (outputEl) {{\n",
       "    x.observe(outputEl, {childList: true});\n",
       "}}\n",
       "\n",
       "                        })                };                });            </script>        </div>"
      ]
     },
     "metadata": {},
     "output_type": "display_data"
    }
   ],
   "source": [
    "fig1.show()\n",
    "fig2.show()\n",
    "fig3.show()\n",
    "fig4.show()\n",
    "fig5.show()\n",
    "fig6.show()"
   ]
  },
  {
   "cell_type": "markdown",
   "id": "1a87db47",
   "metadata": {},
   "source": [
    "We can observe that fb_prospecting_spent, fb_retargeting_spent, google_performance_max_spent, and google_search_spent are almost horizontal line. They show lesser positive correlation with revenue "
   ]
  },
  {
   "cell_type": "code",
   "execution_count": 110,
   "id": "466d27dd",
   "metadata": {},
   "outputs": [],
   "source": [
    "variables = ['google_search_spent','google_performance_max_spent','fb_retargeting_spent','fb_prospecting_spent','google_organico']"
   ]
  },
  {
   "cell_type": "code",
   "execution_count": 111,
   "id": "face202e",
   "metadata": {},
   "outputs": [],
   "source": [
    "import statsmodels.api as sm"
   ]
  },
  {
   "cell_type": "code",
   "execution_count": 112,
   "id": "2d8dde9b",
   "metadata": {},
   "outputs": [
    {
     "name": "stdout",
     "output_type": "stream",
     "text": [
      "                            OLS Regression Results                            \n",
      "==============================================================================\n",
      "Dep. Variable:                revenue   R-squared:                       0.513\n",
      "Model:                            OLS   Adj. R-squared:                  0.498\n",
      "Method:                 Least Squares   F-statistic:                     33.09\n",
      "Date:                Tue, 20 Sep 2022   Prob (F-statistic):           5.82e-23\n",
      "Time:                        21:49:07   Log-Likelihood:                -1483.7\n",
      "No. Observations:                 163   AIC:                             2979.\n",
      "Df Residuals:                     157   BIC:                             2998.\n",
      "Df Model:                           5                                         \n",
      "Covariance Type:            nonrobust                                         \n",
      "================================================================================================\n",
      "                                   coef    std err          t      P>|t|      [0.025      0.975]\n",
      "------------------------------------------------------------------------------------------------\n",
      "const                        -2996.9849    814.500     -3.680      0.000   -4605.777   -1388.193\n",
      "google_search_spent              1.4987      1.883      0.796      0.427      -2.220       5.218\n",
      "google_performance_max_spent    -3.6692      6.367     -0.576      0.565     -16.245       8.906\n",
      "fb_retargeting_spent             4.4216     47.106      0.094      0.925     -88.621      97.464\n",
      "fb_prospecting_spent            50.9858     41.854      1.218      0.225     -31.684     133.656\n",
      "google_organico                  1.2333      0.126      9.753      0.000       0.984       1.483\n",
      "==============================================================================\n",
      "Omnibus:                      176.843   Durbin-Watson:                   1.195\n",
      "Prob(Omnibus):                  0.000   Jarque-Bera (JB):             4282.532\n",
      "Skew:                           4.154   Prob(JB):                         0.00\n",
      "Kurtosis:                      26.697   Cond. No.                     2.64e+04\n",
      "==============================================================================\n",
      "\n",
      "Notes:\n",
      "[1] Standard Errors assume that the covariance matrix of the errors is correctly specified.\n",
      "[2] The condition number is large, 2.64e+04. This might indicate that there are\n",
      "strong multicollinearity or other numerical problems.\n"
     ]
    },
    {
     "name": "stderr",
     "output_type": "stream",
     "text": [
      "C:\\Users\\Ankit\\anaconda3\\lib\\site-packages\\statsmodels\\tsa\\tsatools.py:142: FutureWarning:\n",
      "\n",
      "In a future version of pandas all arguments of concat except for the argument 'objs' will be keyword-only\n",
      "\n"
     ]
    }
   ],
   "source": [
    "X=dataframe[variables]\n",
    "y=dataframe['revenue']\n",
    "X = sm.add_constant(X)\n",
    "\n",
    "result = sm.OLS(y,X).fit()\n",
    "\n",
    "print(result.summary())"
   ]
  },
  {
   "cell_type": "markdown",
   "id": "d96a3050",
   "metadata": {},
   "source": [
    "Here Adjusted R-squared is .513; which means that only ~50% of variation in the revenue can be explained by the marketing expenditure data that we have provided. Rest of the vairaition is still unexplained.\n",
    "\n",
    "If we look at the statistical significance of the independent variables then we observe that all except google_organico are of low statistical significance.\n",
    "\n",
    "Hence we now drop indepedent variables with lowest statistical significance first in next model"
   ]
  },
  {
   "cell_type": "code",
   "execution_count": 113,
   "id": "471409ac",
   "metadata": {},
   "outputs": [
    {
     "name": "stdout",
     "output_type": "stream",
     "text": [
      "                            OLS Regression Results                            \n",
      "==============================================================================\n",
      "Dep. Variable:                revenue   R-squared:                       0.513\n",
      "Model:                            OLS   Adj. R-squared:                  0.501\n",
      "Method:                 Least Squares   F-statistic:                     41.62\n",
      "Date:                Tue, 20 Sep 2022   Prob (F-statistic):           8.46e-24\n",
      "Time:                        21:50:32   Log-Likelihood:                -1483.7\n",
      "No. Observations:                 163   AIC:                             2977.\n",
      "Df Residuals:                     158   BIC:                             2993.\n",
      "Df Model:                           4                                         \n",
      "Covariance Type:            nonrobust                                         \n",
      "================================================================================================\n",
      "                                   coef    std err          t      P>|t|      [0.025      0.975]\n",
      "------------------------------------------------------------------------------------------------\n",
      "const                        -3018.2205    779.992     -3.870      0.000   -4558.776   -1477.665\n",
      "google_search_spent              1.5621      1.752      0.892      0.374      -1.899       5.023\n",
      "google_organico                  1.2327      0.126      9.791      0.000       0.984       1.481\n",
      "google_performance_max_spent    -3.8716      5.972     -0.648      0.518     -15.666       7.923\n",
      "fb_prospecting_spent            54.3790     21.027      2.586      0.011      12.848      95.910\n",
      "==============================================================================\n",
      "Omnibus:                      176.634   Durbin-Watson:                   1.195\n",
      "Prob(Omnibus):                  0.000   Jarque-Bera (JB):             4263.026\n",
      "Skew:                           4.148   Prob(JB):                         0.00\n",
      "Kurtosis:                      26.640   Cond. No.                     2.53e+04\n",
      "==============================================================================\n",
      "\n",
      "Notes:\n",
      "[1] Standard Errors assume that the covariance matrix of the errors is correctly specified.\n",
      "[2] The condition number is large, 2.53e+04. This might indicate that there are\n",
      "strong multicollinearity or other numerical problems.\n"
     ]
    },
    {
     "name": "stderr",
     "output_type": "stream",
     "text": [
      "C:\\Users\\Ankit\\anaconda3\\lib\\site-packages\\statsmodels\\tsa\\tsatools.py:142: FutureWarning:\n",
      "\n",
      "In a future version of pandas all arguments of concat except for the argument 'objs' will be keyword-only\n",
      "\n"
     ]
    }
   ],
   "source": [
    "variables = ['google_search_spent','google_organico','google_performance_max_spent','fb_prospecting_spent']\n",
    "X=dataframe[variables]\n",
    "y=dataframe['revenue']\n",
    "X = sm.add_constant(X)\n",
    "\n",
    "result = sm.OLS(y,X).fit()\n",
    "\n",
    "print(result.summary())"
   ]
  },
  {
   "cell_type": "markdown",
   "id": "19219345",
   "metadata": {},
   "source": [
    "google_performance_max_spent and google_search_spent  are still statistically insignificant based on their P-values"
   ]
  },
  {
   "cell_type": "code",
   "execution_count": 114,
   "id": "478ff6b3",
   "metadata": {},
   "outputs": [
    {
     "name": "stdout",
     "output_type": "stream",
     "text": [
      "                            OLS Regression Results                            \n",
      "==============================================================================\n",
      "Dep. Variable:                revenue   R-squared:                       0.511\n",
      "Model:                            OLS   Adj. R-squared:                  0.504\n",
      "Method:                 Least Squares   F-statistic:                     83.44\n",
      "Date:                Tue, 20 Sep 2022   Prob (F-statistic):           1.51e-25\n",
      "Time:                        21:52:26   Log-Likelihood:                -1484.1\n",
      "No. Observations:                 163   AIC:                             2974.\n",
      "Df Residuals:                     160   BIC:                             2984.\n",
      "Df Model:                           2                                         \n",
      "Covariance Type:            nonrobust                                         \n",
      "========================================================================================\n",
      "                           coef    std err          t      P>|t|      [0.025      0.975]\n",
      "----------------------------------------------------------------------------------------\n",
      "const                -3177.5539    754.208     -4.213      0.000   -4667.040   -1688.068\n",
      "google_organico          1.2877      0.103     12.486      0.000       1.084       1.491\n",
      "fb_prospecting_spent    55.4066     19.813      2.796      0.006      16.277      94.536\n",
      "==============================================================================\n",
      "Omnibus:                      179.470   Durbin-Watson:                   1.193\n",
      "Prob(Omnibus):                  0.000   Jarque-Bera (JB):             4511.831\n",
      "Skew:                           4.237   Prob(JB):                         0.00\n",
      "Kurtosis:                      27.341   Cond. No.                     2.46e+04\n",
      "==============================================================================\n",
      "\n",
      "Notes:\n",
      "[1] Standard Errors assume that the covariance matrix of the errors is correctly specified.\n",
      "[2] The condition number is large, 2.46e+04. This might indicate that there are\n",
      "strong multicollinearity or other numerical problems.\n"
     ]
    },
    {
     "name": "stderr",
     "output_type": "stream",
     "text": [
      "C:\\Users\\Ankit\\anaconda3\\lib\\site-packages\\statsmodels\\tsa\\tsatools.py:142: FutureWarning:\n",
      "\n",
      "In a future version of pandas all arguments of concat except for the argument 'objs' will be keyword-only\n",
      "\n"
     ]
    }
   ],
   "source": [
    "variables = ['google_organico','fb_prospecting_spent']\n",
    "X=dataframe[variables]\n",
    "y=dataframe['revenue']\n",
    "X = sm.add_constant(X)\n",
    "\n",
    "result = sm.OLS(y,X).fit()\n",
    "\n",
    "print(result.summary())"
   ]
  },
  {
   "cell_type": "markdown",
   "id": "72207c26",
   "metadata": {},
   "source": [
    "Finally we find two indenpedent variables are statistically significant but still they are able to explain 51% of variation in revenue."
   ]
  },
  {
   "cell_type": "code",
   "execution_count": 115,
   "id": "1586e5e2",
   "metadata": {},
   "outputs": [
    {
     "name": "stdout",
     "output_type": "stream",
     "text": [
      "0.5069285376363957 0.5050868157140338\n"
     ]
    }
   ],
   "source": [
    "X=dataframe[variables]\n",
    "y=dataframe['revenue']\n",
    "X_train, X_test, y_train , y_test = train_test_split(X, y, shuffle = False, test_size=0.2)\n",
    "\n",
    "model = LinearRegression()\n",
    "model.fit(X_train, y_train)\n",
    "\n",
    "print(model.score(X_train, y_train), model.score(X_test, y_test))"
   ]
  },
  {
   "cell_type": "markdown",
   "id": "5688b031",
   "metadata": {},
   "source": [
    "We have split the data in ratio 80:20 and then build a linear regression model. then we calculate R-squared values of both trainand test set. We have not shuffled the data in this regression model.\n",
    "\n",
    "**Test and Train set, both yield similar R-squared values**"
   ]
  },
  {
   "cell_type": "code",
   "execution_count": 124,
   "id": "97f14381",
   "metadata": {},
   "outputs": [
    {
     "name": "stdout",
     "output_type": "stream",
     "text": [
      "0.4520154379838137 0.5082221582700106\n"
     ]
    }
   ],
   "source": [
    "X=dataframe[variables]\n",
    "y=dataframe['revenue']\n",
    "X_train, X_test, y_train , y_test = train_test_split(X, y, shuffle = False, test_size=0.5)\n",
    "\n",
    "model = LinearRegression()\n",
    "model.fit(X_train, y_train)\n",
    "\n",
    "print(model.score(X_train, y_train), model.score(X_test, y_test))"
   ]
  },
  {
   "cell_type": "code",
   "execution_count": 125,
   "id": "a894fad9",
   "metadata": {},
   "outputs": [
    {
     "data": {
      "text/plain": [
       "array([ 1.13336763, 50.24288596])"
      ]
     },
     "execution_count": 125,
     "metadata": {},
     "output_type": "execute_result"
    }
   ],
   "source": [
    "model.coef_"
   ]
  },
  {
   "cell_type": "code",
   "execution_count": 126,
   "id": "47536ed8",
   "metadata": {},
   "outputs": [
    {
     "data": {
      "text/plain": [
       "Index(['google_organico', 'fb_prospecting_spent'], dtype='object')"
      ]
     },
     "execution_count": 126,
     "metadata": {},
     "output_type": "execute_result"
    }
   ],
   "source": [
    "X.columns"
   ]
  },
  {
   "cell_type": "code",
   "execution_count": 127,
   "id": "81efa812",
   "metadata": {},
   "outputs": [
    {
     "data": {
      "application/vnd.plotly.v1+json": {
       "config": {
        "plotlyServerURL": "https://plot.ly"
       },
       "data": [
        {
         "hovertemplate": "variable=revenue<br>week=%{x}<br>value=%{y}<extra></extra>",
         "legendgroup": "revenue",
         "line": {
          "color": "#636efa",
          "dash": "solid"
         },
         "marker": {
          "symbol": "circle"
         },
         "mode": "lines",
         "name": "revenue",
         "showlegend": true,
         "type": "scattergl",
         "x": [
          "week0",
          "week1",
          "week2",
          "week3",
          "week4",
          "week5",
          "week6",
          "week7",
          "week8",
          "week9",
          "week10",
          "week11",
          "week12",
          "week13",
          "week14",
          "week15",
          "week16",
          "week17",
          "week18",
          "week19",
          "week20",
          "week21",
          "week22",
          "week23",
          "week24",
          "week25",
          "week26",
          "week27",
          "week28",
          "week29",
          "week30",
          "week31",
          "week32",
          "week33",
          "week34",
          "week35",
          "week36",
          "week37",
          "week38",
          "week39",
          "week40",
          "week41",
          "week42",
          "week43",
          "week44",
          "week45",
          "week46",
          "week47",
          "week48",
          "week49",
          "week50",
          "week51",
          "week52",
          "week53",
          "week54",
          "week55",
          "week56",
          "week57",
          "week58",
          "week59",
          "week60",
          "week61",
          "week62",
          "week63",
          "week64",
          "week65",
          "week66",
          "week67",
          "week68",
          "week69",
          "week70",
          "week71",
          "week72",
          "week73",
          "week74",
          "week75",
          "week76",
          "week77",
          "week78",
          "week79",
          "week80",
          "week81",
          "week82",
          "week83",
          "week84",
          "week85",
          "week86",
          "week87",
          "week88",
          "week89",
          "week90",
          "week91",
          "week92",
          "week93",
          "week94",
          "week95",
          "week96",
          "week97",
          "week98",
          "week99",
          "week100",
          "week101",
          "week102",
          "week103",
          "week104",
          "week105",
          "week106",
          "week107",
          "week108",
          "week109",
          "week110",
          "week111",
          "week112",
          "week113",
          "week114",
          "week115",
          "week116",
          "week117",
          "week118",
          "week119",
          "week120",
          "week121",
          "week122",
          "week123",
          "week124",
          "week125",
          "week126",
          "week127",
          "week128",
          "week129",
          "week130",
          "week131",
          "week132",
          "week133",
          "week134",
          "week135",
          "week136",
          "week137",
          "week138",
          "week139",
          "week140",
          "week141",
          "week142",
          "week143",
          "week144",
          "week145",
          "week146",
          "week147",
          "week148",
          "week149",
          "week150",
          "week151",
          "week152",
          "week153",
          "week154",
          "week155",
          "week156",
          "week157",
          "week158",
          "week159",
          "week160",
          "week161",
          "week162"
         ],
         "xaxis": "x",
         "y": [
          2461.81,
          6918.33,
          5101.67,
          5335.02,
          4384.38,
          2564.39,
          1507.22,
          3035.38,
          6164.88,
          5666.57,
          5529.19,
          4364.27,
          3441.28,
          1503.72,
          3075.01,
          7223.64,
          6191.63,
          6401.52,
          6006.66,
          3259.89,
          2036.57,
          2537.66,
          5131.19,
          5867.37,
          5541.04,
          4897.76,
          3133.15,
          1820.66,
          2907.35,
          6008.83,
          5485.87,
          5291.73,
          4846.12,
          3644.88,
          1870.71,
          3446.23,
          6795.43,
          5735.92,
          5906.51,
          5183.68,
          3128.48,
          1754.73,
          3043.88,
          5978.04,
          6321.35,
          6043.38,
          4429.38,
          2202.1,
          1740.83,
          1502.6,
          3861.43,
          6534.55,
          5504.45,
          5211.69,
          4218.57,
          2450.73,
          3373.6,
          6543.42,
          6254.53,
          6275.99,
          4800.1,
          2938.72,
          1883.86,
          3064.84,
          5960.51,
          6200.39,
          6126.07,
          4558.39,
          2533.53,
          1489.06,
          3292.68,
          6994.01,
          5961.43,
          5353.82,
          17697.95,
          13613.81,
          2402.75,
          3436.36,
          6987.25,
          4960.64,
          5485.93,
          5306.16,
          5301.18,
          2587.16,
          4190.47,
          7525.98,
          6415.08,
          4915.72,
          7788.17,
          6990.86,
          3055.72,
          4843.64,
          10482.65,
          10581.56,
          9520.25,
          10487.03,
          7024.91,
          3420.89,
          5850.73,
          26047.24,
          20130.25,
          5793.67,
          3231.42,
          1450.1,
          731.38,
          2075.78,
          6543.32,
          7426.74,
          4921.18,
          6507.9,
          1699.36,
          1334.25,
          2450.69,
          5677.11,
          5337.76,
          3523.35,
          2951.59,
          3990.13,
          3120.34,
          3141.9,
          7159.45,
          6919.14,
          5980.13,
          5737.6,
          4374.84,
          2179.55,
          3599.79,
          7773.84,
          7728.56,
          7172.95,
          5583.26,
          3689.49,
          2148.72,
          2861.71,
          6677.14,
          6894.49,
          6107.54,
          6592.92,
          4045.78,
          5824.62,
          3219.01,
          8797.88,
          7117.38,
          5999.78,
          5045.91,
          4362.41,
          1849.98,
          3422.41,
          7877.16,
          6893.43,
          6278.3,
          6400.52,
          3921.14,
          2325.44,
          3174.37,
          7166.95,
          7475.88,
          5648.14,
          6061.37,
          3722.15,
          2670.47,
          3385.87,
          372.27
         ],
         "yaxis": "y"
        },
        {
         "hovertemplate": "variable=google_search_spent<br>week=%{x}<br>value=%{y}<extra></extra>",
         "legendgroup": "google_search_spent",
         "line": {
          "color": "#EF553B",
          "dash": "solid"
         },
         "marker": {
          "symbol": "circle"
         },
         "mode": "lines",
         "name": "google_search_spent",
         "showlegend": true,
         "type": "scattergl",
         "x": [
          "week0",
          "week1",
          "week2",
          "week3",
          "week4",
          "week5",
          "week6",
          "week7",
          "week8",
          "week9",
          "week10",
          "week11",
          "week12",
          "week13",
          "week14",
          "week15",
          "week16",
          "week17",
          "week18",
          "week19",
          "week20",
          "week21",
          "week22",
          "week23",
          "week24",
          "week25",
          "week26",
          "week27",
          "week28",
          "week29",
          "week30",
          "week31",
          "week32",
          "week33",
          "week34",
          "week35",
          "week36",
          "week37",
          "week38",
          "week39",
          "week40",
          "week41",
          "week42",
          "week43",
          "week44",
          "week45",
          "week46",
          "week47",
          "week48",
          "week49",
          "week50",
          "week51",
          "week52",
          "week53",
          "week54",
          "week55",
          "week56",
          "week57",
          "week58",
          "week59",
          "week60",
          "week61",
          "week62",
          "week63",
          "week64",
          "week65",
          "week66",
          "week67",
          "week68",
          "week69",
          "week70",
          "week71",
          "week72",
          "week73",
          "week74",
          "week75",
          "week76",
          "week77",
          "week78",
          "week79",
          "week80",
          "week81",
          "week82",
          "week83",
          "week84",
          "week85",
          "week86",
          "week87",
          "week88",
          "week89",
          "week90",
          "week91",
          "week92",
          "week93",
          "week94",
          "week95",
          "week96",
          "week97",
          "week98",
          "week99",
          "week100",
          "week101",
          "week102",
          "week103",
          "week104",
          "week105",
          "week106",
          "week107",
          "week108",
          "week109",
          "week110",
          "week111",
          "week112",
          "week113",
          "week114",
          "week115",
          "week116",
          "week117",
          "week118",
          "week119",
          "week120",
          "week121",
          "week122",
          "week123",
          "week124",
          "week125",
          "week126",
          "week127",
          "week128",
          "week129",
          "week130",
          "week131",
          "week132",
          "week133",
          "week134",
          "week135",
          "week136",
          "week137",
          "week138",
          "week139",
          "week140",
          "week141",
          "week142",
          "week143",
          "week144",
          "week145",
          "week146",
          "week147",
          "week148",
          "week149",
          "week150",
          "week151",
          "week152",
          "week153",
          "week154",
          "week155",
          "week156",
          "week157",
          "week158",
          "week159",
          "week160",
          "week161",
          "week162"
         ],
         "xaxis": "x",
         "y": [
          151.48,
          261.7,
          207.53,
          204.25,
          189.94,
          136.96,
          155.6,
          165.28,
          218.59,
          213.36,
          166.35,
          124.66,
          220.89,
          101.47,
          256.16,
          465.36,
          309.14,
          323.04,
          0,
          0,
          0,
          0,
          0,
          0,
          0,
          29.37,
          0,
          0,
          0,
          0,
          195.03,
          274.67,
          315.2,
          248.9,
          191.42,
          219.69,
          270.34,
          246.75,
          242.74,
          243.32,
          237.29,
          238.08,
          239.85,
          244.96,
          251.15,
          266.63,
          62.92,
          456.87,
          243.29,
          235.99,
          310.16,
          296.56,
          291.38,
          513.77,
          282.63,
          175.33,
          143.22,
          277.44,
          355.57,
          318.41,
          248.74,
          259.67,
          102.21,
          100.49,
          225.87,
          215.88,
          231.17,
          301.79,
          258.79,
          74.95,
          77.87,
          221.25,
          214.76,
          224.68,
          221.23,
          213.97,
          76.88,
          77.34,
          241.72,
          208.71,
          245.19,
          237.89,
          219.73,
          75.46,
          72.48,
          217.99,
          207.53,
          210.18,
          232.82,
          266.43,
          76.74,
          89.92,
          310.62,
          308.04,
          367.43,
          428.77,
          513.3,
          77.55,
          80.04,
          490.61,
          397.13,
          372.06,
          529.41,
          146.56,
          77.16,
          76.06,
          251.04,
          506.36,
          562.99,
          301.05,
          209.69,
          56.3,
          78.73,
          271.23,
          211.53,
          189.74,
          138.82,
          424.17,
          78.26,
          75.14,
          432.81,
          400.59,
          417.66,
          420.74,
          387.94,
          111.54,
          120.12,
          440.56,
          442.4,
          425.08,
          404.4,
          269.32,
          103.53,
          103.63,
          378,
          890.74,
          644.21,
          390.07,
          241.98,
          96.02,
          94.19,
          332.75,
          417.44,
          472.08,
          403.28,
          281.57,
          86.89,
          86.6,
          312.94,
          330.17,
          332.9,
          319.09,
          193.66,
          87.46,
          89.11,
          319.04,
          342.44,
          373.35,
          347.75,
          258.1,
          92.04,
          86.37,
          42.17
         ],
         "yaxis": "y"
        },
        {
         "hovertemplate": "variable=google_performance_max_spent<br>week=%{x}<br>value=%{y}<extra></extra>",
         "legendgroup": "google_performance_max_spent",
         "line": {
          "color": "#00cc96",
          "dash": "solid"
         },
         "marker": {
          "symbol": "circle"
         },
         "mode": "lines",
         "name": "google_performance_max_spent",
         "showlegend": true,
         "type": "scattergl",
         "x": [
          "week0",
          "week1",
          "week2",
          "week3",
          "week4",
          "week5",
          "week6",
          "week7",
          "week8",
          "week9",
          "week10",
          "week11",
          "week12",
          "week13",
          "week14",
          "week15",
          "week16",
          "week17",
          "week18",
          "week19",
          "week20",
          "week21",
          "week22",
          "week23",
          "week24",
          "week25",
          "week26",
          "week27",
          "week28",
          "week29",
          "week30",
          "week31",
          "week32",
          "week33",
          "week34",
          "week35",
          "week36",
          "week37",
          "week38",
          "week39",
          "week40",
          "week41",
          "week42",
          "week43",
          "week44",
          "week45",
          "week46",
          "week47",
          "week48",
          "week49",
          "week50",
          "week51",
          "week52",
          "week53",
          "week54",
          "week55",
          "week56",
          "week57",
          "week58",
          "week59",
          "week60",
          "week61",
          "week62",
          "week63",
          "week64",
          "week65",
          "week66",
          "week67",
          "week68",
          "week69",
          "week70",
          "week71",
          "week72",
          "week73",
          "week74",
          "week75",
          "week76",
          "week77",
          "week78",
          "week79",
          "week80",
          "week81",
          "week82",
          "week83",
          "week84",
          "week85",
          "week86",
          "week87",
          "week88",
          "week89",
          "week90",
          "week91",
          "week92",
          "week93",
          "week94",
          "week95",
          "week96",
          "week97",
          "week98",
          "week99",
          "week100",
          "week101",
          "week102",
          "week103",
          "week104",
          "week105",
          "week106",
          "week107",
          "week108",
          "week109",
          "week110",
          "week111",
          "week112",
          "week113",
          "week114",
          "week115",
          "week116",
          "week117",
          "week118",
          "week119",
          "week120",
          "week121",
          "week122",
          "week123",
          "week124",
          "week125",
          "week126",
          "week127",
          "week128",
          "week129",
          "week130",
          "week131",
          "week132",
          "week133",
          "week134",
          "week135",
          "week136",
          "week137",
          "week138",
          "week139",
          "week140",
          "week141",
          "week142",
          "week143",
          "week144",
          "week145",
          "week146",
          "week147",
          "week148",
          "week149",
          "week150",
          "week151",
          "week152",
          "week153",
          "week154",
          "week155",
          "week156",
          "week157",
          "week158",
          "week159",
          "week160",
          "week161",
          "week162"
         ],
         "xaxis": "x",
         "y": [
          88.2,
          90.56,
          74.14,
          65.01,
          69.26,
          56.27,
          48.87,
          51.25,
          81.94,
          84.22,
          42.11,
          122.55,
          94.21,
          97.31,
          178.47,
          140.29,
          127.91,
          158.53,
          0,
          0,
          0,
          0,
          0,
          0,
          0,
          0,
          0,
          0,
          0,
          0,
          0,
          155.7,
          56.92,
          40.6,
          32.96,
          60.23,
          114.05,
          62.13,
          60.71,
          60.8,
          71.68,
          45.95,
          71.43,
          69.25,
          50.67,
          55.16,
          76.56,
          63.43,
          28.26,
          81.29,
          73.87,
          64.49,
          42.94,
          65.04,
          60.49,
          20.56,
          98.83,
          76.45,
          68.8,
          69.49,
          46.4,
          62.29,
          11.18,
          28.4,
          46.59,
          50.02,
          43.2,
          34.3,
          61.43,
          11.08,
          21.53,
          41.75,
          47.11,
          33.77,
          56.86,
          28.27,
          14.93,
          12.2,
          37.15,
          53.75,
          37.32,
          61.05,
          29.46,
          13.05,
          14.04,
          50.2,
          21.55,
          49.62,
          76.89,
          37.41,
          7.97,
          24.99,
          51.99,
          40.59,
          44.51,
          36.68,
          37.82,
          13.95,
          15.58,
          51.93,
          41.39,
          40.9,
          43.12,
          11.2,
          9.24,
          22,
          51.75,
          19.68,
          58.91,
          35.34,
          9.31,
          15.21,
          14.98,
          45.94,
          45.12,
          31.28,
          42.1,
          80.7,
          12.75,
          13.59,
          47.63,
          42.42,
          41.12,
          50.45,
          37.12,
          17.73,
          32.27,
          100.2,
          68.39,
          94.71,
          107.66,
          81.35,
          17,
          33.32,
          104.11,
          157.4,
          143.83,
          83.61,
          67.15,
          17.83,
          29.83,
          100.37,
          86.93,
          95.8,
          97.01,
          150.63,
          8.38,
          37.81,
          86.3,
          67.99,
          58.91,
          67.59,
          75.57,
          13,
          37.98,
          101.86,
          89.93,
          67.9,
          125.32,
          79.3,
          9.96,
          40.5,
          22.04
         ],
         "yaxis": "y"
        },
        {
         "hovertemplate": "variable=fb_retargeting_spent<br>week=%{x}<br>value=%{y}<extra></extra>",
         "legendgroup": "fb_retargeting_spent",
         "line": {
          "color": "#ab63fa",
          "dash": "solid"
         },
         "marker": {
          "symbol": "circle"
         },
         "mode": "lines",
         "name": "fb_retargeting_spent",
         "showlegend": true,
         "type": "scattergl",
         "x": [
          "week0",
          "week1",
          "week2",
          "week3",
          "week4",
          "week5",
          "week6",
          "week7",
          "week8",
          "week9",
          "week10",
          "week11",
          "week12",
          "week13",
          "week14",
          "week15",
          "week16",
          "week17",
          "week18",
          "week19",
          "week20",
          "week21",
          "week22",
          "week23",
          "week24",
          "week25",
          "week26",
          "week27",
          "week28",
          "week29",
          "week30",
          "week31",
          "week32",
          "week33",
          "week34",
          "week35",
          "week36",
          "week37",
          "week38",
          "week39",
          "week40",
          "week41",
          "week42",
          "week43",
          "week44",
          "week45",
          "week46",
          "week47",
          "week48",
          "week49",
          "week50",
          "week51",
          "week52",
          "week53",
          "week54",
          "week55",
          "week56",
          "week57",
          "week58",
          "week59",
          "week60",
          "week61",
          "week62",
          "week63",
          "week64",
          "week65",
          "week66",
          "week67",
          "week68",
          "week69",
          "week70",
          "week71",
          "week72",
          "week73",
          "week74",
          "week75",
          "week76",
          "week77",
          "week78",
          "week79",
          "week80",
          "week81",
          "week82",
          "week83",
          "week84",
          "week85",
          "week86",
          "week87",
          "week88",
          "week89",
          "week90",
          "week91",
          "week92",
          "week93",
          "week94",
          "week95",
          "week96",
          "week97",
          "week98",
          "week99",
          "week100",
          "week101",
          "week102",
          "week103",
          "week104",
          "week105",
          "week106",
          "week107",
          "week108",
          "week109",
          "week110",
          "week111",
          "week112",
          "week113",
          "week114",
          "week115",
          "week116",
          "week117",
          "week118",
          "week119",
          "week120",
          "week121",
          "week122",
          "week123",
          "week124",
          "week125",
          "week126",
          "week127",
          "week128",
          "week129",
          "week130",
          "week131",
          "week132",
          "week133",
          "week134",
          "week135",
          "week136",
          "week137",
          "week138",
          "week139",
          "week140",
          "week141",
          "week142",
          "week143",
          "week144",
          "week145",
          "week146",
          "week147",
          "week148",
          "week149",
          "week150",
          "week151",
          "week152",
          "week153",
          "week154",
          "week155",
          "week156",
          "week157",
          "week158",
          "week159",
          "week160",
          "week161",
          "week162"
         ],
         "xaxis": "x",
         "y": [
          12.15,
          13.62,
          12.69,
          11.95,
          13.54,
          15.87,
          16.64,
          13.32,
          14.26,
          17.55,
          14.97,
          7.66,
          10.42,
          14.47,
          15.93,
          16.6,
          17.02,
          17.5,
          0,
          0,
          0,
          0,
          0,
          0,
          0,
          0.91,
          0,
          0,
          0,
          0,
          0,
          12.52,
          18.72,
          21.15,
          21.15,
          17.61,
          18.04,
          16.57,
          17.36,
          17.27,
          17.6,
          19.24,
          15.91,
          17.92,
          17.23,
          8.54,
          3.3,
          3.36,
          3.49,
          3.32,
          3.43,
          3.47,
          3.49,
          3.68,
          3.72,
          3.96,
          3.51,
          3.51,
          3.58,
          3.65,
          3.65,
          3.71,
          4.21,
          3.74,
          3.34,
          3.22,
          3.4,
          3.56,
          4.2,
          5.92,
          5.9,
          12.73,
          19.1,
          20.08,
          20.45,
          20.12,
          21.94,
          19.72,
          20.89,
          20.52,
          19.67,
          20.22,
          20.1,
          6.02,
          0,
          18.36,
          19.93,
          23.21,
          23.86,
          22.85,
          23.61,
          20.63,
          21.45,
          20.99,
          20.07,
          20.46,
          21.05,
          23.16,
          21.31,
          21.52,
          20.36,
          20.33,
          20.69,
          20.86,
          23.48,
          21.52,
          21.65,
          21.79,
          20.22,
          20.23,
          19.73,
          21,
          19.91,
          21.02,
          20.06,
          19.87,
          20.36,
          21.34,
          22.59,
          20.07,
          20.66,
          20.93,
          20.4,
          20.45,
          21.28,
          22.98,
          19.83,
          21.13,
          20.04,
          20.31,
          20.16,
          19.5,
          21.9,
          19.51,
          20.19,
          19.84,
          20.06,
          20.39,
          20.5,
          22.18,
          21.18,
          20.83,
          19.93,
          20.23,
          20.09,
          20.66,
          21.53,
          19.14,
          20.36,
          19.75,
          19.88,
          19.93,
          20.96,
          22.97,
          18.45,
          20.02,
          20.29,
          20.14,
          19.96,
          20.31,
          23.16,
          19.9,
          1.33
         ],
         "yaxis": "y"
        },
        {
         "hovertemplate": "variable=fb_prospecting_spent<br>week=%{x}<br>value=%{y}<extra></extra>",
         "legendgroup": "fb_prospecting_spent",
         "line": {
          "color": "#FFA15A",
          "dash": "solid"
         },
         "marker": {
          "symbol": "circle"
         },
         "mode": "lines",
         "name": "fb_prospecting_spent",
         "showlegend": true,
         "type": "scattergl",
         "x": [
          "week0",
          "week1",
          "week2",
          "week3",
          "week4",
          "week5",
          "week6",
          "week7",
          "week8",
          "week9",
          "week10",
          "week11",
          "week12",
          "week13",
          "week14",
          "week15",
          "week16",
          "week17",
          "week18",
          "week19",
          "week20",
          "week21",
          "week22",
          "week23",
          "week24",
          "week25",
          "week26",
          "week27",
          "week28",
          "week29",
          "week30",
          "week31",
          "week32",
          "week33",
          "week34",
          "week35",
          "week36",
          "week37",
          "week38",
          "week39",
          "week40",
          "week41",
          "week42",
          "week43",
          "week44",
          "week45",
          "week46",
          "week47",
          "week48",
          "week49",
          "week50",
          "week51",
          "week52",
          "week53",
          "week54",
          "week55",
          "week56",
          "week57",
          "week58",
          "week59",
          "week60",
          "week61",
          "week62",
          "week63",
          "week64",
          "week65",
          "week66",
          "week67",
          "week68",
          "week69",
          "week70",
          "week71",
          "week72",
          "week73",
          "week74",
          "week75",
          "week76",
          "week77",
          "week78",
          "week79",
          "week80",
          "week81",
          "week82",
          "week83",
          "week84",
          "week85",
          "week86",
          "week87",
          "week88",
          "week89",
          "week90",
          "week91",
          "week92",
          "week93",
          "week94",
          "week95",
          "week96",
          "week97",
          "week98",
          "week99",
          "week100",
          "week101",
          "week102",
          "week103",
          "week104",
          "week105",
          "week106",
          "week107",
          "week108",
          "week109",
          "week110",
          "week111",
          "week112",
          "week113",
          "week114",
          "week115",
          "week116",
          "week117",
          "week118",
          "week119",
          "week120",
          "week121",
          "week122",
          "week123",
          "week124",
          "week125",
          "week126",
          "week127",
          "week128",
          "week129",
          "week130",
          "week131",
          "week132",
          "week133",
          "week134",
          "week135",
          "week136",
          "week137",
          "week138",
          "week139",
          "week140",
          "week141",
          "week142",
          "week143",
          "week144",
          "week145",
          "week146",
          "week147",
          "week148",
          "week149",
          "week150",
          "week151",
          "week152",
          "week153",
          "week154",
          "week155",
          "week156",
          "week157",
          "week158",
          "week159",
          "week160",
          "week161",
          "week162"
         ],
         "xaxis": "x",
         "y": [
          31.48,
          29.61,
          30.09,
          30.08,
          31.03,
          31.46,
          34.1,
          31.51,
          31.32,
          30.55,
          29.6,
          31.18,
          34.9,
          34.86,
          31.08,
          29.05,
          31.41,
          30.65,
          9.87,
          11.46,
          11.58,
          12.69,
          8.2,
          11.16,
          11.12,
          12.89,
          12.44,
          12.59,
          12.5,
          12.04,
          11.02,
          34.56,
          33.99,
          34.56,
          35.37,
          32.38,
          31.09,
          29.65,
          29.56,
          30.67,
          32.59,
          35.21,
          31.43,
          30.81,
          30.17,
          19.54,
          13.67,
          13.34,
          13.7,
          14.16,
          12.25,
          11.72,
          14.42,
          13.43,
          16.17,
          14.91,
          13.98,
          12.18,
          11.58,
          12.36,
          14.25,
          13.07,
          13.82,
          13.71,
          12.7,
          13.77,
          8.51,
          11.99,
          14.99,
          16.48,
          16.71,
          23.16,
          30.03,
          30.29,
          31.78,
          31.46,
          34.48,
          31.66,
          31.47,
          32.19,
          30.83,
          32.19,
          31.55,
          9.49,
          0,
          25.12,
          25.04,
          33.18,
          35.83,
          36.63,
          36.74,
          33.08,
          33.56,
          33.31,
          30.15,
          32.63,
          32.73,
          35.33,
          33.61,
          32.93,
          32.77,
          32.57,
          31.73,
          33.05,
          35.94,
          33.74,
          32.91,
          32.8,
          31.86,
          33.04,
          32.16,
          24.25,
          21.73,
          22.23,
          21.06,
          21.08,
          21.79,
          22.19,
          23.92,
          21.4,
          21.55,
          21.78,
          21.68,
          21.39,
          22.06,
          24.14,
          21.31,
          22.32,
          21.03,
          26.24,
          30.11,
          30.53,
          33.75,
          30.58,
          30.49,
          30.32,
          31.1,
          30.63,
          30.69,
          33.25,
          31.74,
          31.05,
          30.36,
          29.96,
          30.2,
          31.82,
          33.35,
          29.46,
          30.46,
          29.77,
          29.98,
          30.47,
          30.78,
          34.01,
          31.07,
          30.57,
          29.9,
          29.78,
          30.44,
          31.06,
          33.75,
          30.59,
          2.13
         ],
         "yaxis": "y"
        },
        {
         "hovertemplate": "variable=google_organico<br>week=%{x}<br>value=%{y}<extra></extra>",
         "legendgroup": "google_organico",
         "line": {
          "color": "#19d3f3",
          "dash": "solid"
         },
         "marker": {
          "symbol": "circle"
         },
         "mode": "lines",
         "name": "google_organico",
         "showlegend": true,
         "type": "scattergl",
         "x": [
          "week0",
          "week1",
          "week2",
          "week3",
          "week4",
          "week5",
          "week6",
          "week7",
          "week8",
          "week9",
          "week10",
          "week11",
          "week12",
          "week13",
          "week14",
          "week15",
          "week16",
          "week17",
          "week18",
          "week19",
          "week20",
          "week21",
          "week22",
          "week23",
          "week24",
          "week25",
          "week26",
          "week27",
          "week28",
          "week29",
          "week30",
          "week31",
          "week32",
          "week33",
          "week34",
          "week35",
          "week36",
          "week37",
          "week38",
          "week39",
          "week40",
          "week41",
          "week42",
          "week43",
          "week44",
          "week45",
          "week46",
          "week47",
          "week48",
          "week49",
          "week50",
          "week51",
          "week52",
          "week53",
          "week54",
          "week55",
          "week56",
          "week57",
          "week58",
          "week59",
          "week60",
          "week61",
          "week62",
          "week63",
          "week64",
          "week65",
          "week66",
          "week67",
          "week68",
          "week69",
          "week70",
          "week71",
          "week72",
          "week73",
          "week74",
          "week75",
          "week76",
          "week77",
          "week78",
          "week79",
          "week80",
          "week81",
          "week82",
          "week83",
          "week84",
          "week85",
          "week86",
          "week87",
          "week88",
          "week89",
          "week90",
          "week91",
          "week92",
          "week93",
          "week94",
          "week95",
          "week96",
          "week97",
          "week98",
          "week99",
          "week100",
          "week101",
          "week102",
          "week103",
          "week104",
          "week105",
          "week106",
          "week107",
          "week108",
          "week109",
          "week110",
          "week111",
          "week112",
          "week113",
          "week114",
          "week115",
          "week116",
          "week117",
          "week118",
          "week119",
          "week120",
          "week121",
          "week122",
          "week123",
          "week124",
          "week125",
          "week126",
          "week127",
          "week128",
          "week129",
          "week130",
          "week131",
          "week132",
          "week133",
          "week134",
          "week135",
          "week136",
          "week137",
          "week138",
          "week139",
          "week140",
          "week141",
          "week142",
          "week143",
          "week144",
          "week145",
          "week146",
          "week147",
          "week148",
          "week149",
          "week150",
          "week151",
          "week152",
          "week153",
          "week154",
          "week155",
          "week156",
          "week157",
          "week158",
          "week159",
          "week160",
          "week161",
          "week162"
         ],
         "xaxis": "x",
         "y": [
          2603,
          5691,
          5616,
          5676,
          5398,
          4980,
          3229,
          2958,
          6089,
          5917,
          5727,
          5391,
          4536,
          2695,
          3212,
          6277,
          6143,
          6095,
          6020,
          5482,
          3143,
          3259,
          6597,
          6865,
          6421,
          6412,
          5710,
          3093,
          3077,
          6949,
          6684,
          6042,
          5691,
          5321,
          3141,
          3036,
          5883,
          5927,
          5759,
          5330,
          4995,
          2876,
          2943,
          6309,
          6072,
          6179,
          5429,
          5651,
          2945,
          2362,
          3476,
          6506,
          6827,
          6270,
          5724,
          3321,
          3370,
          6673,
          6880,
          6545,
          6587,
          5881,
          3581,
          3485,
          6658,
          6818,
          6269,
          6053,
          5637,
          3460,
          3581,
          7076,
          6945,
          6522,
          6352,
          5689,
          3873,
          3612,
          6929,
          6902,
          6978,
          6841,
          6944,
          4432,
          3960,
          7795,
          6720,
          4704,
          7857,
          7087,
          4509,
          4438,
          8700,
          8665,
          8836,
          8466,
          8033,
          5007,
          4439,
          8779,
          8182,
          7234,
          5822,
          3024,
          1910,
          2771,
          6468,
          6011,
          5644,
          4811,
          2676,
          2016,
          3144,
          6162,
          6206,
          5413,
          3861,
          5780,
          4413,
          3763,
          7149,
          7698,
          7329,
          6897,
          6565,
          3944,
          3604,
          7194,
          6919,
          6825,
          6566,
          5869,
          3926,
          3467,
          6947,
          6550,
          6101,
          5887,
          5645,
          3513,
          3325,
          6920,
          6464,
          6237,
          5813,
          5214,
          3248,
          3134,
          6491,
          6650,
          6060,
          5710,
          4921,
          3291,
          2809,
          5792,
          6155,
          5788,
          5003,
          4696,
          3058,
          1398,
          0
         ],
         "yaxis": "y"
        },
        {
         "hovertemplate": "variable=prediction<br>week=%{x}<br>value=%{y}<extra></extra>",
         "legendgroup": "prediction",
         "line": {
          "color": "#FF6692",
          "dash": "solid"
         },
         "marker": {
          "symbol": "circle"
         },
         "mode": "lines",
         "name": "prediction",
         "showlegend": true,
         "type": "scattergl",
         "x": [
          "week0",
          "week1",
          "week2",
          "week3",
          "week4",
          "week5",
          "week6",
          "week7",
          "week8",
          "week9",
          "week10",
          "week11",
          "week12",
          "week13",
          "week14",
          "week15",
          "week16",
          "week17",
          "week18",
          "week19",
          "week20",
          "week21",
          "week22",
          "week23",
          "week24",
          "week25",
          "week26",
          "week27",
          "week28",
          "week29",
          "week30",
          "week31",
          "week32",
          "week33",
          "week34",
          "week35",
          "week36",
          "week37",
          "week38",
          "week39",
          "week40",
          "week41",
          "week42",
          "week43",
          "week44",
          "week45",
          "week46",
          "week47",
          "week48",
          "week49",
          "week50",
          "week51",
          "week52",
          "week53",
          "week54",
          "week55",
          "week56",
          "week57",
          "week58",
          "week59",
          "week60",
          "week61",
          "week62",
          "week63",
          "week64",
          "week65",
          "week66",
          "week67",
          "week68",
          "week69",
          "week70",
          "week71",
          "week72",
          "week73",
          "week74",
          "week75",
          "week76",
          "week77",
          "week78",
          "week79",
          "week80",
          "week81",
          "week82",
          "week83",
          "week84",
          "week85",
          "week86",
          "week87",
          "week88",
          "week89",
          "week90",
          "week91",
          "week92",
          "week93",
          "week94",
          "week95",
          "week96",
          "week97",
          "week98",
          "week99",
          "week100",
          "week101",
          "week102",
          "week103",
          "week104",
          "week105",
          "week106",
          "week107",
          "week108",
          "week109",
          "week110",
          "week111",
          "week112",
          "week113",
          "week114",
          "week115",
          "week116",
          "week117",
          "week118",
          "week119",
          "week120",
          "week121",
          "week122",
          "week123",
          "week124",
          "week125",
          "week126",
          "week127",
          "week128",
          "week129",
          "week130",
          "week131",
          "week132",
          "week133",
          "week134",
          "week135",
          "week136",
          "week137",
          "week138",
          "week139",
          "week140",
          "week141",
          "week142",
          "week143",
          "week144",
          "week145",
          "week146",
          "week147",
          "week148",
          "week149",
          "week150",
          "week151",
          "week152",
          "week153",
          "week154",
          "week155",
          "week156",
          "week157",
          "week158",
          "week159",
          "week160",
          "week161",
          "week162"
         ],
         "xaxis": "x",
         "y": [
          2154.9423889620766,
          5560.827425477596,
          5499.941438685658,
          5567.44106746705,
          5300.095608722892,
          4847.9523814522945,
          2996.0668848895593,
          2558.795183249793,
          6097.823076148748,
          5864.196822057931,
          5601.126231202605,
          5299.698468224966,
          4517.572682600567,
          2429.033165212182,
          2825.0661196350993,
          6196.844838968498,
          6163.546787761725,
          6070.960548321791,
          4941.910806088394,
          4412.045211245759,
          1767.1274771904964,
          1954.3677253750602,
          5511.958307521109,
          5964.419774082842,
          5459.194832101469,
          5537.924431598851,
          4719.691058519064,
          1761.2044106393923,
          1738.548668865692,
          6103.8363944221655,
          5752.246229498663,
          6207.341748163346,
          5780.891265968357,
          5390.1836888444805,
          2960.1389988479477,
          2690.9091689654515,
          5852.793481144723,
          5830.31190097031,
          5635.384279839511,
          5204.939171118692,
          4921.727356993712,
          2651.7577158472886,
          2537.7752379630083,
          6321.540082327636,
          6020.7765076334945,
          5607.964966039144,
          4463.013504960762,
          4698.04096586657,
          1649.235605203734,
          1011.5940059992013,
          2178.2016306888745,
          5585.676812000238,
          6085.143612462718,
          5404.117386931916,
          4922.9641699208005,
          2136.175725094803,
          2144.9848548951013,
          5798.060933307701,
          6002.522300594936,
          5662.033596479211,
          5804.594091286225,
          4945.149940948581,
          2376.0865625127226,
          2261.756552831939,
          5807.186719594994,
          6042.285427944658,
          5155.789020397136,
          5085.826856019327,
          4765.074580912391,
          2372.595156248528,
          2521.2885029278596,
          6806.4749749350885,
          7003.172442275509,
          6536.82108625551,
          6419.010489681747,
          5651.510029242968,
          3745.0479335661084,
          3307.554044429772,
          7057.388316015704,
          7062.962267966164,
          7080.767882743472,
          6993.826842697856,
          7078.408261302486,
          3123.0307171940785,
          2111.276209355212,
          7719.842355474575,
          6497.452725197501,
          4621.560680149567,
          8328.212456967507,
          7495.713692673959,
          4579.4186668226375,
          4315.060602678966,
          9169.590015701066,
          9117.36142725464,
          9152.399771907902,
          8857.656106961502,
          8371.932212914922,
          5072.993276043522,
          4342.822699863417,
          9227.47304010888,
          8542.813704828246,
          7458.332616909724,
          5815.813502888765,
          2710.971491028312,
          1593.6018945762976,
          2458.897072619121,
          6607.255595585448,
          6083.779872431556,
          5620.605640394967,
          4735.797012241994,
          2271.8433882091986,
          1126.3995262403942,
          2278.2261372793137,
          5723.851079597984,
          5714.935078631904,
          4817.179407863023,
          3093.8652992461903,
          5288.894930512268,
          3826.5015766309916,
          2963.200546242805,
          6808.31976534115,
          7442.094456525994,
          7018.857513438412,
          6514.672261496033,
          6172.056942807107,
          3306.0055943146517,
          2778.473233758151,
          6898.008330758601,
          6521.51891035327,
          6676.747789217336,
          6577.6455423866555,
          5808.790318226028,
          3768.439111067163,
          3088.953421630781,
          7028.550905070331,
          6570.062666399994,
          6100.370052766446,
          5834.215224113996,
          5562.954831452866,
          3275.2368379934924,
          2986.2969662570586,
          7026.085995267706,
          6474.602765886224,
          6197.231160095207,
          5728.741578728723,
          5131.2478451964835,
          2979.9187053416,
          2655.269969451845,
          6510.227980420335,
          6655.765841858689,
          5997.629947773512,
          5625.570292320077,
          4746.918528988063,
          3061.813818049106,
          2367.816536953753,
          5723.530726358402,
          6101.280441495155,
          5679.305375943136,
          4822.772093205398,
          4505.978820902367,
          2784.6760105279454,
          744.5182295045888,
          -2269.8422478601547
         ],
         "yaxis": "y"
        }
       ],
       "layout": {
        "legend": {
         "title": {
          "text": "variable"
         },
         "tracegroupgap": 0
        },
        "margin": {
         "t": 60
        },
        "template": {
         "data": {
          "bar": [
           {
            "error_x": {
             "color": "#2a3f5f"
            },
            "error_y": {
             "color": "#2a3f5f"
            },
            "marker": {
             "line": {
              "color": "#E5ECF6",
              "width": 0.5
             },
             "pattern": {
              "fillmode": "overlay",
              "size": 10,
              "solidity": 0.2
             }
            },
            "type": "bar"
           }
          ],
          "barpolar": [
           {
            "marker": {
             "line": {
              "color": "#E5ECF6",
              "width": 0.5
             },
             "pattern": {
              "fillmode": "overlay",
              "size": 10,
              "solidity": 0.2
             }
            },
            "type": "barpolar"
           }
          ],
          "carpet": [
           {
            "aaxis": {
             "endlinecolor": "#2a3f5f",
             "gridcolor": "white",
             "linecolor": "white",
             "minorgridcolor": "white",
             "startlinecolor": "#2a3f5f"
            },
            "baxis": {
             "endlinecolor": "#2a3f5f",
             "gridcolor": "white",
             "linecolor": "white",
             "minorgridcolor": "white",
             "startlinecolor": "#2a3f5f"
            },
            "type": "carpet"
           }
          ],
          "choropleth": [
           {
            "colorbar": {
             "outlinewidth": 0,
             "ticks": ""
            },
            "type": "choropleth"
           }
          ],
          "contour": [
           {
            "colorbar": {
             "outlinewidth": 0,
             "ticks": ""
            },
            "colorscale": [
             [
              0,
              "#0d0887"
             ],
             [
              0.1111111111111111,
              "#46039f"
             ],
             [
              0.2222222222222222,
              "#7201a8"
             ],
             [
              0.3333333333333333,
              "#9c179e"
             ],
             [
              0.4444444444444444,
              "#bd3786"
             ],
             [
              0.5555555555555556,
              "#d8576b"
             ],
             [
              0.6666666666666666,
              "#ed7953"
             ],
             [
              0.7777777777777778,
              "#fb9f3a"
             ],
             [
              0.8888888888888888,
              "#fdca26"
             ],
             [
              1,
              "#f0f921"
             ]
            ],
            "type": "contour"
           }
          ],
          "contourcarpet": [
           {
            "colorbar": {
             "outlinewidth": 0,
             "ticks": ""
            },
            "type": "contourcarpet"
           }
          ],
          "heatmap": [
           {
            "colorbar": {
             "outlinewidth": 0,
             "ticks": ""
            },
            "colorscale": [
             [
              0,
              "#0d0887"
             ],
             [
              0.1111111111111111,
              "#46039f"
             ],
             [
              0.2222222222222222,
              "#7201a8"
             ],
             [
              0.3333333333333333,
              "#9c179e"
             ],
             [
              0.4444444444444444,
              "#bd3786"
             ],
             [
              0.5555555555555556,
              "#d8576b"
             ],
             [
              0.6666666666666666,
              "#ed7953"
             ],
             [
              0.7777777777777778,
              "#fb9f3a"
             ],
             [
              0.8888888888888888,
              "#fdca26"
             ],
             [
              1,
              "#f0f921"
             ]
            ],
            "type": "heatmap"
           }
          ],
          "heatmapgl": [
           {
            "colorbar": {
             "outlinewidth": 0,
             "ticks": ""
            },
            "colorscale": [
             [
              0,
              "#0d0887"
             ],
             [
              0.1111111111111111,
              "#46039f"
             ],
             [
              0.2222222222222222,
              "#7201a8"
             ],
             [
              0.3333333333333333,
              "#9c179e"
             ],
             [
              0.4444444444444444,
              "#bd3786"
             ],
             [
              0.5555555555555556,
              "#d8576b"
             ],
             [
              0.6666666666666666,
              "#ed7953"
             ],
             [
              0.7777777777777778,
              "#fb9f3a"
             ],
             [
              0.8888888888888888,
              "#fdca26"
             ],
             [
              1,
              "#f0f921"
             ]
            ],
            "type": "heatmapgl"
           }
          ],
          "histogram": [
           {
            "marker": {
             "pattern": {
              "fillmode": "overlay",
              "size": 10,
              "solidity": 0.2
             }
            },
            "type": "histogram"
           }
          ],
          "histogram2d": [
           {
            "colorbar": {
             "outlinewidth": 0,
             "ticks": ""
            },
            "colorscale": [
             [
              0,
              "#0d0887"
             ],
             [
              0.1111111111111111,
              "#46039f"
             ],
             [
              0.2222222222222222,
              "#7201a8"
             ],
             [
              0.3333333333333333,
              "#9c179e"
             ],
             [
              0.4444444444444444,
              "#bd3786"
             ],
             [
              0.5555555555555556,
              "#d8576b"
             ],
             [
              0.6666666666666666,
              "#ed7953"
             ],
             [
              0.7777777777777778,
              "#fb9f3a"
             ],
             [
              0.8888888888888888,
              "#fdca26"
             ],
             [
              1,
              "#f0f921"
             ]
            ],
            "type": "histogram2d"
           }
          ],
          "histogram2dcontour": [
           {
            "colorbar": {
             "outlinewidth": 0,
             "ticks": ""
            },
            "colorscale": [
             [
              0,
              "#0d0887"
             ],
             [
              0.1111111111111111,
              "#46039f"
             ],
             [
              0.2222222222222222,
              "#7201a8"
             ],
             [
              0.3333333333333333,
              "#9c179e"
             ],
             [
              0.4444444444444444,
              "#bd3786"
             ],
             [
              0.5555555555555556,
              "#d8576b"
             ],
             [
              0.6666666666666666,
              "#ed7953"
             ],
             [
              0.7777777777777778,
              "#fb9f3a"
             ],
             [
              0.8888888888888888,
              "#fdca26"
             ],
             [
              1,
              "#f0f921"
             ]
            ],
            "type": "histogram2dcontour"
           }
          ],
          "mesh3d": [
           {
            "colorbar": {
             "outlinewidth": 0,
             "ticks": ""
            },
            "type": "mesh3d"
           }
          ],
          "parcoords": [
           {
            "line": {
             "colorbar": {
              "outlinewidth": 0,
              "ticks": ""
             }
            },
            "type": "parcoords"
           }
          ],
          "pie": [
           {
            "automargin": true,
            "type": "pie"
           }
          ],
          "scatter": [
           {
            "fillpattern": {
             "fillmode": "overlay",
             "size": 10,
             "solidity": 0.2
            },
            "type": "scatter"
           }
          ],
          "scatter3d": [
           {
            "line": {
             "colorbar": {
              "outlinewidth": 0,
              "ticks": ""
             }
            },
            "marker": {
             "colorbar": {
              "outlinewidth": 0,
              "ticks": ""
             }
            },
            "type": "scatter3d"
           }
          ],
          "scattercarpet": [
           {
            "marker": {
             "colorbar": {
              "outlinewidth": 0,
              "ticks": ""
             }
            },
            "type": "scattercarpet"
           }
          ],
          "scattergeo": [
           {
            "marker": {
             "colorbar": {
              "outlinewidth": 0,
              "ticks": ""
             }
            },
            "type": "scattergeo"
           }
          ],
          "scattergl": [
           {
            "marker": {
             "colorbar": {
              "outlinewidth": 0,
              "ticks": ""
             }
            },
            "type": "scattergl"
           }
          ],
          "scattermapbox": [
           {
            "marker": {
             "colorbar": {
              "outlinewidth": 0,
              "ticks": ""
             }
            },
            "type": "scattermapbox"
           }
          ],
          "scatterpolar": [
           {
            "marker": {
             "colorbar": {
              "outlinewidth": 0,
              "ticks": ""
             }
            },
            "type": "scatterpolar"
           }
          ],
          "scatterpolargl": [
           {
            "marker": {
             "colorbar": {
              "outlinewidth": 0,
              "ticks": ""
             }
            },
            "type": "scatterpolargl"
           }
          ],
          "scatterternary": [
           {
            "marker": {
             "colorbar": {
              "outlinewidth": 0,
              "ticks": ""
             }
            },
            "type": "scatterternary"
           }
          ],
          "surface": [
           {
            "colorbar": {
             "outlinewidth": 0,
             "ticks": ""
            },
            "colorscale": [
             [
              0,
              "#0d0887"
             ],
             [
              0.1111111111111111,
              "#46039f"
             ],
             [
              0.2222222222222222,
              "#7201a8"
             ],
             [
              0.3333333333333333,
              "#9c179e"
             ],
             [
              0.4444444444444444,
              "#bd3786"
             ],
             [
              0.5555555555555556,
              "#d8576b"
             ],
             [
              0.6666666666666666,
              "#ed7953"
             ],
             [
              0.7777777777777778,
              "#fb9f3a"
             ],
             [
              0.8888888888888888,
              "#fdca26"
             ],
             [
              1,
              "#f0f921"
             ]
            ],
            "type": "surface"
           }
          ],
          "table": [
           {
            "cells": {
             "fill": {
              "color": "#EBF0F8"
             },
             "line": {
              "color": "white"
             }
            },
            "header": {
             "fill": {
              "color": "#C8D4E3"
             },
             "line": {
              "color": "white"
             }
            },
            "type": "table"
           }
          ]
         },
         "layout": {
          "annotationdefaults": {
           "arrowcolor": "#2a3f5f",
           "arrowhead": 0,
           "arrowwidth": 1
          },
          "autotypenumbers": "strict",
          "coloraxis": {
           "colorbar": {
            "outlinewidth": 0,
            "ticks": ""
           }
          },
          "colorscale": {
           "diverging": [
            [
             0,
             "#8e0152"
            ],
            [
             0.1,
             "#c51b7d"
            ],
            [
             0.2,
             "#de77ae"
            ],
            [
             0.3,
             "#f1b6da"
            ],
            [
             0.4,
             "#fde0ef"
            ],
            [
             0.5,
             "#f7f7f7"
            ],
            [
             0.6,
             "#e6f5d0"
            ],
            [
             0.7,
             "#b8e186"
            ],
            [
             0.8,
             "#7fbc41"
            ],
            [
             0.9,
             "#4d9221"
            ],
            [
             1,
             "#276419"
            ]
           ],
           "sequential": [
            [
             0,
             "#0d0887"
            ],
            [
             0.1111111111111111,
             "#46039f"
            ],
            [
             0.2222222222222222,
             "#7201a8"
            ],
            [
             0.3333333333333333,
             "#9c179e"
            ],
            [
             0.4444444444444444,
             "#bd3786"
            ],
            [
             0.5555555555555556,
             "#d8576b"
            ],
            [
             0.6666666666666666,
             "#ed7953"
            ],
            [
             0.7777777777777778,
             "#fb9f3a"
            ],
            [
             0.8888888888888888,
             "#fdca26"
            ],
            [
             1,
             "#f0f921"
            ]
           ],
           "sequentialminus": [
            [
             0,
             "#0d0887"
            ],
            [
             0.1111111111111111,
             "#46039f"
            ],
            [
             0.2222222222222222,
             "#7201a8"
            ],
            [
             0.3333333333333333,
             "#9c179e"
            ],
            [
             0.4444444444444444,
             "#bd3786"
            ],
            [
             0.5555555555555556,
             "#d8576b"
            ],
            [
             0.6666666666666666,
             "#ed7953"
            ],
            [
             0.7777777777777778,
             "#fb9f3a"
            ],
            [
             0.8888888888888888,
             "#fdca26"
            ],
            [
             1,
             "#f0f921"
            ]
           ]
          },
          "colorway": [
           "#636efa",
           "#EF553B",
           "#00cc96",
           "#ab63fa",
           "#FFA15A",
           "#19d3f3",
           "#FF6692",
           "#B6E880",
           "#FF97FF",
           "#FECB52"
          ],
          "font": {
           "color": "#2a3f5f"
          },
          "geo": {
           "bgcolor": "white",
           "lakecolor": "white",
           "landcolor": "#E5ECF6",
           "showlakes": true,
           "showland": true,
           "subunitcolor": "white"
          },
          "hoverlabel": {
           "align": "left"
          },
          "hovermode": "closest",
          "mapbox": {
           "style": "light"
          },
          "paper_bgcolor": "white",
          "plot_bgcolor": "#E5ECF6",
          "polar": {
           "angularaxis": {
            "gridcolor": "white",
            "linecolor": "white",
            "ticks": ""
           },
           "bgcolor": "#E5ECF6",
           "radialaxis": {
            "gridcolor": "white",
            "linecolor": "white",
            "ticks": ""
           }
          },
          "scene": {
           "xaxis": {
            "backgroundcolor": "#E5ECF6",
            "gridcolor": "white",
            "gridwidth": 2,
            "linecolor": "white",
            "showbackground": true,
            "ticks": "",
            "zerolinecolor": "white"
           },
           "yaxis": {
            "backgroundcolor": "#E5ECF6",
            "gridcolor": "white",
            "gridwidth": 2,
            "linecolor": "white",
            "showbackground": true,
            "ticks": "",
            "zerolinecolor": "white"
           },
           "zaxis": {
            "backgroundcolor": "#E5ECF6",
            "gridcolor": "white",
            "gridwidth": 2,
            "linecolor": "white",
            "showbackground": true,
            "ticks": "",
            "zerolinecolor": "white"
           }
          },
          "shapedefaults": {
           "line": {
            "color": "#2a3f5f"
           }
          },
          "ternary": {
           "aaxis": {
            "gridcolor": "white",
            "linecolor": "white",
            "ticks": ""
           },
           "baxis": {
            "gridcolor": "white",
            "linecolor": "white",
            "ticks": ""
           },
           "bgcolor": "#E5ECF6",
           "caxis": {
            "gridcolor": "white",
            "linecolor": "white",
            "ticks": ""
           }
          },
          "title": {
           "x": 0.05
          },
          "xaxis": {
           "automargin": true,
           "gridcolor": "white",
           "linecolor": "white",
           "ticks": "",
           "title": {
            "standoff": 15
           },
           "zerolinecolor": "white",
           "zerolinewidth": 2
          },
          "yaxis": {
           "automargin": true,
           "gridcolor": "white",
           "linecolor": "white",
           "ticks": "",
           "title": {
            "standoff": 15
           },
           "zerolinecolor": "white",
           "zerolinewidth": 2
          }
         }
        },
        "xaxis": {
         "anchor": "y",
         "domain": [
          0,
          1
         ],
         "title": {
          "text": "week"
         }
        },
        "yaxis": {
         "anchor": "x",
         "domain": [
          0,
          1
         ],
         "title": {
          "text": "value"
         }
        }
       }
      },
      "text/html": [
       "<div>                            <div id=\"43c149d1-cd0a-43b6-8913-871e8ceab6a5\" class=\"plotly-graph-div\" style=\"height:525px; width:100%;\"></div>            <script type=\"text/javascript\">                require([\"plotly\"], function(Plotly) {                    window.PLOTLYENV=window.PLOTLYENV || {};                                    if (document.getElementById(\"43c149d1-cd0a-43b6-8913-871e8ceab6a5\")) {                    Plotly.newPlot(                        \"43c149d1-cd0a-43b6-8913-871e8ceab6a5\",                        [{\"hovertemplate\":\"variable=revenue<br>week=%{x}<br>value=%{y}<extra></extra>\",\"legendgroup\":\"revenue\",\"line\":{\"color\":\"#636efa\",\"dash\":\"solid\"},\"marker\":{\"symbol\":\"circle\"},\"mode\":\"lines\",\"name\":\"revenue\",\"showlegend\":true,\"x\":[\"week0\",\"week1\",\"week2\",\"week3\",\"week4\",\"week5\",\"week6\",\"week7\",\"week8\",\"week9\",\"week10\",\"week11\",\"week12\",\"week13\",\"week14\",\"week15\",\"week16\",\"week17\",\"week18\",\"week19\",\"week20\",\"week21\",\"week22\",\"week23\",\"week24\",\"week25\",\"week26\",\"week27\",\"week28\",\"week29\",\"week30\",\"week31\",\"week32\",\"week33\",\"week34\",\"week35\",\"week36\",\"week37\",\"week38\",\"week39\",\"week40\",\"week41\",\"week42\",\"week43\",\"week44\",\"week45\",\"week46\",\"week47\",\"week48\",\"week49\",\"week50\",\"week51\",\"week52\",\"week53\",\"week54\",\"week55\",\"week56\",\"week57\",\"week58\",\"week59\",\"week60\",\"week61\",\"week62\",\"week63\",\"week64\",\"week65\",\"week66\",\"week67\",\"week68\",\"week69\",\"week70\",\"week71\",\"week72\",\"week73\",\"week74\",\"week75\",\"week76\",\"week77\",\"week78\",\"week79\",\"week80\",\"week81\",\"week82\",\"week83\",\"week84\",\"week85\",\"week86\",\"week87\",\"week88\",\"week89\",\"week90\",\"week91\",\"week92\",\"week93\",\"week94\",\"week95\",\"week96\",\"week97\",\"week98\",\"week99\",\"week100\",\"week101\",\"week102\",\"week103\",\"week104\",\"week105\",\"week106\",\"week107\",\"week108\",\"week109\",\"week110\",\"week111\",\"week112\",\"week113\",\"week114\",\"week115\",\"week116\",\"week117\",\"week118\",\"week119\",\"week120\",\"week121\",\"week122\",\"week123\",\"week124\",\"week125\",\"week126\",\"week127\",\"week128\",\"week129\",\"week130\",\"week131\",\"week132\",\"week133\",\"week134\",\"week135\",\"week136\",\"week137\",\"week138\",\"week139\",\"week140\",\"week141\",\"week142\",\"week143\",\"week144\",\"week145\",\"week146\",\"week147\",\"week148\",\"week149\",\"week150\",\"week151\",\"week152\",\"week153\",\"week154\",\"week155\",\"week156\",\"week157\",\"week158\",\"week159\",\"week160\",\"week161\",\"week162\"],\"xaxis\":\"x\",\"y\":[2461.81,6918.33,5101.67,5335.02,4384.38,2564.39,1507.22,3035.38,6164.88,5666.57,5529.19,4364.27,3441.28,1503.72,3075.01,7223.64,6191.63,6401.52,6006.66,3259.89,2036.57,2537.66,5131.19,5867.37,5541.04,4897.76,3133.15,1820.66,2907.35,6008.83,5485.87,5291.73,4846.12,3644.88,1870.71,3446.23,6795.43,5735.92,5906.51,5183.68,3128.48,1754.73,3043.88,5978.04,6321.35,6043.38,4429.38,2202.1,1740.83,1502.6,3861.43,6534.55,5504.45,5211.69,4218.57,2450.73,3373.6,6543.42,6254.53,6275.99,4800.1,2938.72,1883.86,3064.84,5960.51,6200.39,6126.07,4558.39,2533.53,1489.06,3292.68,6994.01,5961.43,5353.82,17697.95,13613.81,2402.75,3436.36,6987.25,4960.64,5485.93,5306.16,5301.18,2587.16,4190.47,7525.98,6415.08,4915.72,7788.17,6990.86,3055.72,4843.64,10482.65,10581.56,9520.25,10487.03,7024.91,3420.89,5850.73,26047.24,20130.25,5793.67,3231.42,1450.1,731.38,2075.78,6543.32,7426.74,4921.18,6507.9,1699.36,1334.25,2450.69,5677.11,5337.76,3523.35,2951.59,3990.13,3120.34,3141.9,7159.45,6919.14,5980.13,5737.6,4374.84,2179.55,3599.79,7773.84,7728.56,7172.95,5583.26,3689.49,2148.72,2861.71,6677.14,6894.49,6107.54,6592.92,4045.78,5824.62,3219.01,8797.88,7117.38,5999.78,5045.91,4362.41,1849.98,3422.41,7877.16,6893.43,6278.3,6400.52,3921.14,2325.44,3174.37,7166.95,7475.88,5648.14,6061.37,3722.15,2670.47,3385.87,372.27],\"yaxis\":\"y\",\"type\":\"scattergl\"},{\"hovertemplate\":\"variable=google_search_spent<br>week=%{x}<br>value=%{y}<extra></extra>\",\"legendgroup\":\"google_search_spent\",\"line\":{\"color\":\"#EF553B\",\"dash\":\"solid\"},\"marker\":{\"symbol\":\"circle\"},\"mode\":\"lines\",\"name\":\"google_search_spent\",\"showlegend\":true,\"x\":[\"week0\",\"week1\",\"week2\",\"week3\",\"week4\",\"week5\",\"week6\",\"week7\",\"week8\",\"week9\",\"week10\",\"week11\",\"week12\",\"week13\",\"week14\",\"week15\",\"week16\",\"week17\",\"week18\",\"week19\",\"week20\",\"week21\",\"week22\",\"week23\",\"week24\",\"week25\",\"week26\",\"week27\",\"week28\",\"week29\",\"week30\",\"week31\",\"week32\",\"week33\",\"week34\",\"week35\",\"week36\",\"week37\",\"week38\",\"week39\",\"week40\",\"week41\",\"week42\",\"week43\",\"week44\",\"week45\",\"week46\",\"week47\",\"week48\",\"week49\",\"week50\",\"week51\",\"week52\",\"week53\",\"week54\",\"week55\",\"week56\",\"week57\",\"week58\",\"week59\",\"week60\",\"week61\",\"week62\",\"week63\",\"week64\",\"week65\",\"week66\",\"week67\",\"week68\",\"week69\",\"week70\",\"week71\",\"week72\",\"week73\",\"week74\",\"week75\",\"week76\",\"week77\",\"week78\",\"week79\",\"week80\",\"week81\",\"week82\",\"week83\",\"week84\",\"week85\",\"week86\",\"week87\",\"week88\",\"week89\",\"week90\",\"week91\",\"week92\",\"week93\",\"week94\",\"week95\",\"week96\",\"week97\",\"week98\",\"week99\",\"week100\",\"week101\",\"week102\",\"week103\",\"week104\",\"week105\",\"week106\",\"week107\",\"week108\",\"week109\",\"week110\",\"week111\",\"week112\",\"week113\",\"week114\",\"week115\",\"week116\",\"week117\",\"week118\",\"week119\",\"week120\",\"week121\",\"week122\",\"week123\",\"week124\",\"week125\",\"week126\",\"week127\",\"week128\",\"week129\",\"week130\",\"week131\",\"week132\",\"week133\",\"week134\",\"week135\",\"week136\",\"week137\",\"week138\",\"week139\",\"week140\",\"week141\",\"week142\",\"week143\",\"week144\",\"week145\",\"week146\",\"week147\",\"week148\",\"week149\",\"week150\",\"week151\",\"week152\",\"week153\",\"week154\",\"week155\",\"week156\",\"week157\",\"week158\",\"week159\",\"week160\",\"week161\",\"week162\"],\"xaxis\":\"x\",\"y\":[151.48,261.7,207.53,204.25,189.94,136.96,155.6,165.28,218.59,213.36,166.35,124.66,220.89,101.47,256.16,465.36,309.14,323.04,0.0,0.0,0.0,0.0,0.0,0.0,0.0,29.37,0.0,0.0,0.0,0.0,195.03,274.67,315.2,248.9,191.42,219.69,270.34,246.75,242.74,243.32,237.29,238.08,239.85,244.96,251.15,266.63,62.92,456.87,243.29,235.99,310.16,296.56,291.38,513.77,282.63,175.33,143.22,277.44,355.57,318.41,248.74,259.67,102.21,100.49,225.87,215.88,231.17,301.79,258.79,74.95,77.87,221.25,214.76,224.68,221.23,213.97,76.88,77.34,241.72,208.71,245.19,237.89,219.73,75.46,72.48,217.99,207.53,210.18,232.82,266.43,76.74,89.92,310.62,308.04,367.43,428.77,513.3,77.55,80.04,490.61,397.13,372.06,529.41,146.56,77.16,76.06,251.04,506.36,562.99,301.05,209.69,56.3,78.73,271.23,211.53,189.74,138.82,424.17,78.26,75.14,432.81,400.59,417.66,420.74,387.94,111.54,120.12,440.56,442.4,425.08,404.4,269.32,103.53,103.63,378.0,890.74,644.21,390.07,241.98,96.02,94.19,332.75,417.44,472.08,403.28,281.57,86.89,86.6,312.94,330.17,332.9,319.09,193.66,87.46,89.11,319.04,342.44,373.35,347.75,258.1,92.04,86.37,42.17],\"yaxis\":\"y\",\"type\":\"scattergl\"},{\"hovertemplate\":\"variable=google_performance_max_spent<br>week=%{x}<br>value=%{y}<extra></extra>\",\"legendgroup\":\"google_performance_max_spent\",\"line\":{\"color\":\"#00cc96\",\"dash\":\"solid\"},\"marker\":{\"symbol\":\"circle\"},\"mode\":\"lines\",\"name\":\"google_performance_max_spent\",\"showlegend\":true,\"x\":[\"week0\",\"week1\",\"week2\",\"week3\",\"week4\",\"week5\",\"week6\",\"week7\",\"week8\",\"week9\",\"week10\",\"week11\",\"week12\",\"week13\",\"week14\",\"week15\",\"week16\",\"week17\",\"week18\",\"week19\",\"week20\",\"week21\",\"week22\",\"week23\",\"week24\",\"week25\",\"week26\",\"week27\",\"week28\",\"week29\",\"week30\",\"week31\",\"week32\",\"week33\",\"week34\",\"week35\",\"week36\",\"week37\",\"week38\",\"week39\",\"week40\",\"week41\",\"week42\",\"week43\",\"week44\",\"week45\",\"week46\",\"week47\",\"week48\",\"week49\",\"week50\",\"week51\",\"week52\",\"week53\",\"week54\",\"week55\",\"week56\",\"week57\",\"week58\",\"week59\",\"week60\",\"week61\",\"week62\",\"week63\",\"week64\",\"week65\",\"week66\",\"week67\",\"week68\",\"week69\",\"week70\",\"week71\",\"week72\",\"week73\",\"week74\",\"week75\",\"week76\",\"week77\",\"week78\",\"week79\",\"week80\",\"week81\",\"week82\",\"week83\",\"week84\",\"week85\",\"week86\",\"week87\",\"week88\",\"week89\",\"week90\",\"week91\",\"week92\",\"week93\",\"week94\",\"week95\",\"week96\",\"week97\",\"week98\",\"week99\",\"week100\",\"week101\",\"week102\",\"week103\",\"week104\",\"week105\",\"week106\",\"week107\",\"week108\",\"week109\",\"week110\",\"week111\",\"week112\",\"week113\",\"week114\",\"week115\",\"week116\",\"week117\",\"week118\",\"week119\",\"week120\",\"week121\",\"week122\",\"week123\",\"week124\",\"week125\",\"week126\",\"week127\",\"week128\",\"week129\",\"week130\",\"week131\",\"week132\",\"week133\",\"week134\",\"week135\",\"week136\",\"week137\",\"week138\",\"week139\",\"week140\",\"week141\",\"week142\",\"week143\",\"week144\",\"week145\",\"week146\",\"week147\",\"week148\",\"week149\",\"week150\",\"week151\",\"week152\",\"week153\",\"week154\",\"week155\",\"week156\",\"week157\",\"week158\",\"week159\",\"week160\",\"week161\",\"week162\"],\"xaxis\":\"x\",\"y\":[88.2,90.56,74.14,65.01,69.26,56.27,48.87,51.25,81.94,84.22,42.11,122.55,94.21,97.31,178.47,140.29,127.91,158.53,0.0,0.0,0.0,0.0,0.0,0.0,0.0,0.0,0.0,0.0,0.0,0.0,0.0,155.7,56.92,40.6,32.96,60.23,114.05,62.13,60.71,60.8,71.68,45.95,71.43,69.25,50.67,55.16,76.56,63.43,28.26,81.29,73.87,64.49,42.94,65.04,60.49,20.56,98.83,76.45,68.8,69.49,46.4,62.29,11.18,28.4,46.59,50.02,43.2,34.3,61.43,11.08,21.53,41.75,47.11,33.77,56.86,28.27,14.93,12.2,37.15,53.75,37.32,61.05,29.46,13.05,14.04,50.2,21.55,49.62,76.89,37.41,7.97,24.99,51.99,40.59,44.51,36.68,37.82,13.95,15.58,51.93,41.39,40.9,43.12,11.2,9.24,22.0,51.75,19.68,58.91,35.34,9.31,15.21,14.98,45.94,45.12,31.28,42.1,80.7,12.75,13.59,47.63,42.42,41.12,50.45,37.12,17.73,32.27,100.2,68.39,94.71,107.66,81.35,17.0,33.32,104.11,157.4,143.83,83.61,67.15,17.83,29.83,100.37,86.93,95.8,97.01,150.63,8.38,37.81,86.3,67.99,58.91,67.59,75.57,13.0,37.98,101.86,89.93,67.9,125.32,79.3,9.96,40.5,22.04],\"yaxis\":\"y\",\"type\":\"scattergl\"},{\"hovertemplate\":\"variable=fb_retargeting_spent<br>week=%{x}<br>value=%{y}<extra></extra>\",\"legendgroup\":\"fb_retargeting_spent\",\"line\":{\"color\":\"#ab63fa\",\"dash\":\"solid\"},\"marker\":{\"symbol\":\"circle\"},\"mode\":\"lines\",\"name\":\"fb_retargeting_spent\",\"showlegend\":true,\"x\":[\"week0\",\"week1\",\"week2\",\"week3\",\"week4\",\"week5\",\"week6\",\"week7\",\"week8\",\"week9\",\"week10\",\"week11\",\"week12\",\"week13\",\"week14\",\"week15\",\"week16\",\"week17\",\"week18\",\"week19\",\"week20\",\"week21\",\"week22\",\"week23\",\"week24\",\"week25\",\"week26\",\"week27\",\"week28\",\"week29\",\"week30\",\"week31\",\"week32\",\"week33\",\"week34\",\"week35\",\"week36\",\"week37\",\"week38\",\"week39\",\"week40\",\"week41\",\"week42\",\"week43\",\"week44\",\"week45\",\"week46\",\"week47\",\"week48\",\"week49\",\"week50\",\"week51\",\"week52\",\"week53\",\"week54\",\"week55\",\"week56\",\"week57\",\"week58\",\"week59\",\"week60\",\"week61\",\"week62\",\"week63\",\"week64\",\"week65\",\"week66\",\"week67\",\"week68\",\"week69\",\"week70\",\"week71\",\"week72\",\"week73\",\"week74\",\"week75\",\"week76\",\"week77\",\"week78\",\"week79\",\"week80\",\"week81\",\"week82\",\"week83\",\"week84\",\"week85\",\"week86\",\"week87\",\"week88\",\"week89\",\"week90\",\"week91\",\"week92\",\"week93\",\"week94\",\"week95\",\"week96\",\"week97\",\"week98\",\"week99\",\"week100\",\"week101\",\"week102\",\"week103\",\"week104\",\"week105\",\"week106\",\"week107\",\"week108\",\"week109\",\"week110\",\"week111\",\"week112\",\"week113\",\"week114\",\"week115\",\"week116\",\"week117\",\"week118\",\"week119\",\"week120\",\"week121\",\"week122\",\"week123\",\"week124\",\"week125\",\"week126\",\"week127\",\"week128\",\"week129\",\"week130\",\"week131\",\"week132\",\"week133\",\"week134\",\"week135\",\"week136\",\"week137\",\"week138\",\"week139\",\"week140\",\"week141\",\"week142\",\"week143\",\"week144\",\"week145\",\"week146\",\"week147\",\"week148\",\"week149\",\"week150\",\"week151\",\"week152\",\"week153\",\"week154\",\"week155\",\"week156\",\"week157\",\"week158\",\"week159\",\"week160\",\"week161\",\"week162\"],\"xaxis\":\"x\",\"y\":[12.15,13.62,12.69,11.95,13.54,15.87,16.64,13.32,14.26,17.55,14.97,7.66,10.42,14.47,15.93,16.6,17.02,17.5,0.0,0.0,0.0,0.0,0.0,0.0,0.0,0.91,0.0,0.0,0.0,0.0,0.0,12.52,18.72,21.15,21.15,17.61,18.04,16.57,17.36,17.27,17.6,19.24,15.91,17.92,17.23,8.54,3.3,3.36,3.49,3.32,3.43,3.47,3.49,3.68,3.72,3.96,3.51,3.51,3.58,3.65,3.65,3.71,4.21,3.74,3.34,3.22,3.4,3.56,4.2,5.92,5.9,12.73,19.1,20.08,20.45,20.12,21.94,19.72,20.89,20.52,19.67,20.22,20.1,6.02,0.0,18.36,19.93,23.21,23.86,22.85,23.61,20.63,21.45,20.99,20.07,20.46,21.05,23.16,21.31,21.52,20.36,20.33,20.69,20.86,23.48,21.52,21.65,21.79,20.22,20.23,19.73,21.0,19.91,21.02,20.06,19.87,20.36,21.34,22.59,20.07,20.66,20.93,20.4,20.45,21.28,22.98,19.83,21.13,20.04,20.31,20.16,19.5,21.9,19.51,20.19,19.84,20.06,20.39,20.5,22.18,21.18,20.83,19.93,20.23,20.09,20.66,21.53,19.14,20.36,19.75,19.88,19.93,20.96,22.97,18.45,20.02,20.29,20.14,19.96,20.31,23.16,19.9,1.33],\"yaxis\":\"y\",\"type\":\"scattergl\"},{\"hovertemplate\":\"variable=fb_prospecting_spent<br>week=%{x}<br>value=%{y}<extra></extra>\",\"legendgroup\":\"fb_prospecting_spent\",\"line\":{\"color\":\"#FFA15A\",\"dash\":\"solid\"},\"marker\":{\"symbol\":\"circle\"},\"mode\":\"lines\",\"name\":\"fb_prospecting_spent\",\"showlegend\":true,\"x\":[\"week0\",\"week1\",\"week2\",\"week3\",\"week4\",\"week5\",\"week6\",\"week7\",\"week8\",\"week9\",\"week10\",\"week11\",\"week12\",\"week13\",\"week14\",\"week15\",\"week16\",\"week17\",\"week18\",\"week19\",\"week20\",\"week21\",\"week22\",\"week23\",\"week24\",\"week25\",\"week26\",\"week27\",\"week28\",\"week29\",\"week30\",\"week31\",\"week32\",\"week33\",\"week34\",\"week35\",\"week36\",\"week37\",\"week38\",\"week39\",\"week40\",\"week41\",\"week42\",\"week43\",\"week44\",\"week45\",\"week46\",\"week47\",\"week48\",\"week49\",\"week50\",\"week51\",\"week52\",\"week53\",\"week54\",\"week55\",\"week56\",\"week57\",\"week58\",\"week59\",\"week60\",\"week61\",\"week62\",\"week63\",\"week64\",\"week65\",\"week66\",\"week67\",\"week68\",\"week69\",\"week70\",\"week71\",\"week72\",\"week73\",\"week74\",\"week75\",\"week76\",\"week77\",\"week78\",\"week79\",\"week80\",\"week81\",\"week82\",\"week83\",\"week84\",\"week85\",\"week86\",\"week87\",\"week88\",\"week89\",\"week90\",\"week91\",\"week92\",\"week93\",\"week94\",\"week95\",\"week96\",\"week97\",\"week98\",\"week99\",\"week100\",\"week101\",\"week102\",\"week103\",\"week104\",\"week105\",\"week106\",\"week107\",\"week108\",\"week109\",\"week110\",\"week111\",\"week112\",\"week113\",\"week114\",\"week115\",\"week116\",\"week117\",\"week118\",\"week119\",\"week120\",\"week121\",\"week122\",\"week123\",\"week124\",\"week125\",\"week126\",\"week127\",\"week128\",\"week129\",\"week130\",\"week131\",\"week132\",\"week133\",\"week134\",\"week135\",\"week136\",\"week137\",\"week138\",\"week139\",\"week140\",\"week141\",\"week142\",\"week143\",\"week144\",\"week145\",\"week146\",\"week147\",\"week148\",\"week149\",\"week150\",\"week151\",\"week152\",\"week153\",\"week154\",\"week155\",\"week156\",\"week157\",\"week158\",\"week159\",\"week160\",\"week161\",\"week162\"],\"xaxis\":\"x\",\"y\":[31.48,29.61,30.09,30.08,31.03,31.46,34.1,31.51,31.32,30.55,29.6,31.18,34.9,34.86,31.08,29.05,31.41,30.65,9.87,11.46,11.58,12.69,8.2,11.16,11.12,12.89,12.44,12.59,12.5,12.04,11.02,34.56,33.99,34.56,35.37,32.38,31.09,29.65,29.56,30.67,32.59,35.21,31.43,30.81,30.17,19.54,13.67,13.34,13.7,14.16,12.25,11.72,14.42,13.43,16.17,14.91,13.98,12.18,11.58,12.36,14.25,13.07,13.82,13.71,12.7,13.77,8.51,11.99,14.99,16.48,16.71,23.16,30.03,30.29,31.78,31.46,34.48,31.66,31.47,32.19,30.83,32.19,31.55,9.49,0.0,25.12,25.04,33.18,35.83,36.63,36.74,33.08,33.56,33.31,30.15,32.63,32.73,35.33,33.61,32.93,32.77,32.57,31.73,33.05,35.94,33.74,32.91,32.8,31.86,33.04,32.16,24.25,21.73,22.23,21.06,21.08,21.79,22.19,23.92,21.4,21.55,21.78,21.68,21.39,22.06,24.14,21.31,22.32,21.03,26.24,30.11,30.53,33.75,30.58,30.49,30.32,31.1,30.63,30.69,33.25,31.74,31.05,30.36,29.96,30.2,31.82,33.35,29.46,30.46,29.77,29.98,30.47,30.78,34.01,31.07,30.57,29.9,29.78,30.44,31.06,33.75,30.59,2.13],\"yaxis\":\"y\",\"type\":\"scattergl\"},{\"hovertemplate\":\"variable=google_organico<br>week=%{x}<br>value=%{y}<extra></extra>\",\"legendgroup\":\"google_organico\",\"line\":{\"color\":\"#19d3f3\",\"dash\":\"solid\"},\"marker\":{\"symbol\":\"circle\"},\"mode\":\"lines\",\"name\":\"google_organico\",\"showlegend\":true,\"x\":[\"week0\",\"week1\",\"week2\",\"week3\",\"week4\",\"week5\",\"week6\",\"week7\",\"week8\",\"week9\",\"week10\",\"week11\",\"week12\",\"week13\",\"week14\",\"week15\",\"week16\",\"week17\",\"week18\",\"week19\",\"week20\",\"week21\",\"week22\",\"week23\",\"week24\",\"week25\",\"week26\",\"week27\",\"week28\",\"week29\",\"week30\",\"week31\",\"week32\",\"week33\",\"week34\",\"week35\",\"week36\",\"week37\",\"week38\",\"week39\",\"week40\",\"week41\",\"week42\",\"week43\",\"week44\",\"week45\",\"week46\",\"week47\",\"week48\",\"week49\",\"week50\",\"week51\",\"week52\",\"week53\",\"week54\",\"week55\",\"week56\",\"week57\",\"week58\",\"week59\",\"week60\",\"week61\",\"week62\",\"week63\",\"week64\",\"week65\",\"week66\",\"week67\",\"week68\",\"week69\",\"week70\",\"week71\",\"week72\",\"week73\",\"week74\",\"week75\",\"week76\",\"week77\",\"week78\",\"week79\",\"week80\",\"week81\",\"week82\",\"week83\",\"week84\",\"week85\",\"week86\",\"week87\",\"week88\",\"week89\",\"week90\",\"week91\",\"week92\",\"week93\",\"week94\",\"week95\",\"week96\",\"week97\",\"week98\",\"week99\",\"week100\",\"week101\",\"week102\",\"week103\",\"week104\",\"week105\",\"week106\",\"week107\",\"week108\",\"week109\",\"week110\",\"week111\",\"week112\",\"week113\",\"week114\",\"week115\",\"week116\",\"week117\",\"week118\",\"week119\",\"week120\",\"week121\",\"week122\",\"week123\",\"week124\",\"week125\",\"week126\",\"week127\",\"week128\",\"week129\",\"week130\",\"week131\",\"week132\",\"week133\",\"week134\",\"week135\",\"week136\",\"week137\",\"week138\",\"week139\",\"week140\",\"week141\",\"week142\",\"week143\",\"week144\",\"week145\",\"week146\",\"week147\",\"week148\",\"week149\",\"week150\",\"week151\",\"week152\",\"week153\",\"week154\",\"week155\",\"week156\",\"week157\",\"week158\",\"week159\",\"week160\",\"week161\",\"week162\"],\"xaxis\":\"x\",\"y\":[2603.0,5691.0,5616.0,5676.0,5398.0,4980.0,3229.0,2958.0,6089.0,5917.0,5727.0,5391.0,4536.0,2695.0,3212.0,6277.0,6143.0,6095.0,6020.0,5482.0,3143.0,3259.0,6597.0,6865.0,6421.0,6412.0,5710.0,3093.0,3077.0,6949.0,6684.0,6042.0,5691.0,5321.0,3141.0,3036.0,5883.0,5927.0,5759.0,5330.0,4995.0,2876.0,2943.0,6309.0,6072.0,6179.0,5429.0,5651.0,2945.0,2362.0,3476.0,6506.0,6827.0,6270.0,5724.0,3321.0,3370.0,6673.0,6880.0,6545.0,6587.0,5881.0,3581.0,3485.0,6658.0,6818.0,6269.0,6053.0,5637.0,3460.0,3581.0,7076.0,6945.0,6522.0,6352.0,5689.0,3873.0,3612.0,6929.0,6902.0,6978.0,6841.0,6944.0,4432.0,3960.0,7795.0,6720.0,4704.0,7857.0,7087.0,4509.0,4438.0,8700.0,8665.0,8836.0,8466.0,8033.0,5007.0,4439.0,8779.0,8182.0,7234.0,5822.0,3024.0,1910.0,2771.0,6468.0,6011.0,5644.0,4811.0,2676.0,2016.0,3144.0,6162.0,6206.0,5413.0,3861.0,5780.0,4413.0,3763.0,7149.0,7698.0,7329.0,6897.0,6565.0,3944.0,3604.0,7194.0,6919.0,6825.0,6566.0,5869.0,3926.0,3467.0,6947.0,6550.0,6101.0,5887.0,5645.0,3513.0,3325.0,6920.0,6464.0,6237.0,5813.0,5214.0,3248.0,3134.0,6491.0,6650.0,6060.0,5710.0,4921.0,3291.0,2809.0,5792.0,6155.0,5788.0,5003.0,4696.0,3058.0,1398.0,0.0],\"yaxis\":\"y\",\"type\":\"scattergl\"},{\"hovertemplate\":\"variable=prediction<br>week=%{x}<br>value=%{y}<extra></extra>\",\"legendgroup\":\"prediction\",\"line\":{\"color\":\"#FF6692\",\"dash\":\"solid\"},\"marker\":{\"symbol\":\"circle\"},\"mode\":\"lines\",\"name\":\"prediction\",\"showlegend\":true,\"x\":[\"week0\",\"week1\",\"week2\",\"week3\",\"week4\",\"week5\",\"week6\",\"week7\",\"week8\",\"week9\",\"week10\",\"week11\",\"week12\",\"week13\",\"week14\",\"week15\",\"week16\",\"week17\",\"week18\",\"week19\",\"week20\",\"week21\",\"week22\",\"week23\",\"week24\",\"week25\",\"week26\",\"week27\",\"week28\",\"week29\",\"week30\",\"week31\",\"week32\",\"week33\",\"week34\",\"week35\",\"week36\",\"week37\",\"week38\",\"week39\",\"week40\",\"week41\",\"week42\",\"week43\",\"week44\",\"week45\",\"week46\",\"week47\",\"week48\",\"week49\",\"week50\",\"week51\",\"week52\",\"week53\",\"week54\",\"week55\",\"week56\",\"week57\",\"week58\",\"week59\",\"week60\",\"week61\",\"week62\",\"week63\",\"week64\",\"week65\",\"week66\",\"week67\",\"week68\",\"week69\",\"week70\",\"week71\",\"week72\",\"week73\",\"week74\",\"week75\",\"week76\",\"week77\",\"week78\",\"week79\",\"week80\",\"week81\",\"week82\",\"week83\",\"week84\",\"week85\",\"week86\",\"week87\",\"week88\",\"week89\",\"week90\",\"week91\",\"week92\",\"week93\",\"week94\",\"week95\",\"week96\",\"week97\",\"week98\",\"week99\",\"week100\",\"week101\",\"week102\",\"week103\",\"week104\",\"week105\",\"week106\",\"week107\",\"week108\",\"week109\",\"week110\",\"week111\",\"week112\",\"week113\",\"week114\",\"week115\",\"week116\",\"week117\",\"week118\",\"week119\",\"week120\",\"week121\",\"week122\",\"week123\",\"week124\",\"week125\",\"week126\",\"week127\",\"week128\",\"week129\",\"week130\",\"week131\",\"week132\",\"week133\",\"week134\",\"week135\",\"week136\",\"week137\",\"week138\",\"week139\",\"week140\",\"week141\",\"week142\",\"week143\",\"week144\",\"week145\",\"week146\",\"week147\",\"week148\",\"week149\",\"week150\",\"week151\",\"week152\",\"week153\",\"week154\",\"week155\",\"week156\",\"week157\",\"week158\",\"week159\",\"week160\",\"week161\",\"week162\"],\"xaxis\":\"x\",\"y\":[2154.9423889620766,5560.827425477596,5499.941438685658,5567.44106746705,5300.095608722892,4847.9523814522945,2996.0668848895593,2558.795183249793,6097.823076148748,5864.196822057931,5601.126231202605,5299.698468224966,4517.572682600567,2429.033165212182,2825.0661196350993,6196.844838968498,6163.546787761725,6070.960548321791,4941.910806088394,4412.045211245759,1767.1274771904964,1954.3677253750602,5511.958307521109,5964.419774082842,5459.194832101469,5537.924431598851,4719.691058519064,1761.2044106393923,1738.548668865692,6103.8363944221655,5752.246229498663,6207.341748163346,5780.891265968357,5390.1836888444805,2960.1389988479477,2690.9091689654515,5852.793481144723,5830.31190097031,5635.384279839511,5204.939171118692,4921.727356993712,2651.7577158472886,2537.7752379630083,6321.540082327636,6020.7765076334945,5607.964966039144,4463.013504960762,4698.04096586657,1649.235605203734,1011.5940059992013,2178.2016306888745,5585.676812000238,6085.143612462718,5404.117386931916,4922.9641699208005,2136.175725094803,2144.9848548951013,5798.060933307701,6002.522300594936,5662.033596479211,5804.594091286225,4945.149940948581,2376.0865625127226,2261.756552831939,5807.186719594994,6042.285427944658,5155.789020397136,5085.826856019327,4765.074580912391,2372.595156248528,2521.2885029278596,6806.4749749350885,7003.172442275509,6536.82108625551,6419.010489681747,5651.510029242968,3745.0479335661084,3307.554044429772,7057.388316015704,7062.962267966164,7080.767882743472,6993.826842697856,7078.408261302486,3123.0307171940785,2111.276209355212,7719.842355474575,6497.452725197501,4621.560680149567,8328.212456967507,7495.713692673959,4579.4186668226375,4315.060602678966,9169.590015701066,9117.36142725464,9152.399771907902,8857.656106961502,8371.932212914922,5072.993276043522,4342.822699863417,9227.47304010888,8542.813704828246,7458.332616909724,5815.813502888765,2710.971491028312,1593.6018945762976,2458.897072619121,6607.255595585448,6083.779872431556,5620.605640394967,4735.797012241994,2271.8433882091986,1126.3995262403942,2278.2261372793137,5723.851079597984,5714.935078631904,4817.179407863023,3093.8652992461903,5288.894930512268,3826.5015766309916,2963.200546242805,6808.31976534115,7442.094456525994,7018.857513438412,6514.672261496033,6172.056942807107,3306.0055943146517,2778.473233758151,6898.008330758601,6521.51891035327,6676.747789217336,6577.6455423866555,5808.790318226028,3768.439111067163,3088.953421630781,7028.550905070331,6570.062666399994,6100.370052766446,5834.215224113996,5562.954831452866,3275.2368379934924,2986.2969662570586,7026.085995267706,6474.602765886224,6197.231160095207,5728.741578728723,5131.2478451964835,2979.9187053416,2655.269969451845,6510.227980420335,6655.765841858689,5997.629947773512,5625.570292320077,4746.918528988063,3061.813818049106,2367.816536953753,5723.530726358402,6101.280441495155,5679.305375943136,4822.772093205398,4505.978820902367,2784.6760105279454,744.5182295045888,-2269.8422478601547],\"yaxis\":\"y\",\"type\":\"scattergl\"}],                        {\"template\":{\"data\":{\"histogram2dcontour\":[{\"type\":\"histogram2dcontour\",\"colorbar\":{\"outlinewidth\":0,\"ticks\":\"\"},\"colorscale\":[[0.0,\"#0d0887\"],[0.1111111111111111,\"#46039f\"],[0.2222222222222222,\"#7201a8\"],[0.3333333333333333,\"#9c179e\"],[0.4444444444444444,\"#bd3786\"],[0.5555555555555556,\"#d8576b\"],[0.6666666666666666,\"#ed7953\"],[0.7777777777777778,\"#fb9f3a\"],[0.8888888888888888,\"#fdca26\"],[1.0,\"#f0f921\"]]}],\"choropleth\":[{\"type\":\"choropleth\",\"colorbar\":{\"outlinewidth\":0,\"ticks\":\"\"}}],\"histogram2d\":[{\"type\":\"histogram2d\",\"colorbar\":{\"outlinewidth\":0,\"ticks\":\"\"},\"colorscale\":[[0.0,\"#0d0887\"],[0.1111111111111111,\"#46039f\"],[0.2222222222222222,\"#7201a8\"],[0.3333333333333333,\"#9c179e\"],[0.4444444444444444,\"#bd3786\"],[0.5555555555555556,\"#d8576b\"],[0.6666666666666666,\"#ed7953\"],[0.7777777777777778,\"#fb9f3a\"],[0.8888888888888888,\"#fdca26\"],[1.0,\"#f0f921\"]]}],\"heatmap\":[{\"type\":\"heatmap\",\"colorbar\":{\"outlinewidth\":0,\"ticks\":\"\"},\"colorscale\":[[0.0,\"#0d0887\"],[0.1111111111111111,\"#46039f\"],[0.2222222222222222,\"#7201a8\"],[0.3333333333333333,\"#9c179e\"],[0.4444444444444444,\"#bd3786\"],[0.5555555555555556,\"#d8576b\"],[0.6666666666666666,\"#ed7953\"],[0.7777777777777778,\"#fb9f3a\"],[0.8888888888888888,\"#fdca26\"],[1.0,\"#f0f921\"]]}],\"heatmapgl\":[{\"type\":\"heatmapgl\",\"colorbar\":{\"outlinewidth\":0,\"ticks\":\"\"},\"colorscale\":[[0.0,\"#0d0887\"],[0.1111111111111111,\"#46039f\"],[0.2222222222222222,\"#7201a8\"],[0.3333333333333333,\"#9c179e\"],[0.4444444444444444,\"#bd3786\"],[0.5555555555555556,\"#d8576b\"],[0.6666666666666666,\"#ed7953\"],[0.7777777777777778,\"#fb9f3a\"],[0.8888888888888888,\"#fdca26\"],[1.0,\"#f0f921\"]]}],\"contourcarpet\":[{\"type\":\"contourcarpet\",\"colorbar\":{\"outlinewidth\":0,\"ticks\":\"\"}}],\"contour\":[{\"type\":\"contour\",\"colorbar\":{\"outlinewidth\":0,\"ticks\":\"\"},\"colorscale\":[[0.0,\"#0d0887\"],[0.1111111111111111,\"#46039f\"],[0.2222222222222222,\"#7201a8\"],[0.3333333333333333,\"#9c179e\"],[0.4444444444444444,\"#bd3786\"],[0.5555555555555556,\"#d8576b\"],[0.6666666666666666,\"#ed7953\"],[0.7777777777777778,\"#fb9f3a\"],[0.8888888888888888,\"#fdca26\"],[1.0,\"#f0f921\"]]}],\"surface\":[{\"type\":\"surface\",\"colorbar\":{\"outlinewidth\":0,\"ticks\":\"\"},\"colorscale\":[[0.0,\"#0d0887\"],[0.1111111111111111,\"#46039f\"],[0.2222222222222222,\"#7201a8\"],[0.3333333333333333,\"#9c179e\"],[0.4444444444444444,\"#bd3786\"],[0.5555555555555556,\"#d8576b\"],[0.6666666666666666,\"#ed7953\"],[0.7777777777777778,\"#fb9f3a\"],[0.8888888888888888,\"#fdca26\"],[1.0,\"#f0f921\"]]}],\"mesh3d\":[{\"type\":\"mesh3d\",\"colorbar\":{\"outlinewidth\":0,\"ticks\":\"\"}}],\"scatter\":[{\"fillpattern\":{\"fillmode\":\"overlay\",\"size\":10,\"solidity\":0.2},\"type\":\"scatter\"}],\"parcoords\":[{\"type\":\"parcoords\",\"line\":{\"colorbar\":{\"outlinewidth\":0,\"ticks\":\"\"}}}],\"scatterpolargl\":[{\"type\":\"scatterpolargl\",\"marker\":{\"colorbar\":{\"outlinewidth\":0,\"ticks\":\"\"}}}],\"bar\":[{\"error_x\":{\"color\":\"#2a3f5f\"},\"error_y\":{\"color\":\"#2a3f5f\"},\"marker\":{\"line\":{\"color\":\"#E5ECF6\",\"width\":0.5},\"pattern\":{\"fillmode\":\"overlay\",\"size\":10,\"solidity\":0.2}},\"type\":\"bar\"}],\"scattergeo\":[{\"type\":\"scattergeo\",\"marker\":{\"colorbar\":{\"outlinewidth\":0,\"ticks\":\"\"}}}],\"scatterpolar\":[{\"type\":\"scatterpolar\",\"marker\":{\"colorbar\":{\"outlinewidth\":0,\"ticks\":\"\"}}}],\"histogram\":[{\"marker\":{\"pattern\":{\"fillmode\":\"overlay\",\"size\":10,\"solidity\":0.2}},\"type\":\"histogram\"}],\"scattergl\":[{\"type\":\"scattergl\",\"marker\":{\"colorbar\":{\"outlinewidth\":0,\"ticks\":\"\"}}}],\"scatter3d\":[{\"type\":\"scatter3d\",\"line\":{\"colorbar\":{\"outlinewidth\":0,\"ticks\":\"\"}},\"marker\":{\"colorbar\":{\"outlinewidth\":0,\"ticks\":\"\"}}}],\"scattermapbox\":[{\"type\":\"scattermapbox\",\"marker\":{\"colorbar\":{\"outlinewidth\":0,\"ticks\":\"\"}}}],\"scatterternary\":[{\"type\":\"scatterternary\",\"marker\":{\"colorbar\":{\"outlinewidth\":0,\"ticks\":\"\"}}}],\"scattercarpet\":[{\"type\":\"scattercarpet\",\"marker\":{\"colorbar\":{\"outlinewidth\":0,\"ticks\":\"\"}}}],\"carpet\":[{\"aaxis\":{\"endlinecolor\":\"#2a3f5f\",\"gridcolor\":\"white\",\"linecolor\":\"white\",\"minorgridcolor\":\"white\",\"startlinecolor\":\"#2a3f5f\"},\"baxis\":{\"endlinecolor\":\"#2a3f5f\",\"gridcolor\":\"white\",\"linecolor\":\"white\",\"minorgridcolor\":\"white\",\"startlinecolor\":\"#2a3f5f\"},\"type\":\"carpet\"}],\"table\":[{\"cells\":{\"fill\":{\"color\":\"#EBF0F8\"},\"line\":{\"color\":\"white\"}},\"header\":{\"fill\":{\"color\":\"#C8D4E3\"},\"line\":{\"color\":\"white\"}},\"type\":\"table\"}],\"barpolar\":[{\"marker\":{\"line\":{\"color\":\"#E5ECF6\",\"width\":0.5},\"pattern\":{\"fillmode\":\"overlay\",\"size\":10,\"solidity\":0.2}},\"type\":\"barpolar\"}],\"pie\":[{\"automargin\":true,\"type\":\"pie\"}]},\"layout\":{\"autotypenumbers\":\"strict\",\"colorway\":[\"#636efa\",\"#EF553B\",\"#00cc96\",\"#ab63fa\",\"#FFA15A\",\"#19d3f3\",\"#FF6692\",\"#B6E880\",\"#FF97FF\",\"#FECB52\"],\"font\":{\"color\":\"#2a3f5f\"},\"hovermode\":\"closest\",\"hoverlabel\":{\"align\":\"left\"},\"paper_bgcolor\":\"white\",\"plot_bgcolor\":\"#E5ECF6\",\"polar\":{\"bgcolor\":\"#E5ECF6\",\"angularaxis\":{\"gridcolor\":\"white\",\"linecolor\":\"white\",\"ticks\":\"\"},\"radialaxis\":{\"gridcolor\":\"white\",\"linecolor\":\"white\",\"ticks\":\"\"}},\"ternary\":{\"bgcolor\":\"#E5ECF6\",\"aaxis\":{\"gridcolor\":\"white\",\"linecolor\":\"white\",\"ticks\":\"\"},\"baxis\":{\"gridcolor\":\"white\",\"linecolor\":\"white\",\"ticks\":\"\"},\"caxis\":{\"gridcolor\":\"white\",\"linecolor\":\"white\",\"ticks\":\"\"}},\"coloraxis\":{\"colorbar\":{\"outlinewidth\":0,\"ticks\":\"\"}},\"colorscale\":{\"sequential\":[[0.0,\"#0d0887\"],[0.1111111111111111,\"#46039f\"],[0.2222222222222222,\"#7201a8\"],[0.3333333333333333,\"#9c179e\"],[0.4444444444444444,\"#bd3786\"],[0.5555555555555556,\"#d8576b\"],[0.6666666666666666,\"#ed7953\"],[0.7777777777777778,\"#fb9f3a\"],[0.8888888888888888,\"#fdca26\"],[1.0,\"#f0f921\"]],\"sequentialminus\":[[0.0,\"#0d0887\"],[0.1111111111111111,\"#46039f\"],[0.2222222222222222,\"#7201a8\"],[0.3333333333333333,\"#9c179e\"],[0.4444444444444444,\"#bd3786\"],[0.5555555555555556,\"#d8576b\"],[0.6666666666666666,\"#ed7953\"],[0.7777777777777778,\"#fb9f3a\"],[0.8888888888888888,\"#fdca26\"],[1.0,\"#f0f921\"]],\"diverging\":[[0,\"#8e0152\"],[0.1,\"#c51b7d\"],[0.2,\"#de77ae\"],[0.3,\"#f1b6da\"],[0.4,\"#fde0ef\"],[0.5,\"#f7f7f7\"],[0.6,\"#e6f5d0\"],[0.7,\"#b8e186\"],[0.8,\"#7fbc41\"],[0.9,\"#4d9221\"],[1,\"#276419\"]]},\"xaxis\":{\"gridcolor\":\"white\",\"linecolor\":\"white\",\"ticks\":\"\",\"title\":{\"standoff\":15},\"zerolinecolor\":\"white\",\"automargin\":true,\"zerolinewidth\":2},\"yaxis\":{\"gridcolor\":\"white\",\"linecolor\":\"white\",\"ticks\":\"\",\"title\":{\"standoff\":15},\"zerolinecolor\":\"white\",\"automargin\":true,\"zerolinewidth\":2},\"scene\":{\"xaxis\":{\"backgroundcolor\":\"#E5ECF6\",\"gridcolor\":\"white\",\"linecolor\":\"white\",\"showbackground\":true,\"ticks\":\"\",\"zerolinecolor\":\"white\",\"gridwidth\":2},\"yaxis\":{\"backgroundcolor\":\"#E5ECF6\",\"gridcolor\":\"white\",\"linecolor\":\"white\",\"showbackground\":true,\"ticks\":\"\",\"zerolinecolor\":\"white\",\"gridwidth\":2},\"zaxis\":{\"backgroundcolor\":\"#E5ECF6\",\"gridcolor\":\"white\",\"linecolor\":\"white\",\"showbackground\":true,\"ticks\":\"\",\"zerolinecolor\":\"white\",\"gridwidth\":2}},\"shapedefaults\":{\"line\":{\"color\":\"#2a3f5f\"}},\"annotationdefaults\":{\"arrowcolor\":\"#2a3f5f\",\"arrowhead\":0,\"arrowwidth\":1},\"geo\":{\"bgcolor\":\"white\",\"landcolor\":\"#E5ECF6\",\"subunitcolor\":\"white\",\"showland\":true,\"showlakes\":true,\"lakecolor\":\"white\"},\"title\":{\"x\":0.05},\"mapbox\":{\"style\":\"light\"}}},\"xaxis\":{\"anchor\":\"y\",\"domain\":[0.0,1.0],\"title\":{\"text\":\"week\"}},\"yaxis\":{\"anchor\":\"x\",\"domain\":[0.0,1.0],\"title\":{\"text\":\"value\"}},\"legend\":{\"title\":{\"text\":\"variable\"},\"tracegroupgap\":0},\"margin\":{\"t\":60}},                        {\"responsive\": true}                    ).then(function(){\n",
       "                            \n",
       "var gd = document.getElementById('43c149d1-cd0a-43b6-8913-871e8ceab6a5');\n",
       "var x = new MutationObserver(function (mutations, observer) {{\n",
       "        var display = window.getComputedStyle(gd).display;\n",
       "        if (!display || display === 'none') {{\n",
       "            console.log([gd, 'removed!']);\n",
       "            Plotly.purge(gd);\n",
       "            observer.disconnect();\n",
       "        }}\n",
       "}});\n",
       "\n",
       "// Listen for the removal of the full notebook cells\n",
       "var notebookContainer = gd.closest('#notebook-container');\n",
       "if (notebookContainer) {{\n",
       "    x.observe(notebookContainer, {childList: true});\n",
       "}}\n",
       "\n",
       "// Listen for the clearing of the current output cell\n",
       "var outputEl = gd.closest('.output');\n",
       "if (outputEl) {{\n",
       "    x.observe(outputEl, {childList: true});\n",
       "}}\n",
       "\n",
       "                        })                };                });            </script>        </div>"
      ]
     },
     "metadata": {},
     "output_type": "display_data"
    }
   ],
   "source": [
    "dataframe['prediction']=model.predict(X)\n",
    "\n",
    "fig = px.line(dataframe, x='week', y=dataframe.columns)\n",
    "fig.show()"
   ]
  },
  {
   "cell_type": "markdown",
   "id": "557a5598",
   "metadata": {},
   "source": [
    "Here we can see that apart from two instances, The prediction of the model is almost close the actual value."
   ]
  },
  {
   "cell_type": "markdown",
   "id": "951e3011",
   "metadata": {},
   "source": [
    "Cost per Revenue (CPR)"
   ]
  },
  {
   "cell_type": "code",
   "execution_count": 130,
   "id": "76cfc043",
   "metadata": {},
   "outputs": [
    {
     "data": {
      "text/plain": [
       "0.8823262404273889"
      ]
     },
     "execution_count": 130,
     "metadata": {},
     "output_type": "execute_result"
    }
   ],
   "source": [
    "google_organico = 1/1.13336763\n",
    "google_organico"
   ]
  },
  {
   "cell_type": "code",
   "execution_count": 131,
   "id": "2f8832f2",
   "metadata": {},
   "outputs": [
    {
     "data": {
      "text/plain": [
       "0.01990331528320512"
      ]
     },
     "execution_count": 131,
     "metadata": {},
     "output_type": "execute_result"
    }
   ],
   "source": [
    "fb_prospecting_spent = 1/50.24288596\n",
    "fb_prospecting_spent"
   ]
  },
  {
   "cell_type": "markdown",
   "id": "ce16c7b5",
   "metadata": {},
   "source": [
    "**Adstock affect and Diminishing return**"
   ]
  },
  {
   "cell_type": "markdown",
   "id": "e5049585",
   "metadata": {},
   "source": [
    "transfer. = (adstock(t-1)*beta+spent(t))^alpha\n",
    "\n",
    "Dim Ret. = Adstock(t)^Alpha\n",
    "\n",
    "Where Value of Alpha and beta is to be estimated"
   ]
  },
  {
   "cell_type": "markdown",
   "id": "6ed26b0a",
   "metadata": {},
   "source": [
    "For start\n",
    "\n",
    "Let's say:\n",
    "\n",
    "alpha = 1\n",
    "Beta = .1"
   ]
  },
  {
   "cell_type": "code",
   "execution_count": 170,
   "id": "e91fefc0",
   "metadata": {},
   "outputs": [],
   "source": [
    "dataframe = pd.read_csv('dataset_real.csv')"
   ]
  },
  {
   "cell_type": "code",
   "execution_count": 171,
   "id": "43f45d49",
   "metadata": {},
   "outputs": [
    {
     "name": "stderr",
     "output_type": "stream",
     "text": [
      "C:\\Users\\Ankit\\AppData\\Local\\Temp/ipykernel_28744/1191028802.py:7: SettingWithCopyWarning:\n",
      "\n",
      "\n",
      "A value is trying to be set on a copy of a slice from a DataFrame\n",
      "\n",
      "See the caveats in the documentation: https://pandas.pydata.org/pandas-docs/stable/user_guide/indexing.html#returning-a-view-versus-a-copy\n",
      "\n"
     ]
    }
   ],
   "source": [
    "beta=.1\n",
    "alpha=1\n",
    "variables_list=['fb_prospecting_spent','google_organico']\n",
    "for j in range (2):\n",
    "    for i in range (162):\n",
    "        if i>0:\n",
    "            dataframe[variables_list[j]][i]=dataframe[variables_list[j]][i]*beta+dataframe[variables_list[j]][i]"
   ]
  },
  {
   "cell_type": "code",
   "execution_count": 172,
   "id": "e269ab15",
   "metadata": {},
   "outputs": [
    {
     "data": {
      "text/html": [
       "<div>\n",
       "<style scoped>\n",
       "    .dataframe tbody tr th:only-of-type {\n",
       "        vertical-align: middle;\n",
       "    }\n",
       "\n",
       "    .dataframe tbody tr th {\n",
       "        vertical-align: top;\n",
       "    }\n",
       "\n",
       "    .dataframe thead th {\n",
       "        text-align: right;\n",
       "    }\n",
       "</style>\n",
       "<table border=\"1\" class=\"dataframe\">\n",
       "  <thead>\n",
       "    <tr style=\"text-align: right;\">\n",
       "      <th></th>\n",
       "      <th>fb_prospecting_spent</th>\n",
       "      <th>google_organico</th>\n",
       "    </tr>\n",
       "  </thead>\n",
       "  <tbody>\n",
       "    <tr>\n",
       "      <th>0</th>\n",
       "      <td>31.480</td>\n",
       "      <td>2603</td>\n",
       "    </tr>\n",
       "    <tr>\n",
       "      <th>1</th>\n",
       "      <td>32.571</td>\n",
       "      <td>6260</td>\n",
       "    </tr>\n",
       "    <tr>\n",
       "      <th>2</th>\n",
       "      <td>33.099</td>\n",
       "      <td>6177</td>\n",
       "    </tr>\n",
       "    <tr>\n",
       "      <th>3</th>\n",
       "      <td>33.088</td>\n",
       "      <td>6243</td>\n",
       "    </tr>\n",
       "    <tr>\n",
       "      <th>4</th>\n",
       "      <td>34.133</td>\n",
       "      <td>5937</td>\n",
       "    </tr>\n",
       "  </tbody>\n",
       "</table>\n",
       "</div>"
      ],
      "text/plain": [
       "   fb_prospecting_spent  google_organico\n",
       "0                31.480             2603\n",
       "1                32.571             6260\n",
       "2                33.099             6177\n",
       "3                33.088             6243\n",
       "4                34.133             5937"
      ]
     },
     "execution_count": 172,
     "metadata": {},
     "output_type": "execute_result"
    }
   ],
   "source": [
    "dataframe[['fb_prospecting_spent','google_organico']].head()"
   ]
  },
  {
   "cell_type": "code",
   "execution_count": 173,
   "id": "6ec077e8",
   "metadata": {},
   "outputs": [
    {
     "name": "stdout",
     "output_type": "stream",
     "text": [
      "                            OLS Regression Results                            \n",
      "==============================================================================\n",
      "Dep. Variable:                revenue   R-squared:                       0.510\n",
      "Model:                            OLS   Adj. R-squared:                  0.504\n",
      "Method:                 Least Squares   F-statistic:                     83.27\n",
      "Date:                Tue, 20 Sep 2022   Prob (F-statistic):           1.64e-25\n",
      "Time:                        23:41:24   Log-Likelihood:                -1484.2\n",
      "No. Observations:                 163   AIC:                             2974.\n",
      "Df Residuals:                     160   BIC:                             2984.\n",
      "Df Model:                           2                                         \n",
      "Covariance Type:            nonrobust                                         \n",
      "========================================================================================\n",
      "                           coef    std err          t      P>|t|      [0.025      0.975]\n",
      "----------------------------------------------------------------------------------------\n",
      "const                -3154.5325    752.706     -4.191      0.000   -4641.053   -1668.012\n",
      "fb_prospecting_spent    50.3209     18.036      2.790      0.006      14.702      85.940\n",
      "google_organico          1.1675      0.094     12.463      0.000       0.983       1.353\n",
      "==============================================================================\n",
      "Omnibus:                      179.434   Durbin-Watson:                   1.191\n",
      "Prob(Omnibus):                  0.000   Jarque-Bera (JB):             4510.556\n",
      "Skew:                           4.236   Prob(JB):                         0.00\n",
      "Kurtosis:                      27.338   Cond. No.                     2.70e+04\n",
      "==============================================================================\n",
      "\n",
      "Notes:\n",
      "[1] Standard Errors assume that the covariance matrix of the errors is correctly specified.\n",
      "[2] The condition number is large, 2.7e+04. This might indicate that there are\n",
      "strong multicollinearity or other numerical problems.\n"
     ]
    },
    {
     "name": "stderr",
     "output_type": "stream",
     "text": [
      "C:\\Users\\Ankit\\anaconda3\\lib\\site-packages\\statsmodels\\tsa\\tsatools.py:142: FutureWarning:\n",
      "\n",
      "In a future version of pandas all arguments of concat except for the argument 'objs' will be keyword-only\n",
      "\n"
     ]
    }
   ],
   "source": [
    "X=dataframe[variables_list]\n",
    "y=dataframe['revenue']\n",
    "X = sm.add_constant(X)\n",
    "\n",
    "result = sm.OLS(y,X).fit()\n",
    "\n",
    "print(result.summary())"
   ]
  },
  {
   "cell_type": "code",
   "execution_count": 186,
   "id": "eb234f60",
   "metadata": {},
   "outputs": [
    {
     "name": "stderr",
     "output_type": "stream",
     "text": [
      "C:\\Users\\Ankit\\AppData\\Local\\Temp/ipykernel_28744/1271334510.py:6: SettingWithCopyWarning:\n",
      "\n",
      "\n",
      "A value is trying to be set on a copy of a slice from a DataFrame\n",
      "\n",
      "See the caveats in the documentation: https://pandas.pydata.org/pandas-docs/stable/user_guide/indexing.html#returning-a-view-versus-a-copy\n",
      "\n",
      "C:\\Users\\Ankit\\AppData\\Local\\Temp/ipykernel_28744/1271334510.py:11: SettingWithCopyWarning:\n",
      "\n",
      "\n",
      "A value is trying to be set on a copy of a slice from a DataFrame\n",
      "\n",
      "See the caveats in the documentation: https://pandas.pydata.org/pandas-docs/stable/user_guide/indexing.html#returning-a-view-versus-a-copy\n",
      "\n"
     ]
    }
   ],
   "source": [
    "dataframe = pd.read_csv('dataset_real.csv')\n",
    "beta=.1\n",
    "alpha=1\n",
    "for i in range (162):\n",
    "    if i>0:\n",
    "        dataframe['google_organico'][i]=dataframe['google_organico'][i]*beta+dataframe['google_organico'][i]\n",
    "beta=.5\n",
    "alpha=.5\n",
    "for i in range (162):\n",
    "    if i>0:\n",
    "        dataframe['fb_prospecting_spent'][i]=dataframe['fb_prospecting_spent'][i]*beta+dataframe['fb_prospecting_spent'][i]"
   ]
  },
  {
   "cell_type": "code",
   "execution_count": 187,
   "id": "ac5a4a43",
   "metadata": {},
   "outputs": [
    {
     "name": "stdout",
     "output_type": "stream",
     "text": [
      "                            OLS Regression Results                            \n",
      "==============================================================================\n",
      "Dep. Variable:                revenue   R-squared:                       0.509\n",
      "Model:                            OLS   Adj. R-squared:                  0.503\n",
      "Method:                 Least Squares   F-statistic:                     83.02\n",
      "Date:                Tue, 20 Sep 2022   Prob (F-statistic):           1.86e-25\n",
      "Time:                        23:52:58   Log-Likelihood:                -1484.3\n",
      "No. Observations:                 163   AIC:                             2975.\n",
      "Df Residuals:                     160   BIC:                             2984.\n",
      "Df Model:                           2                                         \n",
      "Covariance Type:            nonrobust                                         \n",
      "========================================================================================\n",
      "                           coef    std err          t      P>|t|      [0.025      0.975]\n",
      "----------------------------------------------------------------------------------------\n",
      "const                -3112.6724    748.570     -4.158      0.000   -4591.024   -1634.320\n",
      "fb_prospecting_spent    36.2766     13.224      2.743      0.007      10.160      62.393\n",
      "google_organico          1.1650      0.094     12.420      0.000       0.980       1.350\n",
      "==============================================================================\n",
      "Omnibus:                      179.460   Durbin-Watson:                   1.189\n",
      "Prob(Omnibus):                  0.000   Jarque-Bera (JB):             4512.475\n",
      "Skew:                           4.237   Prob(JB):                         0.00\n",
      "Kurtosis:                      27.344   Cond. No.                     2.68e+04\n",
      "==============================================================================\n",
      "\n",
      "Notes:\n",
      "[1] Standard Errors assume that the covariance matrix of the errors is correctly specified.\n",
      "[2] The condition number is large, 2.68e+04. This might indicate that there are\n",
      "strong multicollinearity or other numerical problems.\n"
     ]
    },
    {
     "name": "stderr",
     "output_type": "stream",
     "text": [
      "C:\\Users\\Ankit\\anaconda3\\lib\\site-packages\\statsmodels\\tsa\\tsatools.py:142: FutureWarning:\n",
      "\n",
      "In a future version of pandas all arguments of concat except for the argument 'objs' will be keyword-only\n",
      "\n"
     ]
    }
   ],
   "source": [
    "X=dataframe[variables_list]\n",
    "y=dataframe['revenue']\n",
    "X = sm.add_constant(X)\n",
    "\n",
    "result = sm.OLS(y,X).fit()\n",
    "\n",
    "print(result.summary())"
   ]
  },
  {
   "cell_type": "markdown",
   "id": "6e327fcc",
   "metadata": {},
   "source": [
    "So when we change the alpha (carry-over) and beta (ad-stock) affect, R-squared value of model donot change much. "
   ]
  },
  {
   "cell_type": "markdown",
   "id": "d012878c",
   "metadata": {},
   "source": [
    "# Overall we conclude that there are two main contributing marketing channels: fb_propecting_spent and google_organico"
   ]
  }
 ],
 "metadata": {
  "kernelspec": {
   "display_name": "Python 3 (ipykernel)",
   "language": "python",
   "name": "python3"
  },
  "language_info": {
   "codemirror_mode": {
    "name": "ipython",
    "version": 3
   },
   "file_extension": ".py",
   "mimetype": "text/x-python",
   "name": "python",
   "nbconvert_exporter": "python",
   "pygments_lexer": "ipython3",
   "version": "3.9.7"
  }
 },
 "nbformat": 4,
 "nbformat_minor": 5
}
